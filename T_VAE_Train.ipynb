{
  "nbformat": 4,
  "nbformat_minor": 0,
  "metadata": {
    "colab": {
      "name": "T-VAE-Train.ipynb",
      "provenance": [],
      "collapsed_sections": []
    },
    "kernelspec": {
      "display_name": "Python 3",
      "language": "python",
      "name": "python3"
    },
    "language_info": {
      "codemirror_mode": {
        "name": "ipython",
        "version": 3
      },
      "file_extension": ".py",
      "mimetype": "text/x-python",
      "name": "python",
      "nbconvert_exporter": "python",
      "pygments_lexer": "ipython3",
      "version": "3.7.9"
    },
    "accelerator": "GPU"
  },
  "cells": [
    {
      "cell_type": "code",
      "metadata": {
        "id": "g7tmTNr6KvKB"
      },
      "source": [
        "!pip install tensorflow-datasets==1.2.0"
      ],
      "execution_count": null,
      "outputs": []
    },
    {
      "cell_type": "code",
      "metadata": {
        "colab": {
          "base_uri": "https://localhost:8080/"
        },
        "id": "f9PtZ-JGYnPW",
        "outputId": "35145f6e-c796-4396-87a1-ffcf7a2893f3"
      },
      "source": [
        "from google.colab import files\r\n",
        "from google.colab import drive\r\n",
        "from os.path import join\r\n",
        "ROOT = '/content/drive'\r\n",
        "drive.mount(ROOT)"
      ],
      "execution_count": 2,
      "outputs": [
        {
          "output_type": "stream",
          "text": [
            "Mounted at /content/drive\n"
          ],
          "name": "stdout"
        }
      ]
    },
    {
      "cell_type": "code",
      "metadata": {
        "id": "_RBb6cU3gZus"
      },
      "source": [
        "# Imports\n",
        "import tensorflow as tf\n",
        "import tensorflow_datasets as tfds\n",
        "import os\n",
        "import re\n",
        "import numpy as np\n",
        "import matplotlib.pyplot as plt\n",
        "from tensorflow.keras.layers import Layer, Dense, LSTM, Bidirectional, TimeDistributed\n",
        "import tensorflow.keras.backend as K\n",
        "import pandas as pd\n",
        "import pickle"
      ],
      "execution_count": 3,
      "outputs": []
    },
    {
      "cell_type": "code",
      "metadata": {
        "id": "eCmrnec3GlhJ"
      },
      "source": [
        "# Definimos algunos parámetros e hyper-parámetros de nuestro modelo\r\n",
        "\r\n",
        "BUFFER_SIZE = 20000\r\n",
        "BATCH_SIZE = 64\r\n",
        "MAX_LENGTH = 32\r\n",
        "NUM_LAYERS = 6\r\n",
        "D_MODEL = 256\r\n",
        "NUM_HEADS = 8\r\n",
        "UNITS = 512\r\n",
        "DROPOUT = 0.2\r\n",
        "LATENT_SPACE = 32\r\n",
        "A = 0.0000001 # Pendiente de función que pondera el peso de la kl_loss a lo largo de los entrenamientos\r\n",
        "B = 0.00001 # determina el peso de la kl_loss al comienzo del entrenamiento \r\n",
        "\r\n",
        "tf.random.set_seed(1234)\r\n",
        "pd.options.display.max_colwidth = 100"
      ],
      "execution_count": 4,
      "outputs": []
    },
    {
      "cell_type": "code",
      "metadata": {
        "colab": {
          "base_uri": "https://localhost:8080/"
        },
        "id": "V0V7jqvfveHz",
        "outputId": "0ab2b02b-3474-416e-bd7c-ecd064178764"
      },
      "source": [
        "# Traemos el repositorio de git\n",
        "PROJ = '/content/repository/'\n",
        "PROJECT_PATH = join(ROOT, PROJ)\n",
        "\n",
        "GIT_USERNAME = \"Adrok24\"\n",
        "GIT_REPOSITORY = \"Proyecto-T-VAE\"\n",
        "\n",
        "!rm -r \"{PROJECT_PATH}\"\n",
        "!mkdir '{PROJECT_PATH}'\n",
        "!git clone https://github.com/{GIT_USERNAME}/{GIT_REPOSITORY}.git \"{PROJECT_PATH}\""
      ],
      "execution_count": 5,
      "outputs": [
        {
          "output_type": "stream",
          "text": [
            "rm: cannot remove '/content/repository/': No such file or directory\n",
            "Cloning into '/content/repository'...\n",
            "remote: Enumerating objects: 220, done.\u001b[K\n",
            "remote: Counting objects: 100% (220/220), done.\u001b[K\n",
            "remote: Compressing objects: 100% (175/175), done.\u001b[K\n",
            "remote: Total 418 (delta 123), reused 100 (delta 40), pack-reused 198\u001b[K\n",
            "Receiving objects: 100% (418/418), 52.62 MiB | 22.49 MiB/s, done.\n",
            "Resolving deltas: 100% (205/205), done.\n"
          ],
          "name": "stdout"
        }
      ]
    },
    {
      "cell_type": "code",
      "metadata": {
        "id": "x_qT-7Z6ydM6"
      },
      "source": [
        "# Instanciamos el init que se encarga de levantar todas nuestras librerías personalizadas\n",
        "from importlib.machinery import SourceFileLoader\n",
        "problem_module = SourceFileLoader('tvae_module', join(PROJECT_PATH,'tvae_model/__init__.py')).load_module()\n",
        "\n",
        "from tvae_module import *"
      ],
      "execution_count": 6,
      "outputs": []
    },
    {
      "cell_type": "code",
      "metadata": {
        "id": "EKBo3_HIgev6",
        "colab": {
          "base_uri": "https://localhost:8080/",
          "height": 35
        },
        "outputId": "9c0052af-9ea6-4e1f-ea20-d7efe914b627"
      },
      "source": [
        "## Cargamos nuestro Dataset\n",
        "DRIVE_FOLDER = '/content/drive/My Drive/Colab Notebooks/desafio final/'\n",
        "\n",
        "path_to_corpus = os.path.join(DRIVE_FOLDER, 'train_corpus_v3.csv')\n",
        "path_to_corpus"
      ],
      "execution_count": 7,
      "outputs": [
        {
          "output_type": "execute_result",
          "data": {
            "application/vnd.google.colaboratory.intrinsic+json": {
              "type": "string"
            },
            "text/plain": [
              "'/content/drive/My Drive/Colab Notebooks/desafio final/train_corpus_v3.csv'"
            ]
          },
          "metadata": {
            "tags": []
          },
          "execution_count": 7
        }
      ]
    },
    {
      "cell_type": "code",
      "metadata": {
        "id": "59HMoEQwb6Te"
      },
      "source": [
        "data = pd.read_csv(path_to_corpus, index_col=0)"
      ],
      "execution_count": 8,
      "outputs": []
    },
    {
      "cell_type": "code",
      "metadata": {
        "colab": {
          "base_uri": "https://localhost:8080/",
          "height": 198
        },
        "id": "BWbH_a6Bjt2W",
        "outputId": "bf74b140-e6bc-4466-a37c-7cd2f28081e9"
      },
      "source": [
        "data.sample(5)"
      ],
      "execution_count": 9,
      "outputs": [
        {
          "output_type": "execute_result",
          "data": {
            "text/html": [
              "<div>\n",
              "<style scoped>\n",
              "    .dataframe tbody tr th:only-of-type {\n",
              "        vertical-align: middle;\n",
              "    }\n",
              "\n",
              "    .dataframe tbody tr th {\n",
              "        vertical-align: top;\n",
              "    }\n",
              "\n",
              "    .dataframe thead th {\n",
              "        text-align: right;\n",
              "    }\n",
              "</style>\n",
              "<table border=\"1\" class=\"dataframe\">\n",
              "  <thead>\n",
              "    <tr style=\"text-align: right;\">\n",
              "      <th></th>\n",
              "      <th>line</th>\n",
              "      <th>len</th>\n",
              "      <th>book</th>\n",
              "      <th>genre</th>\n",
              "      <th>category</th>\n",
              "      <th>Sentimiento</th>\n",
              "    </tr>\n",
              "  </thead>\n",
              "  <tbody>\n",
              "    <tr>\n",
              "      <th>156218</th>\n",
              "      <td>se sentía muy a gusto en aquella habitación  ,  mucho más de lo que se había sentido en el vestí...</td>\n",
              "      <td>128</td>\n",
              "      <td>El_beso_-_Danielle_Steel</td>\n",
              "      <td>Novelas</td>\n",
              "      <td>Book</td>\n",
              "      <td>POS</td>\n",
              "    </tr>\n",
              "    <tr>\n",
              "      <th>113229</th>\n",
              "      <td>@name no quería que hubiera ninguna demora y así se dijo</td>\n",
              "      <td>58</td>\n",
              "      <td>Destinos_errantes_-_Danielle_Steel</td>\n",
              "      <td>Novelas</td>\n",
              "      <td>Book</td>\n",
              "      <td>NEU</td>\n",
              "    </tr>\n",
              "    <tr>\n",
              "      <th>279121</th>\n",
              "      <td>por cierto  ,  gracias por la guirnalda era la primera vez que le agradecía algo</td>\n",
              "      <td>82</td>\n",
              "      <td>argo_camino_a_casa_-_Danielle_Steel</td>\n",
              "      <td>Novelas</td>\n",
              "      <td>Book</td>\n",
              "      <td>POS</td>\n",
              "    </tr>\n",
              "    <tr>\n",
              "      <th>75589</th>\n",
              "      <td>que esa señal sean los bosques y los desiertos</td>\n",
              "      <td>48</td>\n",
              "      <td>_frente_al_espejo_-_Denis_Hernandez</td>\n",
              "      <td>poesía</td>\n",
              "      <td>Book</td>\n",
              "      <td>NEU</td>\n",
              "    </tr>\n",
              "    <tr>\n",
              "      <th>85688</th>\n",
              "      <td>te presto mi cuarto  ,  mi almohada  ,  mi cama</td>\n",
              "      <td>49</td>\n",
              "      <td>Susurros_del_Alma_-_Alec_Blackhell</td>\n",
              "      <td>poesía</td>\n",
              "      <td>Book</td>\n",
              "      <td>NEU</td>\n",
              "    </tr>\n",
              "  </tbody>\n",
              "</table>\n",
              "</div>"
            ],
            "text/plain": [
              "                                                                                                       line  ...  Sentimiento\n",
              "156218  se sentía muy a gusto en aquella habitación  ,  mucho más de lo que se había sentido en el vestí...  ...          POS\n",
              "113229                                             @name no quería que hubiera ninguna demora y así se dijo  ...          NEU\n",
              "279121                     por cierto  ,  gracias por la guirnalda era la primera vez que le agradecía algo  ...          POS\n",
              "75589                                                        que esa señal sean los bosques y los desiertos  ...          NEU\n",
              "85688                                                       te presto mi cuarto  ,  mi almohada  ,  mi cama  ...          NEU\n",
              "\n",
              "[5 rows x 6 columns]"
            ]
          },
          "metadata": {
            "tags": []
          },
          "execution_count": 9
        }
      ]
    },
    {
      "cell_type": "code",
      "metadata": {
        "id": "wLyVBr1hkdTW"
      },
      "source": [
        "## tokenizador de subwords\r\n",
        "path_to_tokenizer = os.path.join(DRIVE_FOLDER, 'tokenizer.pkl')\r\n",
        "with open(path_to_tokenizer, 'rb') as tk_pkl:\r\n",
        "        tokenizer = pickle.load(tk_pkl)\r\n",
        "\r\n",
        "VOCAB_SIZE = tokenizer.vocab_size"
      ],
      "execution_count": 10,
      "outputs": []
    },
    {
      "cell_type": "markdown",
      "metadata": {
        "id": "MZ4hL2oBHPRL"
      },
      "source": [
        "### Preprocesamiento"
      ]
    },
    {
      "cell_type": "code",
      "metadata": {
        "colab": {
          "base_uri": "https://localhost:8080/"
        },
        "id": "p7Rwes0RWYHk",
        "outputId": "30275732-c692-4602-fdce-487456802c9a"
      },
      "source": [
        "# Dividimos el Dataset en datos de train y de test estratificando por género\r\n",
        "from sklearn.model_selection import train_test_split\r\n",
        "\r\n",
        "X_train, X_test, y_train, y_test = train_test_split(data[['line', 'len', 'book', 'Sentimiento']], data['genre'], test_size=0.20, random_state=42, stratify=data['genre'])\r\n",
        "print('X_train: ',X_train.shape, 'X_test: ',X_test.shape, 'y_train: ',y_train.shape, 'y_test: ',y_test.shape)"
      ],
      "execution_count": 11,
      "outputs": [
        {
          "output_type": "stream",
          "text": [
            "X_train:  (253294, 4) X_test:  (63324, 4) y_train:  (253294,) y_test:  (63324,)\n"
          ],
          "name": "stdout"
        }
      ]
    },
    {
      "cell_type": "code",
      "metadata": {
        "id": "R6g6IE9-XVCU"
      },
      "source": [
        "# Concatenamos nuevamente el set de entrenamiento\r\n",
        "data_train = pd.concat([X_train, y_train],axis=1)"
      ],
      "execution_count": 12,
      "outputs": []
    },
    {
      "cell_type": "code",
      "metadata": {
        "id": "R0FUBYbOjvfC"
      },
      "source": [
        "data_tokens = tokenize_and_filter_df(data_train, tokenizer, MAX_LENGTH)"
      ],
      "execution_count": 13,
      "outputs": []
    },
    {
      "cell_type": "code",
      "metadata": {
        "colab": {
          "base_uri": "https://localhost:8080/",
          "height": 155
        },
        "id": "Xupv9FUhuRzl",
        "outputId": "f7b5bbed-46cf-4bfc-9afb-d2b0cb787235"
      },
      "source": [
        "data_tokens.head(3)"
      ],
      "execution_count": 14,
      "outputs": [
        {
          "output_type": "execute_result",
          "data": {
            "text/html": [
              "<div>\n",
              "<style scoped>\n",
              "    .dataframe tbody tr th:only-of-type {\n",
              "        vertical-align: middle;\n",
              "    }\n",
              "\n",
              "    .dataframe tbody tr th {\n",
              "        vertical-align: top;\n",
              "    }\n",
              "\n",
              "    .dataframe thead th {\n",
              "        text-align: right;\n",
              "    }\n",
              "</style>\n",
              "<table border=\"1\" class=\"dataframe\">\n",
              "  <thead>\n",
              "    <tr style=\"text-align: right;\">\n",
              "      <th></th>\n",
              "      <th>line</th>\n",
              "      <th>secuence</th>\n",
              "      <th>len</th>\n",
              "      <th>genre</th>\n",
              "      <th>sent</th>\n",
              "    </tr>\n",
              "  </thead>\n",
              "  <tbody>\n",
              "    <tr>\n",
              "      <th>0</th>\n",
              "      <td>¡ quieta  !   ¡ conviene para tu carrera de artista  !</td>\n",
              "      <td>[64, 7234, 8030, 1522, 6949, 7965, 29, 81, 3434, 2, 5241, 66]</td>\n",
              "      <td>12</td>\n",
              "      <td>Novelas</td>\n",
              "      <td>NEU</td>\n",
              "    </tr>\n",
              "    <tr>\n",
              "      <th>1</th>\n",
              "      <td>supongo que podría deshacerme de mis preciosos muebles y modernizarlo un poquito</td>\n",
              "      <td>[614, 3, 282, 7038, 664, 28, 2, 192, 2858, 20, 5856, 20, 6, 4792, 2944, 14, 13, 1079, 2725, 8044]</td>\n",
              "      <td>20</td>\n",
              "      <td>Novelas</td>\n",
              "      <td>NEU</td>\n",
              "    </tr>\n",
              "    <tr>\n",
              "      <th>2</th>\n",
              "      <td>había cuatro hombres inclinados sobre su cuerpo</td>\n",
              "      <td>[22, 456, 385, 2034, 53, 73, 18, 1267]</td>\n",
              "      <td>8</td>\n",
              "      <td>Novelas</td>\n",
              "      <td>NEU</td>\n",
              "    </tr>\n",
              "  </tbody>\n",
              "</table>\n",
              "</div>"
            ],
            "text/plain": [
              "                                                                               line  ... sent\n",
              "0                            ¡ quieta  !   ¡ conviene para tu carrera de artista  !  ...  NEU\n",
              "1  supongo que podría deshacerme de mis preciosos muebles y modernizarlo un poquito  ...  NEU\n",
              "2                                   había cuatro hombres inclinados sobre su cuerpo  ...  NEU\n",
              "\n",
              "[3 rows x 5 columns]"
            ]
          },
          "metadata": {
            "tags": []
          },
          "execution_count": 14
        }
      ]
    },
    {
      "cell_type": "code",
      "metadata": {
        "colab": {
          "base_uri": "https://localhost:8080/"
        },
        "id": "EtJjtBH3uSA1",
        "outputId": "231704cd-deb4-414f-b1b0-27f6948e6d11"
      },
      "source": [
        "# Aplicamos un padding con nuestro MAX_LENGTH\r\n",
        "data_lines = tf.keras.preprocessing.sequence.pad_sequences(\r\n",
        "    data_tokens.secuence.tolist(), maxlen=MAX_LENGTH, padding='post')\r\n",
        "  \r\n",
        "data_lines[0]"
      ],
      "execution_count": 15,
      "outputs": [
        {
          "output_type": "execute_result",
          "data": {
            "text/plain": [
              "array([  64, 7234, 8030, 1522, 6949, 7965,   29,   81, 3434,    2, 5241,\n",
              "         66,    0,    0,    0,    0,    0,    0,    0,    0,    0,    0,\n",
              "          0,    0,    0,    0,    0,    0,    0,    0,    0,    0],\n",
              "      dtype=int32)"
            ]
          },
          "metadata": {
            "tags": []
          },
          "execution_count": 15
        }
      ]
    },
    {
      "cell_type": "code",
      "metadata": {
        "colab": {
          "base_uri": "https://localhost:8080/"
        },
        "id": "GUwCqgi8jtZu",
        "outputId": "6cb31001-ee25-4c9b-e4c5-00acdad8a335"
      },
      "source": [
        "print('Tamaño vocabulario: {}'.format(VOCAB_SIZE))\n",
        "print('frases: {}'.format(len(data_lines)))"
      ],
      "execution_count": 16,
      "outputs": [
        {
          "output_type": "stream",
          "text": [
            "Tamaño vocabulario: 8189\n",
            "frases: 249849\n"
          ],
          "name": "stdout"
        }
      ]
    },
    {
      "cell_type": "code",
      "metadata": {
        "colab": {
          "base_uri": "https://localhost:8080/"
        },
        "id": "nuAWyF2oWWR4",
        "outputId": "a37df226-34b6-49f8-de4f-e194fcddf2c1"
      },
      "source": [
        "# Tomamos la mayor cantidad de frases que sea multiplo de [BATCH_SIZE] para no generar problemas en el entrenamiento\r\n",
        "FINAL_LINES = int(len(data_lines) / BATCH_SIZE) * BATCH_SIZE\r\n",
        "FINAL_LINES"
      ],
      "execution_count": 17,
      "outputs": [
        {
          "output_type": "execute_result",
          "data": {
            "text/plain": [
              "249792"
            ]
          },
          "metadata": {
            "tags": []
          },
          "execution_count": 17
        }
      ]
    },
    {
      "cell_type": "code",
      "metadata": {
        "colab": {
          "base_uri": "https://localhost:8080/"
        },
        "id": "vDDtJj7k4xwv",
        "outputId": "daecc225-365e-4d56-f9d6-4951b66c0320"
      },
      "source": [
        "# Adapto para que de un multiplo del batch size (64)\r\n",
        "data_lines = data_lines[0:FINAL_LINES]\r\n",
        "len(data_lines)"
      ],
      "execution_count": 18,
      "outputs": [
        {
          "output_type": "execute_result",
          "data": {
            "text/plain": [
              "249792"
            ]
          },
          "metadata": {
            "tags": []
          },
          "execution_count": 18
        }
      ]
    },
    {
      "cell_type": "code",
      "metadata": {
        "id": "BFatj3GqupJA"
      },
      "source": [
        "# saco el token de start de los outputs\n",
        "dataset = tf.data.Dataset.from_tensor_slices((data_lines,data_lines))\n",
        "dataset = dataset.shuffle(BUFFER_SIZE).padded_batch(BATCH_SIZE)"
      ],
      "execution_count": 19,
      "outputs": []
    },
    {
      "cell_type": "markdown",
      "metadata": {
        "id": "BFj1enIjIDs8"
      },
      "source": [
        "### Modelo VAE"
      ]
    },
    {
      "cell_type": "code",
      "metadata": {
        "id": "N7CP0KswNS-m"
      },
      "source": [
        "# Instanciamos el Encoder y Decoder\n",
        "encoder = encoder(VOCAB_SIZE, NUM_LAYERS, UNITS, D_MODEL, NUM_HEADS, DROPOUT, LATENT_SPACE, MAX_LENGTH)\n",
        "decoder = decoder(VOCAB_SIZE, NUM_LAYERS, UNITS, D_MODEL, NUM_HEADS, DROPOUT, LATENT_SPACE, MAX_LENGTH)\n",
        "\n",
        "# Instanciamos el modelo\n",
        "model = VAEModel(\n",
        "      encoder,\n",
        "      decoder,\n",
        "      a=A,\n",
        "      b=B,\n",
        "      vocab_size=VOCAB_SIZE,\n",
        "      num_layers=NUM_LAYERS,\n",
        "      units=UNITS,\n",
        "      d_model=D_MODEL,\n",
        "      num_heads=NUM_HEADS,\n",
        "      dropout=DROPOUT,\n",
        "      latent_space=LATENT_SPACE,\n",
        "      tokenizer=tokenizer,\n",
        "      function='linear')"
      ],
      "execution_count": 20,
      "outputs": []
    },
    {
      "cell_type": "markdown",
      "metadata": {
        "id": "RJvle4mJRBf_"
      },
      "source": [
        "### Entrenamiento"
      ]
    },
    {
      "cell_type": "code",
      "metadata": {
        "id": "vQBC28yhGCow",
        "colab": {
          "base_uri": "https://localhost:8080/"
        },
        "outputId": "8b3190e7-e2d2-46d9-dbad-3605f7ae2f29"
      },
      "source": [
        "FILE_WEIGTHS = 'weights_kl_speed_up.HDF5'\r\n",
        "model.load_weights(join(DRIVE_FOLDER, FILE_WEIGTHS)) #Para fine tunning, levantamos un modelo pre entrenado"
      ],
      "execution_count": 25,
      "outputs": [
        {
          "output_type": "execute_result",
          "data": {
            "text/plain": [
              "<tensorflow.python.training.tracking.util.CheckpointLoadStatus at 0x7f88df912358>"
            ]
          },
          "metadata": {
            "tags": []
          },
          "execution_count": 25
        }
      ]
    },
    {
      "cell_type": "code",
      "metadata": {
        "id": "GWRMqA1lQ6CG"
      },
      "source": [
        "# Definimos un Callback que se ejecuta al finalizar cada epoch y se encarga de:\n",
        "# 1- Generar muestras y metricas para ir evaluando la performance de nuestro modelo durante el entrnamiento\n",
        "# 2- Guardar el modelo\n",
        "from tensorflow.keras.callbacks import Callback, LambdaCallback\n",
        "from random import randint\n",
        "\n",
        "class EpochEndCallback(Callback): \n",
        "    def __init__(self, period=1):\n",
        "        super(EpochEndCallback, self).__init__()\n",
        "        self.period = period\n",
        "    \n",
        "    def on_epoch_end(self, epoch, logs=None):\n",
        "        print('Callback running', epoch)\n",
        "        q_sample = data_lines[randint(0,data_lines.shape[0]) - 1]\n",
        "        model.reconstruct(q_sample)\n",
        "        print('gen_norm:')\n",
        "        [print(sentence) for sentence in generate_from_normal(model, 2, latent_space=LATENT_SPACE)]\n",
        "        if epoch % 25 == 0:\n",
        "          model.save_weights(join(DRIVE_FOLDER, FILE_WEIGTHS), save_format='tf')    \n",
        "\n",
        "# Instanciamos nuestro custom callback\n",
        "eec = EpochEndCallback()"
      ],
      "execution_count": 23,
      "outputs": []
    },
    {
      "cell_type": "code",
      "metadata": {
        "id": "MFrPsMXDBqCL"
      },
      "source": [
        "#Definimos un Callback para actualizar epoch y generar variable de conteo de epochs\n",
        "def count(epoch):\n",
        "  K.set_value(beta, epoch)\n",
        "\n",
        "counter = LambdaCallback(on_epoch_end=lambda epoch, log: count(epoch))"
      ],
      "execution_count": 23,
      "outputs": []
    },
    {
      "cell_type": "code",
      "metadata": {
        "id": "luvHx3QXfyvm",
        "colab": {
          "base_uri": "https://localhost:8080/"
        },
        "outputId": "1b52d3d5-9c97-4444-c11a-0a7a5a37d160"
      },
      "source": [
        "#Entrenamiento y fine-tunning\r\n",
        "EPOCHS = 2\r\n",
        "model.a = 0.00002\r\n",
        "model.b = 0.025\r\n",
        "\r\n",
        "optimizer = tf.keras.optimizers.Adam(0.000001, beta_1=0.9, beta_2=0.999, epsilon=1e-9) #for fine-tunning\r\n",
        "\r\n",
        "model.compile(optimizer=optimizer)\r\n",
        "\r\n",
        "history = model.fit(dataset, epochs=EPOCHS, callbacks=[eec])"
      ],
      "execution_count": 26,
      "outputs": [
        {
          "output_type": "stream",
          "text": [
            "Epoch 1/2\n",
            "3903/3903 [==============================] - 419s 103ms/step - loss: 1.3161 - reconstruction_loss: 0.2551 - kl_loss: 53.0469 - kl_weight: 0.0200\n",
            "Callback running 0\n",
            "[4, 3058, 82, 2, 157, 6, 1621, 140, 140, 2690, 5, 94, 2135, 6543, 223, 0, 0, 0, 0, 0, 0, 0, 0, 0, 0, 0, 0, 0, 0, 0, 0, 0]\n",
            "Reconstr:  la echaba mucho de menos y aquellas cosas cosas podrían a ser insoportabte\n",
            "Original:  la echaba mucho de menos y aquellas dos semanas iban a ser insoportables\n",
            "gen_norm:\n",
            "pero toda el acababa de abries flores me me bae y te dejaron el día más en observary\n",
            "quería volvía a ponerse al marges de ante ella\n",
            "Epoch 2/2\n",
            "3903/3903 [==============================] - 400s 103ms/step - loss: 1.3132 - reconstruction_loss: 0.2412 - kl_loss: 53.6003 - kl_weight: 0.0200\n",
            "Callback running 1\n",
            "[86, 7352, 72, 5, 53, 238, 1, 19, 728, 6502, 7965, 7, 6786, 8048, 1, 7, 896, 2450, 8030, 1, 7, 8, 3900, 7965, 7012, 3994, 25, 151, 1848, 126, 0, 0]\n",
            "Reconstr:  fue condenada a dos años  ,  por traficar en drogas  ,  en pequeña escala  ,  en el club nocturno donde trabajaba\n",
            "Original:  fue condenada a tres años  ,  por traficar en drogas  ,  en pequeña escala  ,  en el club nocturno donde trabajaba\n",
            "gen_norm:\n",
            "pero a mí que sabe saber que estaba cerca\n",
            "él mencionaba por dejarlo holphillnt para ir a matrimonio se contáérselo\n"
          ],
          "name": "stdout"
        }
      ]
    },
    {
      "cell_type": "markdown",
      "metadata": {
        "id": "GJadZcgxLYh_"
      },
      "source": [
        "# Evaluación del entrnamiento"
      ]
    },
    {
      "cell_type": "code",
      "metadata": {
        "id": "r9I5kD3F27sC",
        "colab": {
          "base_uri": "https://localhost:8080/",
          "height": 517
        },
        "outputId": "2f8aeebc-6fe3-4925-fe7d-6bb6ef457ef7"
      },
      "source": [
        "reconstruction_loss = model.history.history['reconstruction_loss']\r\n",
        "loss = [np.mean(x) for x in model.history.history['loss']]\r\n",
        "# kl_loss = [np.mean(x) for x in model.history.history['kl_loss']] \r\n",
        "\r\n",
        "epochs = range(1, len(reconstruction_loss) + 1)\r\n",
        "\r\n",
        "plt.figure(figsize=(20,8))\r\n",
        "plt.plot(epochs, reconstruction_loss, label='reconstruction_loss')\r\n",
        "plt.plot(epochs, loss, label='loss')\r\n",
        "# plt.plot(epochs, kl_loss, label='kl_loss')\r\n",
        "plt.xticks(ticks=epochs)\r\n",
        "# plt.ylim([20000, 40000])\r\n",
        "# plt.xlim([30, 100])\r\n",
        "plt.title('reconstruction_loss - loss')\r\n",
        "plt.legend()\r\n",
        "\r\n",
        "plt"
      ],
      "execution_count": 38,
      "outputs": [
        {
          "output_type": "execute_result",
          "data": {
            "text/plain": [
              "<module 'matplotlib.pyplot' from '/usr/local/lib/python3.6/dist-packages/matplotlib/pyplot.py'>"
            ]
          },
          "metadata": {
            "tags": []
          },
          "execution_count": 38
        },
        {
          "output_type": "display_data",
          "data": {
            "image/png": "[encoded data removed]",
            "text/plain": [
              "<Figure size 1440x576 with 1 Axes>"
            ]
          },
          "metadata": {
            "tags": [],
            "needs_background": "light"
          }
        }
      ]
    },
    {
      "cell_type": "code",
      "metadata": {
        "id": "eYhOCyHBO5CJ"
      },
      "source": [
        "#Evolucion KL LOSS\r\n",
        "kl_loss = [np.mean(x) for x in model.history.history['kl_loss']]\r\n",
        "\r\n",
        "epochs = range(1, len(kl_loss) + 1)\r\n",
        "\r\n",
        "plt.figure(figsize=(20,8))\r\n",
        "plt.plot(epochs, kl_loss, label='kl_loss')\r\n",
        "plt.xticks(ticks=epochs)\r\n",
        "plt.title('rkl_loss')\r\n",
        "plt.legend()\r\n",
        "\r\n",
        "plt"
      ],
      "execution_count": null,
      "outputs": []
    },
    {
      "cell_type": "code",
      "metadata": {
        "id": "kI_kiRLoesIv"
      },
      "source": [
        "# Guardamos los pesos actualizados\r\n",
        "FILE_WEIGTHS = 'weights_normal.HDF5'\r\n",
        "model.save_weights(join(DRIVE_FOLDER, FILE_WEIGTHS), save_format='tf')"
      ],
      "execution_count": 29,
      "outputs": []
    }
  ]
}