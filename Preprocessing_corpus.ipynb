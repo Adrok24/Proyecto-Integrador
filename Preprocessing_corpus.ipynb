{
  "nbformat": 4,
  "nbformat_minor": 0,
  "metadata": {
    "colab": {
      "name": "Preprocessing_corpus.ipynb",
      "provenance": [],
      "collapsed_sections": [],
      "authorship_tag": "ABX9TyPZ/IcMGyiOKnObGLqLS4jz",
      "include_colab_link": true
    },
    "kernelspec": {
      "name": "python3",
      "display_name": "Python 3"
    }
  },
  "cells": [
    {
      "cell_type": "markdown",
      "metadata": {
        "id": "view-in-github",
        "colab_type": "text"
      },
      "source": [
        "<a href=\"https://colab.research.google.com/github/Adrok24/Proyecto-Integrador/blob/main/Preprocessing_corpus.ipynb\" target=\"_parent\"><img src=\"https://colab.research.google.com/assets/colab-badge.svg\" alt=\"Open In Colab\"/></a>"
      ]
    },
    {
      "cell_type": "code",
      "metadata": {
        "colab": {
          "base_uri": "https://localhost:8080/"
        },
        "id": "8y4qcvdI9FYt",
        "outputId": "64d1f499-81d3-48d9-b8f7-097f6dac2d67"
      },
      "source": [
        "from google.colab import files\r\n",
        "from google.colab import drive\r\n",
        "drive.mount('/content/drive')"
      ],
      "execution_count": 41,
      "outputs": [
        {
          "output_type": "stream",
          "text": [
            "Mounted at /content/drive\n"
          ],
          "name": "stdout"
        }
      ]
    },
    {
      "cell_type": "code",
      "metadata": {
        "colab": {
          "base_uri": "https://localhost:8080/"
        },
        "id": "Iopqukas9yGN",
        "outputId": "a150d79f-d310-4c83-de45-466a984f59bd"
      },
      "source": [
        "!unrar x '/content/drive/My Drive/Colab Notebooks/desafio final/txt_books_spa.rar'"
      ],
      "execution_count": 43,
      "outputs": [
        {
          "output_type": "stream",
          "text": [
            "\n",
            "UNRAR 5.50 freeware      Copyright (c) 1993-2017 Alexander Roshal\n",
            "\n",
            "\n",
            "Extracting from /content/drive/My Drive/Colab Notebooks/desafio final/txt_books_spa.rar\n",
            "\n",
            "Extracting  La ciudad invisible - Arnaldo Visconti.txt                   \b\b\b\b  2%\b\b\b\b\b  OK \n",
            "Extracting  La esposa complaciente - Barbara Cartland.txt                \b\b\b\b  5%\b\b\b\b\b  OK \n",
            "Extracting  La gran moral - Aristoteles.txt                              \b\b\b\b  8%\b\b\b\b\b  OK \n",
            "Extracting  La lampara roja - Arthur Conan Doyle.txt                     \b\b\b\b 13%\b\b\b\b\b  OK \n",
            "Extracting  La liga de los pelirrojos - Arthur Conan Doyle.txt           \b\b\b\b 14%\b\b\b\b\b  OK \n",
            "Extracting  Las afueras de Dios - Antonio Gala.txt                       \b\b\b\b 23%\b\b\b\b\b  OK \n",
            "Extracting  Los muertos no aceptan preguntas - Antonia Romero.txt        \b\b\b\b 29%\b\b\b\b\b  OK \n",
            "Extracting  Nadie debe saberlo - Antonio Carrere Garriga.txt             \b\b\b\b 34%\b\b\b\b\b  OK \n",
            "Extracting  Telepata - Arthur Sellings.txt                               \b\b\b\b 39%\b\b\b\b\b  OK \n",
            "Extracting  Textos hermeticos - Anonimo.txt                              \b\b\b\b 49%\b\b\b\b\b  OK \n",
            "Extracting  Tristan e Iseo - Anonimo.txt                                 \b\b\b\b 53%\b\b\b\b\b  OK \n",
            "Extracting  Un mago en la corte - Anonimo.txt                            \b\b\b\b 58%\b\b\b\b\b  OK \n",
            "Extracting  _Vale la pena vivir_ - Antonio Rittscher.txt                 \b\b\b\b 63%\b\b\b\b\b  OK \n",
            "Extracting  50 cosas que hay que saber sobre filosofia - Ben Dupre.txt     \b\b\b\b 68%\b\b\b\b\b  OK \n",
            "Extracting  Argo - Antonio J. Mendez.txt                                 \b\b\b\b 74%\b\b\b\b\b  OK \n",
            "\n",
            "Would you like to replace the existing file Dicen que era yo - Antonio Orozco Guerrero.txt\n",
            "147619 bytes, modified on 2021-01-31 14:43\n",
            "with a new one\n",
            "147619 bytes, modified on 2021-01-31 13:05\n",
            "\n",
            "[Y]es, [N]o, [A]ll, n[E]ver, [R]ename, [Q]uit y\n",
            "\n",
            "Extracting  Dicen que era yo - Antonio Orozco Guerrero.txt               \b\b\b\b 77%\b\b\b\b\b  OK \n",
            "Extracting  El camino a Itaca - Ben Pastor.txt                           \b\b\b\b 86%\b\b\b\b\b  OK \n",
            "Extracting  El pacto - Antonio Martinez Asensio.txt                      \b\b\b\b 89%\b\b\b\b\b  OK \n",
            "Extracting  En el punto de mira - Arthur Miller.txt                      \b\b\b\b 94%\b\b\b\b\b  OK \n",
            "Extracting  La ciudad del mar - Anton Gill.txt                           \b\b\b\b 99%\b\b\b\b\b  OK \n",
            "All OK\n"
          ],
          "name": "stdout"
        }
      ]
    },
    {
      "cell_type": "code",
      "metadata": {
        "id": "irOhibDlBq_t"
      },
      "source": [
        "from os import listdir\r\n",
        "from os.path import isfile, join\r\n",
        "\r\n",
        "mypath = '/content/'\r\n",
        "\r\n",
        "list_files = [f for f in listdir(mypath) if isfile(join(mypath, f))]"
      ],
      "execution_count": 54,
      "outputs": []
    },
    {
      "cell_type": "code",
      "metadata": {
        "colab": {
          "base_uri": "https://localhost:8080/"
        },
        "id": "7x43TthJByE-",
        "outputId": "8bf7b4b0-9277-49af-afd6-8b0dc3fce4df"
      },
      "source": [
        "list_files"
      ],
      "execution_count": 55,
      "outputs": [
        {
          "output_type": "execute_result",
          "data": {
            "text/plain": [
              "['La ciudad invisible - Arnaldo Visconti.txt',\n",
              " 'La esposa complaciente - Barbara Cartland.txt',\n",
              " 'Las afueras de Dios - Antonio Gala.txt',\n",
              " 'Los muertos no aceptan preguntas - Antonia Romero.txt',\n",
              " 'La ciudad del mar - Anton Gill.txt',\n",
              " 'Tristan e Iseo - Anonimo.txt',\n",
              " '50 cosas que hay que saber sobre filosofia - Ben Dupre.txt',\n",
              " 'Argo - Antonio J. Mendez.txt',\n",
              " 'El camino a Itaca - Ben Pastor.txt',\n",
              " 'La lampara roja - Arthur Conan Doyle.txt',\n",
              " '_Vale la pena vivir_ - Antonio Rittscher.txt',\n",
              " 'El pacto - Antonio Martinez Asensio.txt',\n",
              " 'La gran moral - Aristoteles.txt',\n",
              " 'Dicen que era yo - Antonio Orozco Guerrero.txt',\n",
              " 'En el punto de mira - Arthur Miller.txt',\n",
              " 'La liga de los pelirrojos - Arthur Conan Doyle.txt',\n",
              " 'Textos hermeticos - Anonimo.txt',\n",
              " 'Telepata - Arthur Sellings.txt',\n",
              " 'Nadie debe saberlo - Antonio Carrere Garriga.txt',\n",
              " 'Un mago en la corte - Anonimo.txt']"
            ]
          },
          "metadata": {
            "tags": []
          },
          "execution_count": 55
        }
      ]
    },
    {
      "cell_type": "code",
      "metadata": {
        "colab": {
          "base_uri": "https://localhost:8080/"
        },
        "id": "vq5OuOY9rA15",
        "outputId": "029d7b26-a0fe-439e-f0c6-b3bbf64f1441"
      },
      "source": [
        "!pip install nltk"
      ],
      "execution_count": 11,
      "outputs": [
        {
          "output_type": "stream",
          "text": [
            "Requirement already satisfied: nltk in /usr/local/lib/python3.6/dist-packages (3.2.5)\n",
            "Requirement already satisfied: six in /usr/local/lib/python3.6/dist-packages (from nltk) (1.15.0)\n"
          ],
          "name": "stdout"
        }
      ]
    },
    {
      "cell_type": "code",
      "metadata": {
        "id": "gR95cL9IrA6a"
      },
      "source": [
        " from nltk.tokenize import sent_tokenize, word_tokenize"
      ],
      "execution_count": 13,
      "outputs": []
    },
    {
      "cell_type": "code",
      "metadata": {
        "colab": {
          "base_uri": "https://localhost:8080/"
        },
        "id": "fgtzdzaSt2qL",
        "outputId": "82e447e4-5c8a-4257-a5c1-eb0ed32291b7"
      },
      "source": [
        "import nltk\r\n",
        "nltk.download('punkt')"
      ],
      "execution_count": 15,
      "outputs": [
        {
          "output_type": "stream",
          "text": [
            "[nltk_data] Downloading package punkt to /root/nltk_data...\n",
            "[nltk_data]   Unzipping tokenizers/punkt.zip.\n"
          ],
          "name": "stdout"
        },
        {
          "output_type": "execute_result",
          "data": {
            "text/plain": [
              "True"
            ]
          },
          "metadata": {
            "tags": []
          },
          "execution_count": 15
        }
      ]
    },
    {
      "cell_type": "code",
      "metadata": {
        "id": "plZ01OetJU6u"
      },
      "source": [
        "def get_lines(line, book_txt, dict_book_final, count_lines):\r\n",
        "  if (len(line) > 180):\r\n",
        "    split_line = line.split(',')\r\n",
        "    for s_line in split_line:\r\n",
        "      if ((len(s_line) < 80) and (len(s_line) > 30)):\r\n",
        "        dict_book_final[count_lines] = {\"line\": s_line, \"len\": len(s_line), \"book\": book_txt}\r\n",
        "        count_lines = count_lines + 1\r\n",
        "  elif (len(line) > 30):  \r\n",
        "    dict_book_final[count_lines] = {\"line\": line, \"len\": len(line), \"book\": book_txt}\r\n",
        "    count_lines = count_lines + 1\r\n",
        "  return dict_book_final, count_lines"
      ],
      "execution_count": 95,
      "outputs": []
    },
    {
      "cell_type": "code",
      "metadata": {
        "colab": {
          "base_uri": "https://localhost:8080/"
        },
        "id": "Y3U8HCyk6Bed",
        "outputId": "c003c3b4-9ba9-4da1-a435-f75c9822c2cd"
      },
      "source": [
        "dict_book_final = {}\r\n",
        "count_lines = 0\r\n",
        "for book_txt in list_files:\r\n",
        "  corpus = open(book_txt, \"r\")\r\n",
        "  cadena = corpus.read()\r\n",
        "  list_cadena = sent_tokenize(cadena, language='spanish')\r\n",
        "  print(len(list_cadena),book_txt)\r\n",
        "\r\n",
        "  for line in list_cadena:\r\n",
        "    book_txt = book_txt.replace('.txt', '')\r\n",
        "    if (line.find('\\n') == -1):\r\n",
        "      dict_book_final, count_lines = get_lines(line, book_txt, dict_book_final, count_lines)\r\n",
        "    else:\r\n",
        "      split_line = line.split('\\n')\r\n",
        "      for s_line in split_line:\r\n",
        "        dict_book_final, count_lines = get_lines(s_line, book_txt, dict_book_final, count_lines)"
      ],
      "execution_count": 99,
      "outputs": [
        {
          "output_type": "stream",
          "text": [
            "1569 La ciudad invisible - Arnaldo Visconti.txt\n",
            "3893 La esposa complaciente - Barbara Cartland.txt\n",
            "6120 Las afueras de Dios - Antonio Gala.txt\n",
            "8136 Los muertos no aceptan preguntas - Antonia Romero.txt\n",
            "6242 La ciudad del mar - Anton Gill.txt\n",
            "3803 Tristan e Iseo - Anonimo.txt\n",
            "2450 50 cosas que hay que saber sobre filosofia - Ben Dupre.txt\n",
            "4439 Argo - Antonio J. Mendez.txt\n",
            "8526 El camino a Itaca - Ben Pastor.txt\n",
            "4570 La lampara roja - Arthur Conan Doyle.txt\n",
            "5359 _Vale la pena vivir_ - Antonio Rittscher.txt\n",
            "3770 El pacto - Antonio Martinez Asensio.txt\n",
            "1388 La gran moral - Aristoteles.txt\n",
            "1667 Dicen que era yo - Antonio Orozco Guerrero.txt\n",
            "6031 En el punto de mira - Arthur Miller.txt\n",
            "593 La liga de los pelirrojos - Arthur Conan Doyle.txt\n",
            "7219 Textos hermeticos - Anonimo.txt\n",
            "4961 Telepata - Arthur Sellings.txt\n",
            "4838 Nadie debe saberlo - Antonio Carrere Garriga.txt\n",
            "4206 Un mago en la corte - Anonimo.txt\n"
          ],
          "name": "stdout"
        }
      ]
    },
    {
      "cell_type": "code",
      "metadata": {
        "colab": {
          "base_uri": "https://localhost:8080/",
          "height": 419
        },
        "id": "vW9qzAQMrBSL",
        "outputId": "f88e2243-0f5d-4cf3-f37e-843d93a33de2"
      },
      "source": [
        "df_book_lines = pd.DataFrame.from_dict(dict_book_final, \"index\")\r\n",
        "display(df_book_lines)"
      ],
      "execution_count": 100,
      "outputs": [
        {
          "output_type": "display_data",
          "data": {
            "text/html": [
              "<div>\n",
              "<style scoped>\n",
              "    .dataframe tbody tr th:only-of-type {\n",
              "        vertical-align: middle;\n",
              "    }\n",
              "\n",
              "    .dataframe tbody tr th {\n",
              "        vertical-align: top;\n",
              "    }\n",
              "\n",
              "    .dataframe thead th {\n",
              "        text-align: right;\n",
              "    }\n",
              "</style>\n",
              "<table border=\"1\" class=\"dataframe\">\n",
              "  <thead>\n",
              "    <tr style=\"text-align: right;\">\n",
              "      <th></th>\n",
              "      <th>line</th>\n",
              "      <th>len</th>\n",
              "      <th>book</th>\n",
              "    </tr>\n",
              "  </thead>\n",
              "  <tbody>\n",
              "    <tr>\n",
              "      <th>0</th>\n",
              "      <td>Colección El Pirata Negro n.° 27</td>\n",
              "      <td>32</td>\n",
              "      <td>La ciudad invisible - Arnaldo Visconti</td>\n",
              "    </tr>\n",
              "    <tr>\n",
              "      <th>1</th>\n",
              "      <td>El desierto parecía no tener fin.</td>\n",
              "      <td>33</td>\n",
              "      <td>La ciudad invisible - Arnaldo Visconti</td>\n",
              "    </tr>\n",
              "    <tr>\n",
              "      <th>2</th>\n",
              "      <td>Largos días de camino, mecidos los nómadas por...</td>\n",
              "      <td>123</td>\n",
              "      <td>La ciudad invisible - Arnaldo Visconti</td>\n",
              "    </tr>\n",
              "    <tr>\n",
              "      <th>3</th>\n",
              "      <td>Noches frías en campamentos sin lumbre</td>\n",
              "      <td>38</td>\n",
              "      <td>La ciudad invisible - Arnaldo Visconti</td>\n",
              "    </tr>\n",
              "    <tr>\n",
              "      <th>4</th>\n",
              "      <td>en que el sueño llegaba calladamente</td>\n",
              "      <td>37</td>\n",
              "      <td>La ciudad invisible - Arnaldo Visconti</td>\n",
              "    </tr>\n",
              "    <tr>\n",
              "      <th>...</th>\n",
              "      <td>...</td>\n",
              "      <td>...</td>\n",
              "      <td>...</td>\n",
              "    </tr>\n",
              "    <tr>\n",
              "      <th>79806</th>\n",
              "      <td>[1] Los magos o malabaristas eran llamados ent...</td>\n",
              "      <td>104</td>\n",
              "      <td>Un mago en la corte - Anonimo</td>\n",
              "    </tr>\n",
              "    <tr>\n",
              "      <th>79807</th>\n",
              "      <td>[3] La epacta o añalejo es el calendario para ...</td>\n",
              "      <td>115</td>\n",
              "      <td>Un mago en la corte - Anonimo</td>\n",
              "    </tr>\n",
              "    <tr>\n",
              "      <th>79808</th>\n",
              "      <td>[5] La cencerrada consiste en rondar a los nov...</td>\n",
              "      <td>96</td>\n",
              "      <td>Un mago en la corte - Anonimo</td>\n",
              "    </tr>\n",
              "    <tr>\n",
              "      <th>79809</th>\n",
              "      <td>Se canta y baila a la puerta de su casa la vís...</td>\n",
              "      <td>91</td>\n",
              "      <td>Un mago en la corte - Anonimo</td>\n",
              "    </tr>\n",
              "    <tr>\n",
              "      <th>79810</th>\n",
              "      <td>Personaje de cuento en la comarca, tan popular...</td>\n",
              "      <td>82</td>\n",
              "      <td>Un mago en la corte - Anonimo</td>\n",
              "    </tr>\n",
              "  </tbody>\n",
              "</table>\n",
              "<p>79811 rows × 3 columns</p>\n",
              "</div>"
            ],
            "text/plain": [
              "                                                    line  ...                                    book\n",
              "0                       Colección El Pirata Negro n.° 27  ...  La ciudad invisible - Arnaldo Visconti\n",
              "1                      El desierto parecía no tener fin.  ...  La ciudad invisible - Arnaldo Visconti\n",
              "2      Largos días de camino, mecidos los nómadas por...  ...  La ciudad invisible - Arnaldo Visconti\n",
              "3                 Noches frías en campamentos sin lumbre  ...  La ciudad invisible - Arnaldo Visconti\n",
              "4                   en que el sueño llegaba calladamente  ...  La ciudad invisible - Arnaldo Visconti\n",
              "...                                                  ...  ...                                     ...\n",
              "79806  [1] Los magos o malabaristas eran llamados ent...  ...           Un mago en la corte - Anonimo\n",
              "79807  [3] La epacta o añalejo es el calendario para ...  ...           Un mago en la corte - Anonimo\n",
              "79808  [5] La cencerrada consiste en rondar a los nov...  ...           Un mago en la corte - Anonimo\n",
              "79809  Se canta y baila a la puerta de su casa la vís...  ...           Un mago en la corte - Anonimo\n",
              "79810  Personaje de cuento en la comarca, tan popular...  ...           Un mago en la corte - Anonimo\n",
              "\n",
              "[79811 rows x 3 columns]"
            ]
          },
          "metadata": {
            "tags": []
          }
        }
      ]
    },
    {
      "cell_type": "code",
      "metadata": {
        "id": "H2rvUUwKH4OY"
      },
      "source": [
        "df_book_lines.to_csv('/content/drive/My Drive/Colab Notebooks/desafio final/train_corpus.csv')"
      ],
      "execution_count": 101,
      "outputs": []
    },
    {
      "cell_type": "code",
      "metadata": {
        "id": "osZmiZ05NQEJ"
      },
      "source": [
        ""
      ],
      "execution_count": null,
      "outputs": []
    }
  ]
}