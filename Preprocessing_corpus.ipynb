{
  "nbformat": 4,
  "nbformat_minor": 0,
  "metadata": {
    "colab": {
      "name": "Preprocessing_corpus.ipynb",
      "provenance": [],
      "collapsed_sections": [],
      "authorship_tag": "ABX9TyNm3nOEROKNPJus6dKBZRFq",
      "include_colab_link": true
    },
    "kernelspec": {
      "name": "python3",
      "display_name": "Python 3"
    }
  },
  "cells": [
    {
      "cell_type": "markdown",
      "metadata": {
        "id": "view-in-github",
        "colab_type": "text"
      },
      "source": [
        "<a href=\"https://colab.research.google.com/github/Adrok24/Proyecto-Integrador/blob/branch_1/Preprocessing_corpus.ipynb\" target=\"_parent\"><img src=\"https://colab.research.google.com/assets/colab-badge.svg\" alt=\"Open In Colab\"/></a>"
      ]
    },
    {
      "cell_type": "code",
      "metadata": {
        "id": "8y4qcvdI9FYt"
      },
      "source": [
        "# Imports\r\n",
        "from google.colab import files\r\n",
        "from google.colab import drive\r\n",
        "import os\r\n",
        "from os.path import isfile, join\r\n",
        "import pandas as pd\r\n",
        "import re"
      ],
      "execution_count": 82,
      "outputs": []
    },
    {
      "cell_type": "code",
      "metadata": {
        "id": "HkXZb01PwDWl"
      },
      "source": [
        "drive.mount('/content/drive')"
      ],
      "execution_count": null,
      "outputs": []
    },
    {
      "cell_type": "code",
      "metadata": {
        "id": "Xoqq5Ai_Z9pb"
      },
      "source": [
        "folder = '/content/drive/My Drive/Colab Notebooks/desafio final/'\r\n",
        "\r\n",
        "path_to_names = os.path.join(folder, 'list_names.csv')\r\n",
        "data = pd.read_csv(path_to_names)"
      ],
      "execution_count": null,
      "outputs": []
    },
    {
      "cell_type": "code",
      "metadata": {
        "id": "v7FUwpQVZ9iR"
      },
      "source": [
        "list_names = data.Name.tolist()"
      ],
      "execution_count": null,
      "outputs": []
    },
    {
      "cell_type": "code",
      "metadata": {
        "colab": {
          "base_uri": "https://localhost:8080/"
        },
        "id": "Iopqukas9yGN",
        "outputId": "d9392804-3643-488d-d4af-01d62e638b79"
      },
      "source": [
        "!unrar x '/content/drive/My Drive/Colab Notebooks/desafio final/txt_books_spa.rar'"
      ],
      "execution_count": 2,
      "outputs": [
        {
          "output_type": "stream",
          "text": [
            "\n",
            "UNRAR 5.50 freeware      Copyright (c) 1993-2017 Alexander Roshal\n",
            "\n",
            "\n",
            "Extracting from /content/drive/My Drive/Colab Notebooks/desafio final/txt_books_spa.rar\n",
            "\n",
            "Creating    txt_books_spa                                             OK\n",
            "Creating    txt_books_spa/cortazar txt                                OK\n",
            "Extracting  txt_books_spa/cortazar txt/alvo_el_crepusculo_-_Julio_Cortazar.txt     \b\b\b\b  1%\b\b\b\b\b  OK \n",
            "Extracting  txt_books_spa/cortazar txt/ases_de_literatura_-_Julio_Cortazar.txt     \b\b\b\b  3%\b\b\b\b\b  OK \n",
            "Extracting  txt_books_spa/cortazar txt/Bestiario_-_Julio_Cortazar.txt     \b\b\b\b  5%\b\b\b\b\b  OK \n",
            "Extracting  txt_books_spa/cortazar txt/Cartas_1937-1954_-_Julio_Cortazar.txt     \b\b\b\b 11%\b\b\b\b\b  OK \n",
            "Extracting  txt_books_spa/cortazar txt/Cartas_1955-1964_-_Julio_Cortazar.txt     \b\b\b\b 18%\b\b\b\b\b  OK \n",
            "Extracting  txt_books_spa/cortazar txt/Deshoras_-_Julio_Cortazar.txt     \b\b\b\b 20%\b\b\b\b\b  OK \n",
            "Extracting  txt_books_spa/cortazar txt/Juegos-Julio-Cortazar.txt         \b\b\b\b 21%\b\b\b\b\b  OK \n",
            "Extracting  txt_books_spa/cortazar txt/La-otra-orilla-Julio-Cortazar.txt     \b\b\b\b 22%\b\b\b\b\b  OK \n",
            "Extracting  txt_books_spa/cortazar txt/Las-armas-secretas-Julio-Cortazar.txt     \b\b\b\b 24%\b\b\b\b\b  OK \n",
            "Extracting  txt_books_spa/cortazar txt/Los-autonautas-de-la-cosmopista-Julio-Cortazar.txt     \b\b\b\b 26%\b\b\b\b\b  OK \n",
            "Extracting  txt_books_spa/cortazar txt/Los-premios-Julio-Cortazar.txt     \b\b\b\b 30%\b\b\b\b\b  OK \n",
            "Extracting  txt_books_spa/cortazar txt/Los-reyes-Julio-Cortazar.txt      \b\b\b\b 30%\b\b\b\b\b  OK \n",
            "Extracting  txt_books_spa/cortazar txt/mbradas_culturales_-_Julio_Cortazar.txt     \b\b\b\b 31%\b\b\b\b\b  OK \n",
            "Extracting  txt_books_spa/cortazar txt/mos_tanto_a_Glenda_-_Julio_Cortazar.txt     \b\b\b\b 32%\b\b\b\b\b  OK \n",
            "Extracting  txt_books_spa/cortazar txt/Nicaragua-tan-violentamente-dulce-Julio-Cortazar.txt     \b\b\b\b 34%\b\b\b\b\b  OK \n",
            "Extracting  txt_books_spa/cortazar txt/n_que_anda_por_ahi_-_Julio_Cortazar.txt     \b\b\b\b 35%\b\b\b\b\b  OK \n",
            "Extracting  txt_books_spa/cortazar txt/Obra_critica_III_-_Julio_Cortazar.txt     \b\b\b\b 38%\b\b\b\b\b  OK \n",
            "Extracting  txt_books_spa/cortazar txt/Obra_critica_II_-_Julio_Cortazar.txt     \b\b\b\b 41%\b\b\b\b\b  OK \n",
            "Extracting  txt_books_spa/cortazar txt/Obra_critica_I_-_Julio_Cortazar.txt     \b\b\b\b 42%\b\b\b\b\b  OK \n",
            "Extracting  txt_books_spa/cortazar txt/Octaedro_-_Julio_Cortazar.txt     \b\b\b\b 43%\b\b\b\b\b  OK \n",
            "Extracting  txt_books_spa/cortazar txt/on_y_otros_relatos_-_Julio_Cortazar.txt     \b\b\b\b 44%\b\b\b\b\b  OK \n",
            "Extracting  txt_books_spa/cortazar txt/or_y_otros_relatos_-_Julio_Cortazar.txt     \b\b\b\b 48%\b\b\b\b\b  OK \n",
            "Extracting  txt_books_spa/cortazar txt/os_fuegos_el_fuego_-_Julio_Cortazar.txt     \b\b\b\b 49%\b\b\b\b\b  OK \n",
            "Extracting  txt_books_spa/cortazar txt/Pasajes_-_Julio_Cortazar.txt      \b\b\b\b 51%\b\b\b\b\b  OK \n",
            "Extracting  txt_books_spa/cortazar txt/Silvalandia_-_Julio_Cortazar.txt     \b\b\b\b 51%\b\b\b\b\b  OK \n",
            "Extracting  txt_books_spa/cortazar txt/Un_tal_Lucas_-_Julio_Cortazar.txt     \b\b\b\b 52%\b\b\b\b\b  OK \n",
            "Extracting  txt_books_spa/cortazar txt/_Modelo_para_armar_-_Julio_Cortazar.txt     \b\b\b\b 55%\b\b\b\b\b  OK \n",
            "Creating    txt_books_spa/filosofia txt                               OK\n",
            "Extracting  txt_books_spa/filosofia txt/Acerca_del_alma_-_Aristoteles.txt     \b\b\b\b 56%\b\b\b\b\b  OK \n",
            "Extracting  txt_books_spa/filosofia txt/as_bellas_artes_-_Daniel_Innerarity.txt     \b\b\b\b 57%\b\b\b\b\b  OK \n",
            "Extracting  txt_books_spa/filosofia txt/a_caida_en_el_tiempo_-_E._M._Cioran.txt     \b\b\b\b 58%\b\b\b\b\b  OK \n",
            "Extracting  txt_books_spa/filosofia txt/El_Anticristo_-_Friedrich_Nietzsche.txt     \b\b\b\b 59%\b\b\b\b\b  OK \n",
            "Extracting  txt_books_spa/filosofia txt/ente_de_haber_nacido_-_E._M._Cioran.txt     \b\b\b\b 60%\b\b\b\b\b  OK \n",
            "Extracting  txt_books_spa/filosofia txt/e_los_griegos_-_Friedrich_Nietzsche.txt     \b\b\b\b 61%\b\b\b\b\b  OK \n",
            "Extracting  txt_books_spa/filosofia txt/idad_e_individuo_-_Bertrand_Russell.txt     \b\b\b\b 62%\b\b\b\b\b  OK \n",
            "Extracting  txt_books_spa/filosofia txt/ielo_-_Meteorologicos_-_Aristoteles.txt     \b\b\b\b 65%\b\b\b\b\b  OK \n",
            "Extracting  txt_books_spa/filosofia txt/La_gran_moral_-_Aristoteles.txt     \b\b\b\b 66%\b\b\b\b\b  OK \n",
            "Extracting  txt_books_spa/filosofia txt/La_mano_invisible_-_Adam_Smith.txt     \b\b\b\b 67%\b\b\b\b\b  OK \n",
            "Extracting  txt_books_spa/filosofia txt/lo_Zaratustra_-_Friedrich_Nietzsche.txt     \b\b\b\b 70%\b\b\b\b\b  OK \n",
            "Extracting  txt_books_spa/filosofia txt/l_budismo_-_Ernest_Yassine_Bendriss.txt     \b\b\b\b 72%\b\b\b\b\b  OK \n",
            "Extracting  txt_books_spa/filosofia txt/l_miedo_a_la_libertad_-_Erich_Fromm.txt     \b\b\b\b 75%\b\b\b\b\b  OK \n",
            "Extracting  txt_books_spa/filosofia txt/ogia_del_sofista_-_Fernando_Savater.txt     \b\b\b\b 76%\b\b\b\b\b  OK \n",
            "Extracting  txt_books_spa/filosofia txt/o_en_un_solo_atomo_-_Dalai_Lama_XIV.txt     \b\b\b\b 78%\b\b\b\b\b  OK \n",
            "Extracting  txt_books_spa/filosofia txt/tica_de_urgencia_-_Fernando_Savater.txt     \b\b\b\b 79%\b\b\b\b\b  OK \n",
            "Creating    txt_books_spa/poesía txt                                  OK\n",
            "Extracting  txt_books_spa/poesía txt/42_poemas_-_Fernando_Pessoa.txt     \b\b\b\b 79%\b\b\b\b\b  OK \n",
            "Extracting  txt_books_spa/poesía txt/Abismo_-_Leopoldo_Maria_Panero.txt     \b\b\b\b 79%\b\b\b\b\b  OK \n",
            "Extracting  txt_books_spa/poesía txt/ado_de_exilio_-_Cristina_Peri_Rossi.txt     \b\b\b\b 80%\b\b\b\b\b  OK \n",
            "Extracting  txt_books_spa/poesía txt/Amor_y_asco_-_SrtaBebi.txt          \b\b\b\b 80%\b\b\b\b\b  OK \n",
            "Extracting  txt_books_spa/poesía txt/Aquella_noche_-_Cristina_Peri_Rossi.txt     \b\b\b\b 80%\b\b\b\b\b  OK \n",
            "Extracting  txt_books_spa/poesía txt/aricias_al_tiempo_-_Diego_Fortunato.txt     \b\b\b\b 81%\b\b\b\b\b  OK \n",
            "Extracting  txt_books_spa/poesía txt/as_cuatro_estaciones_-_Basho_Matsuo.txt     \b\b\b\b 81%\b\b\b\b\b  OK \n",
            "Extracting  txt_books_spa/poesía txt/a_del_miedo_-_Leopoldo_Maria_Panero.txt     \b\b\b\b 81%\b\b\b\b\b  OK \n",
            "Extracting  txt_books_spa/poesía txt/bertad_y_sangre_-_Manolillo_Chinato.txt     \b\b\b\b 81%\b\b\b\b\b  OK \n",
            "Extracting  txt_books_spa/poesía txt/Charles_Bukowski_-_Charles_Bukowski.txt     \b\b\b\b 82%\b\b\b\b\b  OK \n",
            "Extracting  txt_books_spa/poesía txt/cion_de_mujer_-_Cristina_Peri_Rossi.txt     \b\b\b\b 82%\b\b\b\b\b  OK \n",
            "Extracting  txt_books_spa/poesía txt/el_desastre_-_Leopoldo_Maria_Panero.txt     \b\b\b\b 82%\b\b\b\b\b  OK \n",
            "Extracting  txt_books_spa/poesía txt/e_la_locura_-_Leopoldo_Maria_Panero.txt     \b\b\b\b 82%\b\b\b\b\b  OK \n",
            "Extracting  txt_books_spa/poesía txt/izofrenicos_-_Leopoldo_Maria_Panero.txt     \b\b\b\b 82%\b\b\b\b\b  OK \n",
            "Extracting  txt_books_spa/poesía txt/ntologia_poetica_-_Antonio_Gamoneda.txt     \b\b\b\b 82%\b\b\b\b\b  OK \n",
            "Extracting  txt_books_spa/poesía txt/onversacion_-_Leopoldo_Maria_Panero.txt     \b\b\b\b 82%\b\b\b\b\b  OK \n",
            "Extracting  txt_books_spa/poesía txt/o_de_una_chica_en_llamas_-_SrtaBebi.txt     \b\b\b\b 83%\b\b\b\b\b  OK \n",
            "Extracting  txt_books_spa/poesía txt/Poemas_-_Fernando_Pessoa.txt        \b\b\b\b 84%\b\b\b\b\b  OK \n",
            "Extracting  txt_books_spa/poesía txt/Seleccion_de_poemas_-_Adonis.txt     \b\b\b\b 84%\b\b\b\b\b  OK \n",
            "Extracting  txt_books_spa/poesía txt/Sombra_-_Leopoldo_Maria_Panero.txt     \b\b\b\b 84%\b\b\b\b\b  OK \n",
            "Extracting  txt_books_spa/poesía txt/Susurros_del_Alma_-_Alec_Blackhell.txt     \b\b\b\b 84%\b\b\b\b\b  OK \n",
            "Extracting  txt_books_spa/poesía txt/uaderno_del_delirio_-_Elvira_Daudet.txt     \b\b\b\b 85%\b\b\b\b\b  OK \n",
            "Extracting  txt_books_spa/poesía txt/Vetas_profundas_-_Fernando_Aramburu.txt     \b\b\b\b 86%\b\b\b\b\b  OK \n",
            "Extracting  txt_books_spa/poesía txt/_al_viento_Poemas_-_Diego_Fortunato.txt     \b\b\b\b 87%\b\b\b\b\b  OK \n",
            "Extracting  txt_books_spa/poesía txt/_como_fueron_-_Eloy_Sanchez_Rosillo.txt     \b\b\b\b 89%\b\b\b\b\b  OK \n",
            "Extracting  txt_books_spa/poesía txt/_cosas_que_escribi_-_Ainhoa_Escarti.txt     \b\b\b\b 90%\b\b\b\b\b  OK \n",
            "Extracting  txt_books_spa/poesía txt/_frente_al_espejo_-_Denis_Hernandez.txt     \b\b\b\b 90%\b\b\b\b\b  OK \n",
            "Extracting  txt_books_spa/poesía txt/_grandes_mujeres_-_Alfonsina_Storni.txt     \b\b\b\b 91%\b\b\b\b\b  OK \n",
            "Extracting  txt_books_spa/poesía txt/_la_lampara_-_Leopoldo_Maria_Panero.txt     \b\b\b\b 91%\b\b\b\b\b  OK \n",
            "Extracting  txt_books_spa/poesía txt/_medianamente_dulces_-_Alma_Phillip.txt     \b\b\b\b 91%\b\b\b\b\b  OK \n",
            "Extracting  txt_books_spa/poesía txt/_versos_perdidos_-_Txus_di_Fellatio.txt     \b\b\b\b 91%\b\b\b\b\b  OK \n",
            "Creating    txt_books_spa/teatro txt                                  OK\n",
            "Extracting  txt_books_spa/teatro txt/Atrapar_a_un_asesino_-_Alfonso_Paso.txt     \b\b\b\b 92%\b\b\b\b\b  OK \n",
            "Extracting  txt_books_spa/teatro txt/El_lindo_don_Diego_-_Agustin_Moreto.txt     \b\b\b\b 92%\b\b\b\b\b  OK \n",
            "Extracting  txt_books_spa/teatro txt/La_bombilla_que_flota_-_Woody_Allen.txt     \b\b\b\b 93%\b\b\b\b\b  OK \n",
            "Extracting  txt_books_spa/teatro txt/La_fiebre_de_junio_-_Alfonso_Paso.txt     \b\b\b\b 94%\b\b\b\b\b  OK \n",
            "Extracting  txt_books_spa/teatro txt/l_final_de_la_cuerda_-_Alfonso_Paso.txt     \b\b\b\b 94%\b\b\b\b\b  OK \n",
            "Extracting  txt_books_spa/teatro txt/nguno_-_Francisco_de_Rojas_Zorrilla.txt     \b\b\b\b 95%\b\b\b\b\b  OK \n",
            "Extracting  txt_books_spa/teatro txt/ompa_y_circunstancias_-_Noel_Coward.txt     \b\b\b\b 98%\b\b\b\b\b  OK \n",
            "Extracting  txt_books_spa/teatro txt/rnarda_Alba_-_Federico_Garcia_Lorca.txt     \b\b\b\b 98%\b\b\b\b\b  OK \n",
            "Extracting  txt_books_spa/teatro txt/sne_de_Lohengrin_-_Miguel_Echegaray.txt     \b\b\b\b 99%\b\b\b\b\b  OK \n",
            "Extracting  txt_books_spa/teatro txt/s_siete_balcones_-_Alejandro_Casona.txt     \b\b\b\b 99%\b\b\b\b\b  OK \n",
            "All OK\n"
          ],
          "name": "stdout"
        }
      ]
    },
    {
      "cell_type": "code",
      "metadata": {
        "id": "irOhibDlBq_t",
        "colab": {
          "base_uri": "https://localhost:8080/",
          "height": 34
        },
        "outputId": "bec4340d-32dd-4431-c725-b14faea21dc5"
      },
      "source": [
        "mypath = '/content/txt_books_spa' \r\n",
        "\r\n",
        "# list_files = [join(root, name_file) for root, dirs, name_file in os.walk(mypath, topdown=False)] \r\n",
        "\r\n",
        "count_files = 0\r\n",
        "dict_paths = {}\r\n",
        "for root, dirs, files in os.walk(mypath, topdown=False):\r\n",
        "    for name_file in files:\r\n",
        "        dict_paths[count_files] = {\"path\": os.path.join(root, name_file), \"name\": name_file.replace('.txt', ''), \"genre\": root.split('/')[3].split(' ')[0], \"category\" : \"Book\"}\r\n",
        "        count_files = count_files + 1\r\n",
        "\r\n",
        "df_path = pd.DataFrame.from_dict(dict_paths, \"index\")\r\n",
        "display(df_path.shape)"
      ],
      "execution_count": 31,
      "outputs": [
        {
          "output_type": "display_data",
          "data": {
            "text/plain": [
              "(84, 4)"
            ]
          },
          "metadata": {
            "tags": []
          }
        }
      ]
    },
    {
      "cell_type": "code",
      "metadata": {
        "colab": {
          "base_uri": "https://localhost:8080/"
        },
        "id": "7x43TthJByE-",
        "outputId": "21d37282-defa-4c8c-920c-06f1155bf318"
      },
      "source": [
        "df_path.columns"
      ],
      "execution_count": 33,
      "outputs": [
        {
          "output_type": "execute_result",
          "data": {
            "text/plain": [
              "Index(['path', 'name', 'genre', 'category'], dtype='object')"
            ]
          },
          "metadata": {
            "tags": []
          },
          "execution_count": 33
        }
      ]
    },
    {
      "cell_type": "code",
      "metadata": {
        "colab": {
          "base_uri": "https://localhost:8080/"
        },
        "id": "vq5OuOY9rA15",
        "outputId": "281d4312-721e-41d2-a167-e605a642d3c3"
      },
      "source": [
        "!pip install nltk"
      ],
      "execution_count": 36,
      "outputs": [
        {
          "output_type": "stream",
          "text": [
            "Requirement already satisfied: nltk in /usr/local/lib/python3.6/dist-packages (3.2.5)\n",
            "Requirement already satisfied: six in /usr/local/lib/python3.6/dist-packages (from nltk) (1.15.0)\n"
          ],
          "name": "stdout"
        }
      ]
    },
    {
      "cell_type": "code",
      "metadata": {
        "id": "gR95cL9IrA6a"
      },
      "source": [
        " from nltk.tokenize import sent_tokenize, word_tokenize"
      ],
      "execution_count": 37,
      "outputs": []
    },
    {
      "cell_type": "code",
      "metadata": {
        "colab": {
          "base_uri": "https://localhost:8080/"
        },
        "id": "fgtzdzaSt2qL",
        "outputId": "427055c7-ef90-47ba-b8a1-cffcc9b6259a"
      },
      "source": [
        "import nltk\r\n",
        "nltk.download('punkt')"
      ],
      "execution_count": 38,
      "outputs": [
        {
          "output_type": "stream",
          "text": [
            "[nltk_data] Downloading package punkt to /root/nltk_data...\n",
            "[nltk_data]   Unzipping tokenizers/punkt.zip.\n"
          ],
          "name": "stdout"
        },
        {
          "output_type": "execute_result",
          "data": {
            "text/plain": [
              "True"
            ]
          },
          "metadata": {
            "tags": []
          },
          "execution_count": 38
        }
      ]
    },
    {
      "cell_type": "code",
      "metadata": {
        "id": "plZ01OetJU6u"
      },
      "source": [
        "def get_lines(line, book, dict_book_final, count_lines):\r\n",
        "  if (len(line) > 170):\r\n",
        "    split_line = line.split(',')\r\n",
        "    for s_line in split_line:\r\n",
        "      if ((len(s_line) < 80) and (len(s_line) > 30)):\r\n",
        "        dict_book_final[count_lines] = {\"line\": s_line, \"len\": len(s_line), \"book\": book['name'], \"genre\": book['genre'], \"category\": book['category']}\r\n",
        "        count_lines = count_lines + 1\r\n",
        "  elif (len(line) > 30):  \r\n",
        "    dict_book_final[count_lines] = {\"line\": line, \"len\": len(line), \"book\": book['name'], \"genre\": book['genre'], \"category\": book['category']}\r\n",
        "    count_lines = count_lines + 1\r\n",
        "  return dict_book_final, count_lines"
      ],
      "execution_count": 104,
      "outputs": []
    },
    {
      "cell_type": "code",
      "metadata": {
        "colab": {
          "base_uri": "https://localhost:8080/"
        },
        "id": "Y3U8HCyk6Bed",
        "outputId": "d8d8b482-3663-4a53-e524-618c90f4e8d0"
      },
      "source": [
        "dict_book_final = {}\r\n",
        "count_lines = 0\r\n",
        "for index, book in df_path.iterrows():\r\n",
        "  corpus = open(book['path'], \"r\")\r\n",
        "  cadena = corpus.read()\r\n",
        "  list_cadena = sent_tokenize(cadena, language='spanish')\r\n",
        "  print('cant sent:',len(list_cadena),book['name'])\r\n",
        "\r\n",
        "  for line in list_cadena:\r\n",
        "    if (line.find('\\n') == -1):\r\n",
        "      dict_book_final, count_lines = get_lines(line, book, dict_book_final, count_lines)\r\n",
        "    else:\r\n",
        "      split_line = line.split('\\n')\r\n",
        "      for s_line in split_line:\r\n",
        "        dict_book_final, count_lines = get_lines(s_line, book, dict_book_final, count_lines)"
      ],
      "execution_count": 105,
      "outputs": [
        {
          "output_type": "stream",
          "text": [
            "cant sent: 544 _versos_perdidos_-_Txus_di_Fellatio\n",
            "cant sent: 283 _medianamente_dulces_-_Alma_Phillip\n",
            "cant sent: 325 ntologia_poetica_-_Antonio_Gamoneda\n",
            "cant sent: 162 Aquella_noche_-_Cristina_Peri_Rossi\n",
            "cant sent: 350 Susurros_del_Alma_-_Alec_Blackhell\n",
            "cant sent: 60 Sombra_-_Leopoldo_Maria_Panero\n",
            "cant sent: 805 o_de_una_chica_en_llamas_-_SrtaBebi\n",
            "cant sent: 828 _al_viento_Poemas_-_Diego_Fortunato\n",
            "cant sent: 2039 Poemas_-_Fernando_Pessoa\n",
            "cant sent: 330 as_cuatro_estaciones_-_Basho_Matsuo\n",
            "cant sent: 35 izofrenicos_-_Leopoldo_Maria_Panero\n",
            "cant sent: 377 _grandes_mujeres_-_Alfonsina_Storni\n",
            "cant sent: 274 uaderno_del_delirio_-_Elvira_Daudet\n",
            "cant sent: 727 aricias_al_tiempo_-_Diego_Fortunato\n",
            "cant sent: 1076 Amor_y_asco_-_SrtaBebi\n",
            "cant sent: 2346 _cosas_que_escribi_-_Ainhoa_Escarti\n",
            "cant sent: 18 onversacion_-_Leopoldo_Maria_Panero\n",
            "cant sent: 64 e_la_locura_-_Leopoldo_Maria_Panero\n",
            "cant sent: 226 ado_de_exilio_-_Cristina_Peri_Rossi\n",
            "cant sent: 2259 Vetas_profundas_-_Fernando_Aramburu\n",
            "cant sent: 78 _la_lampara_-_Leopoldo_Maria_Panero\n",
            "cant sent: 408 Charles_Bukowski_-_Charles_Bukowski\n",
            "cant sent: 3744 _como_fueron_-_Eloy_Sanchez_Rosillo\n",
            "cant sent: 91 a_del_miedo_-_Leopoldo_Maria_Panero\n",
            "cant sent: 505 bertad_y_sangre_-_Manolillo_Chinato\n",
            "cant sent: 935 _frente_al_espejo_-_Denis_Hernandez\n",
            "cant sent: 344 42_poemas_-_Fernando_Pessoa\n",
            "cant sent: 490 Seleccion_de_poemas_-_Adonis\n",
            "cant sent: 329 cion_de_mujer_-_Cristina_Peri_Rossi\n",
            "cant sent: 36 Abismo_-_Leopoldo_Maria_Panero\n",
            "cant sent: 64 el_desastre_-_Leopoldo_Maria_Panero\n",
            "cant sent: 1768 Bestiario_-_Julio_Cortazar\n",
            "cant sent: 2213 on_y_otros_relatos_-_Julio_Cortazar\n",
            "cant sent: 1185 alvo_el_crepusculo_-_Julio_Cortazar\n",
            "cant sent: 910 Obra_critica_I_-_Julio_Cortazar\n",
            "cant sent: 1472 Nicaragua-tan-violentamente-dulce-Julio-Cortazar\n",
            "cant sent: 2584 _Modelo_para_armar_-_Julio_Cortazar\n",
            "cant sent: 3042 Pasajes_-_Julio_Cortazar\n",
            "cant sent: 788 Un_tal_Lucas_-_Julio_Cortazar\n",
            "cant sent: 162 Silvalandia_-_Julio_Cortazar\n",
            "cant sent: 12746 Cartas_1955-1964_-_Julio_Cortazar\n",
            "cant sent: 8700 Los-premios-Julio-Cortazar\n",
            "cant sent: 3665 Obra_critica_II_-_Julio_Cortazar\n",
            "cant sent: 935 Octaedro_-_Julio_Cortazar\n",
            "cant sent: 2328 Juegos-Julio-Cortazar\n",
            "cant sent: 1187 Deshoras_-_Julio_Cortazar\n",
            "cant sent: 950 mbradas_culturales_-_Julio_Cortazar\n",
            "cant sent: 1057 mos_tanto_a_Glenda_-_Julio_Cortazar\n",
            "cant sent: 1643 os_fuegos_el_fuego_-_Julio_Cortazar\n",
            "cant sent: 2679 ases_de_literatura_-_Julio_Cortazar\n",
            "cant sent: 2161 Obra_critica_III_-_Julio_Cortazar\n",
            "cant sent: 1628 n_que_anda_por_ahi_-_Julio_Cortazar\n",
            "cant sent: 2322 Las-armas-secretas-Julio-Cortazar\n",
            "cant sent: 1564 La-otra-orilla-Julio-Cortazar\n",
            "cant sent: 11572 Cartas_1937-1954_-_Julio_Cortazar\n",
            "cant sent: 2711 Los-autonautas-de-la-cosmopista-Julio-Cortazar\n",
            "cant sent: 547 Los-reyes-Julio-Cortazar\n",
            "cant sent: 4446 or_y_otros_relatos_-_Julio_Cortazar\n",
            "cant sent: 1750 rnarda_Alba_-_Federico_Garcia_Lorca\n",
            "cant sent: 738 El_lindo_don_Diego_-_Agustin_Moreto\n",
            "cant sent: 3463 La_fiebre_de_junio_-_Alfonso_Paso\n",
            "cant sent: 2899 s_siete_balcones_-_Alejandro_Casona\n",
            "cant sent: 2884 l_final_de_la_cuerda_-_Alfonso_Paso\n",
            "cant sent: 2276 Atrapar_a_un_asesino_-_Alfonso_Paso\n",
            "cant sent: 2222 La_bombilla_que_flota_-_Woody_Allen\n",
            "cant sent: 928 nguno_-_Francisco_de_Rojas_Zorrilla\n",
            "cant sent: 7161 ompa_y_circunstancias_-_Noel_Coward\n",
            "cant sent: 1216 sne_de_Lohengrin_-_Miguel_Echegaray\n",
            "cant sent: 1388 La_gran_moral_-_Aristoteles\n",
            "cant sent: 7389 lo_Zaratustra_-_Friedrich_Nietzsche\n",
            "cant sent: 555 e_los_griegos_-_Friedrich_Nietzsche\n",
            "cant sent: 3664 l_miedo_a_la_libertad_-_Erich_Fromm\n",
            "cant sent: 1574 as_bellas_artes_-_Daniel_Innerarity\n",
            "cant sent: 1016 La_mano_invisible_-_Adam_Smith\n",
            "cant sent: 1267 ogia_del_sofista_-_Fernando_Savater\n",
            "cant sent: 2201 o_en_un_solo_atomo_-_Dalai_Lama_XIV\n",
            "cant sent: 1713 tica_de_urgencia_-_Fernando_Savater\n",
            "cant sent: 1080 idad_e_individuo_-_Bertrand_Russell\n",
            "cant sent: 2004 ente_de_haber_nacido_-_E._M._Cioran\n",
            "cant sent: 1441 a_caida_en_el_tiempo_-_E._M._Cioran\n",
            "cant sent: 4064 ielo_-_Meteorologicos_-_Aristoteles\n",
            "cant sent: 1674 Acerca_del_alma_-_Aristoteles\n",
            "cant sent: 970 El_Anticristo_-_Friedrich_Nietzsche\n",
            "cant sent: 2910 l_budismo_-_Ernest_Yassine_Bendriss\n"
          ],
          "name": "stdout"
        }
      ]
    },
    {
      "cell_type": "code",
      "metadata": {
        "colab": {
          "base_uri": "https://localhost:8080/",
          "height": 419
        },
        "id": "vW9qzAQMrBSL",
        "outputId": "af30668b-fca0-4367-b503-40b0d71303e7"
      },
      "source": [
        "df_book_lines = pd.DataFrame.from_dict(dict_book_final, \"index\")\r\n",
        "display(df_book_lines)"
      ],
      "execution_count": 106,
      "outputs": [
        {
          "output_type": "display_data",
          "data": {
            "text/html": [
              "<div>\n",
              "<style scoped>\n",
              "    .dataframe tbody tr th:only-of-type {\n",
              "        vertical-align: middle;\n",
              "    }\n",
              "\n",
              "    .dataframe tbody tr th {\n",
              "        vertical-align: top;\n",
              "    }\n",
              "\n",
              "    .dataframe thead th {\n",
              "        text-align: right;\n",
              "    }\n",
              "</style>\n",
              "<table border=\"1\" class=\"dataframe\">\n",
              "  <thead>\n",
              "    <tr style=\"text-align: right;\">\n",
              "      <th></th>\n",
              "      <th>line</th>\n",
              "      <th>len</th>\n",
              "      <th>book</th>\n",
              "      <th>genre</th>\n",
              "      <th>category</th>\n",
              "    </tr>\n",
              "  </thead>\n",
              "  <tbody>\n",
              "    <tr>\n",
              "      <th>0</th>\n",
              "      <td>EL CEMENTERIO DE LOS VERSOS PERDIDOS</td>\n",
              "      <td>36</td>\n",
              "      <td>_versos_perdidos_-_Txus_di_Fellatio</td>\n",
              "      <td>poesía</td>\n",
              "      <td>Book</td>\n",
              "    </tr>\n",
              "    <tr>\n",
              "      <th>1</th>\n",
              "      <td>obra del Príncipe de la Dulce Pena</td>\n",
              "      <td>35</td>\n",
              "      <td>_versos_perdidos_-_Txus_di_Fellatio</td>\n",
              "      <td>poesía</td>\n",
              "      <td>Book</td>\n",
              "    </tr>\n",
              "    <tr>\n",
              "      <th>2</th>\n",
              "      <td>más conocido por todos como Txus di Fellatio</td>\n",
              "      <td>45</td>\n",
              "      <td>_versos_perdidos_-_Txus_di_Fellatio</td>\n",
              "      <td>poesía</td>\n",
              "      <td>Book</td>\n",
              "    </tr>\n",
              "    <tr>\n",
              "      <th>3</th>\n",
              "      <td>y un disco de diamante por la venta de un mil...</td>\n",
              "      <td>63</td>\n",
              "      <td>_versos_perdidos_-_Txus_di_Fellatio</td>\n",
              "      <td>poesía</td>\n",
              "      <td>Book</td>\n",
              "    </tr>\n",
              "    <tr>\n",
              "      <th>4</th>\n",
              "      <td>son el testimonio de la historia viva que est...</td>\n",
              "      <td>67</td>\n",
              "      <td>_versos_perdidos_-_Txus_di_Fellatio</td>\n",
              "      <td>poesía</td>\n",
              "      <td>Book</td>\n",
              "    </tr>\n",
              "    <tr>\n",
              "      <th>...</th>\n",
              "      <td>...</td>\n",
              "      <td>...</td>\n",
              "      <td>...</td>\n",
              "      <td>...</td>\n",
              "      <td>...</td>\n",
              "    </tr>\n",
              "    <tr>\n",
              "      <th>181355</th>\n",
              "      <td>Madrid: Editorial Losada, 2006.</td>\n",
              "      <td>31</td>\n",
              "      <td>l_budismo_-_Ernest_Yassine_Bendriss</td>\n",
              "      <td>filosofia</td>\n",
              "      <td>Book</td>\n",
              "    </tr>\n",
              "    <tr>\n",
              "      <th>181356</th>\n",
              "      <td>Barcelona: Editorial Kairós, 2003.</td>\n",
              "      <td>34</td>\n",
              "      <td>l_budismo_-_Ernest_Yassine_Bendriss</td>\n",
              "      <td>filosofia</td>\n",
              "      <td>Book</td>\n",
              "    </tr>\n",
              "    <tr>\n",
              "      <th>181357</th>\n",
              "      <td>TOLA, Fernando; DRAGONETTI, Carmen.</td>\n",
              "      <td>35</td>\n",
              "      <td>l_budismo_-_Ernest_Yassine_Bendriss</td>\n",
              "      <td>filosofia</td>\n",
              "      <td>Book</td>\n",
              "    </tr>\n",
              "    <tr>\n",
              "      <th>181358</th>\n",
              "      <td>Le mythe de la liberté et la voie de la médita...</td>\n",
              "      <td>51</td>\n",
              "      <td>l_budismo_-_Ernest_Yassine_Bendriss</td>\n",
              "      <td>filosofia</td>\n",
              "      <td>Book</td>\n",
              "    </tr>\n",
              "    <tr>\n",
              "      <th>181359</th>\n",
              "      <td>Barcelona: Ediciones Edhasa, 2003.</td>\n",
              "      <td>34</td>\n",
              "      <td>l_budismo_-_Ernest_Yassine_Bendriss</td>\n",
              "      <td>filosofia</td>\n",
              "      <td>Book</td>\n",
              "    </tr>\n",
              "  </tbody>\n",
              "</table>\n",
              "<p>181360 rows × 5 columns</p>\n",
              "</div>"
            ],
            "text/plain": [
              "                                                     line  ...  category\n",
              "0                    EL CEMENTERIO DE LOS VERSOS PERDIDOS  ...      Book\n",
              "1                      obra del Príncipe de la Dulce Pena  ...      Book\n",
              "2            más conocido por todos como Txus di Fellatio  ...      Book\n",
              "3        y un disco de diamante por la venta de un mil...  ...      Book\n",
              "4        son el testimonio de la historia viva que est...  ...      Book\n",
              "...                                                   ...  ...       ...\n",
              "181355                    Madrid: Editorial Losada, 2006.  ...      Book\n",
              "181356                 Barcelona: Editorial Kairós, 2003.  ...      Book\n",
              "181357                TOLA, Fernando; DRAGONETTI, Carmen.  ...      Book\n",
              "181358  Le mythe de la liberté et la voie de la médita...  ...      Book\n",
              "181359                 Barcelona: Ediciones Edhasa, 2003.  ...      Book\n",
              "\n",
              "[181360 rows x 5 columns]"
            ]
          },
          "metadata": {
            "tags": []
          }
        }
      ]
    },
    {
      "cell_type": "code",
      "metadata": {
        "id": "26ozyMV5vRP9"
      },
      "source": [
        "def preprocess_sentence(sentence):\r\n",
        "  sentence = sentence.strip()\r\n",
        "  # vamos a crear espacios entre las frases y los puntos:\r\n",
        "  # ej: \"he is a boy.\" => \"he is a boy .\"\r\n",
        "  sentence = re.sub(r\"([?.!,:])\", r\" \\1 \", sentence)\r\n",
        "  sentence = re.sub(r'[\" \"]+', \" \", sentence)\r\n",
        "  sentence = re.sub(r'[A-Z]{2,20}', \" \", sentence)\r\n",
        "  sentence = sentence.strip()\r\n",
        "  return sentence"
      ],
      "execution_count": 114,
      "outputs": []
    },
    {
      "cell_type": "code",
      "metadata": {
        "id": "f88LxhTxvzBV"
      },
      "source": [
        "df_book_lines.iloc[:,0] = df_book_lines.iloc[:,0].apply(preprocess_sentence)"
      ],
      "execution_count": 115,
      "outputs": []
    },
    {
      "cell_type": "code",
      "metadata": {
        "colab": {
          "base_uri": "https://localhost:8080/",
          "height": 419
        },
        "id": "NV9U-H5RwJDs",
        "outputId": "38dd4ece-23b5-4f95-fa42-0e06fcd4817b"
      },
      "source": [
        "df_book_lines"
      ],
      "execution_count": 116,
      "outputs": [
        {
          "output_type": "execute_result",
          "data": {
            "text/html": [
              "<div>\n",
              "<style scoped>\n",
              "    .dataframe tbody tr th:only-of-type {\n",
              "        vertical-align: middle;\n",
              "    }\n",
              "\n",
              "    .dataframe tbody tr th {\n",
              "        vertical-align: top;\n",
              "    }\n",
              "\n",
              "    .dataframe thead th {\n",
              "        text-align: right;\n",
              "    }\n",
              "</style>\n",
              "<table border=\"1\" class=\"dataframe\">\n",
              "  <thead>\n",
              "    <tr style=\"text-align: right;\">\n",
              "      <th></th>\n",
              "      <th>line</th>\n",
              "      <th>len</th>\n",
              "      <th>book</th>\n",
              "      <th>genre</th>\n",
              "      <th>category</th>\n",
              "    </tr>\n",
              "  </thead>\n",
              "  <tbody>\n",
              "    <tr>\n",
              "      <th>0</th>\n",
              "      <td></td>\n",
              "      <td>36</td>\n",
              "      <td>_versos_perdidos_-_Txus_di_Fellatio</td>\n",
              "      <td>poesía</td>\n",
              "      <td>Book</td>\n",
              "    </tr>\n",
              "    <tr>\n",
              "      <th>1</th>\n",
              "      <td>obra del Príncipe de la Dulce Pena</td>\n",
              "      <td>35</td>\n",
              "      <td>_versos_perdidos_-_Txus_di_Fellatio</td>\n",
              "      <td>poesía</td>\n",
              "      <td>Book</td>\n",
              "    </tr>\n",
              "    <tr>\n",
              "      <th>2</th>\n",
              "      <td>más conocido por todos como Txus di Fellatio</td>\n",
              "      <td>45</td>\n",
              "      <td>_versos_perdidos_-_Txus_di_Fellatio</td>\n",
              "      <td>poesía</td>\n",
              "      <td>Book</td>\n",
              "    </tr>\n",
              "    <tr>\n",
              "      <th>3</th>\n",
              "      <td>y un disco de diamante por la venta de un mill...</td>\n",
              "      <td>63</td>\n",
              "      <td>_versos_perdidos_-_Txus_di_Fellatio</td>\n",
              "      <td>poesía</td>\n",
              "      <td>Book</td>\n",
              "    </tr>\n",
              "    <tr>\n",
              "      <th>4</th>\n",
              "      <td>son el testimonio de la historia viva que está...</td>\n",
              "      <td>67</td>\n",
              "      <td>_versos_perdidos_-_Txus_di_Fellatio</td>\n",
              "      <td>poesía</td>\n",
              "      <td>Book</td>\n",
              "    </tr>\n",
              "    <tr>\n",
              "      <th>...</th>\n",
              "      <td>...</td>\n",
              "      <td>...</td>\n",
              "      <td>...</td>\n",
              "      <td>...</td>\n",
              "      <td>...</td>\n",
              "    </tr>\n",
              "    <tr>\n",
              "      <th>181355</th>\n",
              "      <td>Madrid : Editorial Losada , 2006 .</td>\n",
              "      <td>31</td>\n",
              "      <td>l_budismo_-_Ernest_Yassine_Bendriss</td>\n",
              "      <td>filosofia</td>\n",
              "      <td>Book</td>\n",
              "    </tr>\n",
              "    <tr>\n",
              "      <th>181356</th>\n",
              "      <td>Barcelona : Editorial Kairós , 2003 .</td>\n",
              "      <td>34</td>\n",
              "      <td>l_budismo_-_Ernest_Yassine_Bendriss</td>\n",
              "      <td>filosofia</td>\n",
              "      <td>Book</td>\n",
              "    </tr>\n",
              "    <tr>\n",
              "      <th>181357</th>\n",
              "      <td>, Fernando;   , Carmen .</td>\n",
              "      <td>35</td>\n",
              "      <td>l_budismo_-_Ernest_Yassine_Bendriss</td>\n",
              "      <td>filosofia</td>\n",
              "      <td>Book</td>\n",
              "    </tr>\n",
              "    <tr>\n",
              "      <th>181358</th>\n",
              "      <td>Le mythe de la liberté et la voie de la médita...</td>\n",
              "      <td>51</td>\n",
              "      <td>l_budismo_-_Ernest_Yassine_Bendriss</td>\n",
              "      <td>filosofia</td>\n",
              "      <td>Book</td>\n",
              "    </tr>\n",
              "    <tr>\n",
              "      <th>181359</th>\n",
              "      <td>Barcelona : Ediciones Edhasa , 2003 .</td>\n",
              "      <td>34</td>\n",
              "      <td>l_budismo_-_Ernest_Yassine_Bendriss</td>\n",
              "      <td>filosofia</td>\n",
              "      <td>Book</td>\n",
              "    </tr>\n",
              "  </tbody>\n",
              "</table>\n",
              "<p>181360 rows × 5 columns</p>\n",
              "</div>"
            ],
            "text/plain": [
              "                                                     line  ...  category\n",
              "0                                                          ...      Book\n",
              "1                      obra del Príncipe de la Dulce Pena  ...      Book\n",
              "2            más conocido por todos como Txus di Fellatio  ...      Book\n",
              "3       y un disco de diamante por la venta de un mill...  ...      Book\n",
              "4       son el testimonio de la historia viva que está...  ...      Book\n",
              "...                                                   ...  ...       ...\n",
              "181355                 Madrid : Editorial Losada , 2006 .  ...      Book\n",
              "181356              Barcelona : Editorial Kairós , 2003 .  ...      Book\n",
              "181357                           , Fernando;   , Carmen .  ...      Book\n",
              "181358  Le mythe de la liberté et la voie de la médita...  ...      Book\n",
              "181359              Barcelona : Ediciones Edhasa , 2003 .  ...      Book\n",
              "\n",
              "[181360 rows x 5 columns]"
            ]
          },
          "metadata": {
            "tags": []
          },
          "execution_count": 116
        }
      ]
    },
    {
      "cell_type": "code",
      "metadata": {
        "colab": {
          "base_uri": "https://localhost:8080/"
        },
        "id": "YORmaCABZ9vE",
        "outputId": "432a2e52-ce20-4513-ff28-20bb38a7f716"
      },
      "source": [
        "from IPython.display import clear_output\r\n",
        "list_new_rows = [] \r\n",
        "for index, row in df_book_lines.iterrows():\r\n",
        "  new_row = row['line']\r\n",
        "  for word in row['line'].split(' '):\r\n",
        "    if word in list_names:\r\n",
        "      new_row = row['line'].replace(word, '@name')\r\n",
        "    if word in [':','[',']','&','%']:\r\n",
        "      new_row = row['line'] = '[DELETE]'\r\n",
        "\r\n",
        "  clear_output(wait=True)\r\n",
        "  print(index)   \r\n",
        "  list_new_rows.append(new_row)"
      ],
      "execution_count": 119,
      "outputs": [
        {
          "output_type": "stream",
          "text": [
            "181359\n"
          ],
          "name": "stdout"
        }
      ]
    },
    {
      "cell_type": "code",
      "metadata": {
        "id": "o0ibh4v34e_X"
      },
      "source": [
        "df_book_lines.iloc[:,0] = list_new_rows"
      ],
      "execution_count": 120,
      "outputs": []
    },
    {
      "cell_type": "code",
      "metadata": {
        "colab": {
          "base_uri": "https://localhost:8080/",
          "height": 419
        },
        "id": "oDPp232x4zEG",
        "outputId": "a6ac2699-3d9c-4b3b-91b1-8275b7bd5215"
      },
      "source": [
        "df_book_lines"
      ],
      "execution_count": 121,
      "outputs": [
        {
          "output_type": "execute_result",
          "data": {
            "text/html": [
              "<div>\n",
              "<style scoped>\n",
              "    .dataframe tbody tr th:only-of-type {\n",
              "        vertical-align: middle;\n",
              "    }\n",
              "\n",
              "    .dataframe tbody tr th {\n",
              "        vertical-align: top;\n",
              "    }\n",
              "\n",
              "    .dataframe thead th {\n",
              "        text-align: right;\n",
              "    }\n",
              "</style>\n",
              "<table border=\"1\" class=\"dataframe\">\n",
              "  <thead>\n",
              "    <tr style=\"text-align: right;\">\n",
              "      <th></th>\n",
              "      <th>line</th>\n",
              "      <th>len</th>\n",
              "      <th>book</th>\n",
              "      <th>genre</th>\n",
              "      <th>category</th>\n",
              "    </tr>\n",
              "  </thead>\n",
              "  <tbody>\n",
              "    <tr>\n",
              "      <th>0</th>\n",
              "      <td></td>\n",
              "      <td>36</td>\n",
              "      <td>_versos_perdidos_-_Txus_di_Fellatio</td>\n",
              "      <td>poesía</td>\n",
              "      <td>Book</td>\n",
              "    </tr>\n",
              "    <tr>\n",
              "      <th>1</th>\n",
              "      <td>obra del Príncipe de la Dulce @name</td>\n",
              "      <td>35</td>\n",
              "      <td>_versos_perdidos_-_Txus_di_Fellatio</td>\n",
              "      <td>poesía</td>\n",
              "      <td>Book</td>\n",
              "    </tr>\n",
              "    <tr>\n",
              "      <th>2</th>\n",
              "      <td>más conocido por todos como Txus di Fellatio</td>\n",
              "      <td>45</td>\n",
              "      <td>_versos_perdidos_-_Txus_di_Fellatio</td>\n",
              "      <td>poesía</td>\n",
              "      <td>Book</td>\n",
              "    </tr>\n",
              "    <tr>\n",
              "      <th>3</th>\n",
              "      <td>y un disco de diamante por la venta de un mill...</td>\n",
              "      <td>63</td>\n",
              "      <td>_versos_perdidos_-_Txus_di_Fellatio</td>\n",
              "      <td>poesía</td>\n",
              "      <td>Book</td>\n",
              "    </tr>\n",
              "    <tr>\n",
              "      <th>4</th>\n",
              "      <td>son el testimonio de la historia viva que está...</td>\n",
              "      <td>67</td>\n",
              "      <td>_versos_perdidos_-_Txus_di_Fellatio</td>\n",
              "      <td>poesía</td>\n",
              "      <td>Book</td>\n",
              "    </tr>\n",
              "    <tr>\n",
              "      <th>...</th>\n",
              "      <td>...</td>\n",
              "      <td>...</td>\n",
              "      <td>...</td>\n",
              "      <td>...</td>\n",
              "      <td>...</td>\n",
              "    </tr>\n",
              "    <tr>\n",
              "      <th>181355</th>\n",
              "      <td>[DELETE]</td>\n",
              "      <td>31</td>\n",
              "      <td>l_budismo_-_Ernest_Yassine_Bendriss</td>\n",
              "      <td>filosofia</td>\n",
              "      <td>Book</td>\n",
              "    </tr>\n",
              "    <tr>\n",
              "      <th>181356</th>\n",
              "      <td>[DELETE]</td>\n",
              "      <td>34</td>\n",
              "      <td>l_budismo_-_Ernest_Yassine_Bendriss</td>\n",
              "      <td>filosofia</td>\n",
              "      <td>Book</td>\n",
              "    </tr>\n",
              "    <tr>\n",
              "      <th>181357</th>\n",
              "      <td>, Fernando;   , Carmen .</td>\n",
              "      <td>35</td>\n",
              "      <td>l_budismo_-_Ernest_Yassine_Bendriss</td>\n",
              "      <td>filosofia</td>\n",
              "      <td>Book</td>\n",
              "    </tr>\n",
              "    <tr>\n",
              "      <th>181358</th>\n",
              "      <td>@name mythe de la liberté et la voie de la méd...</td>\n",
              "      <td>51</td>\n",
              "      <td>l_budismo_-_Ernest_Yassine_Bendriss</td>\n",
              "      <td>filosofia</td>\n",
              "      <td>Book</td>\n",
              "    </tr>\n",
              "    <tr>\n",
              "      <th>181359</th>\n",
              "      <td>[DELETE]</td>\n",
              "      <td>34</td>\n",
              "      <td>l_budismo_-_Ernest_Yassine_Bendriss</td>\n",
              "      <td>filosofia</td>\n",
              "      <td>Book</td>\n",
              "    </tr>\n",
              "  </tbody>\n",
              "</table>\n",
              "<p>181360 rows × 5 columns</p>\n",
              "</div>"
            ],
            "text/plain": [
              "                                                     line  ...  category\n",
              "0                                                          ...      Book\n",
              "1                     obra del Príncipe de la Dulce @name  ...      Book\n",
              "2            más conocido por todos como Txus di Fellatio  ...      Book\n",
              "3       y un disco de diamante por la venta de un mill...  ...      Book\n",
              "4       son el testimonio de la historia viva que está...  ...      Book\n",
              "...                                                   ...  ...       ...\n",
              "181355                                           [DELETE]  ...      Book\n",
              "181356                                           [DELETE]  ...      Book\n",
              "181357                           , Fernando;   , Carmen .  ...      Book\n",
              "181358  @name mythe de la liberté et la voie de la méd...  ...      Book\n",
              "181359                                           [DELETE]  ...      Book\n",
              "\n",
              "[181360 rows x 5 columns]"
            ]
          },
          "metadata": {
            "tags": []
          },
          "execution_count": 121
        }
      ]
    },
    {
      "cell_type": "code",
      "metadata": {
        "colab": {
          "base_uri": "https://localhost:8080/"
        },
        "id": "wQcaZCI_Ww-h",
        "outputId": "b6a15c42-074a-4450-8771-01fcc7c5e615"
      },
      "source": [
        "borrar = df_book_lines.line.value_counts().head(6).index.tolist()\r\n",
        "borrar"
      ],
      "execution_count": 142,
      "outputs": [
        {
          "output_type": "execute_result",
          "data": {
            "text/plain": [
              "['[DELETE]',\n",
              " '',\n",
              " 'Versión de @name Martínez Montávez',\n",
              " '@name Canciones de Mihyar el de Damasco 1961',\n",
              " 'A    È  Y  ÍA',\n",
              " 'Y']"
            ]
          },
          "metadata": {
            "tags": []
          },
          "execution_count": 142
        }
      ]
    },
    {
      "cell_type": "code",
      "metadata": {
        "colab": {
          "base_uri": "https://localhost:8080/"
        },
        "id": "8jmx1YJYYrNq",
        "outputId": "eb3186c4-2b88-48c7-fe4b-0157d04def9c"
      },
      "source": [
        "mask_del = df_book_lines.line.apply(lambda x: True if x in borrar else False) \r\n",
        "df_book_lines[mask_del]"
      ],
      "execution_count": 153,
      "outputs": [
        {
          "output_type": "execute_result",
          "data": {
            "text/plain": [
              "Int64Index([     0,     11,     12,     13,     19,     37,     40,     67,\n",
              "               123,    142,\n",
              "            ...\n",
              "            181343, 181344, 181346, 181347, 181349, 181351, 181354, 181355,\n",
              "            181356, 181359],\n",
              "           dtype='int64', length=9830)"
            ]
          },
          "metadata": {
            "tags": []
          },
          "execution_count": 153
        }
      ]
    },
    {
      "cell_type": "code",
      "metadata": {
        "id": "8prSvPXhXXeq"
      },
      "source": [
        "df_book_lines.drop(df_book_lines[mask].index, inplace=True)"
      ],
      "execution_count": 155,
      "outputs": []
    },
    {
      "cell_type": "code",
      "metadata": {
        "colab": {
          "base_uri": "https://localhost:8080/"
        },
        "id": "cwUNKYRiaQdC",
        "outputId": "9b29f133-0ebd-464f-f84d-892d78ce4466"
      },
      "source": [
        "df_book_lines.drop_duplicates(inplace=True)\r\n",
        "df_book_lines.shape[0]"
      ],
      "execution_count": 156,
      "outputs": [
        {
          "output_type": "execute_result",
          "data": {
            "text/plain": [
              "170981"
            ]
          },
          "metadata": {
            "tags": []
          },
          "execution_count": 156
        }
      ]
    },
    {
      "cell_type": "code",
      "metadata": {
        "id": "e4GcMa6TaaER"
      },
      "source": [
        "df_book_lines.len = df_book_lines.line.apply(lambda x : len(x))"
      ],
      "execution_count": 160,
      "outputs": []
    },
    {
      "cell_type": "code",
      "metadata": {
        "colab": {
          "base_uri": "https://localhost:8080/"
        },
        "id": "qmLAjBZmfUjH",
        "outputId": "098d48c3-1598-4892-afde-9d60aaddc574"
      },
      "source": [
        "mask_largo = df_book_lines.len < 35\r\n",
        "print(mask_largo.sum())"
      ],
      "execution_count": 165,
      "outputs": [
        {
          "output_type": "stream",
          "text": [
            "15802\n"
          ],
          "name": "stdout"
        }
      ]
    },
    {
      "cell_type": "code",
      "metadata": {
        "colab": {
          "base_uri": "https://localhost:8080/"
        },
        "id": "Rb5Tuo_UfxNr",
        "outputId": "a105aa65-ca76-4c93-bd20-7551581a1754"
      },
      "source": [
        "df_book_lines.drop(df_book_lines[mask_largo].index, inplace=True)\r\n",
        "df_book_lines.shape[0]"
      ],
      "execution_count": 166,
      "outputs": [
        {
          "output_type": "execute_result",
          "data": {
            "text/plain": [
              "155179"
            ]
          },
          "metadata": {
            "tags": []
          },
          "execution_count": 166
        }
      ]
    },
    {
      "cell_type": "code",
      "metadata": {
        "colab": {
          "base_uri": "https://localhost:8080/",
          "height": 514
        },
        "id": "nvZLIGCof6di",
        "outputId": "6a9e3013-827e-4891-e2a0-7d3409424226"
      },
      "source": [
        "df_book_lines.sample(15)"
      ],
      "execution_count": 168,
      "outputs": [
        {
          "output_type": "execute_result",
          "data": {
            "text/html": [
              "<div>\n",
              "<style scoped>\n",
              "    .dataframe tbody tr th:only-of-type {\n",
              "        vertical-align: middle;\n",
              "    }\n",
              "\n",
              "    .dataframe tbody tr th {\n",
              "        vertical-align: top;\n",
              "    }\n",
              "\n",
              "    .dataframe thead th {\n",
              "        text-align: right;\n",
              "    }\n",
              "</style>\n",
              "<table border=\"1\" class=\"dataframe\">\n",
              "  <thead>\n",
              "    <tr style=\"text-align: right;\">\n",
              "      <th></th>\n",
              "      <th>line</th>\n",
              "      <th>len</th>\n",
              "      <th>book</th>\n",
              "      <th>genre</th>\n",
              "      <th>category</th>\n",
              "    </tr>\n",
              "  </thead>\n",
              "  <tbody>\n",
              "    <tr>\n",
              "      <th>156067</th>\n",
              "      <td>Tomemos como ejemplo la inmoralidad erótica</td>\n",
              "      <td>43</td>\n",
              "      <td>ogia_del_sofista_-_Fernando_Savater</td>\n",
              "      <td>filosofia</td>\n",
              "      <td>Book</td>\n",
              "    </tr>\n",
              "    <tr>\n",
              "      <th>58951</th>\n",
              "      <td>pero eso no impedirá en absoluto que nos veamo...</td>\n",
              "      <td>75</td>\n",
              "      <td>Cartas_1955-1964_-_Julio_Cortazar</td>\n",
              "      <td>cortazar</td>\n",
              "      <td>Book</td>\n",
              "    </tr>\n",
              "    <tr>\n",
              "      <th>66756</th>\n",
              "      <td>la silla y él mismo asumían proporciones inqui...</td>\n",
              "      <td>55</td>\n",
              "      <td>Los-premios-Julio-Cortazar</td>\n",
              "      <td>cortazar</td>\n",
              "      <td>Book</td>\n",
              "    </tr>\n",
              "    <tr>\n",
              "      <th>91073</th>\n",
              "      <td>lo que luego se sabría a la luz de la autocrít...</td>\n",
              "      <td>62</td>\n",
              "      <td>Obra_critica_III_-_Julio_Cortazar</td>\n",
              "      <td>cortazar</td>\n",
              "      <td>Book</td>\n",
              "    </tr>\n",
              "    <tr>\n",
              "      <th>110646</th>\n",
              "      <td>@name y yo entramos en la Unesco hace dos días...</td>\n",
              "      <td>86</td>\n",
              "      <td>Cartas_1937-1954_-_Julio_Cortazar</td>\n",
              "      <td>cortazar</td>\n",
              "      <td>Book</td>\n",
              "    </tr>\n",
              "    <tr>\n",
              "      <th>100782</th>\n",
              "      <td>Tonto de mí , que pensé líricamente en la posi...</td>\n",
              "      <td>114</td>\n",
              "      <td>Cartas_1937-1954_-_Julio_Cortazar</td>\n",
              "      <td>cortazar</td>\n",
              "      <td>Book</td>\n",
              "    </tr>\n",
              "    <tr>\n",
              "      <th>174521</th>\n",
              "      <td>A continuación se emprende el estudio del ente...</td>\n",
              "      <td>84</td>\n",
              "      <td>Acerca_del_alma_-_Aristoteles</td>\n",
              "      <td>filosofia</td>\n",
              "      <td>Book</td>\n",
              "    </tr>\n",
              "    <tr>\n",
              "      <th>5407</th>\n",
              "      <td>Minha idéia de ti é um cadáver que o mar traz ...</td>\n",
              "      <td>71</td>\n",
              "      <td>Poemas_-_Fernando_Pessoa</td>\n",
              "      <td>poesía</td>\n",
              "      <td>Book</td>\n",
              "    </tr>\n",
              "    <tr>\n",
              "      <th>90918</th>\n",
              "      <td>@name margen de la circunstancia local</td>\n",
              "      <td>38</td>\n",
              "      <td>Obra_critica_III_-_Julio_Cortazar</td>\n",
              "      <td>cortazar</td>\n",
              "      <td>Book</td>\n",
              "    </tr>\n",
              "    <tr>\n",
              "      <th>67371</th>\n",
              "      <td>—¿Usted se va a hacer cortar el pelo ?</td>\n",
              "      <td>38</td>\n",
              "      <td>Los-premios-Julio-Cortazar</td>\n",
              "      <td>cortazar</td>\n",
              "      <td>Book</td>\n",
              "    </tr>\n",
              "    <tr>\n",
              "      <th>76099</th>\n",
              "      <td>como un futuro que cuaja en presente</td>\n",
              "      <td>36</td>\n",
              "      <td>Octaedro_-_Julio_Cortazar</td>\n",
              "      <td>cortazar</td>\n",
              "      <td>Book</td>\n",
              "    </tr>\n",
              "    <tr>\n",
              "      <th>32769</th>\n",
              "      <td>—Justamente es lo que quería decir cuando escr...</td>\n",
              "      <td>76</td>\n",
              "      <td>on_y_otros_relatos_-_Julio_Cortazar</td>\n",
              "      <td>cortazar</td>\n",
              "      <td>Book</td>\n",
              "    </tr>\n",
              "    <tr>\n",
              "      <th>48258</th>\n",
              "      <td>probablemente algún ladrido de perro o zumbido...</td>\n",
              "      <td>62</td>\n",
              "      <td>Un_tal_Lucas_-_Julio_Cortazar</td>\n",
              "      <td>cortazar</td>\n",
              "      <td>Book</td>\n",
              "    </tr>\n",
              "    <tr>\n",
              "      <th>134009</th>\n",
              "      <td>y deseando con creciente exasperación</td>\n",
              "      <td>37</td>\n",
              "      <td>ompa_y_circunstancias_-_Noel_Coward</td>\n",
              "      <td>teatro</td>\n",
              "      <td>Book</td>\n",
              "    </tr>\n",
              "    <tr>\n",
              "      <th>41691</th>\n",
              "      <td>@name nunca me regaló nada , ni yo a ella .</td>\n",
              "      <td>43</td>\n",
              "      <td>_Modelo_para_armar_-_Julio_Cortazar</td>\n",
              "      <td>cortazar</td>\n",
              "      <td>Book</td>\n",
              "    </tr>\n",
              "  </tbody>\n",
              "</table>\n",
              "</div>"
            ],
            "text/plain": [
              "                                                     line  ...  category\n",
              "156067        Tomemos como ejemplo la inmoralidad erótica  ...      Book\n",
              "58951   pero eso no impedirá en absoluto que nos veamo...  ...      Book\n",
              "66756   la silla y él mismo asumían proporciones inqui...  ...      Book\n",
              "91073   lo que luego se sabría a la luz de la autocrít...  ...      Book\n",
              "110646  @name y yo entramos en la Unesco hace dos días...  ...      Book\n",
              "100782  Tonto de mí , que pensé líricamente en la posi...  ...      Book\n",
              "174521  A continuación se emprende el estudio del ente...  ...      Book\n",
              "5407    Minha idéia de ti é um cadáver que o mar traz ...  ...      Book\n",
              "90918              @name margen de la circunstancia local  ...      Book\n",
              "67371              —¿Usted se va a hacer cortar el pelo ?  ...      Book\n",
              "76099                como un futuro que cuaja en presente  ...      Book\n",
              "32769   —Justamente es lo que quería decir cuando escr...  ...      Book\n",
              "48258   probablemente algún ladrido de perro o zumbido...  ...      Book\n",
              "134009              y deseando con creciente exasperación  ...      Book\n",
              "41691         @name nunca me regaló nada , ni yo a ella .  ...      Book\n",
              "\n",
              "[15 rows x 5 columns]"
            ]
          },
          "metadata": {
            "tags": []
          },
          "execution_count": 168
        }
      ]
    },
    {
      "cell_type": "code",
      "metadata": {
        "id": "H2rvUUwKH4OY"
      },
      "source": [
        "df_book_lines.to_csv('/content/drive/My Drive/Colab Notebooks/desafio final/train_corpus_v2.csv')"
      ],
      "execution_count": 169,
      "outputs": []
    }
  ]
}