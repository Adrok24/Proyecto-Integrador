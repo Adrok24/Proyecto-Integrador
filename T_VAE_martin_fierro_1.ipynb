{
  "nbformat": 4,
  "nbformat_minor": 0,
  "metadata": {
    "accelerator": "GPU",
    "colab": {
      "name": "T_VAE_martin_fierro_1.ipynb",
      "provenance": [],
      "collapsed_sections": [],
      "toc_visible": true,
      "machine_shape": "hm",
      "include_colab_link": true
    },
    "kernelspec": {
      "display_name": "Python 3",
      "language": "python",
      "name": "python3"
    },
    "language_info": {
      "codemirror_mode": {
        "name": "ipython",
        "version": 3
      },
      "file_extension": ".py",
      "mimetype": "text/x-python",
      "name": "python",
      "nbconvert_exporter": "python",
      "pygments_lexer": "ipython3",
      "version": "3.7.9"
    }
  },
  "cells": [
    {
      "cell_type": "markdown",
      "metadata": {
        "id": "view-in-github",
        "colab_type": "text"
      },
      "source": [
        "<a href=\"https://colab.research.google.com/github/Adrok24/Proyecto-Integrador/blob/main/T_VAE_martin_fierro_1.ipynb\" target=\"_parent\"><img src=\"https://colab.research.google.com/assets/colab-badge.svg\" alt=\"Open In Colab\"/></a>"
      ]
    },
    {
      "cell_type": "code",
      "metadata": {
        "colab": {
          "base_uri": "https://localhost:8080/"
        },
        "id": "g7tmTNr6KvKB",
        "outputId": "78c9dac2-d2e9-4e09-f23e-6bda23f34d6e"
      },
      "source": [
        "!pip install tensorflow-datasets==1.2.0"
      ],
      "execution_count": 1,
      "outputs": [
        {
          "output_type": "stream",
          "text": [
            "Requirement already satisfied: tensorflow-datasets==1.2.0 in /usr/local/lib/python3.6/dist-packages (1.2.0)\n",
            "Requirement already satisfied: tensorflow-metadata in /usr/local/lib/python3.6/dist-packages (from tensorflow-datasets==1.2.0) (0.27.0)\n",
            "Requirement already satisfied: requests>=2.19.0 in /usr/local/lib/python3.6/dist-packages (from tensorflow-datasets==1.2.0) (2.23.0)\n",
            "Requirement already satisfied: six in /usr/local/lib/python3.6/dist-packages (from tensorflow-datasets==1.2.0) (1.15.0)\n",
            "Requirement already satisfied: tqdm in /usr/local/lib/python3.6/dist-packages (from tensorflow-datasets==1.2.0) (4.41.1)\n",
            "Requirement already satisfied: promise in /usr/local/lib/python3.6/dist-packages (from tensorflow-datasets==1.2.0) (2.3)\n",
            "Requirement already satisfied: dill in /usr/local/lib/python3.6/dist-packages (from tensorflow-datasets==1.2.0) (0.3.3)\n",
            "Requirement already satisfied: protobuf>=3.6.1 in /usr/local/lib/python3.6/dist-packages (from tensorflow-datasets==1.2.0) (3.12.4)\n",
            "Requirement already satisfied: psutil in /usr/local/lib/python3.6/dist-packages (from tensorflow-datasets==1.2.0) (5.4.8)\n",
            "Requirement already satisfied: attrs in /usr/local/lib/python3.6/dist-packages (from tensorflow-datasets==1.2.0) (20.3.0)\n",
            "Requirement already satisfied: wrapt in /usr/local/lib/python3.6/dist-packages (from tensorflow-datasets==1.2.0) (1.12.1)\n",
            "Requirement already satisfied: numpy in /usr/local/lib/python3.6/dist-packages (from tensorflow-datasets==1.2.0) (1.19.5)\n",
            "Requirement already satisfied: future in /usr/local/lib/python3.6/dist-packages (from tensorflow-datasets==1.2.0) (0.16.0)\n",
            "Requirement already satisfied: termcolor in /usr/local/lib/python3.6/dist-packages (from tensorflow-datasets==1.2.0) (1.1.0)\n",
            "Requirement already satisfied: absl-py in /usr/local/lib/python3.6/dist-packages (from tensorflow-datasets==1.2.0) (0.10.0)\n",
            "Requirement already satisfied: googleapis-common-protos<2,>=1.52.0 in /usr/local/lib/python3.6/dist-packages (from tensorflow-metadata->tensorflow-datasets==1.2.0) (1.52.0)\n",
            "Requirement already satisfied: chardet<4,>=3.0.2 in /usr/local/lib/python3.6/dist-packages (from requests>=2.19.0->tensorflow-datasets==1.2.0) (3.0.4)\n",
            "Requirement already satisfied: urllib3!=1.25.0,!=1.25.1,<1.26,>=1.21.1 in /usr/local/lib/python3.6/dist-packages (from requests>=2.19.0->tensorflow-datasets==1.2.0) (1.24.3)\n",
            "Requirement already satisfied: certifi>=2017.4.17 in /usr/local/lib/python3.6/dist-packages (from requests>=2.19.0->tensorflow-datasets==1.2.0) (2020.12.5)\n",
            "Requirement already satisfied: idna<3,>=2.5 in /usr/local/lib/python3.6/dist-packages (from requests>=2.19.0->tensorflow-datasets==1.2.0) (2.10)\n",
            "Requirement already satisfied: setuptools in /usr/local/lib/python3.6/dist-packages (from protobuf>=3.6.1->tensorflow-datasets==1.2.0) (51.3.3)\n"
          ],
          "name": "stdout"
        }
      ]
    },
    {
      "cell_type": "code",
      "metadata": {
        "colab": {
          "base_uri": "https://localhost:8080/"
        },
        "id": "f9PtZ-JGYnPW",
        "outputId": "d5b936b2-125d-4772-959c-a72151a8e3b7"
      },
      "source": [
        "from google.colab import files\r\n",
        "from google.colab import drive\r\n",
        "drive.mount('/content/drive')"
      ],
      "execution_count": 2,
      "outputs": [
        {
          "output_type": "stream",
          "text": [
            "Drive already mounted at /content/drive; to attempt to forcibly remount, call drive.mount(\"/content/drive\", force_remount=True).\n"
          ],
          "name": "stdout"
        }
      ]
    },
    {
      "cell_type": "code",
      "metadata": {
        "id": "_RBb6cU3gZus"
      },
      "source": [
        "import tensorflow as tf\n",
        "import tensorflow_datasets as tfds\n",
        "\n",
        "import os\n",
        "import re\n",
        "import numpy as np\n",
        "\n",
        "import matplotlib.pyplot as plt\n",
        "\n",
        "tf.random.set_seed(1234)\n"
      ],
      "execution_count": 3,
      "outputs": []
    },
    {
      "cell_type": "code",
      "metadata": {
        "id": "7asYpisexA0b"
      },
      "source": [
        "from tensorflow.keras.layers import Layer, Dense\r\n",
        "import tensorflow.keras.backend as K"
      ],
      "execution_count": 4,
      "outputs": []
    },
    {
      "cell_type": "code",
      "metadata": {
        "id": "EKBo3_HIgev6"
      },
      "source": [
        "## Vamos a bajarnos el dataset de dialogos de peliculas de Cornell University\n",
        "folder = '/content/drive/My Drive/Colab Notebooks/desafio final/'\n",
        "\n",
        "path_to_martin_fierro = os.path.join(folder, 'martin_fierro.txt')"
      ],
      "execution_count": 5,
      "outputs": []
    },
    {
      "cell_type": "code",
      "metadata": {
        "id": "j5X8shYIZ9CW"
      },
      "source": [
        "corpus = open(path_to_martin_fierro, \"r\")"
      ],
      "execution_count": 6,
      "outputs": []
    },
    {
      "cell_type": "code",
      "metadata": {
        "id": "pke3CJ1qgqd-"
      },
      "source": [
        "# Numero máximo de samples a preprocesar\n",
        "MAX_SAMPLES = 50000\n",
        "\n",
        "def preprocess_sentence(sentence):\n",
        "  sentence = sentence.lower().strip()\n",
        "  # vamos a crear espacios entre las frases y los puntos:\n",
        "  # ej: \"he is a boy.\" => \"he is a boy .\"\n",
        "  sentence = re.sub(r\"([?.!,])\", r\" \\1 \", sentence)\n",
        "  sentence = re.sub(r'[\" \"]+', \" \", sentence)\n",
        "  # reemplazamos por espacios todo lo que no sea (a-z, A-Z, \".\", \"?\", \"!\", \",\")\n",
        "  # sentence = re.sub(r\"[^a-zA-Z?.!,]+\", \" \", sentence)\n",
        "  sentence = sentence.strip()\n",
        "  return sentence"
      ],
      "execution_count": 7,
      "outputs": []
    },
    {
      "cell_type": "code",
      "metadata": {
        "id": "aJzcXiYnavJ0"
      },
      "source": [
        "list_lines = []\r\n",
        "for line in corpus.readlines():\r\n",
        "  list_lines.append(preprocess_sentence(line.strip()))"
      ],
      "execution_count": 8,
      "outputs": []
    },
    {
      "cell_type": "code",
      "metadata": {
        "colab": {
          "base_uri": "https://localhost:8080/"
        },
        "id": "morpg_ZScW-t",
        "outputId": "00a8cad8-f504-4d25-cb22-e429797decdf"
      },
      "source": [
        "list_lines[0:5]"
      ],
      "execution_count": 9,
      "outputs": [
        {
          "output_type": "execute_result",
          "data": {
            "text/plain": [
              "['aquí me pongo a cantar',\n",
              " 'al compás de la vigüela ,',\n",
              " 'que el hombre que lo desvela',\n",
              " 'una pena estraordinaria',\n",
              " 'como la ave solitaria']"
            ]
          },
          "metadata": {
            "tags": []
          },
          "execution_count": 9
        }
      ]
    },
    {
      "cell_type": "markdown",
      "metadata": {
        "id": "MZ4hL2oBHPRL"
      },
      "source": [
        "### Preprocesamiento"
      ]
    },
    {
      "cell_type": "code",
      "metadata": {
        "colab": {
          "base_uri": "https://localhost:8080/"
        },
        "id": "CMlrAY39iLOC",
        "outputId": "eede4937-0f72-4a83-f714-6c190c40c610"
      },
      "source": [
        "## ejemplo:\n",
        "print(\"Linea 1\")\n",
        "print(list_lines[0])\n",
        "print()\n",
        "print(\"Linea 2\")\n",
        "print(list_lines[1])\n",
        "print()\n",
        "print(\"Linea 3\")\n",
        "print(list_lines[2])"
      ],
      "execution_count": 10,
      "outputs": [
        {
          "output_type": "stream",
          "text": [
            "Linea 1\n",
            "aquí me pongo a cantar\n",
            "\n",
            "Linea 2\n",
            "al compás de la vigüela ,\n",
            "\n",
            "Linea 3\n",
            "que el hombre que lo desvela\n"
          ],
          "name": "stdout"
        }
      ]
    },
    {
      "cell_type": "code",
      "metadata": {
        "id": "3oTFeSg4ivYU"
      },
      "source": [
        "## tokenizador de subwords\n",
        "tokenizer = tfds.features.text.SubwordTextEncoder.build_from_corpus(\n",
        "    list_lines, target_vocab_size=2**13)"
      ],
      "execution_count": 11,
      "outputs": []
    },
    {
      "cell_type": "code",
      "metadata": {
        "id": "5WYzRucyYWKc"
      },
      "source": [
        "## Recien ahora ponemos los tokens de inicio y fin (sino el tokenizador me los rompe)\r\n",
        "START_TOKEN, END_TOKEN = [tokenizer.vocab_size], [tokenizer.vocab_size + 1]\r\n",
        "\r\n",
        "# Le agrego al tamaño del vocab los dos tokens especiales\r\n",
        "VOCAB_SIZE = tokenizer.vocab_size + 2"
      ],
      "execution_count": 12,
      "outputs": []
    },
    {
      "cell_type": "code",
      "metadata": {
        "colab": {
          "base_uri": "https://localhost:8080/"
        },
        "id": "s51W5GAHkFyq",
        "outputId": "395e9714-b75f-4801-ebd6-9f0c1ddbc0f5"
      },
      "source": [
        "## el tokenizador tiene dos metodos: encode y decode:\n",
        "print(tokenizer.encode(\"cantar\"))\n",
        "print(tokenizer.decode(tokenizer.encode(\"cantar\")))"
      ],
      "execution_count": 13,
      "outputs": [
        {
          "output_type": "stream",
          "text": [
            "[132]\n",
            "cantar\n"
          ],
          "name": "stdout"
        }
      ]
    },
    {
      "cell_type": "code",
      "metadata": {
        "colab": {
          "base_uri": "https://localhost:8080/"
        },
        "id": "Xm88-VnQX2DU",
        "outputId": "5ea7e94b-e500-442a-e2fd-b5218bc37b2b"
      },
      "source": [
        "sample_string = 'todo lo que nos desvela'\r\n",
        "\r\n",
        "tokenized_string = tokenizer.encode(sample_string)\r\n",
        "print ('Tokenized string is {}'.format(tokenized_string))\r\n",
        "\r\n",
        "original_string = tokenizer.decode(tokenized_string)\r\n",
        "print ('The original string: {}'.format(original_string))\r\n",
        "\r\n",
        "for ts in tokenized_string:\r\n",
        "  print ('{} ----> {}'.format(ts, tokenizer.decode([ts])))\r\n",
        "\r\n",
        "assert original_string == sample_string"
      ],
      "execution_count": 14,
      "outputs": [
        {
          "output_type": "stream",
          "text": [
            "Tokenized string is [89, 15, 3, 41, 2654]\n",
            "The original string: todo lo que nos desvela\n",
            "89 ----> todo \n",
            "15 ----> lo \n",
            "3 ----> que \n",
            "41 ----> nos \n",
            "2654 ----> desvela\n"
          ],
          "name": "stdout"
        }
      ]
    },
    {
      "cell_type": "code",
      "metadata": {
        "id": "t22BxaJ4YEar"
      },
      "source": [
        "BUFFER_SIZE = 20000\r\n",
        "BATCH_SIZE = 64\r\n",
        "MAX_LENGTH = 20"
      ],
      "execution_count": 15,
      "outputs": []
    },
    {
      "cell_type": "code",
      "metadata": {
        "id": "R0FUBYbOjvfC"
      },
      "source": [
        "# Tokenizamos, filtramos las secuencias menores al largo maximo\n",
        "# y las paddeamos \n",
        "def tokenize_and_filter(inputs):\n",
        "  tokenized_inputs = []\n",
        "  \n",
        "  for sentence1 in inputs:\n",
        "    # tokenizamos + tokens especiales\n",
        "    sentence1 = START_TOKEN + tokenizer.encode(sentence1) + END_TOKEN\n",
        "    # filtramos\n",
        "    if len(sentence1) <= MAX_LENGTH:\n",
        "      tokenized_inputs.append(sentence1)\n",
        "  \n",
        "  # paddeamos\n",
        "  tokenized_inputs = tf.keras.preprocessing.sequence.pad_sequences(\n",
        "      tokenized_inputs, maxlen=MAX_LENGTH, padding='post')\n",
        "  \n",
        "  return tokenized_inputs\n",
        "\n",
        "data_lines = tokenize_and_filter(list_lines)"
      ],
      "execution_count": 16,
      "outputs": []
    },
    {
      "cell_type": "code",
      "metadata": {
        "colab": {
          "base_uri": "https://localhost:8080/"
        },
        "id": "GUwCqgi8jtZu",
        "outputId": "70e8eaf2-dc51-43e4-f259-f5e6e781d65d"
      },
      "source": [
        "print('Tamaño vocabulario: {}'.format(VOCAB_SIZE))\n",
        "print('frases: {}'.format(len(list_lines)))"
      ],
      "execution_count": 17,
      "outputs": [
        {
          "output_type": "stream",
          "text": [
            "Tamaño vocabulario: 3641\n",
            "frases: 2328\n"
          ],
          "name": "stdout"
        }
      ]
    },
    {
      "cell_type": "code",
      "metadata": {
        "colab": {
          "base_uri": "https://localhost:8080/"
        },
        "id": "vDDtJj7k4xwv",
        "outputId": "ec0eb17d-bbb7-4f74-e3a4-a2e9038e9e77"
      },
      "source": [
        "# Adapto para que de un multiplo de 64\r\n",
        "data_lines = data_lines[0:2304]\r\n",
        "len(data_lines)"
      ],
      "execution_count": 18,
      "outputs": [
        {
          "output_type": "execute_result",
          "data": {
            "text/plain": [
              "2304"
            ]
          },
          "metadata": {
            "tags": []
          },
          "execution_count": 18
        }
      ]
    },
    {
      "cell_type": "code",
      "metadata": {
        "id": "BFatj3GqupJA"
      },
      "source": [
        "### ver de modificar ESTO\n",
        "\n",
        "# saco el token de start de los outputs\n",
        "dataset = tf.data.Dataset.from_tensor_slices((data_lines,data_lines))\n",
        "\n",
        "dataset = dataset.shuffle(BUFFER_SIZE).padded_batch(BATCH_SIZE)\n",
        "#dataset = dataset.prefetch(tf.data.experimental.AUTOTUNE)"
      ],
      "execution_count": 19,
      "outputs": []
    },
    {
      "cell_type": "markdown",
      "metadata": {
        "id": "nCFUQb58HH9U"
      },
      "source": [
        "### Elementos básicos"
      ]
    },
    {
      "cell_type": "code",
      "metadata": {
        "id": "BWwqmlsovhif"
      },
      "source": [
        "def scaled_dot_product_attention(query, key, value, mask):\n",
        "  \"\"\"Calculamos attention weights \"\"\"\n",
        "\n",
        "  ## hacemos el producto de query por la transpuesta de key\n",
        "  matmul_qk = tf.matmul(query, key, transpose_b=True)\n",
        "\n",
        "  ## escalamos por la raiz cuadrado del # dims\n",
        "  depth = tf.cast(tf.shape(key)[-1], tf.float32)\n",
        "  logits = matmul_qk / tf.math.sqrt(depth)\n",
        "\n",
        "  ## agregamos la mascara\n",
        "  if mask is not None:\n",
        "    logits += (mask * -1e9)\n",
        "\n",
        "  ## aplicamos la softmax\n",
        "  attention_weights = tf.nn.softmax(logits, axis=-1)\n",
        "\n",
        "  ## y multiplicamos por value \n",
        "  output = tf.matmul(attention_weights, value)\n",
        "\n",
        "  return output"
      ],
      "execution_count": 20,
      "outputs": []
    },
    {
      "cell_type": "code",
      "metadata": {
        "id": "tvkNTlcovsvA"
      },
      "source": [
        "class MultiHeadAttention(tf.keras.layers.Layer):\n",
        "\n",
        "  ''' Vamos a armar la capa para multihead attention '''\n",
        "\n",
        "  def __init__(self, d_model, num_heads, name=\"multi_head_attention\"):\n",
        "    super(MultiHeadAttention, self).__init__(name=name)\n",
        "\n",
        "    ## que es este super?\n",
        "    ## super() te permite acceeder a los metodos de la super clase de la cual\n",
        "    ## la subclase está heredando. En este caso, estas herendando de Layers.\n",
        "        \n",
        "    ## definimos algunos parametros: cuantas cabezas va a tener self attention \n",
        "    ## y la dimensionalidad del embedding\n",
        "    self.num_heads = num_heads\n",
        "    self.d_model = d_model\n",
        "\n",
        "    assert d_model % self.num_heads == 0\n",
        "\n",
        "    ## cuantas dimensiones va a tener cada cabeza:\n",
        "    self.depth = d_model // self.num_heads\n",
        "\n",
        "    self.query_dense = tf.keras.layers.Dense(units=d_model)\n",
        "    self.key_dense = tf.keras.layers.Dense(units=d_model)\n",
        "    self.value_dense = tf.keras.layers.Dense(units=d_model)\n",
        "\n",
        "    self.dense = tf.keras.layers.Dense(units=d_model)\n",
        "\n",
        "  def split_heads(self, inputs, batch_size):\n",
        "    ## vamos a armar la division en cabezas. \n",
        "    ## se va a entender mejor en el siguiente bloque de codigo\n",
        "    ## por ahora es solamente la forma en la que \n",
        "    ## reacomodamos los datos para armar las cabezas\n",
        "    inputs = tf.reshape(\n",
        "        inputs, shape=(batch_size, -1, self.num_heads, self.depth))\n",
        "    return tf.transpose(inputs, perm=[0, 2, 1, 3])\n",
        "\n",
        "\n",
        "  def get_config(self):\n",
        "          config = super().get_config().copy()\n",
        "          config.update({\n",
        "              'num_heads': self.num_heads,\n",
        "              'd_model': self.d_model,\n",
        "              'depth': self.depth,\n",
        "              'query_dense': self.query_dense,\n",
        "              'key_dense': self.key_dense,\n",
        "              'value_dense': self.value_dense,\n",
        "              'dense': self.dense             \n",
        "          })\n",
        "          return config\n",
        "\n",
        "  def call(self, inputs):\n",
        "    ''' Este call es el metodo que  va a llamar keras para usar la capa'''\n",
        "\n",
        "    query, key, value, mask = inputs['query'], inputs['key'], inputs[\n",
        "        'value'], inputs['mask']\n",
        "    batch_size = tf.shape(query)[0]\n",
        "\n",
        "    # linear layers\n",
        "    query = self.query_dense(query)\n",
        "    key = self.key_dense(key)\n",
        "    value = self.value_dense(value)\n",
        "\n",
        "    # print(self.name, mask)\n",
        "\n",
        "    # split heads\n",
        "    query = self.split_heads(query, batch_size)\n",
        "    key = self.split_heads(key, batch_size)\n",
        "    value = self.split_heads(value, batch_size)\n",
        "\n",
        "    # scaled dot-product attention\n",
        "    scaled_attention = scaled_dot_product_attention(query, key, value, mask)\n",
        "\n",
        "    # acomodamos las dimensiones\n",
        "    scaled_attention = tf.transpose(scaled_attention, perm=[0, 2, 1, 3])\n",
        "\n",
        "    # concatenamos las cabezas\n",
        "    concat_attention = tf.reshape(scaled_attention,\n",
        "                                  (batch_size, -1, self.d_model))\n",
        "\n",
        "    # final linear layer\n",
        "    outputs = self.dense(concat_attention)\n",
        "\n",
        "    return outputs"
      ],
      "execution_count": 21,
      "outputs": []
    },
    {
      "cell_type": "code",
      "metadata": {
        "id": "rxWsmzF8vy0O"
      },
      "source": [
        "## creamos una mascara para el padding (asi nos nos molesta)\n",
        "## con esto lo que hacemos es despues pasarselo a la capa \n",
        "## anterior y eliminamos los paddings\n",
        "\n",
        "def create_padding_mask(x):\n",
        "  mask = tf.cast(tf.math.equal(x, 0), tf.float32)\n",
        "  # (batch_size, 1, 1, sequence length)\n",
        "\n",
        "  return mask[:, tf.newaxis, tf.newaxis, :]"
      ],
      "execution_count": 22,
      "outputs": []
    },
    {
      "cell_type": "code",
      "metadata": {
        "colab": {
          "base_uri": "https://localhost:8080/"
        },
        "id": "ytRdpjhXvzV4",
        "outputId": "088cdf30-55b1-4c3c-bf6b-05f96d9c1a28"
      },
      "source": [
        "## vamos a mostrar como funciona:\n",
        "print(create_padding_mask(tf.constant([[1, 2, 0, 3, 8143], [0, 0, 0, 4, 5]])))"
      ],
      "execution_count": 23,
      "outputs": [
        {
          "output_type": "stream",
          "text": [
            "tf.Tensor(\n",
            "[[[[0. 0. 1. 0. 0.]]]\n",
            "\n",
            "\n",
            " [[[1. 1. 1. 0. 0.]]]], shape=(2, 1, 1, 5), dtype=float32)\n"
          ],
          "name": "stdout"
        }
      ]
    },
    {
      "cell_type": "code",
      "metadata": {
        "id": "r7lli_1fv2Gg"
      },
      "source": [
        "## vamos a crear la otra mascara:\n",
        "## ahora queremos la mascara para no ver el futuro\n",
        "## vamos a incorporarle tambien la mascara para el padding\n",
        "\n",
        "def create_look_ahead_mask(x):\n",
        "  seq_len = tf.shape(x)[1]\n",
        "  look_ahead_mask = 1 - tf.linalg.band_part(tf.ones((seq_len, seq_len)), -1, 0)\n",
        "\n",
        "  ## aca la mascara para el padding\n",
        "  padding_mask = create_padding_mask(x)\n",
        "\n",
        "  return tf.maximum(look_ahead_mask, padding_mask)"
      ],
      "execution_count": 24,
      "outputs": []
    },
    {
      "cell_type": "code",
      "metadata": {
        "id": "3UgSY2_nwMNt"
      },
      "source": [
        "#print(create_look_ahead_mask(tf.constant([[0,1, 2,3,4, 5,6,7]])))"
      ],
      "execution_count": 25,
      "outputs": []
    },
    {
      "cell_type": "code",
      "metadata": {
        "id": "HztpT3O63TIg"
      },
      "source": [
        "a = tf.constant([2,4,6])\n",
        "b = tf.constant([1,3,5])"
      ],
      "execution_count": 26,
      "outputs": []
    },
    {
      "cell_type": "code",
      "metadata": {
        "id": "0kV-RpKz3YYi",
        "colab": {
          "base_uri": "https://localhost:8080/"
        },
        "outputId": "2f16da94-1410-4f5e-99e2-f2069a1cb0ef"
      },
      "source": [
        "c= tf.concat([b,a],axis=-1)\r\n",
        "c"
      ],
      "execution_count": 27,
      "outputs": [
        {
          "output_type": "execute_result",
          "data": {
            "text/plain": [
              "<tf.Tensor: shape=(6,), dtype=int32, numpy=array([1, 3, 5, 2, 4, 6], dtype=int32)>"
            ]
          },
          "metadata": {
            "tags": []
          },
          "execution_count": 27
        }
      ]
    },
    {
      "cell_type": "code",
      "metadata": {
        "id": "xXvoowMLwNZR"
      },
      "source": [
        "class PositionalEncoding(tf.keras.layers.Layer):\n",
        "  ''' Armamos los encodings de posición '''\n",
        "\n",
        "  def __init__(self, position, d_model):\n",
        "    super(PositionalEncoding, self).__init__()\n",
        "    self.pos_encoding = self.positional_encoding(position, d_model)\n",
        "\n",
        "  ## comparar con formula de la teorica\n",
        "  def get_angles(self, position, i, d_model):\n",
        "    angles = 1 / tf.pow(10000, (2 * (i // 2)) / tf.cast(d_model, tf.float32))\n",
        "    return position * angles\n",
        "\n",
        "   \n",
        "  def positional_encoding(self, position, d_model):\n",
        "    angle_rads = self.get_angles(\n",
        "        position=tf.range(position, dtype=tf.float32)[:, tf.newaxis],\n",
        "        i=tf.range(d_model, dtype=tf.float32)[tf.newaxis, :],\n",
        "        d_model=d_model)\n",
        "    # seno a los indices pares\n",
        "    sines = tf.math.sin(angle_rads[:, 0::2])\n",
        "    # coseno a los impares\n",
        "    cosines = tf.math.cos(angle_rads[:, 1::2])\n",
        "\n",
        "    pos_encoding = tf.concat([sines, cosines], axis=-1)\n",
        "    pos_encoding = pos_encoding[tf.newaxis, :]\n",
        "    return tf.cast(pos_encoding, tf.float32)\n",
        "\n",
        "  def get_config(self):\n",
        "\n",
        "          config = super().get_config().copy()\n",
        "          config.update({\n",
        "              'pos_encoding': self.pos_encoding\n",
        "          })\n",
        "          return config\n",
        "\n",
        "  def call(self, inputs):\n",
        "    return inputs + self.pos_encoding[:, :tf.shape(inputs)[1], :]"
      ],
      "execution_count": 28,
      "outputs": []
    },
    {
      "cell_type": "markdown",
      "metadata": {
        "id": "dYT57O5kJeKT"
      },
      "source": [
        "### Encoder"
      ]
    },
    {
      "cell_type": "code",
      "metadata": {
        "id": "YlUJTbRow4K0"
      },
      "source": [
        "class Sampling(Layer):\r\n",
        "    def call(self, inputs):\r\n",
        "        mu, log_var = inputs\r\n",
        "        epsilon = K.random_normal(shape=K.shape(mu), mean=0., stddev=1.)\r\n",
        "        return mu + K.exp(log_var / 2) * epsilon"
      ],
      "execution_count": 29,
      "outputs": []
    },
    {
      "cell_type": "code",
      "metadata": {
        "id": "Is6EC55bwwAG"
      },
      "source": [
        "## ya tenemos todos los ingredientes para armar una capa de encoder\n",
        "## todavía no es el encoder entero!\n",
        "\n",
        "def encoder_layer(units, d_model, num_heads, dropout, name=\"encoder_layer\"):\n",
        "  inputs = tf.keras.Input(shape=(None, d_model), name=\"inputs\")\n",
        "  padding_mask = tf.keras.Input(shape=(1, 1, None), name=\"padding_mask\")\n",
        "\n",
        "  attention = MultiHeadAttention(\n",
        "      d_model, num_heads, name=\"attention\")({\n",
        "          'query': inputs,\n",
        "          'key': inputs,\n",
        "          'value': inputs,\n",
        "          'mask': padding_mask\n",
        "      })\n",
        "  attention = tf.keras.layers.Dropout(rate=dropout)(attention)\n",
        "  attention = tf.keras.layers.LayerNormalization(\n",
        "      epsilon=1e-6)(inputs + attention)\n",
        "\n",
        "  outputs = tf.keras.layers.Dense(units=units, activation='relu')(attention)\n",
        "  outputs = tf.keras.layers.Dense(units=d_model)(outputs)\n",
        "  outputs = tf.keras.layers.Dropout(rate=dropout)(outputs)\n",
        "  outputs = tf.keras.layers.LayerNormalization(\n",
        "      epsilon=1e-6)(attention + outputs)\n",
        "\n",
        "  return tf.keras.Model(\n",
        "      inputs=[inputs, padding_mask], outputs=outputs, name=name)"
      ],
      "execution_count": 30,
      "outputs": []
    },
    {
      "cell_type": "code",
      "metadata": {
        "id": "zX5a3YBl5XsG"
      },
      "source": [
        "## ahora si: el encoder\n",
        "## vamos a definir una funcion que nos devuelva un modelo que tenga\n",
        "## num_layers bloques de encoder:\n",
        "\n",
        "def encoder(vocab_size, num_layers, units, d_model, num_heads,\n",
        "            dropout, latent_space, name=\"encoder\"):\n",
        "  \n",
        "  inputs = tf.keras.Input(shape=(None,), name=\"inputs\")\n",
        "\n",
        "  print('enc_inputs',inputs)\n",
        "\n",
        "  padding_mask = tf.keras.layers.Lambda(\n",
        "      create_padding_mask, output_shape=(1, 1, None),\n",
        "      name='enc_padding_mask')(inputs)\n",
        "\n",
        "  ## partimos de los embeddings\n",
        "  embeddings = tf.keras.layers.Embedding(vocab_size, d_model)(inputs)\n",
        "  embeddings *= tf.math.sqrt(tf.cast(d_model, tf.float32))\n",
        "\n",
        "  ## y les sumamos el positional encoding\n",
        "  embeddings = PositionalEncoding(vocab_size, d_model)(embeddings)\n",
        "\n",
        "  outputs = tf.keras.layers.Dropout(rate=dropout)(embeddings)\n",
        "\n",
        "  ## y usamos tantos bloques como querramos\n",
        "  for i in range(num_layers):\n",
        "    outputs = encoder_layer(\n",
        "                            units=units,\n",
        "                            d_model=d_model,\n",
        "                            num_heads=num_heads,\n",
        "                            dropout=dropout,\n",
        "                            name=\"encoder_layer_{}\".format(i),\n",
        "                        )([outputs, padding_mask])\n",
        "\n",
        "  outputs  = tf.keras.layers.Reshape([MAX_LENGTH * d_model])(outputs)\n",
        "  # Generamos la media\n",
        "  \n",
        "  outputs = tf.keras.layers.Dense(MAX_LENGTH * 10)(outputs)\n",
        "\n",
        "  outputs = tf.keras.layers.Dense(latent_space)(outputs)\n",
        "  \n",
        "\n",
        "  mu = Dense(latent_space, name='mu')(outputs) #TODO: revisar la dimensionalidad del espacio latente\n",
        "\n",
        "\n",
        "  # Generamos el logaritmo de la varianza\n",
        "  logvar = Dense(latent_space, name='logvar')(outputs)\n",
        "  # Usamos esos parámetros para samplear el espacio latente\n",
        "  z = Sampling(name='encoder_output')([mu, logvar])\n",
        "\n",
        "  #output = Dense(d_model, name='latent space')(outputs)\n",
        "\n",
        "  return tf.keras.Model(\n",
        "      inputs=inputs, outputs=[mu, logvar, z], name=name)"
      ],
      "execution_count": 31,
      "outputs": []
    },
    {
      "cell_type": "markdown",
      "metadata": {
        "id": "rq48-SRsG8UA"
      },
      "source": [
        "### Decoder"
      ]
    },
    {
      "cell_type": "code",
      "metadata": {
        "id": "avimnpJTRvFn"
      },
      "source": [
        "## vamos a usar las mismas partes que ya tenemos para armar el decoder\n",
        "## primero la decoder layer\n",
        "\n",
        "def decoder_layer(units, d_model, num_heads, dropout, name=\"decoder_layer\"):\n",
        "  \n",
        "  decoder_input = tf.keras.Input(shape=(None, d_model), name=\"decoder_input_layer\")\n",
        "  \n",
        "  # look_ahead_mask = tf.keras.Input(\n",
        "  #     shape=(1, None, None), name=\"look_ahead_mask\")\n",
        "\n",
        "  attention1 = MultiHeadAttention(\n",
        "      d_model, num_heads, name=\"attention_1\")(inputs={\n",
        "          'query': decoder_input,\n",
        "          'key': decoder_input,\n",
        "          'value': decoder_input,\n",
        "          'mask': None #padding_mask\n",
        "      })\n",
        "\n",
        "  #Normalization1\n",
        "  attention1 = tf.keras.layers.LayerNormalization(\n",
        "      epsilon=1e-6)(attention1 + decoder_input)\n",
        "\n",
        "  #FeedFoward\n",
        "  outputs = tf.keras.layers.Dense(units=units, activation='relu')(attention1)\n",
        "  outputs = tf.keras.layers.Dense(units=d_model)(outputs)\n",
        "  outputs = tf.keras.layers.Dropout(rate=dropout)(outputs)\n",
        "\n",
        "  #Normalization2\n",
        "  outputs = tf.keras.layers.LayerNormalization(\n",
        "      epsilon=1e-6)(outputs + attention1)\n",
        "\n",
        "  return tf.keras.Model(\n",
        "      inputs=[decoder_input],\n",
        "      outputs=outputs,\n",
        "      name=name)"
      ],
      "execution_count": 32,
      "outputs": []
    },
    {
      "cell_type": "code",
      "metadata": {
        "id": "pUUvWeK6HWqP"
      },
      "source": [
        "## y ahora usamos la decoder layer para el decoder\n",
        "\n",
        "def decoder(vocab_size, num_layers, units, d_model, num_heads,\n",
        "            dropout ,latent_space, name='decoder'):\n",
        "\n",
        "  decoder_input = tf.keras.Input(shape=(latent_space), name='decoder_input')\n",
        "\n",
        "  output = tf.keras.layers.Dense(MAX_LENGTH * 10)(decoder_input)\n",
        "\n",
        "  \n",
        "  output = Dense(MAX_LENGTH * d_model, name='linear_proyection',activation='relu')(output)\n",
        "\n",
        "  output = tf.keras.layers.Reshape([MAX_LENGTH, d_model])(output)\n",
        " # print('linear_proyection', output.shape)\n",
        "\n",
        "  ## la mascara para no ver el futuro y para el padding\n",
        "  ## ojo que la toma de afuera (es un input, no la creamos aca)\n",
        "\n",
        "  # look_ahead_mask = tf.keras.Input(\n",
        "  #     shape=(1, None, None), name='look_ahead_mask')\n",
        "  \n",
        "\n",
        "  outputs = tf.keras.layers.Dropout(rate=dropout)(output)\n",
        "\n",
        "  ## vamos a tener num_layers bloques de decoders\n",
        "  for i in range(num_layers):\n",
        "    outputs = decoder_layer(\n",
        "        units=units,\n",
        "        d_model=d_model,\n",
        "        num_heads=num_heads,\n",
        "        dropout=dropout,\n",
        "        name='decoder_layer_{}'.format(i),\n",
        "    )(inputs=[outputs])\n",
        "\n",
        "  outputs = tf.keras.layers.Dense(units=vocab_size, name=\"outputs\")(outputs)\n",
        "\n",
        "#  print('final', output.shape)\n",
        "\n",
        "  return tf.keras.Model(\n",
        "      inputs=[decoder_input],\n",
        "      outputs=outputs,\n",
        "      name=name)"
      ],
      "execution_count": 33,
      "outputs": []
    },
    {
      "cell_type": "markdown",
      "metadata": {
        "id": "BFj1enIjIDs8"
      },
      "source": [
        "### Modelo VAE"
      ]
    },
    {
      "cell_type": "code",
      "metadata": {
        "id": "90WFLW2pJ41n"
      },
      "source": [
        "from tensorflow.keras.models import Model\r\n",
        "from contextlib import suppress\r\n",
        "\r\n",
        "class VAEModel(Model):\r\n",
        "    def __init__(self, encoder, decoder, r_loss_factor, vocab_size, num_layers, units, d_model, num_heads, dropout, latent_space, mask=None,  **kwargs):\r\n",
        "        super(VAEModel, self).__init__(**kwargs)\r\n",
        "        self.encoder = encoder(\r\n",
        "          vocab_size=vocab_size,\r\n",
        "          num_layers=num_layers,\r\n",
        "          units=units,\r\n",
        "          d_model=d_model,\r\n",
        "          num_heads=num_heads,\r\n",
        "          dropout=dropout,\r\n",
        "          latent_space=latent_space)\r\n",
        "        \r\n",
        "        self.decoder = decoder(\r\n",
        "          vocab_size=vocab_size,\r\n",
        "          num_layers=num_layers,\r\n",
        "          units=units,\r\n",
        "          d_model=d_model,\r\n",
        "          num_heads=num_heads,\r\n",
        "          dropout=dropout,\r\n",
        "          latent_space=latent_space)\r\n",
        "        \r\n",
        "        self.r_loss_factor = r_loss_factor\r\n",
        "\r\n",
        "    def loss_function(self, y_true, y_pred):\r\n",
        "      print(\"ytrue:\",y_true,\"ypred:\",y_pred)\r\n",
        "      y_true = tf.reshape(y_true, shape=(-1, MAX_LENGTH)) #(-1, MAX_LENGTH - 1))\r\n",
        "      \r\n",
        "      ## calculamos la loss sin reducir\r\n",
        "      loss = tf.keras.losses.SparseCategoricalCrossentropy(\r\n",
        "          from_logits=True, reduction='none')(y_true, y_pred)\r\n",
        "\r\n",
        "      print(\"loss:\",loss)\r\n",
        "\r\n",
        "      ## aplicamos una mascara\r\n",
        "      # mask = tf.cast(tf.not_equal(y_true, 0), tf.float32)\r\n",
        "      # loss = tf.multiply(loss, mask)\r\n",
        "\r\n",
        "      print(\"loss2:\",loss)\r\n",
        "\r\n",
        "      ## y reducimos la loss\r\n",
        "      return tf.reduce_mean(loss)\r\n",
        "\r\n",
        "    # Definimos el train step para que utilice la función de costo compuesta por el error de reconstrucción y la divergencia KL\r\n",
        "    def train_step(self, data):\r\n",
        "\r\n",
        "        data = data[0]\r\n",
        "        \r\n",
        "        # Iniciamos el cálculo de la loss dentro del contexto que registra las operaciones para poder derivarlas\r\n",
        "        with tf.GradientTape() as tape:\r\n",
        "            # Usamos el encoder para mapear las oraciones al espacio latente y obtenemos los parámetros de la distribución\r\n",
        "            z_mean, z_log_var, z = self.encoder(data)\r\n",
        "            # Reconstruimos la oración a partir de z\r\n",
        "\r\n",
        "            reconstruction = self.decoder(z)\r\n",
        "\r\n",
        "            reconstruction_loss = self.loss_function(data, reconstruction)\r\n",
        "\r\n",
        "            # Escalamos la pérdida con el r_loss_factor\r\n",
        "            reconstruction_loss *= self.r_loss_factor\r\n",
        "            # Calculamos la divergencia KL usando la media y la varianza\r\n",
        "            kl_loss = 1 + z_log_var - tf.square(z_mean) - tf.exp(z_log_var)\r\n",
        "            kl_loss = tf.reduce_sum(kl_loss, axis = 1)\r\n",
        "            kl_loss *= -0.5\r\n",
        "            # Combinamos las pérdidas\r\n",
        "            total_loss = reconstruction_loss + kl_loss\r\n",
        "        # Calculamos los gradientes\r\n",
        "        grads = tape.gradient(total_loss, self.trainable_weights)\r\n",
        "        # Actualizamos los pesos\r\n",
        "        self.optimizer.apply_gradients(zip(grads, self.trainable_weights))\r\n",
        "        # El método train_step debe devolver un diccionario\r\n",
        "        return {\r\n",
        "            \"loss\": total_loss,\r\n",
        "            \"reconstruction_loss\": reconstruction_loss,\r\n",
        "            \"kl_loss\": kl_loss,\r\n",
        "        }\r\n",
        "\r\n",
        "    def reconstruct(self, q_sample, silent_reconstruct=False, silent_orig=True):\r\n",
        "      _,_,result = model.encoder(q_sample.reshape(1,MAX_LENGTH,1))\r\n",
        "      #decoded from sample\r\n",
        "      print('Reconstr: ',self.decode_sample(result, silent_reconstruct))\r\n",
        "\r\n",
        "      # original\r\n",
        "      \r\n",
        "      print('Original: ',tokenizer.decode([i for i in q_sample if i < tokenizer.vocab_size]))\r\n",
        "      if (silent_orig == False):\r\n",
        "        print(q_sample)\r\n",
        "\r\n",
        "    def decode_sample(self, z_sampled, silent_reconstruct=False):\r\n",
        "      with suppress(Exception):\r\n",
        "        result = self.decoder(z_sampled)\r\n",
        "        prediction = np.argmax(result, axis=2)\r\n",
        "\r\n",
        "        pred = prediction[0]\r\n",
        "        pred_to_decode = [i for i in pred if i < tokenizer.vocab_size]\r\n",
        "        if (silent_reconstruct == False):\r\n",
        "          print(pred_to_decode)\r\n",
        "        return tokenizer.decode(pred_to_decode)\r\n",
        "\r\n",
        "\r\n",
        "    def reconstruct_sentence(self, sentence, silent_reconstruct=False, silent_orig=True):\r\n",
        "      sentence = [sentence]\r\n",
        "      sentence = tokenize_and_filter(sentence)\r\n",
        "      sentence = sentence.reshape(MAX_LENGTH)\r\n",
        "      return self.reconstruct(sentence, silent_reconstruct, silent_orig)\r\n",
        "\r\n",
        "    def call(self,inputs):\r\n",
        "        mu, logvar, z = self.encoder(inputs)\r\n",
        "        print(\"checkpoint_call\")\r\n",
        "\r\n",
        "        return self.decoder(z)\r\n"
      ],
      "execution_count": 63,
      "outputs": []
    },
    {
      "cell_type": "code",
      "metadata": {
        "colab": {
          "base_uri": "https://localhost:8080/"
        },
        "id": "N7CP0KswNS-m",
        "outputId": "e259d2d2-0da4-48f9-c13d-cba66e293f74"
      },
      "source": [
        "# Hyper-parameters\n",
        "NUM_LAYERS = 6\n",
        "D_MODEL = 256\n",
        "NUM_HEADS = 8\n",
        "UNITS = 512\n",
        "DROPOUT = 0.2\n",
        "LATENT_SPACE = 32\n",
        "R_LOSS_FACTOR = 1000\n",
        "model = VAEModel(encoder, decoder, \n",
        "    r_loss_factor=R_LOSS_FACTOR,\n",
        "    vocab_size=VOCAB_SIZE,\n",
        "    num_layers=NUM_LAYERS,\n",
        "    units=UNITS,\n",
        "    d_model=D_MODEL,\n",
        "    num_heads=NUM_HEADS,\n",
        "    dropout=DROPOUT,\n",
        "    latent_space=LATENT_SPACE)"
      ],
      "execution_count": 64,
      "outputs": [
        {
          "output_type": "stream",
          "text": [
            "enc_inputs KerasTensor(type_spec=TensorSpec(shape=(None, None), dtype=tf.float32, name='inputs'), name='inputs', description=\"created by layer 'inputs'\")\n"
          ],
          "name": "stdout"
        }
      ]
    },
    {
      "cell_type": "code",
      "metadata": {
        "colab": {
          "base_uri": "https://localhost:8080/",
          "height": 1000
        },
        "id": "pr2ogPET6BA5",
        "outputId": "522c6c53-8cb1-4cce-be2f-b3cd85974423"
      },
      "source": [
        "eo = encoder(\n",
        "      vocab_size=VOCAB_SIZE,\n",
        "      num_layers=NUM_LAYERS,\n",
        "      units=UNITS,\n",
        "      d_model=D_MODEL,\n",
        "      num_heads=NUM_HEADS,\n",
        "    dropout=DROPOUT,\n",
        "    latent_space=LATENT_SPACE)\n",
        "tf.keras.utils.plot_model(eo, show_shapes=True)"
      ],
      "execution_count": 65,
      "outputs": [
        {
          "output_type": "stream",
          "text": [
            "enc_inputs KerasTensor(type_spec=TensorSpec(shape=(None, None), dtype=tf.float32, name='inputs'), name='inputs', description=\"created by layer 'inputs'\")\n"
          ],
          "name": "stdout"
        },
        {
          "output_type": "execute_result",
          "data": {
            "image/png": "[encoded data removed]",
            "text/plain": [
              "<IPython.core.display.Image object>"
            ]
          },
          "metadata": {
            "tags": []
          },
          "execution_count": 65
        }
      ]
    },
    {
      "cell_type": "code",
      "metadata": {
        "colab": {
          "base_uri": "https://localhost:8080/",
          "height": 1000
        },
        "id": "qg1-eDPA6BA5",
        "outputId": "cbd875e6-c561-4bba-dea9-9824a962b3f1"
      },
      "source": [
        "do = decoder(\n",
        "  vocab_size=VOCAB_SIZE,\n",
        "  num_layers=NUM_LAYERS,\n",
        "  units=UNITS,\n",
        "  d_model=D_MODEL,\n",
        "  num_heads=NUM_HEADS,\n",
        "  dropout=DROPOUT,\n",
        "  latent_space=LATENT_SPACE)\n",
        "    \n",
        "tf.keras.utils.plot_model(do, show_shapes=True)\n",
        "    "
      ],
      "execution_count": 66,
      "outputs": [
        {
          "output_type": "execute_result",
          "data": {
            "image/png": "[encoded data removed]",
            "text/plain": [
              "<IPython.core.display.Image object>"
            ]
          },
          "metadata": {
            "tags": []
          },
          "execution_count": 66
        }
      ]
    },
    {
      "cell_type": "code",
      "metadata": {
        "id": "GWRMqA1lQ6CG"
      },
      "source": [
        "from tensorflow.keras.callbacks import Callback\n",
        "from random import randint\n",
        "\n",
        "class EpochEndCallback(Callback): # Creamos una clase que herede de Callback\n",
        "\n",
        "    def __init__(self, period=1): # Definimos los atributos que necesita la clase y los inicializamos en el constructor\n",
        "        super(EpochEndCallback, self).__init__()\n",
        "        self.period = period\n",
        "    \n",
        "    # Lo que buscamos es que cada cierta cantidad de epochs se genere un texto.\n",
        "    def on_epoch_end(self, epoch, logs=None):\n",
        "        if epoch % self.period == 0:\n",
        "            print('Callback running', epoch)\n",
        "            q_sample = data_lines[randint(0,data_lines.shape[0]) - 1]\n",
        "            model.reconstruct(q_sample)\n",
        "\n",
        "# Instanciamos nuestro custom callback\n",
        "eec = EpochEndCallback()"
      ],
      "execution_count": 67,
      "outputs": []
    },
    {
      "cell_type": "markdown",
      "metadata": {
        "id": "RJvle4mJRBf_"
      },
      "source": [
        "### Entrenamiento"
      ]
    },
    {
      "cell_type": "code",
      "metadata": {
        "id": "luvHx3QXfyvm",
        "colab": {
          "base_uri": "https://localhost:8080/"
        },
        "outputId": "4e4755d2-e999-40a7-82a2-e8ddb28f123a"
      },
      "source": [
        "EPOCHS = 180\r\n",
        "\r\n",
        "d_model = D_MODEL\r\n",
        "\r\n",
        "## nos queda armar el lr que va cambiando con el tiempo\r\n",
        "## hay que hacer un schedule de lr:\r\n",
        "class CustomSchedule(tf.keras.optimizers.schedules.LearningRateSchedule):\r\n",
        "  def __init__(self, d_model, warmup_steps=4000):\r\n",
        "    super(CustomSchedule, self).__init__()\r\n",
        "\r\n",
        "    self.d_model = d_model\r\n",
        "    self.d_model = tf.cast(self.d_model, tf.float32)\r\n",
        "\r\n",
        "    self.warmup_steps = warmup_steps\r\n",
        "\r\n",
        "  def __call__(self, step):\r\n",
        "    arg1 = tf.math.rsqrt(step)\r\n",
        "    arg2 = step * (self.warmup_steps ** -1.5)\r\n",
        "    return tf.math.rsqrt(self.d_model) * tf.math.minimum(arg1, arg2)\r\n",
        "\r\n",
        "optimizer = tf.keras.optimizers.Adam(CustomSchedule(d_model), beta_1=0.9, beta_2=0.98, \r\n",
        "                                     epsilon=1e-9)\r\n",
        "\r\n",
        "model.compile(optimizer=optimizer)#, metrics = metrics) # masked_\r\n",
        "\r\n",
        "history = model.fit(dataset, epochs=EPOCHS, callbacks=[eec])"
      ],
      "execution_count": 68,
      "outputs": [
        {
          "output_type": "stream",
          "text": [
            "Epoch 1/180\n",
            "ytrue: Tensor(\"IteratorGetNext:0\", shape=(None, 20), dtype=int32) ypred: Tensor(\"decoder/outputs/BiasAdd:0\", shape=(None, 20, 3641), dtype=float32)\n",
            "loss: Tensor(\"sparse_categorical_crossentropy/weighted_loss/Mul:0\", shape=(None, 20), dtype=float32)\n",
            "loss2: Tensor(\"sparse_categorical_crossentropy/weighted_loss/Mul:0\", shape=(None, 20), dtype=float32)\n",
            "ytrue: Tensor(\"IteratorGetNext:0\", shape=(None, 20), dtype=int32) ypred: Tensor(\"decoder/outputs/BiasAdd:0\", shape=(None, 20, 3641), dtype=float32)\n",
            "loss: Tensor(\"sparse_categorical_crossentropy/weighted_loss/Mul:0\", shape=(None, 20), dtype=float32)\n",
            "loss2: Tensor(\"sparse_categorical_crossentropy/weighted_loss/Mul:0\", shape=(None, 20), dtype=float32)\n",
            "36/36 [==============================] - 17s 67ms/step - loss: 7639.3125 - reconstruction_loss: 7562.4622 - kl_loss: 76.8504\n",
            "Callback running 0\n",
            "[0, 0, 0, 0, 0, 0, 0, 0, 0, 0, 0, 0, 0, 0, 0, 0, 0, 0, 0, 0]\n",
            "Reconstr:  \n",
            "Original:  el bruto se asustó al ñudo\n",
            "Epoch 2/180\n",
            "36/36 [==============================] - 2s 66ms/step - loss: 5848.7520 - reconstruction_loss: 5798.1017 - kl_loss: 50.6503\n",
            "Callback running 1\n",
            "[0, 0, 0, 0, 0, 0, 0, 0, 0, 0, 0, 0, 0, 0, 0, 0, 0, 0, 0, 0]\n",
            "Reconstr:  \n",
            "Original:  era un terne de aquel pago\n",
            "Epoch 3/180\n",
            "36/36 [==============================] - 2s 66ms/step - loss: 4762.9971 - reconstruction_loss: 4732.2591 - kl_loss: 30.7383\n",
            "Callback running 2\n",
            "[0, 0, 0, 0, 0, 0, 0, 0, 0, 0, 0, 0, 0, 0, 0, 0, 0, 0, 0, 0]\n",
            "Reconstr:  \n",
            "Original:  que nada me ha acobardao ,\n",
            "Epoch 4/180\n",
            "36/36 [==============================] - 2s 66ms/step - loss: 4284.0635 - reconstruction_loss: 4262.9705 - kl_loss: 21.0929\n",
            "Callback running 3\n",
            "[0, 0, 0, 0, 0, 0, 0, 0, 0, 0, 0, 0, 0, 0, 0, 0, 0, 0, 0, 0]\n",
            "Reconstr:  \n",
            "Original:  y lo pasan sus mercedes\n",
            "Epoch 5/180\n",
            "36/36 [==============================] - 2s 66ms/step - loss: 3858.9912 - reconstruction_loss: 3835.5793 - kl_loss: 23.4120\n",
            "Callback running 4\n",
            "[0, 0, 0, 0, 0, 0, 0, 0, 0, 0, 0, 0, 0, 0, 0, 0, 0, 0, 0, 0]\n",
            "Reconstr:  \n",
            "Original:  ¡si viera mis afliciones\n",
            "Epoch 6/180\n",
            "36/36 [==============================] - 2s 66ms/step - loss: 3327.6851 - reconstruction_loss: 3301.9681 - kl_loss: 25.7172\n",
            "Callback running 5\n",
            "[0, 0, 0, 0, 0, 0, 0, 0, 0, 0, 0, 0, 0, 0, 0, 0, 0, 0, 0]\n",
            "Reconstr:  \n",
            "Original:  y ninguno en un apuro\n",
            "Epoch 7/180\n",
            "36/36 [==============================] - 2s 66ms/step - loss: 2833.8809 - reconstruction_loss: 2809.4680 - kl_loss: 24.4131\n",
            "Callback running 6\n",
            "[0, 0, 0, 0, 0, 0, 0, 0, 0, 0, 0, 0, 0, 0, 0, 0, 0, 0]\n",
            "Reconstr:  \n",
            "Original:  dende chico se parece\n",
            "Epoch 8/180\n",
            "36/36 [==============================] - 2s 66ms/step - loss: 2435.9551 - reconstruction_loss: 2408.2448 - kl_loss: 27.7103\n",
            "Callback running 7\n",
            "[0, 0, 0, 0, 0, 0, 0, 0, 0, 0, 0, 0, 0, 0, 0, 0, 0, 0]\n",
            "Reconstr:  \n",
            "Original:  rejuntábamos la hacienda\n",
            "Epoch 9/180\n",
            "36/36 [==============================] - 2s 66ms/step - loss: 2159.4683 - reconstruction_loss: 2131.4291 - kl_loss: 28.0394\n",
            "Callback running 8\n",
            "[0, 0, 0, 0, 0, 1, 0, 0, 0, 0, 0, 0, 0, 0, 0, 0, 0]\n",
            "Reconstr:  None\n",
            "Original:  ¡amigo , qué tiempo aquel !\n",
            "Epoch 10/180\n",
            "36/36 [==============================] - 2s 66ms/step - loss: 1987.0836 - reconstruction_loss: 1951.7185 - kl_loss: 35.3650\n",
            "Callback running 9\n",
            "[2, 0, 3, 0, 0, 1, 1, 0, 0, 0, 0, 0, 0, 0, 0, 0, 0, 0]\n",
            "Reconstr:  None\n",
            "Original:  cavo , y la saco al momento .\n",
            "Epoch 11/180\n",
            "36/36 [==============================] - 2s 65ms/step - loss: 1853.2935 - reconstruction_loss: 1828.0880 - kl_loss: 25.2054\n",
            "Callback running 10\n",
            "[2, 5, 5, 0, 0, 0, 0, 0, 0, 0, 0, 0, 0, 0, 0, 0, 0, 0]\n",
            "Reconstr:  y el el \n",
            "Original:  donde había campos baldidos\n",
            "Epoch 12/180\n",
            "36/36 [==============================] - 2s 66ms/step - loss: 1803.1688 - reconstruction_loss: 1767.3151 - kl_loss: 35.8538\n",
            "Callback running 11\n",
            "[2, 5, 5, 3, 0, 5, 1, 1, 0, 0, 0, 0, 0, 0, 0, 0, 0, 0]\n",
            "Reconstr:  None\n",
            "Original:  que por la mía no hay cuidao .\n",
            "Epoch 13/180\n",
            "36/36 [==============================] - 2s 66ms/step - loss: 1754.4618 - reconstruction_loss: 1721.7004 - kl_loss: 32.7614\n",
            "Callback running 12\n",
            "[2, 6, 6, 1, 0, 0, 0, 0, 0, 0, 0, 0, 0, 0, 0, 0, 0, 0]\n",
            "Reconstr:  y la la  ,\n",
            "Original:  se vinieron en tropel\n",
            "Epoch 14/180\n",
            "36/36 [==============================] - 2s 66ms/step - loss: 1705.8544 - reconstruction_loss: 1675.4396 - kl_loss: 30.4148\n",
            "Callback running 13\n",
            "[2, 3, 3, 5, 1, 1, 0, 0, 0, 0, 0, 0, 0, 0, 0, 0, 0, 0]\n",
            "Reconstr:  y que que el  , ,\n",
            "Original:  el día que nos descolguemos\n",
            "Epoch 15/180\n",
            "36/36 [==============================] - 2s 66ms/step - loss: 1664.5005 - reconstruction_loss: 1637.6627 - kl_loss: 26.8378\n",
            "Callback running 14\n",
            "[2, 5, 16, 16, 16, 6, 1, 1, 0, 0, 0, 0, 0, 0, 0, 0, 0, 0]\n",
            "Reconstr:  y el  ,  ,  , la  , ,\n",
            "Original:  ¡ah pobre ! si él mismo creiba\n",
            "Epoch 16/180\n",
            "36/36 [==============================] - 2s 66ms/step - loss: 1628.7419 - reconstruction_loss: 1599.3381 - kl_loss: 29.4038\n",
            "Callback running 15\n",
            "[2, 5, 3, 6, 1, 1, 0, 0, 0, 0, 0, 0, 0, 0, 0, 0, 0, 0]\n",
            "Reconstr:  y el que la  , ,\n",
            "Original:  sé como hacen la partida ,\n",
            "Epoch 17/180\n",
            "36/36 [==============================] - 2s 66ms/step - loss: 1590.5431 - reconstruction_loss: 1559.4855 - kl_loss: 31.0576\n",
            "Callback running 16\n",
            "[2, 5, 7, 3, 5, 5, 3442, 0, 0, 0, 0, 0, 0, 0, 0, 0, 0, 0]\n",
            "Reconstr:  y el de que el el ;\n",
            "Original:  ¡que diablos ! , sólo son güenos\n",
            "Epoch 18/180\n",
            "36/36 [==============================] - 2s 69ms/step - loss: 1567.1853 - reconstruction_loss: 1531.2945 - kl_loss: 35.8908\n",
            "Callback running 17\n",
            "[2, 3, 3, 6, 3441, 4, 0, 0, 0, 0, 0, 0, 0, 0, 0, 0, 0, 0]\n",
            "Reconstr:  y que que la : .\n",
            "Original:  quien me venga con querellas;\n",
            "Epoch 19/180\n",
            "36/36 [==============================] - 2s 69ms/step - loss: 1535.0703 - reconstruction_loss: 1502.8548 - kl_loss: 32.2155\n",
            "Callback running 18\n",
            "[2, 5, 3, 6, 103, 1, 0, 0, 0, 0, 0, 0, 0, 0, 0, 0, 0, 0]\n",
            "Reconstr:  y el que la mujer ,\n",
            "Original:  teniendo al campo la vista ,\n",
            "Epoch 20/180\n",
            "36/36 [==============================] - 2s 67ms/step - loss: 1571.2610 - reconstruction_loss: 1522.4716 - kl_loss: 48.7894\n",
            "Callback running 19\n",
            "[2, 6, 0, 0, 0, 0, 0, 0, 0, 0, 0, 0, 0, 0, 0, 0, 0]\n",
            "Reconstr:  y la \n",
            "Original:  pronto sentí retumbar\n",
            "Epoch 21/180\n",
            "36/36 [==============================] - 2s 66ms/step - loss: 1493.5836 - reconstruction_loss: 1464.0749 - kl_loss: 29.5088\n",
            "Callback running 20\n",
            "[2, 5, 7, 3, 7, 66, 31, 0, 0, 0, 0, 0, 0, 0, 0, 0, 0, 0]\n",
            "Reconstr:  y el de que de yo !\n",
            "Original:  ¿de que pago será crioyo ?\n",
            "Epoch 22/180\n",
            "36/36 [==============================] - 2s 66ms/step - loss: 1509.0959 - reconstruction_loss: 1468.8503 - kl_loss: 40.2455\n",
            "Callback running 21\n",
            "[2, 12, 7, 3, 5, 1, 0, 0, 0, 0, 0, 0, 0, 0, 0, 0, 0]\n",
            "Reconstr:  y no de que el  ,\n",
            "Original:  y de lo que encuentro como;\n",
            "Epoch 23/180\n",
            "36/36 [==============================] - 2s 66ms/step - loss: 1481.5602 - reconstruction_loss: 1441.2257 - kl_loss: 40.3345\n",
            "Callback running 22\n",
            "[2, 3, 9, 6, 31, 0, 0, 0, 0, 0, 0, 0, 0, 0, 0, 0, 0, 0]\n",
            "Reconstr:  y que en la  !\n",
            "Original:  sosegao vivía en mi rancho\n",
            "Epoch 24/180\n",
            "36/36 [==============================] - 2s 67ms/step - loss: 1455.8625 - reconstruction_loss: 1419.4444 - kl_loss: 36.4183\n",
            "Callback running 23\n",
            "[2, 5, 7, 9, 5, 66, 0, 0, 0, 0, 0, 0, 0, 0, 0, 0, 0, 0]\n",
            "Reconstr:  y el de en el yo\n",
            "Original:  que a las aves que vuelan\n",
            "Epoch 25/180\n",
            "36/36 [==============================] - 2s 66ms/step - loss: 1433.9094 - reconstruction_loss: 1398.2767 - kl_loss: 35.6327\n",
            "Callback running 24\n",
            "[3, 5, 7, 9, 11, 66, 4, 0, 0, 0, 0, 0, 0, 0, 0, 0, 0, 0]\n",
            "Reconstr:  que el de en un yo .\n",
            "Original:  pues a mí me pasa igual;\n",
            "Epoch 26/180\n",
            "36/36 [==============================] - 2s 66ms/step - loss: 1404.2039 - reconstruction_loss: 1372.4026 - kl_loss: 31.8013\n",
            "Callback running 25\n",
            "[2, 3, 7, 19, 3441, 0, 0, 0, 0, 0, 0, 0, 0, 0, 0, 0, 0, 0]\n",
            "Reconstr:  y que de las :\n",
            "Original:  le hice una dentrada sola\n",
            "Epoch 27/180\n",
            "36/36 [==============================] - 2s 66ms/step - loss: 1403.7029 - reconstruction_loss: 1362.8000 - kl_loss: 40.9028\n",
            "Callback running 26\n",
            "[3, 5, 3, 6, 30, 31, 0, 0, 0, 0, 0, 0, 0, 0, 0, 0, 0, 0]\n",
            "Reconstr:  que el que la mi  !\n",
            "Original:  de pronto le di un tirón\n",
            "Epoch 28/180\n",
            "36/36 [==============================] - 2s 66ms/step - loss: 1377.2927 - reconstruction_loss: 1340.3499 - kl_loss: 36.9430\n",
            "Callback running 27\n",
            "[2, 12, 16, 16, 9, 6, 1, 31, 0, 0, 0, 0, 0, 0, 0, 0, 0, 0]\n",
            "Reconstr:  y no  ,  , en la  , !\n",
            "Original:  y a poco andar ya lo alcanzan\n",
            "Epoch 29/180\n",
            "36/36 [==============================] - 2s 66ms/step - loss: 1367.2461 - reconstruction_loss: 1329.8960 - kl_loss: 37.3501\n",
            "Callback running 28\n",
            "[35, 5, 11, 3, 5, 0, 0, 0, 0, 0, 0, 0, 0, 0, 0, 0, 0]\n",
            "Reconstr:  pero el un que el \n",
            "Original:  yo me le fui como lista\n",
            "Epoch 30/180\n",
            "36/36 [==============================] - 2s 67ms/step - loss: 1343.3481 - reconstruction_loss: 1305.4771 - kl_loss: 37.8711\n",
            "Callback running 29\n",
            "[35, 9, 6, 170, 0, 0, 0, 0, 0, 0, 0, 0, 0, 0, 0, 0, 0, 0]\n",
            "Reconstr:  pero en la desgraciao\n",
            "Original:  y estas coplitas cantó\n",
            "Epoch 31/180\n",
            "36/36 [==============================] - 2s 66ms/step - loss: 1325.9519 - reconstruction_loss: 1286.3819 - kl_loss: 39.5700\n",
            "Callback running 30\n",
            "[3, 16, 2, 16, 3, 7, 1, 4, 0, 0, 0, 0, 0, 0, 0, 0, 0, 0]\n",
            "Reconstr:  que  , y  , que de  , .\n",
            "Original:  cavo , y la saco al momento .\n",
            "Epoch 32/180\n",
            "36/36 [==============================] - 2s 66ms/step - loss: 1322.8923 - reconstruction_loss: 1280.1243 - kl_loss: 42.7679\n",
            "Callback running 31\n",
            "[2, 12, 3, 3, 9, 5, 114, 0, 0, 0, 0, 0, 0, 0, 0, 0, 0, 0]\n",
            "Reconstr:  y no que que en el vida\n",
            "Original:  y ahi no más volvió a decir\n",
            "Epoch 33/180\n",
            "36/36 [==============================] - 2s 66ms/step - loss: 1278.2249 - reconstruction_loss: 1241.9672 - kl_loss: 36.2575\n",
            "Callback running 32\n",
            "[35, 10, 9, 5, 86, 0, 0, 0, 0, 0, 0, 0, 0, 0, 0, 0, 0, 0]\n",
            "Reconstr:  pero me en el ocasión\n",
            "Original:  pues naides ha de cantar\n",
            "Epoch 34/180\n",
            "36/36 [==============================] - 2s 69ms/step - loss: 1262.1283 - reconstruction_loss: 1223.9728 - kl_loss: 38.1556\n",
            "Callback running 33\n",
            "[3, 3, 16, 16, 5, 324, 1, 0, 0, 0, 0, 0, 0, 0, 0, 0, 0, 0]\n",
            "Reconstr:  que que  ,  , el hoyo ,\n",
            "Original:  el jefe que esté de estable ,\n",
            "Epoch 35/180\n",
            "36/36 [==============================] - 2s 69ms/step - loss: 1302.2002 - reconstruction_loss: 1252.6140 - kl_loss: 49.5863\n",
            "Callback running 34\n",
            "[3, 5, 5, 2, 11, 474, 4, 0, 0, 0, 0, 0, 0, 0, 0, 0, 0, 0]\n",
            "Reconstr:  que el el y un facón .\n",
            "Original:  xi - a bailar un pericón .\n",
            "Epoch 36/180\n",
            "36/36 [==============================] - 2s 69ms/step - loss: 1228.9885 - reconstruction_loss: 1192.1039 - kl_loss: 36.8847\n",
            "Callback running 35\n",
            "[21, 997, 7, 523, 3442, 0, 0, 0, 0, 0, 0, 0, 0, 0, 0, 0, 0, 0]\n",
            "Reconstr:  como atropelló de ajuera;\n",
            "Original:  de guapo y peliador;\n",
            "Epoch 37/180\n",
            "36/36 [==============================] - 3s 70ms/step - loss: 1219.2197 - reconstruction_loss: 1176.6443 - kl_loss: 42.5754\n",
            "Callback running 36\n",
            "[2, 10, 5, 9, 6, 474, 4, 0, 0, 0, 0, 0, 0, 0, 0, 0, 0, 0]\n",
            "Reconstr:  y me el en la facón .\n",
            "Original:  y la eché sobre el candil .\n",
            "Epoch 38/180\n",
            "36/36 [==============================] - 2s 66ms/step - loss: 1176.2498 - reconstruction_loss: 1141.3192 - kl_loss: 34.9305\n",
            "Callback running 37\n",
            "[23, 3, 9, 6, 239, 0, 0, 0, 0, 0, 0, 0, 0, 0, 0, 0, 0, 0]\n",
            "Reconstr:  yo que en la momento\n",
            "Original:  puedo asigurar que el llanto\n",
            "Epoch 39/180\n",
            "36/36 [==============================] - 2s 66ms/step - loss: 1174.0380 - reconstruction_loss: 1134.0016 - kl_loss: 40.0364\n",
            "Callback running 38\n",
            "[27, 12, 16, 16, 3, 6, 6, 268, 0, 0, 0, 0, 0, 0, 0, 0, 0, 0]\n",
            "Reconstr:  ¡no  ,  , que la la  ! ,\n",
            "Original:  ¡el que hoy tan pobre me vea\n",
            "Epoch 40/180\n",
            "36/36 [==============================] - 2s 65ms/step - loss: 1175.9332 - reconstruction_loss: 1131.7668 - kl_loss: 44.1664\n",
            "Callback running 39\n",
            "[23, 12, 9, 6, 498, 1, 0, 0, 0, 0, 0, 0, 0, 0, 0, 0, 0, 0]\n",
            "Reconstr:  yo no en la consuelo ,\n",
            "Original:  vean si me pueden llevar ,\n",
            "Epoch 41/180\n",
            "36/36 [==============================] - 2s 66ms/step - loss: 1197.1946 - reconstruction_loss: 1144.8743 - kl_loss: 52.3202\n",
            "Callback running 40\n",
            "[2, 22, 5, 16, 6, 38, 8, 6, 3442, 0, 0, 0, 0, 0, 0, 0, 0, 0]\n",
            "Reconstr:  y si el  , la ya a la ;\n",
            "Original:  y a la pu-n-ta disparó .\n",
            "Epoch 42/180\n",
            "36/36 [==============================] - 2s 67ms/step - loss: 1136.1516 - reconstruction_loss: 1096.0842 - kl_loss: 40.0673\n",
            "Callback running 41\n",
            "[3, 12, 3, 3, 9, 5, 114, 0, 0, 0, 0, 0, 0, 0, 0, 0, 0, 0]\n",
            "Reconstr:  que no que que en el vida\n",
            "Original:  por de contao , con el tiro\n",
            "Epoch 43/180\n",
            "36/36 [==============================] - 2s 66ms/step - loss: 1097.7578 - reconstruction_loss: 1057.6499 - kl_loss: 40.1078\n",
            "Callback running 42\n",
            "[12, 6, 5, 3, 7, 66, 4, 0, 0, 0, 0, 0, 0, 0, 0, 0, 0, 0]\n",
            "Reconstr:  no la el que de yo .\n",
            "Original:  dijo uno , haciéndose el güeno .\n",
            "Epoch 44/180\n",
            "36/36 [==============================] - 2s 66ms/step - loss: 1078.6987 - reconstruction_loss: 1038.9151 - kl_loss: 39.7836\n",
            "Callback running 43\n",
            "[15, 79, 3, 6, 803, 4, 0, 0, 0, 0, 0, 0, 0, 0, 0, 0, 0, 0]\n",
            "Reconstr:  lo mesmo que la jeta .\n",
            "Original:  lo harté con mis maldiciones .\n",
            "Epoch 45/180\n",
            "36/36 [==============================] - 2s 66ms/step - loss: 1067.7991 - reconstruction_loss: 1026.0424 - kl_loss: 41.7566\n",
            "Callback running 44\n",
            "[15, 79, 7, 1018, 4, 0, 0, 0, 0, 0, 0, 0, 0, 0, 0, 0, 0, 0]\n",
            "Reconstr:  lo mesmo de alvertido .\n",
            "Original:  lo mesmo que buscapié .\n",
            "Epoch 46/180\n",
            "36/36 [==============================] - 2s 65ms/step - loss: 1075.2373 - reconstruction_loss: 1026.6660 - kl_loss: 48.5713\n",
            "Callback running 45\n",
            "[8, 921, 3, 5, 320, 1, 0, 0, 0, 0, 0, 0, 0, 0, 0, 0, 0, 0]\n",
            "Reconstr:  a dan que el juerte ,\n",
            "Original:  de mis penas el relato ,\n",
            "Epoch 47/180\n",
            "36/36 [==============================] - 2s 66ms/step - loss: 1019.1432 - reconstruction_loss: 979.0416 - kl_loss: 40.1016\n",
            "Callback running 46\n",
            "[35, 3, 3, 17, 357, 0, 0, 0, 0, 0, 0, 0, 0, 0, 0, 0, 0, 0]\n",
            "Reconstr:  pero que que al amor\n",
            "Original:  pero ahi me puede quedar\n",
            "Epoch 48/180\n",
            "36/36 [==============================] - 2s 66ms/step - loss: 1020.6976 - reconstruction_loss: 975.3153 - kl_loss: 45.3823\n",
            "Callback running 47\n",
            "[2, 16, 12, 5, 1020, 18, 840, 1, 0, 0, 0, 0, 0, 0, 0, 0, 0, 0]\n",
            "Reconstr:  y  , no el alguno con golpes ,\n",
            "Original:  y que ahi no más se pararon ,\n",
            "Epoch 49/180\n",
            "36/36 [==============================] - 2s 66ms/step - loss: 983.5928 - reconstruction_loss: 942.8340 - kl_loss: 40.7587\n",
            "Callback running 48\n",
            "[10, 14, 3, 5, 127, 4, 0, 0, 0, 0, 0, 0, 0, 0, 0, 0, 0, 0]\n",
            "Reconstr:  me los que el gente .\n",
            "Original:  lo mesmo que un saguaipé .\n",
            "Epoch 50/180\n",
            "36/36 [==============================] - 2s 67ms/step - loss: 952.3134 - reconstruction_loss: 912.3372 - kl_loss: 39.9762\n",
            "Callback running 49\n",
            "[5, 428, 9, 6, 320, 1, 1, 0, 0, 0, 0, 0, 0, 0, 0, 0, 0, 0]\n",
            "Reconstr:  el negroen la juerte , ,\n",
            "Original:  nos decían que el día llegaba ,\n",
            "Epoch 51/180\n",
            "36/36 [==============================] - 2s 66ms/step - loss: 960.9242 - reconstruction_loss: 914.4601 - kl_loss: 46.4641\n",
            "Callback running 50\n",
            "[27, 23, 44, 2003, 31, 0, 0, 0, 0, 0, 0, 0, 0, 0, 0, 0, 0, 0]\n",
            "Reconstr:  ¡yo qué matucho !\n",
            "Original:  ¡sobresaliente el matucho !\n",
            "Epoch 52/180\n",
            "36/36 [==============================] - 2s 66ms/step - loss: 926.9149 - reconstruction_loss: 884.4211 - kl_loss: 42.4938\n",
            "Callback running 51\n",
            "[2, 38, 10, 614, 358, 0, 0, 0, 0, 0, 0, 0, 0, 0, 0, 0, 0, 0]\n",
            "Reconstr:  y ya me sentir allí\n",
            "Original:  y tal vez quiera saber\n",
            "Epoch 53/180\n",
            "36/36 [==============================] - 2s 66ms/step - loss: 920.3928 - reconstruction_loss: 875.7004 - kl_loss: 44.6923\n",
            "Callback running 52\n",
            "[2665, 6, 511, 0, 0, 0, 0, 0, 0, 0, 0, 0, 0, 0, 0, 0, 0, 0]\n",
            "Reconstr:  desocando la bagual\n",
            "Original:  caiban muchos comedidos .\n",
            "Epoch 54/180\n",
            "36/36 [==============================] - 2s 66ms/step - loss: 892.1308 - reconstruction_loss: 847.1796 - kl_loss: 44.9512\n",
            "Callback running 53\n",
            "[8, 3, 3, 34, 320, 1, 0, 0, 0, 0, 0, 0, 0, 0, 0, 0, 0, 0]\n",
            "Reconstr:  a que que su juerte ,\n",
            "Original:  lo haremos pitar del juerte ,\n",
            "Epoch 55/180\n",
            "36/36 [==============================] - 2s 66ms/step - loss: 873.3337 - reconstruction_loss: 828.1116 - kl_loss: 45.2222\n",
            "Callback running 54\n",
            "[3, 243, 16, 16, 16, 25, 11, 272, 3442, 0, 0, 0, 0, 0, 0, 0, 0, 0]\n",
            "Reconstr:  que iban  ,  ,  , ni un vino;\n",
            "Original:  fue el cantor , y se me vino;\n",
            "Epoch 56/180\n",
            "36/36 [==============================] - 2s 66ms/step - loss: 853.7126 - reconstruction_loss: 809.4164 - kl_loss: 44.2962\n",
            "Callback running 55\n",
            "[5, 3, 7, 489, 5, 100, 1, 0, 0, 0, 0, 0, 0, 0, 0, 0, 0, 0]\n",
            "Reconstr:  el que de daban el amigo ,\n",
            "Original:  al que le daban un chuzazo ,\n",
            "Epoch 57/180\n",
            "36/36 [==============================] - 2s 66ms/step - loss: 849.4033 - reconstruction_loss: 799.8850 - kl_loss: 49.5183\n",
            "Callback running 56\n",
            "[62, 2426, 864, 1, 0, 0, 0, 0, 0, 0, 0, 0, 0, 0, 0, 0, 0, 0]\n",
            "Reconstr:  entre estuviéramos escuridá ,\n",
            "Original:  vengan santos milagrosos ,\n",
            "Epoch 58/180\n",
            "36/36 [==============================] - 2s 66ms/step - loss: 820.8145 - reconstruction_loss: 773.4912 - kl_loss: 47.3233\n",
            "Callback running 57\n",
            "[2, 108, 6, 1619, 3428, 3493, 3428, 1315, 2622, 4, 0, 0, 0, 0, 0, 0, 0, 0]\n",
            "Reconstr:  y  - la pu-n-ta disparó .\n",
            "Original:  y a la pu-n-ta disparó .\n",
            "Epoch 59/180\n",
            "36/36 [==============================] - 2s 66ms/step - loss: 799.0741 - reconstruction_loss: 752.4353 - kl_loss: 46.6388\n",
            "Callback running 58\n",
            "[2, 21, 9, 6, 86, 0, 0, 0, 0, 0, 0, 0, 0, 0, 0, 0, 0, 0]\n",
            "Reconstr:  y como en la ocasión\n",
            "Original:  y golpiándose en la boca\n",
            "Epoch 60/180\n",
            "36/36 [==============================] - 2s 66ms/step - loss: 758.3018 - reconstruction_loss: 712.3804 - kl_loss: 45.9215\n",
            "Callback running 59\n",
            "[3295, 6, 511, 4, 0, 0, 0, 0, 0, 0, 0, 0, 0, 0, 0, 0, 0, 0]\n",
            "Reconstr:  aguantemos la bagual .\n",
            "Original:  desocando los reyunos .\n",
            "Epoch 61/180\n",
            "36/36 [==============================] - 2s 66ms/step - loss: 743.7083 - reconstruction_loss: 697.8494 - kl_loss: 45.8588\n",
            "Callback running 60\n",
            "[27, 2329, 65, 421, 0, 0, 0, 0, 0, 0, 0, 0, 0, 0, 0, 0, 0, 0]\n",
            "Reconstr:  ¡grandemente dende pasaba\n",
            "Original:  ¡grandemente lo pasaba\n",
            "Epoch 62/180\n",
            "36/36 [==============================] - 2s 66ms/step - loss: 712.1730 - reconstruction_loss: 664.9315 - kl_loss: 47.2414\n",
            "Callback running 61\n",
            "[21, 215, 7, 411, 4, 0, 0, 0, 0, 0, 0, 0, 0, 0, 0, 0, 0, 0]\n",
            "Reconstr:  como agua de pobre .\n",
            "Original:  como jué la conclusión .\n",
            "Epoch 63/180\n",
            "36/36 [==============================] - 2s 66ms/step - loss: 683.5537 - reconstruction_loss: 637.6379 - kl_loss: 45.9159\n",
            "Callback running 62\n",
            "[555, 17, 315, 16, 2, 563, 336, 8, 2282, 3442, 0, 0, 0, 0, 0, 0, 0, 0]\n",
            "Reconstr:  vi al mayor , y vas fi a hablar;\n",
            "Original:  vi al mayor , y lo fi a hablar;\n",
            "Epoch 64/180\n",
            "36/36 [==============================] - 2s 67ms/step - loss: 686.5193 - reconstruction_loss: 637.0320 - kl_loss: 49.4872\n",
            "Callback running 63\n",
            "[23, 10, 661, 19, 103, 1, 0, 0, 0, 0, 0, 0, 0, 0, 0, 0, 0, 0]\n",
            "Reconstr:  yo me quedaron las mujer ,\n",
            "Original:  antes de cair al servicio ,\n",
            "Epoch 65/180\n",
            "36/36 [==============================] - 2s 66ms/step - loss: 678.7365 - reconstruction_loss: 628.8495 - kl_loss: 49.8870\n",
            "Callback running 64\n",
            "[20, 859, 68, 1571, 0, 0, 0, 0, 0, 0, 0, 0, 0, 0, 0, 0, 0, 0]\n",
            "Reconstr:  le estao tal rabia\n",
            "Original:  se venían tan calladitos\n",
            "Epoch 66/180\n",
            "36/36 [==============================] - 2s 66ms/step - loss: 645.5543 - reconstruction_loss: 595.8055 - kl_loss: 49.7488\n",
            "Callback running 65\n",
            "[10, 148, 940, 10, 1038, 0, 0, 0, 0, 0, 0, 0, 0, 0, 0, 0, 0, 0]\n",
            "Reconstr:  me hacía coplas me adentro\n",
            "Original:  me había acompañao con otros\n",
            "Epoch 67/180\n",
            "36/36 [==============================] - 2s 67ms/step - loss: 647.2274 - reconstruction_loss: 594.0953 - kl_loss: 53.1321\n",
            "Callback running 66\n",
            "[23, 5, 507, 9, 30, 3111, 0, 0, 0, 0, 0, 0, 0, 0, 0, 0, 0, 0]\n",
            "Reconstr:  yo el cabo en mi años\n",
            "Original:  supe una vez por mi mal\n",
            "Epoch 68/180\n",
            "36/36 [==============================] - 2s 66ms/step - loss: 611.4783 - reconstruction_loss: 560.6315 - kl_loss: 50.8468\n",
            "Callback running 67\n",
            "[3, 77, 21, 7, 2226, 0, 0, 0, 0, 0, 0, 0, 0, 0, 0, 0, 0, 0]\n",
            "Reconstr:  que él como de incalaperra\n",
            "Original:  que él era de incalaperra\n",
            "Epoch 69/180\n",
            "36/36 [==============================] - 2s 66ms/step - loss: 567.2402 - reconstruction_loss: 517.6215 - kl_loss: 49.6187\n",
            "Callback running 68\n",
            "[2, 46, 15, 1713, 7, 94, 2525, 0, 0, 0, 0, 0, 0, 0, 0, 0, 0, 0]\n",
            "Reconstr:  y hasta lo pior de aquel enriedo\n",
            "Original:  y es lo pior de aquel enriedo\n",
            "Epoch 70/180\n",
            "36/36 [==============================] - 2s 66ms/step - loss: 546.3901 - reconstruction_loss: 495.9584 - kl_loss: 50.4317\n",
            "Callback running 69\n",
            "[8, 415, 9, 39, 5, 438, 1, 0, 0, 0, 0, 0, 0, 0, 0, 0, 0, 0]\n",
            "Reconstr:  a pie en cuando el malón ,\n",
            "Original:  a pie y mostrando el umbligo ,\n",
            "Epoch 71/180\n",
            "36/36 [==============================] - 2s 67ms/step - loss: 545.7003 - reconstruction_loss: 493.3996 - kl_loss: 52.3008\n",
            "Callback running 70\n",
            "[35, 28, 1500, 5, 310, 4, 0, 0, 0, 0, 0, 0, 0, 0, 0, 0, 0, 0]\n",
            "Reconstr:  pero es resistís el mundo .\n",
            "Original:  pero ya conozco el mundo .\n",
            "Epoch 72/180\n",
            "36/36 [==============================] - 2s 66ms/step - loss: 513.3633 - reconstruction_loss: 461.0036 - kl_loss: 52.3596\n",
            "Callback running 71\n",
            "[88, 7, 36, 13, 1151, 0, 0, 0, 0, 0, 0, 0, 0, 0, 0, 0, 0, 0]\n",
            "Reconstr:  después de gaucho se vecino\n",
            "Original:  después me contó un vecino\n",
            "Epoch 73/180\n",
            "36/36 [==============================] - 2s 66ms/step - loss: 521.2712 - reconstruction_loss: 466.7797 - kl_loss: 54.4915\n",
            "Callback running 72\n",
            "[8, 2277, 18, 6, 608, 4, 0, 0, 0, 0, 0, 0, 0, 0, 0, 0, 0, 0]\n",
            "Reconstr:  a hacerlo con la sierra .\n",
            "Original:  se quedó con la mascada .\n",
            "Epoch 74/180\n",
            "36/36 [==============================] - 2s 66ms/step - loss: 515.9339 - reconstruction_loss: 460.1290 - kl_loss: 55.8049\n",
            "Callback running 73\n",
            "[10, 877, 19, 2638, 1, 0, 0, 0, 0, 0, 0, 0, 0, 0, 0, 0, 0, 0]\n",
            "Reconstr:  me encontraba las digo ,\n",
            "Original:  me encontraba como digo ,\n",
            "Epoch 75/180\n",
            "36/36 [==============================] - 2s 67ms/step - loss: 486.2948 - reconstruction_loss: 431.2043 - kl_loss: 55.0904\n",
            "Callback running 74\n",
            "[53, 30, 904, 5, 892, 4, 0, 0, 0, 0, 0, 0, 0, 0, 0, 0, 0, 0]\n",
            "Reconstr:  mas mi dese el dijunto .\n",
            "Original:  mas bien dese por dijunto .\n",
            "Epoch 76/180\n",
            "36/36 [==============================] - 2s 66ms/step - loss: 459.8710 - reconstruction_loss: 403.2992 - kl_loss: 56.5718\n",
            "Callback running 75\n",
            "[23, 12, 158, 195, 279, 1, 0, 0, 0, 0, 0, 0, 0, 0, 0, 0, 0, 0]\n",
            "Reconstr:  yo no quise muchos veces ,\n",
            "Original:  yo no quise aguardar más ,\n",
            "Epoch 77/180\n",
            "36/36 [==============================] - 2s 67ms/step - loss: 434.6473 - reconstruction_loss: 380.8895 - kl_loss: 53.7578\n",
            "Callback running 76\n",
            "[21, 22, 801, 459, 3442, 0, 0, 0, 0, 0, 0, 0, 0, 0, 0, 0, 0, 0]\n",
            "Reconstr:  como si juera guarida;\n",
            "Original:  como si juera maldito;\n",
            "Epoch 78/180\n",
            "36/36 [==============================] - 2s 66ms/step - loss: 409.5316 - reconstruction_loss: 352.4644 - kl_loss: 57.0672\n",
            "Callback running 77\n",
            "[25, 11, 2407, 15, 982, 1, 0, 0, 0, 0, 0, 0, 0, 0, 0, 0, 0, 0]\n",
            "Reconstr:  ni un fantasmas lo bozal ,\n",
            "Original:  era un gringo tan bozal ,\n",
            "Epoch 79/180\n",
            "36/36 [==============================] - 2s 66ms/step - loss: 395.4106 - reconstruction_loss: 339.6664 - kl_loss: 55.7443\n",
            "Callback running 78\n",
            "[21, 177, 7, 411, 4, 0, 0, 0, 0, 0, 0, 0, 0, 0, 0, 0, 0, 0]\n",
            "Reconstr:  como vida de pobre .\n",
            "Original:  como encomienda de pobre .\n",
            "Epoch 80/180\n",
            "36/36 [==============================] - 2s 67ms/step - loss: 430.2161 - reconstruction_loss: 372.0317 - kl_loss: 58.1844\n",
            "Callback running 79\n",
            "[73, 730, 2096, 9, 1496, 1, 0, 0, 0, 0, 0, 0, 0, 0, 0, 0, 0, 0]\n",
            "Reconstr:  esa ocasión llegar en resto ,\n",
            "Original:  esa ocasión eché el resto ,\n",
            "Epoch 81/180\n",
            "36/36 [==============================] - 2s 66ms/step - loss: 367.1207 - reconstruction_loss: 312.8236 - kl_loss: 54.2972\n",
            "Callback running 80\n",
            "[7, 3, 572, 8, 174, 2093, 3442, 0, 0, 0, 0, 0, 0, 0, 0, 0, 0, 0]\n",
            "Reconstr:  de que traigo a alma llena;\n",
            "Original:  de que traigo la alma llena;\n",
            "Epoch 82/180\n",
            "36/36 [==============================] - 2s 66ms/step - loss: 350.4153 - reconstruction_loss: 294.4399 - kl_loss: 55.9753\n",
            "Callback running 81\n",
            "[2, 28, 20, 148, 36, 6, 443, 0, 0, 0, 0, 0, 0, 0, 0, 0, 0, 0]\n",
            "Reconstr:  y es le hacía gaucho la luz\n",
            "Original:  y hasta le hacía ver la luz\n",
            "Epoch 83/180\n",
            "36/36 [==============================] - 2s 67ms/step - loss: 350.9052 - reconstruction_loss: 293.4652 - kl_loss: 57.4400\n",
            "Callback running 82\n",
            "[15, 327, 332, 34, 356, 1, 0, 0, 0, 0, 0, 0, 0, 0, 0, 0, 0, 0]\n",
            "Reconstr:  lo haiga güelta su arriba ,\n",
            "Original:  lo dan güelta panza arriba ,\n",
            "Epoch 84/180\n",
            "36/36 [==============================] - 2s 66ms/step - loss: 323.3391 - reconstruction_loss: 266.8182 - kl_loss: 56.5210\n",
            "Callback running 83\n",
            "[39, 387, 60, 213, 4, 0, 0, 0, 0, 0, 0, 0, 0, 0, 0, 0, 0, 0]\n",
            "Reconstr:  cuando será otro apuro .\n",
            "Original:  siempre andaban sin apuro .\n",
            "Epoch 85/180\n",
            "36/36 [==============================] - 2s 66ms/step - loss: 311.8344 - reconstruction_loss: 257.1736 - kl_loss: 54.6608\n",
            "Callback running 84\n",
            "[2, 46, 20, 148, 115, 6, 443, 0, 0, 0, 0, 0, 0, 0, 0, 0, 0, 0]\n",
            "Reconstr:  y hasta le hacía ver la luz\n",
            "Original:  y hasta le hacía ver la luz\n",
            "Epoch 86/180\n",
            "36/36 [==============================] - 2s 67ms/step - loss: 308.5746 - reconstruction_loss: 251.9797 - kl_loss: 56.5949\n",
            "Callback running 85\n",
            "[19, 1552, 7, 14, 687, 4, 0, 0, 0, 0, 0, 0, 0, 0, 0, 0, 0, 0]\n",
            "Reconstr:  las razones de los pobres .\n",
            "Original:  las razones de los pobres .\n",
            "Epoch 87/180\n",
            "36/36 [==============================] - 2s 66ms/step - loss: 295.1223 - reconstruction_loss: 239.1163 - kl_loss: 56.0060\n",
            "Callback running 86\n",
            "[2, 22, 28, 3, 3, 13, 3138, 1, 0, 0, 0, 0, 0, 0, 0, 0, 0, 0]\n",
            "Reconstr:  y si es que que se atreve ,\n",
            "Original:  y si es que alguno se atreve ,\n",
            "Epoch 88/180\n",
            "36/36 [==============================] - 2s 67ms/step - loss: 274.5397 - reconstruction_loss: 217.0822 - kl_loss: 57.4575\n",
            "Callback running 87\n",
            "[2, 248, 208, 12, 10, 2530, 4, 0, 0, 0, 0, 0, 0, 0, 0, 0, 0, 0]\n",
            "Reconstr:  y esas cosas no me enllenan .\n",
            "Original:  y esas cosas no me enllenan .\n",
            "Epoch 89/180\n",
            "36/36 [==============================] - 2s 66ms/step - loss: 262.6177 - reconstruction_loss: 206.3510 - kl_loss: 56.2667\n",
            "Callback running 88\n",
            "[6, 165, 20, 185, 9, 2103, 0, 0, 0, 0, 0, 0, 0, 0, 0, 0, 0, 0]\n",
            "Reconstr:  la gente le sobre en llamar\n",
            "Original:  la gente le dio en llamar\n",
            "Epoch 90/180\n",
            "36/36 [==============================] - 2s 66ms/step - loss: 262.3931 - reconstruction_loss: 206.0943 - kl_loss: 56.2987\n",
            "Callback running 89\n",
            "[7, 1758, 5, 347, 0, 0, 0, 0, 0, 0, 0, 0, 0, 0, 0, 0, 0, 0]\n",
            "Reconstr:  de perdonara el delito\n",
            "Original:  me perdonara el delito\n",
            "Epoch 91/180\n",
            "36/36 [==============================] - 2s 66ms/step - loss: 257.8938 - reconstruction_loss: 201.4952 - kl_loss: 56.3987\n",
            "Callback running 90\n",
            "[23, 95, 281, 1996, 3062, 0, 0, 0, 0, 0, 0, 0, 0, 0, 0, 0, 0, 0]\n",
            "Reconstr:  yo tenía unas medias botas\n",
            "Original:  yo tenía unas medias botas\n",
            "Epoch 92/180\n",
            "36/36 [==============================] - 2s 67ms/step - loss: 284.9559 - reconstruction_loss: 227.4281 - kl_loss: 57.5278\n",
            "Callback running 91\n",
            "[33, 3, 25, 1170, 1045, 994, 529, 13, 10, 724, 1, 0, 0, 0, 0, 0, 0, 0]\n",
            "Reconstr:  sin que ni un ¡ay ! se me oyera ,\n",
            "Original:  sin que ni un ¡ay ! se me oyera ,\n",
            "Epoch 93/180\n",
            "36/36 [==============================] - 2s 66ms/step - loss: 241.8061 - reconstruction_loss: 185.5446 - kl_loss: 56.2614\n",
            "Callback running 92\n",
            "[17, 36, 481, 7, 986, 3441, 0, 0, 0, 0, 0, 0, 0, 0, 0, 0, 0, 0]\n",
            "Reconstr:  al gaucho duro de boca:\n",
            "Original:  un gaucho duro de boca:\n",
            "Epoch 94/180\n",
            "36/36 [==============================] - 2s 66ms/step - loss: 228.0681 - reconstruction_loss: 172.3411 - kl_loss: 55.7270\n",
            "Callback running 93\n",
            "[11, 1992, 50, 5, 82, 66, 55, 0, 0, 0, 0, 0, 0, 0, 0, 0, 0, 0]\n",
            "Reconstr:  un menistro o el sé yo . . .\n",
            "Original:  los pasteles y el güen vino . . .\n",
            "Epoch 95/180\n",
            "36/36 [==============================] - 2s 66ms/step - loss: 241.5137 - reconstruction_loss: 185.8697 - kl_loss: 55.6440\n",
            "Callback running 94\n",
            "[3, 73, 7, 157, 50, 586, 1, 0, 0, 0, 0, 0, 0, 0, 0, 0, 0, 0]\n",
            "Reconstr:  que esa de venga o tardanza ,\n",
            "Original:  que iba a venir sin tardanza ,\n",
            "Epoch 96/180\n",
            "36/36 [==============================] - 2s 66ms/step - loss: 251.4290 - reconstruction_loss: 193.1504 - kl_loss: 58.2785\n",
            "Callback running 95\n",
            "[12, 627, 7, 34, 2172, 0, 0, 0, 0, 0, 0, 0, 0, 0, 0, 0, 0, 0]\n",
            "Reconstr:  no salvan de su juror\n",
            "Original:  no salvan de su juror\n",
            "Epoch 97/180\n",
            "36/36 [==============================] - 2s 67ms/step - loss: 202.4636 - reconstruction_loss: 150.2296 - kl_loss: 52.2340\n",
            "Callback running 96\n",
            "[136, 5, 2879, 11, 80, 0, 0, 0, 0, 0, 0, 0, 0, 0, 0, 0, 0, 0]\n",
            "Reconstr:  vino el comendante un día\n",
            "Original:  vino el comendante un día\n",
            "Epoch 98/180\n",
            "36/36 [==============================] - 2s 67ms/step - loss: 221.1019 - reconstruction_loss: 165.1340 - kl_loss: 55.9679\n",
            "Callback running 97\n",
            "[59, 5, 84, 149, 1044, 353, 268, 0, 0, 0, 0, 0, 0, 0, 0, 0, 0, 0]\n",
            "Reconstr:  porque el ser gaucho- ¡barajo ! ,\n",
            "Original:  porque el ser gaucho- ¡barajo ! ,\n",
            "Epoch 99/180\n",
            "36/36 [==============================] - 2s 67ms/step - loss: 209.3745 - reconstruction_loss: 156.5515 - kl_loss: 52.8230\n",
            "Callback running 98\n",
            "[455, 15, 109, 1530, 0, 0, 0, 0, 0, 0, 0, 0, 0, 0, 0, 0, 0, 0]\n",
            "Reconstr:  jamás lo tanto recular\n",
            "Original:  nada lo hace recular\n",
            "Epoch 100/180\n",
            "36/36 [==============================] - 2s 67ms/step - loss: 200.0957 - reconstruction_loss: 146.7250 - kl_loss: 53.3706\n",
            "Callback running 99\n",
            "[2674, 6, 975, 7, 530, 3442, 0, 0, 0, 0, 0, 0, 0, 0, 0, 0, 0, 0]\n",
            "Reconstr:  desde la buche de ñandú;\n",
            "Original:  tenía un buche de ñandú;\n",
            "Epoch 101/180\n",
            "36/36 [==============================] - 2s 67ms/step - loss: 225.6026 - reconstruction_loss: 169.6821 - kl_loss: 55.9205\n",
            "Callback running 100\n",
            "[27, 32, 2158, 611, 541, 31, 0, 0, 0, 0, 0, 0, 0, 0, 0, 0, 0, 0]\n",
            "Reconstr:  ¡más lagarto serás vos !\n",
            "Original:  ¡más lagarto serás vos !\n",
            "Epoch 102/180\n",
            "36/36 [==============================] - 2s 66ms/step - loss: 208.4426 - reconstruction_loss: 155.7434 - kl_loss: 52.6992\n",
            "Callback running 101\n",
            "[23, 12, 140, 9, 5, 357, 0, 0, 0, 0, 0, 0, 0, 0, 0, 0, 0, 0]\n",
            "Reconstr:  yo no tengo en el amor\n",
            "Original:  yo no tengo en el amor\n",
            "Epoch 103/180\n",
            "36/36 [==============================] - 2s 67ms/step - loss: 193.7771 - reconstruction_loss: 142.4110 - kl_loss: 51.3661\n",
            "Callback running 102\n",
            "[6, 3167, 38, 13, 1041, 3442, 0, 0, 0, 0, 0, 0, 0, 0, 0, 0, 0, 0]\n",
            "Reconstr:  la arroyé ya se acabó;\n",
            "Original:  la paga ya se acabó;\n",
            "Epoch 104/180\n",
            "36/36 [==============================] - 2s 67ms/step - loss: 207.5556 - reconstruction_loss: 154.6922 - kl_loss: 52.8634\n",
            "Callback running 103\n",
            "[7, 19, 2024, 2, 19, 1808, 0, 0, 0, 0, 0, 0, 0, 0, 0, 0, 0, 0]\n",
            "Reconstr:  de las manos y las patas\n",
            "Original:  de las manos y las patas\n",
            "Epoch 105/180\n",
            "36/36 [==============================] - 2s 66ms/step - loss: 209.3674 - reconstruction_loss: 154.8179 - kl_loss: 54.5495\n",
            "Callback running 104\n",
            "[43, 220, 30, 319, 4, 0, 0, 0, 0, 0, 0, 0, 0, 0, 0, 0, 0, 0]\n",
            "Reconstr:  aunque vengan mi juntos .\n",
            "Original:  aunque vengan todos juntos .\n",
            "Epoch 106/180\n",
            "36/36 [==============================] - 2s 66ms/step - loss: 183.1029 - reconstruction_loss: 131.0270 - kl_loss: 52.0758\n",
            "Callback running 105\n",
            "[559, 2886, 5, 1027, 0, 0, 0, 0, 0, 0, 0, 0, 0, 0, 0, 0, 0, 0]\n",
            "Reconstr:  venía coloriando el alba\n",
            "Original:  venía coloriando el alba\n",
            "Epoch 107/180\n",
            "36/36 [==============================] - 2s 66ms/step - loss: 192.1589 - reconstruction_loss: 138.2728 - kl_loss: 53.8861\n",
            "Callback running 106\n",
            "[2, 2738, 128, 8, 70, 941, 0, 0, 0, 0, 0, 0, 0, 0, 0, 0, 0, 0]\n",
            "Reconstr:  y daré fin a mis coplas\n",
            "Original:  y daré fin a mis coplas\n",
            "Epoch 108/180\n",
            "36/36 [==============================] - 2s 66ms/step - loss: 181.2906 - reconstruction_loss: 129.6057 - kl_loss: 51.6849\n",
            "Callback running 107\n",
            "[606, 51, 14, 3085, 0, 0, 0, 0, 0, 0, 0, 0, 0, 0, 0, 0, 0, 0]\n",
            "Reconstr:  siguiendo siempre los besos\n",
            "Original:  siguiendo siempre los besos\n",
            "Epoch 109/180\n",
            "36/36 [==============================] - 2s 66ms/step - loss: 170.8995 - reconstruction_loss: 120.8238 - kl_loss: 50.0757\n",
            "Callback running 108\n",
            "[59, 47, 24, 1561, 0, 0, 0, 0, 0, 0, 0, 0, 0, 0, 0, 0, 0, 0]\n",
            "Reconstr:  porque había una rastrillada\n",
            "Original:  porque había una rastrillada\n",
            "Epoch 110/180\n",
            "36/36 [==============================] - 2s 66ms/step - loss: 170.1919 - reconstruction_loss: 120.1791 - kl_loss: 50.0128\n",
            "Callback running 109\n",
            "[56, 3, 9, 24, 86, 0, 0, 0, 0, 0, 0, 0, 0, 0, 0, 0, 0, 0]\n",
            "Reconstr:  uno que en una ocasión\n",
            "Original:  hasta que en una ocasión\n",
            "Epoch 111/180\n",
            "36/36 [==============================] - 2s 66ms/step - loss: 188.5399 - reconstruction_loss: 137.1976 - kl_loss: 51.3423\n",
            "Callback running 110\n",
            "[2156, 5, 99, 695, 4, 0, 0, 0, 0, 0, 0, 0, 0, 0, 0, 0, 0, 0]\n",
            "Reconstr:  lamentar el bien perdido .\n",
            "Original:  lamentar el bien perdido .\n",
            "Epoch 112/180\n",
            "36/36 [==============================] - 2s 66ms/step - loss: 182.9500 - reconstruction_loss: 131.7655 - kl_loss: 51.1846\n",
            "Callback running 111\n",
            "[35, 21, 740, 5, 1788, 0, 0, 0, 0, 0, 0, 0, 0, 0, 0, 0, 0, 0]\n",
            "Reconstr:  pero como nace el peje\n",
            "Original:  nací como nace el peje\n",
            "Epoch 113/180\n",
            "36/36 [==============================] - 2s 66ms/step - loss: 187.5641 - reconstruction_loss: 136.7692 - kl_loss: 50.7948\n",
            "Callback running 112\n",
            "[65, 956, 13, 401, 0, 0, 0, 0, 0, 0, 0, 0, 0, 0, 0, 0, 0, 0]\n",
            "Reconstr:  dende chico se quedé\n",
            "Original:  dende chico se parece\n",
            "Epoch 114/180\n",
            "36/36 [==============================] - 2s 66ms/step - loss: 162.1088 - reconstruction_loss: 112.4931 - kl_loss: 49.6157\n",
            "Callback running 113\n",
            "[181, 1016, 2264, 1, 0, 0, 0, 0, 0, 0, 0, 0, 0, 0, 0, 0, 0, 0]\n",
            "Reconstr:  tantos amigos hallé ,\n",
            "Original:  tantos amigos hallé ,\n",
            "Epoch 115/180\n",
            "36/36 [==============================] - 2s 67ms/step - loss: 144.9484 - reconstruction_loss: 96.7904 - kl_loss: 48.1581\n",
            "Callback running 114\n",
            "[21, 2798, 2519, 1, 0, 0, 0, 0, 0, 0, 0, 0, 0, 0, 0, 0, 0, 0]\n",
            "Reconstr:  como criollos entendidos ,\n",
            "Original:  como criollos entendidos ,\n",
            "Epoch 116/180\n",
            "36/36 [==============================] - 2s 66ms/step - loss: 144.0143 - reconstruction_loss: 96.7479 - kl_loss: 47.2664\n",
            "Callback running 115\n",
            "[27, 183, 30, 3098, 268, 0, 0, 0, 0, 0, 0, 0, 0, 0, 0, 0, 0, 0]\n",
            "Reconstr:  ¡suertemi barbaridá ! ,\n",
            "Original:  pero aura . . . ¡barbaridá ! ,\n",
            "Epoch 117/180\n",
            "36/36 [==============================] - 2s 66ms/step - loss: 151.4887 - reconstruction_loss: 103.3441 - kl_loss: 48.1446\n",
            "Callback running 116\n",
            "[12, 45, 11, 174, 2869, 0, 0, 0, 0, 0, 0, 0, 0, 0, 0, 0, 0, 0]\n",
            "Reconstr:  no hay un alma compasiva\n",
            "Original:  no hay un alma compasiva\n",
            "Epoch 118/180\n",
            "36/36 [==============================] - 2s 67ms/step - loss: 158.5172 - reconstruction_loss: 109.5634 - kl_loss: 48.9539\n",
            "Callback running 117\n",
            "[1078, 13, 6, 309, 7, 132, 4, 0, 0, 0, 0, 0, 0, 0, 0, 0, 0, 0]\n",
            "Reconstr:  xise la mundo de cantar .\n",
            "Original:  no se la ve de aporriada .\n",
            "Epoch 119/180\n",
            "36/36 [==============================] - 2s 67ms/step - loss: 144.1315 - reconstruction_loss: 95.8752 - kl_loss: 48.2563\n",
            "Callback running 118\n",
            "[62, 182, 864, 0, 0, 0, 0, 0, 0, 0, 0, 0, 0, 0, 0, 0, 0, 0]\n",
            "Reconstr:  entre tanta escuridá\n",
            "Original:  entre tanta escuridá\n",
            "Epoch 120/180\n",
            "36/36 [==============================] - 2s 66ms/step - loss: 137.9702 - reconstruction_loss: 90.2908 - kl_loss: 47.6794\n",
            "Callback running 119\n",
            "[1158, 16, 262, 2791, 4, 0, 0, 0, 0, 0, 0, 0, 0, 0, 0, 0, 0, 0]\n",
            "Reconstr:  vamonós , amigo cruz .\n",
            "Original:  vamonós , amigo cruz .\n",
            "Epoch 121/180\n",
            "36/36 [==============================] - 2s 67ms/step - loss: 132.5174 - reconstruction_loss: 86.6030 - kl_loss: 45.9144\n",
            "Callback running 120\n",
            "[338, 83, 19, 731, 0, 0, 0, 0, 0, 0, 0, 0, 0, 0, 0, 0, 0, 0]\n",
            "Reconstr:  estas son las ocasiones\n",
            "Original:  estas son las ocasiones\n",
            "Epoch 122/180\n",
            "36/36 [==============================] - 2s 66ms/step - loss: 143.6760 - reconstruction_loss: 96.7939 - kl_loss: 46.8820\n",
            "Callback running 121\n",
            "[2, 949, 3, 12, 1584, 0, 0, 0, 0, 0, 0, 0, 0, 0, 0, 0, 0, 0]\n",
            "Reconstr:  y colijo que no quieren\n",
            "Original:  y colijo que no quieren\n",
            "Epoch 123/180\n",
            "36/36 [==============================] - 2s 67ms/step - loss: 153.3246 - reconstruction_loss: 105.2947 - kl_loss: 48.0299\n",
            "Callback running 122\n",
            "[254, 3276, 2983, 1, 0, 0, 0, 0, 0, 0, 0, 0, 0, 0, 0, 0, 0, 0]\n",
            "Reconstr:  dando alaridos cargó ,\n",
            "Original:  dando alaridos cargó ,\n",
            "Epoch 124/180\n",
            "36/36 [==============================] - 2s 66ms/step - loss: 129.3215 - reconstruction_loss: 84.0312 - kl_loss: 45.2903\n",
            "Callback running 123\n",
            "[32, 1627, 3, 3, 11, 3255, 1, 0, 0, 0, 0, 0, 0, 0, 0, 0, 0, 0]\n",
            "Reconstr:  más promesas que que un altar ,\n",
            "Original:  más promesas que a un altar ,\n",
            "Epoch 125/180\n",
            "36/36 [==============================] - 2s 67ms/step - loss: 128.6045 - reconstruction_loss: 82.9808 - kl_loss: 45.6237\n",
            "Callback running 124\n",
            "[56, 3, 9, 24, 1309, 0, 0, 0, 0, 0, 0, 0, 0, 0, 0, 0, 0, 0]\n",
            "Reconstr:  uno que en una tacuara\n",
            "Original:  uno que en una tacuara\n",
            "Epoch 126/180\n",
            "36/36 [==============================] - 2s 67ms/step - loss: 116.6238 - reconstruction_loss: 71.4177 - kl_loss: 45.2062\n",
            "Callback running 125\n",
            "[1433, 222, 63, 675, 1, 0, 0, 0, 0, 0, 0, 0, 0, 0, 0, 0, 0, 0]\n",
            "Reconstr:  sacaron unos sus prendas ,\n",
            "Original:  sacaron unos sus prendas ,\n",
            "Epoch 127/180\n",
            "36/36 [==============================] - 2s 67ms/step - loss: 121.8274 - reconstruction_loss: 75.6441 - kl_loss: 46.1833\n",
            "Callback running 126\n",
            "[1632, 5, 2394, 40, 495, 4, 0, 0, 0, 0, 0, 0, 0, 0, 0, 0, 0, 0]\n",
            "Reconstr:  probé el filo del cuchillo .\n",
            "Original:  probé el filo del cuchillo .\n",
            "Epoch 128/180\n",
            "36/36 [==============================] - 2s 66ms/step - loss: 116.4944 - reconstruction_loss: 71.4679 - kl_loss: 45.0265\n",
            "Callback running 127\n",
            "[39, 5, 2321, 40, 2935, 0, 0, 0, 0, 0, 0, 0, 0, 0, 0, 0, 0, 0]\n",
            "Reconstr:  cuando el grito del chajá\n",
            "Original:  cuando el grito del chajá\n",
            "Epoch 129/180\n",
            "36/36 [==============================] - 2s 66ms/step - loss: 109.7371 - reconstruction_loss: 66.0634 - kl_loss: 43.6737\n",
            "Callback running 128\n",
            "[39, 13, 173, 9, 5, 1133, 0, 0, 0, 0, 0, 0, 0, 0, 0, 0, 0, 0]\n",
            "Reconstr:  cuando se anda en el verano\n",
            "Original:  cuando se anda en el desierto\n",
            "Epoch 130/180\n",
            "36/36 [==============================] - 2s 67ms/step - loss: 131.5385 - reconstruction_loss: 86.5775 - kl_loss: 44.9610\n",
            "Callback running 129\n",
            "[25, 1566, 74, 2354, 1, 0, 0, 0, 0, 0, 0, 0, 0, 0, 0, 0, 0, 0]\n",
            "Reconstr:  ni ramada ande ganarse ,\n",
            "Original:  ni ramada ande ganarse ,\n",
            "Epoch 131/180\n",
            "36/36 [==============================] - 2s 67ms/step - loss: 114.0223 - reconstruction_loss: 70.7540 - kl_loss: 43.2683\n",
            "Callback running 130\n",
            "[18, 5, 260, 13, 2846, 4, 0, 0, 0, 0, 0, 0, 0, 0, 0, 0, 0, 0]\n",
            "Reconstr:  con el cantar se consuela .\n",
            "Original:  con el cantar se consuela .\n",
            "Epoch 132/180\n",
            "36/36 [==============================] - 2s 67ms/step - loss: 114.1519 - reconstruction_loss: 69.8638 - kl_loss: 44.2881\n",
            "Callback running 131\n",
            "[2270, 5, 1469, 8, 34, 835, 0, 0, 0, 0, 0, 0, 0, 0, 0, 0, 0, 0]\n",
            "Reconstr:  hacían el robo a su gusto\n",
            "Original:  hacían el robo a su gusto\n",
            "Epoch 133/180\n",
            "36/36 [==============================] - 2s 66ms/step - loss: 108.9542 - reconstruction_loss: 65.9220 - kl_loss: 43.0322\n",
            "Callback running 132\n",
            "[8, 2725, 15, 3, 421, 55, 0, 0, 0, 0, 0, 0, 0, 0, 0, 0, 0, 0]\n",
            "Reconstr:  a decir lo que pasaba . . .\n",
            "Original:  a decir lo que pasaba . . .\n",
            "Epoch 134/180\n",
            "36/36 [==============================] - 2s 67ms/step - loss: 123.4244 - reconstruction_loss: 79.0314 - kl_loss: 44.3930\n",
            "Callback running 133\n",
            "[39, 2508, 200, 2160, 4, 0, 0, 0, 0, 0, 0, 0, 0, 0, 0, 0, 0, 0]\n",
            "Reconstr:  cuando entran indios ladrones .\n",
            "Original:  cuando entran indios ladrones .\n",
            "Epoch 135/180\n",
            "36/36 [==============================] - 2s 67ms/step - loss: 124.2517 - reconstruction_loss: 79.0102 - kl_loss: 45.2414\n",
            "Callback running 134\n",
            "[3, 2719, 34, 459, 4, 0, 0, 0, 0, 0, 0, 0, 0, 0, 0, 0, 0, 0]\n",
            "Reconstr:  que defiende su guarida .\n",
            "Original:  que defiende su guarida .\n",
            "Epoch 136/180\n",
            "36/36 [==============================] - 2s 67ms/step - loss: 105.0807 - reconstruction_loss: 62.1973 - kl_loss: 42.8834\n",
            "Callback running 135\n",
            "[2, 9, 34, 508, 1416, 3442, 0, 0, 0, 0, 0, 0, 0, 0, 0, 0, 0, 0]\n",
            "Reconstr:  y en su caballo salté;\n",
            "Original:  y en su caballo salté;\n",
            "Epoch 137/180\n",
            "36/36 [==============================] - 2s 69ms/step - loss: 104.3858 - reconstruction_loss: 63.0072 - kl_loss: 41.3786\n",
            "Callback running 136\n",
            "[2, 281, 3097, 1165, 1, 0, 0, 0, 0, 0, 0, 0, 0, 0, 0, 0, 0, 0]\n",
            "Reconstr:  y unas barricas vacías ,\n",
            "Original:  y unas barricas vacías ,\n",
            "Epoch 138/180\n",
            "36/36 [==============================] - 2s 69ms/step - loss: 98.4392 - reconstruction_loss: 55.9980 - kl_loss: 42.4412\n",
            "Callback running 137\n",
            "[2, 10, 390, 2440, 1, 0, 0, 0, 0, 0, 0, 0, 0, 0, 0, 0, 0, 0]\n",
            "Reconstr:  y me salí esternudando ,\n",
            "Original:  y me salí esternudando ,\n",
            "Epoch 139/180\n",
            "36/36 [==============================] - 2s 67ms/step - loss: 114.0394 - reconstruction_loss: 69.6066 - kl_loss: 44.4329\n",
            "Callback running 138\n",
            "[15, 3159, 18, 34, 491, 1, 0, 0, 0, 0, 0, 0, 0, 0, 0, 0, 0, 0]\n",
            "Reconstr:  lo asiste con su cuidao ,\n",
            "Original:  lo asiste con su cuidao ,\n",
            "Epoch 140/180\n",
            "36/36 [==============================] - 2s 67ms/step - loss: 104.3849 - reconstruction_loss: 62.0518 - kl_loss: 42.3332\n",
            "Callback running 139\n",
            "[2, 9, 5, 72, 7, 19, 3157, 0, 0, 0, 0, 0, 0, 0, 0, 0, 0, 0]\n",
            "Reconstr:  y en el medio de las aspas\n",
            "Original:  y en el medio de las aspas\n",
            "Epoch 141/180\n",
            "36/36 [==============================] - 2s 68ms/step - loss: 105.0893 - reconstruction_loss: 61.4496 - kl_loss: 43.6396\n",
            "Callback running 140\n",
            "[6, 96, 7, 91, 14, 100, 1, 0, 0, 0, 0, 0, 0, 0, 0, 0, 0, 0, 0]\n",
            "Reconstr:  la suerte de este los amigo ,\n",
            "Original:  la suerte de este su amigo ,\n",
            "Epoch 142/180\n",
            "36/36 [==============================] - 2s 67ms/step - loss: 93.8773 - reconstruction_loss: 52.9122 - kl_loss: 40.9651\n",
            "Callback running 141\n",
            "[120, 5, 1777, 10, 2467, 3442, 0, 0, 0, 0, 0, 0, 0, 0, 0, 0, 0, 0]\n",
            "Reconstr:  poco el peligro me espanta;\n",
            "Original:  poco el peligro me espanta;\n",
            "Epoch 143/180\n",
            "36/36 [==============================] - 2s 67ms/step - loss: 99.0470 - reconstruction_loss: 57.1482 - kl_loss: 41.8988\n",
            "Callback running 142\n",
            "[2, 1380, 8, 11, 511, 0, 0, 0, 0, 0, 0, 0, 0, 0, 0, 0, 0, 0]\n",
            "Reconstr:  y sentársele a un bagual\n",
            "Original:  y sentársele a un bagual\n",
            "Epoch 144/180\n",
            "36/36 [==============================] - 2s 67ms/step - loss: 108.5520 - reconstruction_loss: 66.2831 - kl_loss: 42.2689\n",
            "Callback running 143\n",
            "[52, 39, 1606, 10, 874, 0, 0, 0, 0, 0, 0, 0, 0, 0, 0, 0, 0, 0]\n",
            "Reconstr:  pues cuando puntiao me encuentro\n",
            "Original:  pues cuando puntiao me encuentro\n",
            "Epoch 145/180\n",
            "36/36 [==============================] - 2s 67ms/step - loss: 106.8664 - reconstruction_loss: 64.8977 - kl_loss: 41.9687\n",
            "Callback running 144\n",
            "[2, 250, 7, 2336, 11, 1310, 3442, 0, 0, 0, 0, 0, 0, 0, 0, 0, 0, 0]\n",
            "Reconstr:  y eché de giñebra un taco;\n",
            "Original:  y eché de giñebra un taco;\n",
            "Epoch 146/180\n",
            "36/36 [==============================] - 2s 67ms/step - loss: 95.8888 - reconstruction_loss: 54.8950 - kl_loss: 40.9938\n",
            "Callback running 145\n",
            "[18, 19, 697, 3, 20, 344, 4, 0, 0, 0, 0, 0, 0, 0, 0, 0, 0, 0]\n",
            "Reconstr:  con las penas que le dio .\n",
            "Original:  con las penas que le dio .\n",
            "Epoch 147/180\n",
            "36/36 [==============================] - 2s 67ms/step - loss: 95.2705 - reconstruction_loss: 53.7033 - kl_loss: 41.5672\n",
            "Callback running 146\n",
            "[908, 8, 3009, 9, 618, 0, 0, 0, 0, 0, 0, 0, 0, 0, 0, 0, 0, 0]\n",
            "Reconstr:  dentré a campiar en seguida\n",
            "Original:  dentré a campiar en seguida\n",
            "Epoch 148/180\n",
            "36/36 [==============================] - 2s 67ms/step - loss: 90.7435 - reconstruction_loss: 48.6842 - kl_loss: 42.0594\n",
            "Callback running 147\n",
            "[29, 253, 11, 372, 7, 3005, 0, 0, 0, 0, 0, 0, 0, 0, 0, 0, 0, 0]\n",
            "Reconstr:  pa darle un trago de cana\n",
            "Original:  pa darle un trago de cana\n",
            "Epoch 149/180\n",
            "36/36 [==============================] - 2s 67ms/step - loss: 90.3149 - reconstruction_loss: 49.5559 - kl_loss: 40.7590\n",
            "Callback running 148\n",
            "[383, 24, 67, 26, 30, 441, 0, 0, 0, 0, 0, 0, 0, 0, 0, 0, 0, 0]\n",
            "Reconstr:  supe una vez por mi mal\n",
            "Original:  supe una vez por mi mal\n",
            "Epoch 150/180\n",
            "36/36 [==============================] - 2s 67ms/step - loss: 88.8399 - reconstruction_loss: 48.7713 - kl_loss: 40.0686\n",
            "Callback running 149\n",
            "[2, 10, 3281, 99, 6, 2415, 1, 0, 0, 0, 0, 0, 0, 0, 0, 0, 0, 0]\n",
            "Reconstr:  y me ajusté bien la faja ,\n",
            "Original:  y me ajusté bien la faja ,\n",
            "Epoch 151/180\n",
            "36/36 [==============================] - 2s 67ms/step - loss: 86.9158 - reconstruction_loss: 47.2865 - kl_loss: 39.6292\n",
            "Callback running 150\n",
            "[195, 2194, 18, 339, 1, 0, 0, 0, 0, 0, 0, 0, 0, 0, 0, 0, 0, 0]\n",
            "Reconstr:  muchos jefes con estancia ,\n",
            "Original:  muchos jefes con estancia ,\n",
            "Epoch 152/180\n",
            "36/36 [==============================] - 2s 67ms/step - loss: 85.4141 - reconstruction_loss: 45.9164 - kl_loss: 39.4977\n",
            "Callback running 151\n",
            "[13, 142, 3140, 8, 11, 352, 4, 0, 0, 0, 0, 0, 0, 0, 0, 0, 0, 0]\n",
            "Reconstr:  se sabe atracar a un bolas .\n",
            "Original:  se sabe atracar a un pingo .\n",
            "Epoch 153/180\n",
            "36/36 [==============================] - 2s 67ms/step - loss: 85.2412 - reconstruction_loss: 45.7894 - kl_loss: 39.4518\n",
            "Callback running 152\n",
            "[18, 5, 802, 99, 1654, 0, 0, 0, 0, 0, 0, 0, 0, 0, 0, 0, 0, 0]\n",
            "Reconstr:  con el juego bien prendido\n",
            "Original:  con el juego bien prendido\n",
            "Epoch 154/180\n",
            "36/36 [==============================] - 2s 68ms/step - loss: 81.0479 - reconstruction_loss: 42.1772 - kl_loss: 38.8708\n",
            "Callback running 153\n",
            "[25, 13, 2065, 259, 5, 700, 31, 0, 0, 0, 0, 0, 0, 0, 0, 0, 0, 0]\n",
            "Reconstr:  ni se lonjea contra el pelo !\n",
            "Original:  ni se lonjea contra el pelo !\n",
            "Epoch 155/180\n",
            "36/36 [==============================] - 2s 69ms/step - loss: 94.7924 - reconstruction_loss: 53.6048 - kl_loss: 41.1876\n",
            "Callback running 154\n",
            "[8, 981, 21, 24, 2073, 4, 0, 0, 0, 0, 0, 0, 0, 0, 0, 0, 0, 0]\n",
            "Reconstr:  a bramar como una loba .\n",
            "Original:  a bramar como una loba .\n",
            "Epoch 156/180\n",
            "36/36 [==============================] - 3s 69ms/step - loss: 81.7250 - reconstruction_loss: 42.8656 - kl_loss: 38.8594\n",
            "Callback running 155\n",
            "[20, 1289, 9, 5, 229, 3442, 0, 0, 0, 0, 0, 0, 0, 0, 0, 0, 0, 0]\n",
            "Reconstr:  le tendieron en el suelo;\n",
            "Original:  me tendieron en el suelo;\n",
            "Epoch 157/180\n",
            "36/36 [==============================] - 2s 69ms/step - loss: 79.4753 - reconstruction_loss: 40.3359 - kl_loss: 39.1394\n",
            "Callback running 156\n",
            "[906, 19, 283, 764, 0, 0, 0, 0, 0, 0, 0, 0, 0, 0, 0, 0, 0, 0]\n",
            "Reconstr:  desaté las tres marías\n",
            "Original:  desaté las tres marías\n",
            "Epoch 158/180\n",
            "36/36 [==============================] - 2s 68ms/step - loss: 66.8535 - reconstruction_loss: 29.2972 - kl_loss: 37.5563\n",
            "Callback running 157\n",
            "[206, 14, 2590, 40, 213, 0, 0, 0, 0, 0, 0, 0, 0, 0, 0, 0, 0, 0]\n",
            "Reconstr:  eran los días del apuro\n",
            "Original:  eran los días del apuro\n",
            "Epoch 159/180\n",
            "36/36 [==============================] - 2s 67ms/step - loss: 75.1901 - reconstruction_loss: 38.0316 - kl_loss: 37.1585\n",
            "Callback running 158\n",
            "[7, 2263, 2800, 619, 1, 0, 0, 0, 0, 0, 0, 0, 0, 0, 0, 0, 0, 0]\n",
            "Reconstr:  de haraganes criando sebo ,\n",
            "Original:  de haraganes criando sebo ,\n",
            "Epoch 160/180\n",
            "36/36 [==============================] - 2s 66ms/step - loss: 88.9999 - reconstruction_loss: 49.0970 - kl_loss: 39.9030\n",
            "Callback running 159\n",
            "[7, 14, 3082, 2, 6, 103, 4, 0, 0, 0, 0, 0, 0, 0, 0, 0, 0, 0]\n",
            "Reconstr:  de los bienesy la mujer .\n",
            "Original:  de los bienes , la mujer .\n",
            "Epoch 161/180\n",
            "36/36 [==============================] - 2s 66ms/step - loss: 85.3063 - reconstruction_loss: 46.7643 - kl_loss: 38.5421\n",
            "Callback running 160\n",
            "[20, 124, 11, 581, 16, 15, 1573, 0, 0, 0, 0, 0, 0, 0, 0, 0, 0, 0]\n",
            "Reconstr:  le hice un tiro , lo quitó\n",
            "Original:  le hice un tiro , lo quitó\n",
            "Epoch 162/180\n",
            "36/36 [==============================] - 2s 66ms/step - loss: 69.5882 - reconstruction_loss: 31.1407 - kl_loss: 38.4475\n",
            "Callback running 161\n",
            "[2, 29, 3, 1020, 6, 1146, 1, 0, 0, 0, 0, 0, 0, 0, 0, 0, 0, 0]\n",
            "Reconstr:  y pa que alguno la venda ,\n",
            "Original:  y pa que alguno la venda ,\n",
            "Epoch 163/180\n",
            "36/36 [==============================] - 2s 67ms/step - loss: 75.1659 - reconstruction_loss: 37.6950 - kl_loss: 37.4709\n",
            "Callback running 162\n",
            "[27, 8, 44, 155, 1825, 1317, 3375, 0, 0, 0, 0, 0, 0, 0, 0, 0, 0, 0]\n",
            "Reconstr:  ¡a qué andar pasando sustos- !\n",
            "Original:  ¡a qué andar pasando sustos- !\n",
            "Epoch 164/180\n",
            "36/36 [==============================] - 2s 67ms/step - loss: 77.5358 - reconstruction_loss: 39.2234 - kl_loss: 38.3124\n",
            "Callback running 163\n",
            "[39, 10, 554, 3347, 3441, 0, 0, 0, 0, 0, 0, 0, 0, 0, 0, 0, 0, 0]\n",
            "Reconstr:  cuando me vido acercar:\n",
            "Original:  cuando me vido acercar:\n",
            "Epoch 165/180\n",
            "36/36 [==============================] - 2s 67ms/step - loss: 73.7664 - reconstruction_loss: 36.9130 - kl_loss: 36.8534\n",
            "Callback running 164\n",
            "[3, 1009, 8, 879, 3441, 0, 0, 0, 0, 0, 0, 0, 0, 0, 0, 0, 0, 0]\n",
            "Reconstr:  que andábamos a empujones:\n",
            "Original:  que andábamos a empujones:\n",
            "Epoch 166/180\n",
            "36/36 [==============================] - 2s 66ms/step - loss: 94.2720 - reconstruction_loss: 53.7500 - kl_loss: 40.5220\n",
            "Callback running 165\n",
            "[90, 95, 257, 2378, 0, 0, 0, 0, 0, 0, 0, 0, 0, 0, 0, 0, 0, 0]\n",
            "Reconstr:  sólo tenía cuatro frascos\n",
            "Original:  sólo tenía cuatro frascos\n",
            "Epoch 167/180\n",
            "36/36 [==============================] - 2s 67ms/step - loss: 83.5021 - reconstruction_loss: 44.5756 - kl_loss: 38.9265\n",
            "Callback running 166\n",
            "[59, 5, 536, 32, 196, 0, 0, 0, 0, 0, 0, 0, 0, 0, 0, 0, 0, 0]\n",
            "Reconstr:  porque el zorro más matrero\n",
            "Original:  porque el zorro más matrero\n",
            "Epoch 168/180\n",
            "36/36 [==============================] - 2s 66ms/step - loss: 74.2812 - reconstruction_loss: 36.7582 - kl_loss: 37.5230\n",
            "Callback running 167\n",
            "[23, 158, 253, 24, 1357, 0, 0, 0, 0, 0, 0, 0, 0, 0, 0, 0, 0, 0]\n",
            "Reconstr:  yo quise darle una soba\n",
            "Original:  yo quise darle una soba\n",
            "Epoch 169/180\n",
            "36/36 [==============================] - 2s 66ms/step - loss: 76.5762 - reconstruction_loss: 38.3537 - kl_loss: 38.2225\n",
            "Callback running 168\n",
            "[2, 21, 11, 634, 7, 830, 0, 0, 0, 0, 0, 0, 0, 0, 0, 0, 0, 0]\n",
            "Reconstr:  y como un saco de güesos\n",
            "Original:  y como un saco de güesos\n",
            "Epoch 170/180\n",
            "36/36 [==============================] - 2s 67ms/step - loss: 83.2211 - reconstruction_loss: 45.2040 - kl_loss: 38.0171\n",
            "Callback running 169\n",
            "[5, 168, 3, 41, 2678, 0, 0, 0, 0, 0, 0, 0, 0, 0, 0, 0, 0, 0]\n",
            "Reconstr:  el día que nos descolguemos\n",
            "Original:  el día que nos descolguemos\n",
            "Epoch 171/180\n",
            "36/36 [==============================] - 2s 67ms/step - loss: 72.9605 - reconstruction_loss: 36.3166 - kl_loss: 36.6438\n",
            "Callback running 170\n",
            "[531, 28, 6, 96, 2050, 4, 0, 0, 0, 0, 0, 0, 0, 0, 0, 0, 0, 0]\n",
            "Reconstr:  ésta es la suerte maldita .\n",
            "Original:  ésta es la suerte maldita .\n",
            "Epoch 172/180\n",
            "36/36 [==============================] - 2s 67ms/step - loss: 62.7353 - reconstruction_loss: 27.7482 - kl_loss: 34.9871\n",
            "Callback running 171\n",
            "[21, 502, 7, 2889, 3441, 0, 0, 0, 0, 0, 0, 0, 0, 0, 0, 0, 0, 0]\n",
            "Reconstr:  como carne de cogote:\n",
            "Original:  como carne de cogote:\n",
            "Epoch 173/180\n",
            "36/36 [==============================] - 2s 66ms/step - loss: 73.4010 - reconstruction_loss: 36.9141 - kl_loss: 36.4869\n",
            "Callback running 172\n",
            "[5, 3, 28, 36, 280, 74, 3197, 0, 0, 0, 0, 0, 0, 0, 0, 0, 0, 0]\n",
            "Reconstr:  el que es gaucho ve ande apunta\n",
            "Original:  el que es gaucho ve ande apunta\n",
            "Epoch 174/180\n",
            "36/36 [==============================] - 2s 67ms/step - loss: 79.5786 - reconstruction_loss: 40.6414 - kl_loss: 38.9372\n",
            "Callback running 173\n",
            "[121, 2628, 3, 3236, 0, 0, 0, 0, 0, 0, 0, 0, 0, 0, 0, 0, 0, 0]\n",
            "Reconstr:  ninguno diría que andaba\n",
            "Original:  ninguno diría que andaba\n",
            "Epoch 175/180\n",
            "36/36 [==============================] - 2s 67ms/step - loss: 76.4502 - reconstruction_loss: 37.0211 - kl_loss: 39.4291\n",
            "Callback running 174\n",
            "[78, 15, 3245, 25, 3160, 4, 0, 0, 0, 0, 0, 0, 0, 0, 0, 0, 0, 0]\n",
            "Reconstr:  naides lo ampara ni asila .\n",
            "Original:  naides lo ampara ni asila .\n",
            "Epoch 176/180\n",
            "36/36 [==============================] - 2s 67ms/step - loss: 67.1989 - reconstruction_loss: 31.8896 - kl_loss: 35.3093\n",
            "Callback running 175\n",
            "[59, 23, 82, 2027, 4, 0, 0, 0, 0, 0, 0, 0, 0, 0, 0, 0, 0, 0]\n",
            "Reconstr:  porque yo sé manejarme .\n",
            "Original:  porque yo sé manejarme .\n",
            "Epoch 177/180\n",
            "36/36 [==============================] - 2s 67ms/step - loss: 56.8265 - reconstruction_loss: 22.6073 - kl_loss: 34.2193\n",
            "Callback running 176\n",
            "[11, 204, 18, 11, 2170, 3442, 0, 0, 0, 0, 0, 0, 0, 0, 0, 0, 0, 0]\n",
            "Reconstr:  un gringo con un jusil;\n",
            "Original:  un gringo con un jusil;\n",
            "Epoch 178/180\n",
            "36/36 [==============================] - 2s 66ms/step - loss: 63.7029 - reconstruction_loss: 27.3522 - kl_loss: 36.3507\n",
            "Callback running 177\n",
            "[8, 14, 410, 3, 1923, 3442, 0, 0, 0, 0, 0, 0, 0, 0, 0, 0, 0, 0]\n",
            "Reconstr:  a los pobres que murieron;\n",
            "Original:  a los pobres que murieron;\n",
            "Epoch 179/180\n",
            "36/36 [==============================] - 2s 67ms/step - loss: 64.4929 - reconstruction_loss: 29.2187 - kl_loss: 35.2743\n",
            "Callback running 178\n",
            "[9, 3, 811, 24, 2207, 4, 0, 0, 0, 0, 0, 0, 0, 0, 0, 0, 0, 0]\n",
            "Reconstr:  en que hubiera una invasión .\n",
            "Original:  en que hubiera una invasión .\n",
            "Epoch 180/180\n",
            "36/36 [==============================] - 2s 67ms/step - loss: 72.8415 - reconstruction_loss: 36.4022 - kl_loss: 36.4393\n",
            "Callback running 179\n",
            "[39, 20, 1707, 6, 950, 4, 0, 0, 0, 0, 0, 0, 0, 0, 0, 0, 0, 0]\n",
            "Reconstr:  cuando le pisan la cola .\n",
            "Original:  cuando le pisan la cola .\n"
          ],
          "name": "stdout"
        }
      ]
    },
    {
      "cell_type": "code",
      "metadata": {
        "id": "r9I5kD3F27sC",
        "colab": {
          "base_uri": "https://localhost:8080/",
          "height": 516
        },
        "outputId": "495b0703-343b-4aa3-8de7-ec11841c2145"
      },
      "source": [
        "reconstruction_loss = history.history['reconstruction_loss']\r\n",
        "loss = [np.mean(x) for x in model.history.history['loss']]\r\n",
        "kl_loss = [np.mean(x) for x in model.history.history['kl_loss']]\r\n",
        "\r\n",
        "epochs = range(1, len(reconstruction_loss) + 1)\r\n",
        "\r\n",
        "plt.figure(figsize=(12,8))\r\n",
        "plt.plot(epochs, reconstruction_loss, label='reconstruction_loss')\r\n",
        "plt.plot(epochs, loss, label='loss')\r\n",
        "plt.plot(epochs, kl_loss, label='kl_loss')\r\n",
        "plt.xticks(ticks=epochs)\r\n",
        "plt.ylim([0, 2500])\r\n",
        "plt.title('reconstruction_loss - kl_loss')\r\n",
        "plt.legend()\r\n",
        "\r\n",
        "\r\n",
        "\r\n",
        "\r\n",
        "plt"
      ],
      "execution_count": 69,
      "outputs": [
        {
          "output_type": "execute_result",
          "data": {
            "text/plain": [
              "<module 'matplotlib.pyplot' from '/usr/local/lib/python3.6/dist-packages/matplotlib/pyplot.py'>"
            ]
          },
          "metadata": {
            "tags": []
          },
          "execution_count": 69
        },
        {
          "output_type": "display_data",
          "data": {
            "image/png": "[encoded data removed]",
            "text/plain": [
              "<Figure size 864x576 with 1 Axes>"
            ]
          },
          "metadata": {
            "tags": [],
            "needs_background": "light"
          }
        }
      ]
    },
    {
      "cell_type": "code",
      "metadata": {
        "id": "kI_kiRLoesIv"
      },
      "source": [
        "model.save_weights('/content/drive/My Drive/Colab Notebooks/desafio final/weights_mf.HDF5', save_format='tf')\r\n",
        "# model.load_weights('/content/drive/My Drive/Colab Notebooks/desafio final/weights_mf.HDF5')"
      ],
      "execution_count": 70,
      "outputs": []
    },
    {
      "cell_type": "markdown",
      "metadata": {
        "id": "L60Inkf6VUwi"
      },
      "source": [
        "## Testeamos"
      ]
    },
    {
      "cell_type": "code",
      "metadata": {
        "id": "cc-7Rt1btn4k",
        "colab": {
          "base_uri": "https://localhost:8080/"
        },
        "outputId": "833cb4af-6265-4f6c-e2a6-5b68554b113a"
      },
      "source": [
        "for i in range(5):\r\n",
        "  linea = 0\r\n",
        "  while (linea < 8):\r\n",
        "    z_sampled = tf.random.normal(shape=(1,LATENT_SPACE))\r\n",
        "    prediction = model.decode_sample(z_sampled,silent_reconstruct=True)\r\n",
        "    if (prediction != None):\r\n",
        "      print(prediction)\r\n",
        "      linea += 1\r\n",
        "  print('\\n')"
      ],
      "execution_count": 77,
      "outputs": [
        {
          "output_type": "stream",
          "text": [
            "ni el rumbiar se el cacique ,\n",
            "llamó me falta y como sargento\n",
            "pa moreno entre partida;\n",
            "mi trapos sólo la yesca\n",
            "cantando que que andaba\n",
            "en la mesma desgraciao\n",
            "viilo espalda y el moreno .\n",
            "mas metió este mundo no víanmomento\n",
            "\n",
            "\n",
            "para alzar más hombre guanaco .\n",
            "sin tener un compañía\n",
            "y un bien arrimé y agüela ,\n",
            "por  , cruzada mas hermanozanjiador\n",
            "pero todo la suerte va corderito\n",
            "a más y favor ,\n",
            "que hay no gaucho palomas . . . .\n",
            "cuando lo su su ; ,\n",
            "\n",
            "\n",
            "se los despeja si sentido\n",
            "aunque en un estribo culebriar:\n",
            "los palazo que lazo .\n",
            "yo me no empecé que atracar ,\n",
            "una suelo con comer jusil;\n",
            "formaron un perra \n",
            "sale la este venían con la partida\n",
            "como trapos que \n",
            "\n",
            "\n",
            "que soy amigo contra el espina ,\n",
            "¡yo de en la guerra\n",
            "los mujercosas de la \n",
            "¡sólo a la fija !\n",
            "que ayuden mi pensamiento;\n",
            "y que encomendé de los hoyo ,\n",
            "el que dende ajuera;\n",
            "por ponía los pies siquiera .\n",
            "\n",
            "\n",
            "se le campos lo haiga  ,\n",
            "aunque es mi mal tan projundo ,\n",
            "y de gaucho este ya un asiento .\n",
            "vamos vivore- ? cuñaojuntos\n",
            "mas otros que mi dios -\n",
            "pero por hacerme el aquello era\n",
            "pues esperencia en la vida\n",
            "que su otra hay \n",
            "\n",
            "\n"
          ],
          "name": "stdout"
        }
      ]
    },
    {
      "cell_type": "code",
      "metadata": {
        "id": "srfOj6QTuR1F",
        "colab": {
          "base_uri": "https://localhost:8080/"
        },
        "outputId": "2f1bfb50-dd18-47e3-a089-d122b74321da"
      },
      "source": [
        "q_sample = data_lines[5]\r\n",
        "model.reconstruct(q_sample)"
      ],
      "execution_count": 49,
      "outputs": [
        {
          "output_type": "stream",
          "text": [
            "[18, 5, 260, 13, 2846, 4, 0, 0, 0, 0, 0, 0, 0, 0, 0, 0, 0, 0]\n",
            "Reconstr:  con el cantar se consuela .\n",
            "Original:  con el cantar se consuela .\n",
            "[3639   18    5  260   13 2846    4 3640    0    0    0    0    0    0\n",
            "    0    0    0    0    0    0]\n"
          ],
          "name": "stdout"
        }
      ]
    },
    {
      "cell_type": "code",
      "metadata": {
        "colab": {
          "base_uri": "https://localhost:8080/"
        },
        "id": "ES_nCCnqcJVV",
        "outputId": "17d74100-3a91-4bad-8d5f-478aeb2bdc35"
      },
      "source": [
        "model.reconstruct_sentence(\"si mi mate hablara\")"
      ],
      "execution_count": 54,
      "outputs": [
        {
          "output_type": "stream",
          "text": [
            "[46, 325, 179, 59, 116, 34, 932, 0, 0, 0, 0, 0, 0, 0, 0, 0, 0, 0]\n",
            "Reconstr:  hasta hoy triste porque usté su cristo\n",
            "Original:  si mi mate hablara\n",
            "[3639   22   30 3492 3480  141 2282 3480 3640    0    0    0    0    0\n",
            "    0    0    0    0    0    0]\n"
          ],
          "name": "stdout"
        }
      ]
    },
    {
      "cell_type": "code",
      "metadata": {
        "id": "2Aw2b2AwKwr7"
      },
      "source": [
        "ds_list = []\r\n",
        "for element in dataset.as_numpy_iterator(): \r\n",
        "  ds_list.append(element)"
      ],
      "execution_count": 45,
      "outputs": []
    },
    {
      "cell_type": "code",
      "metadata": {
        "colab": {
          "base_uri": "https://localhost:8080/"
        },
        "id": "avIBbAppL0za",
        "outputId": "cf9126a1-9c5e-46ca-e97b-826338b003ed"
      },
      "source": [
        "ds_list[0][0][1]"
      ],
      "execution_count": 46,
      "outputs": [
        {
          "output_type": "execute_result",
          "data": {
            "text/plain": [
              "array([3639,   21,    7,  174,    3,  173,    9, 1771,    4, 3640,    0,\n",
              "          0,    0,    0,    0,    0,    0,    0,    0,    0], dtype=int32)"
            ]
          },
          "metadata": {
            "tags": []
          },
          "execution_count": 46
        }
      ]
    },
    {
      "cell_type": "code",
      "metadata": {
        "colab": {
          "base_uri": "https://localhost:8080/"
        },
        "id": "Xg-S4YSQAPVB",
        "outputId": "7e0613ba-c695-45dc-dde7-8119ba50e52c"
      },
      "source": [
        "create_padding_mask([ds_list[0][0][1]])"
      ],
      "execution_count": 47,
      "outputs": [
        {
          "output_type": "execute_result",
          "data": {
            "text/plain": [
              "<tf.Tensor: shape=(1, 1, 1, 20), dtype=float32, numpy=\n",
              "array([[[[0., 0., 0., 0., 0., 0., 0., 0., 0., 0., 1., 1., 1., 1., 1.,\n",
              "          1., 1., 1., 1., 1.]]]], dtype=float32)>"
            ]
          },
          "metadata": {
            "tags": []
          },
          "execution_count": 47
        }
      ]
    },
    {
      "cell_type": "code",
      "metadata": {
        "id": "CeARIKaWLAMC"
      },
      "source": [
        ""
      ],
      "execution_count": 47,
      "outputs": []
    }
  ]
}