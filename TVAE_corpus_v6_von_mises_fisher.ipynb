{
  "nbformat": 4,
  "nbformat_minor": 0,
  "metadata": {
    "accelerator": "GPU",
    "colab": {
      "name": "T_VAE_CORPUSv4_prueba_schedule.ipynb",
      "provenance": [],
      "collapsed_sections": [],
      "toc_visible": true,
      "machine_shape": "hm",
      "include_colab_link": true
    },
    "kernelspec": {
      "display_name": "Python 3",
      "language": "python",
      "name": "python3"
    },
    "language_info": {
      "codemirror_mode": {
        "name": "ipython",
        "version": 3
      },
      "file_extension": ".py",
      "mimetype": "text/x-python",
      "name": "python",
      "nbconvert_exporter": "python",
      "pygments_lexer": "ipython3",
      "version": "3.7.9"
    }
  },
  "cells": [
    {
      "cell_type": "markdown",
      "metadata": {
        "id": "view-in-github",
        "colab_type": "text"
      },
      "source": [
        "<a href=\"https://colab.research.google.com/github/Adrok24/Proyecto-Integrador/blob/branch_1/TVAE_corpus_v6_von_mises_fisher.ipynb\" target=\"_parent\"><img src=\"https://colab.research.google.com/assets/colab-badge.svg\" alt=\"Open In Colab\"/></a>"
      ]
    },
    {
      "cell_type": "code",
      "metadata": {
        "colab": {
          "base_uri": "https://localhost:8080/"
        },
        "id": "g7tmTNr6KvKB",
        "outputId": "32c6f7d1-a614-45c7-cc13-b8ab2cca3530"
      },
      "source": [
        "!pip install tensorflow-datasets==1.2.0"
      ],
      "execution_count": 1,
      "outputs": [
        {
          "output_type": "stream",
          "text": [
            "Collecting tensorflow-datasets==1.2.0\n",
            "\u001b[?25l  Downloading https://files.pythonhosted.org/packages/6c/34/ff424223ed4331006aaa929efc8360b6459d427063dc59fc7b75d7e4bab3/tensorflow_datasets-1.2.0-py3-none-any.whl (2.3MB)\n",
            "\u001b[K     |████████████████████████████████| 2.3MB 4.3MB/s \n",
            "\u001b[?25hRequirement already satisfied: six in /usr/local/lib/python3.6/dist-packages (from tensorflow-datasets==1.2.0) (1.15.0)\n",
            "Requirement already satisfied: future in /usr/local/lib/python3.6/dist-packages (from tensorflow-datasets==1.2.0) (0.16.0)\n",
            "Requirement already satisfied: requests>=2.19.0 in /usr/local/lib/python3.6/dist-packages (from tensorflow-datasets==1.2.0) (2.23.0)\n",
            "Requirement already satisfied: dill in /usr/local/lib/python3.6/dist-packages (from tensorflow-datasets==1.2.0) (0.3.3)\n",
            "Requirement already satisfied: protobuf>=3.6.1 in /usr/local/lib/python3.6/dist-packages (from tensorflow-datasets==1.2.0) (3.12.4)\n",
            "Requirement already satisfied: psutil in /usr/local/lib/python3.6/dist-packages (from tensorflow-datasets==1.2.0) (5.4.8)\n",
            "Requirement already satisfied: wrapt in /usr/local/lib/python3.6/dist-packages (from tensorflow-datasets==1.2.0) (1.12.1)\n",
            "Requirement already satisfied: absl-py in /usr/local/lib/python3.6/dist-packages (from tensorflow-datasets==1.2.0) (0.10.0)\n",
            "Requirement already satisfied: attrs in /usr/local/lib/python3.6/dist-packages (from tensorflow-datasets==1.2.0) (20.3.0)\n",
            "Requirement already satisfied: tensorflow-metadata in /usr/local/lib/python3.6/dist-packages (from tensorflow-datasets==1.2.0) (0.27.0)\n",
            "Requirement already satisfied: termcolor in /usr/local/lib/python3.6/dist-packages (from tensorflow-datasets==1.2.0) (1.1.0)\n",
            "Requirement already satisfied: promise in /usr/local/lib/python3.6/dist-packages (from tensorflow-datasets==1.2.0) (2.3)\n",
            "Requirement already satisfied: numpy in /usr/local/lib/python3.6/dist-packages (from tensorflow-datasets==1.2.0) (1.19.5)\n",
            "Requirement already satisfied: tqdm in /usr/local/lib/python3.6/dist-packages (from tensorflow-datasets==1.2.0) (4.41.1)\n",
            "Requirement already satisfied: chardet<4,>=3.0.2 in /usr/local/lib/python3.6/dist-packages (from requests>=2.19.0->tensorflow-datasets==1.2.0) (3.0.4)\n",
            "Requirement already satisfied: idna<3,>=2.5 in /usr/local/lib/python3.6/dist-packages (from requests>=2.19.0->tensorflow-datasets==1.2.0) (2.10)\n",
            "Requirement already satisfied: urllib3!=1.25.0,!=1.25.1,<1.26,>=1.21.1 in /usr/local/lib/python3.6/dist-packages (from requests>=2.19.0->tensorflow-datasets==1.2.0) (1.24.3)\n",
            "Requirement already satisfied: certifi>=2017.4.17 in /usr/local/lib/python3.6/dist-packages (from requests>=2.19.0->tensorflow-datasets==1.2.0) (2020.12.5)\n",
            "Requirement already satisfied: setuptools in /usr/local/lib/python3.6/dist-packages (from protobuf>=3.6.1->tensorflow-datasets==1.2.0) (53.0.0)\n",
            "Requirement already satisfied: googleapis-common-protos<2,>=1.52.0 in /usr/local/lib/python3.6/dist-packages (from tensorflow-metadata->tensorflow-datasets==1.2.0) (1.52.0)\n",
            "Installing collected packages: tensorflow-datasets\n",
            "  Found existing installation: tensorflow-datasets 4.0.1\n",
            "    Uninstalling tensorflow-datasets-4.0.1:\n",
            "      Successfully uninstalled tensorflow-datasets-4.0.1\n",
            "Successfully installed tensorflow-datasets-1.2.0\n"
          ],
          "name": "stdout"
        }
      ]
    },
    {
      "cell_type": "code",
      "metadata": {
        "colab": {
          "base_uri": "https://localhost:8080/"
        },
        "id": "f9PtZ-JGYnPW",
        "outputId": "e9af1c41-ac59-4f4a-d538-1802662f87db"
      },
      "source": [
        "from google.colab import files\r\n",
        "from google.colab import drive\r\n",
        "drive.mount('/content/drive')"
      ],
      "execution_count": 9,
      "outputs": [
        {
          "output_type": "stream",
          "text": [
            "Mounted at /content/drive\n"
          ],
          "name": "stdout"
        }
      ]
    },
    {
      "cell_type": "code",
      "metadata": {
        "id": "_RBb6cU3gZus"
      },
      "source": [
        "import tensorflow as tf\n",
        "import tensorflow_datasets as tfds\n",
        "import os\n",
        "import re\n",
        "import numpy as np\n",
        "import matplotlib.pyplot as plt\n",
        "from tensorflow.keras.layers import Layer, Dense, LSTM, Bidirectional, TimeDistributed\n",
        "import tensorflow.keras.backend as K\n",
        "import pandas as pd\n",
        "\n",
        "tf.random.set_seed(1234)\n",
        "pd.options.display.max_colwidth = 100"
      ],
      "execution_count": 10,
      "outputs": []
    },
    {
      "cell_type": "code",
      "metadata": {
        "id": "EKBo3_HIgev6",
        "colab": {
          "base_uri": "https://localhost:8080/",
          "height": 35
        },
        "outputId": "ffdb0700-ec51-42ea-af5a-7f993fdeeea1"
      },
      "source": [
        "## Vamos a bajarnos el dataset de dialogos de peliculas de Cornell University\n",
        "# folder = '/content/drive/My Drive/My Drive/Colab Notebooks/desafio final/'\n",
        "folder = '/content/drive/My Drive/My Drive/Colab Notebooks/desafio final/'\n",
        "\n",
        "path_to_corpus = os.path.join(folder, 'train_corpus_v2.csv')\n",
        "path_to_corpus"
      ],
      "execution_count": 11,
      "outputs": [
        {
          "output_type": "execute_result",
          "data": {
            "application/vnd.google.colaboratory.intrinsic+json": {
              "type": "string"
            },
            "text/plain": [
              "'/content/drive/My Drive/My Drive/Colab Notebooks/desafio final/train_corpus_v2.csv'"
            ]
          },
          "metadata": {
            "tags": []
          },
          "execution_count": 11
        }
      ]
    },
    {
      "cell_type": "code",
      "metadata": {
        "id": "59HMoEQwb6Te"
      },
      "source": [
        "data = pd.read_csv(path_to_corpus, index_col=0)"
      ],
      "execution_count": 12,
      "outputs": []
    },
    {
      "cell_type": "code",
      "metadata": {
        "colab": {
          "base_uri": "https://localhost:8080/",
          "height": 335
        },
        "id": "BWbH_a6Bjt2W",
        "outputId": "49959412-198a-4672-d3e7-b664a494c312"
      },
      "source": [
        "data.sample(10)"
      ],
      "execution_count": 13,
      "outputs": [
        {
          "output_type": "execute_result",
          "data": {
            "text/html": [
              "<div>\n",
              "<style scoped>\n",
              "    .dataframe tbody tr th:only-of-type {\n",
              "        vertical-align: middle;\n",
              "    }\n",
              "\n",
              "    .dataframe tbody tr th {\n",
              "        vertical-align: top;\n",
              "    }\n",
              "\n",
              "    .dataframe thead th {\n",
              "        text-align: right;\n",
              "    }\n",
              "</style>\n",
              "<table border=\"1\" class=\"dataframe\">\n",
              "  <thead>\n",
              "    <tr style=\"text-align: right;\">\n",
              "      <th></th>\n",
              "      <th>line</th>\n",
              "      <th>len</th>\n",
              "      <th>book</th>\n",
              "      <th>genre</th>\n",
              "      <th>category</th>\n",
              "    </tr>\n",
              "  </thead>\n",
              "  <tbody>\n",
              "    <tr>\n",
              "      <th>94749</th>\n",
              "      <td>la miró directamente a los ojos y por una vez el miedo hizo presa de su corazón</td>\n",
              "      <td>81</td>\n",
              "      <td>do_late_un_corazon_-_Danielle_Steel</td>\n",
              "      <td>Novelas</td>\n",
              "      <td>Book</td>\n",
              "    </tr>\n",
              "    <tr>\n",
              "      <th>1928</th>\n",
              "      <td>cada escritor pues de ellos seguimos hablando ahora alcanza o no alcanza a su manera el lugar y ...</td>\n",
              "      <td>108</td>\n",
              "      <td>Obra_critica_I_-_Julio_Cortazar</td>\n",
              "      <td>cortazar</td>\n",
              "      <td>Book</td>\n",
              "    </tr>\n",
              "    <tr>\n",
              "      <th>196692</th>\n",
              "      <td>@name salió disparado  ,  como un pelele  ,  yendo a caer sobre los que se agrupaban en la puert...</td>\n",
              "      <td>139</td>\n",
              "      <td>Jaque_de_rufianes_-_A._Rolcest</td>\n",
              "      <td>Novelas</td>\n",
              "      <td>Book</td>\n",
              "    </tr>\n",
              "    <tr>\n",
              "      <th>248407</th>\n",
              "      <td>no haberte visto le rompería el corazón  ,  pero quería verte a solas</td>\n",
              "      <td>71</td>\n",
              "      <td>Ecos_-_Danielle_Steel</td>\n",
              "      <td>Novelas</td>\n",
              "      <td>Book</td>\n",
              "    </tr>\n",
              "    <tr>\n",
              "      <th>19714</th>\n",
              "      <td>son capaces de hacer hablar a un personaje de dostoievski como si fuera @name sorel o rastignac</td>\n",
              "      <td>97</td>\n",
              "      <td>Cartas_1955-1964_-_Julio_Cortazar</td>\n",
              "      <td>cortazar</td>\n",
              "      <td>Book</td>\n",
              "    </tr>\n",
              "    <tr>\n",
              "      <th>280935</th>\n",
              "      <td>@name creía que su marido era un poco estirado  ,  pero sobre gustos no hay nada escrito</td>\n",
              "      <td>90</td>\n",
              "      <td>El_rancho_-_Danielle_Steel</td>\n",
              "      <td>Novelas</td>\n",
              "      <td>Book</td>\n",
              "    </tr>\n",
              "    <tr>\n",
              "      <th>143328</th>\n",
              "      <td>aunque después de retar a @name  ,  te burles del capitán ranger  .   .</td>\n",
              "      <td>74</td>\n",
              "      <td>La_captura_de_la_fiera_-_A._Rolcest</td>\n",
              "      <td>Novelas</td>\n",
              "      <td>Book</td>\n",
              "    </tr>\n",
              "    <tr>\n",
              "      <th>314056</th>\n",
              "      <td>por ese servicio  ,  te regalo la vida  .   .</td>\n",
              "      <td>48</td>\n",
              "      <td>La_ley_en_el_revolver_-_A._Rolcest</td>\n",
              "      <td>Novelas</td>\n",
              "      <td>Book</td>\n",
              "    </tr>\n",
              "    <tr>\n",
              "      <th>73727</th>\n",
              "      <td>igual que una tela suave que cae lentamente en la cara del destino</td>\n",
              "      <td>68</td>\n",
              "      <td>_frente_al_espejo_-_Denis_Hernandez</td>\n",
              "      <td>poesía</td>\n",
              "      <td>Book</td>\n",
              "    </tr>\n",
              "    <tr>\n",
              "      <th>29418</th>\n",
              "      <td>al morir  ,  en @number  ,  tenía treinta y un años</td>\n",
              "      <td>53</td>\n",
              "      <td>Obra_critica_II_-_Julio_Cortazar</td>\n",
              "      <td>cortazar</td>\n",
              "      <td>Book</td>\n",
              "    </tr>\n",
              "  </tbody>\n",
              "</table>\n",
              "</div>"
            ],
            "text/plain": [
              "                                                                                                       line  ...  category\n",
              "94749                       la miró directamente a los ojos y por una vez el miedo hizo presa de su corazón  ...      Book\n",
              "1928    cada escritor pues de ellos seguimos hablando ahora alcanza o no alcanza a su manera el lugar y ...  ...      Book\n",
              "196692  @name salió disparado  ,  como un pelele  ,  yendo a caer sobre los que se agrupaban en la puert...  ...      Book\n",
              "248407                                no haberte visto le rompería el corazón  ,  pero quería verte a solas  ...      Book\n",
              "19714       son capaces de hacer hablar a un personaje de dostoievski como si fuera @name sorel o rastignac  ...      Book\n",
              "280935             @name creía que su marido era un poco estirado  ,  pero sobre gustos no hay nada escrito  ...      Book\n",
              "143328                              aunque después de retar a @name  ,  te burles del capitán ranger  .   .  ...      Book\n",
              "314056                                                        por ese servicio  ,  te regalo la vida  .   .  ...      Book\n",
              "73727                                    igual que una tela suave que cae lentamente en la cara del destino  ...      Book\n",
              "29418                                                   al morir  ,  en @number  ,  tenía treinta y un años  ...      Book\n",
              "\n",
              "[10 rows x 5 columns]"
            ]
          },
          "metadata": {
            "tags": []
          },
          "execution_count": 13
        }
      ]
    },
    {
      "cell_type": "code",
      "metadata": {
        "colab": {
          "base_uri": "https://localhost:8080/"
        },
        "id": "r_2DJqeKv6BB",
        "outputId": "b7c4495a-c029-439f-bf88-a8a9c5ca86b3"
      },
      "source": [
        "data.shape"
      ],
      "execution_count": 14,
      "outputs": [
        {
          "output_type": "execute_result",
          "data": {
            "text/plain": [
              "(316618, 5)"
            ]
          },
          "metadata": {
            "tags": []
          },
          "execution_count": 14
        }
      ]
    },
    {
      "cell_type": "code",
      "metadata": {
        "colab": {
          "base_uri": "https://localhost:8080/"
        },
        "id": "morpg_ZScW-t",
        "outputId": "dea0d808-a16f-4b38-cf6b-3ece22c1ce80"
      },
      "source": [
        "data.iloc[0:5,0]"
      ],
      "execution_count": 15,
      "outputs": [
        {
          "output_type": "execute_result",
          "data": {
            "text/plain": [
              "0             bestiario es el primer libro de relatos que @name cortázar publica con su auténtico nombre\n",
              "2    sorpresa o incomodidad son  ,  en cada texto  ,  un condimento que se agrega al placer indescrip...\n",
              "4                                                                 a @name  ,  que gustaba de mis relatos\n",
              "5    almorzábamos a mediodía  ,  siempre puntuales ya no quedaba nada por hacer fuera de unos pocos p...\n",
              "6    nos resultaba grato almorzar pensando en la casa profunda y silenciosa y cómo nos bastábamos par...\n",
              "Name: line, dtype: object"
            ]
          },
          "metadata": {
            "tags": []
          },
          "execution_count": 15
        }
      ]
    },
    {
      "cell_type": "code",
      "metadata": {
        "id": "wLyVBr1hkdTW"
      },
      "source": [
        "## tokenizador de subwords\r\n",
        "tokenizer = tfds.features.text.SubwordTextEncoder.build_from_corpus(\r\n",
        "    data.iloc[:,0].tolist(), target_vocab_size=2**13)"
      ],
      "execution_count": 16,
      "outputs": []
    },
    {
      "cell_type": "markdown",
      "metadata": {
        "id": "MZ4hL2oBHPRL"
      },
      "source": [
        "### Preprocesamiento"
      ]
    },
    {
      "cell_type": "code",
      "metadata": {
        "colab": {
          "base_uri": "https://localhost:8080/"
        },
        "id": "p7Rwes0RWYHk",
        "outputId": "dc9d8b10-6a45-4f10-bb13-2c49859d8627"
      },
      "source": [
        "from sklearn.model_selection import train_test_split\r\n",
        "\r\n",
        "X_train, X_test, y_train, y_test = train_test_split(data['line'], data['genre'], test_size=0.20, random_state=42, stratify=data['genre'])\r\n",
        "print('X_train: ',X_train.shape, 'X_test: ',X_test.shape, 'y_train: ',y_train.shape, 'y_test: ',y_test.shape)"
      ],
      "execution_count": 17,
      "outputs": [
        {
          "output_type": "stream",
          "text": [
            "X_train:  (253294,) X_test:  (63324,) y_train:  (253294,) y_test:  (63324,)\n"
          ],
          "name": "stdout"
        }
      ]
    },
    {
      "cell_type": "code",
      "metadata": {
        "id": "R6g6IE9-XVCU"
      },
      "source": [
        "data_train = pd.concat([X_train, y_train],axis=1)"
      ],
      "execution_count": 18,
      "outputs": []
    },
    {
      "cell_type": "code",
      "metadata": {
        "id": "3oTFeSg4ivYU"
      },
      "source": [
        "VOCAB_SIZE = tokenizer.vocab_size"
      ],
      "execution_count": 19,
      "outputs": []
    },
    {
      "cell_type": "code",
      "metadata": {
        "colab": {
          "base_uri": "https://localhost:8080/"
        },
        "id": "s51W5GAHkFyq",
        "outputId": "4b2b7cb9-8675-4199-d999-4c4d99012d60"
      },
      "source": [
        "## el tokenizador tiene dos metodos: encode y decode:\n",
        "print(tokenizer.encode(\"cantar\"))\n",
        "print(tokenizer.decode(tokenizer.encode(\"cantar\")))"
      ],
      "execution_count": 20,
      "outputs": [
        {
          "output_type": "stream",
          "text": [
            "[4969]\n",
            "cantar\n"
          ],
          "name": "stdout"
        }
      ]
    },
    {
      "cell_type": "code",
      "metadata": {
        "colab": {
          "base_uri": "https://localhost:8080/"
        },
        "id": "Xm88-VnQX2DU",
        "outputId": "7aa8c902-9347-4245-db75-f722ec24ed77"
      },
      "source": [
        "sample_string = 'todo lo que nos desvela'\r\n",
        "\r\n",
        "tokenized_string = tokenizer.encode(sample_string)\r\n",
        "print ('Tokenizada {}'.format(tokenized_string))\r\n",
        "\r\n",
        "original_string = tokenizer.decode(tokenized_string)\r\n",
        "print ('Original: {}'.format(original_string))\r\n",
        "\r\n",
        "for ts in tokenized_string:\r\n",
        "  print ('{} ----> {}'.format(ts, tokenizer.decode([ts])))\r\n",
        "\r\n",
        "assert original_string == sample_string"
      ],
      "execution_count": 21,
      "outputs": [
        {
          "output_type": "stream",
          "text": [
            "Tokenizada [50, 14, 3, 74, 3740, 778]\n",
            "Original: todo lo que nos desvela\n",
            "50 ----> todo \n",
            "14 ----> lo \n",
            "3 ----> que \n",
            "74 ----> nos \n",
            "3740 ----> desv\n",
            "778 ----> ela\n"
          ],
          "name": "stdout"
        }
      ]
    },
    {
      "cell_type": "code",
      "metadata": {
        "id": "t22BxaJ4YEar"
      },
      "source": [
        "BUFFER_SIZE = 20000\r\n",
        "BATCH_SIZE = 64\r\n",
        "MAX_LENGTH = 32"
      ],
      "execution_count": 22,
      "outputs": []
    },
    {
      "cell_type": "code",
      "metadata": {
        "id": "XelLoo5G4GeX"
      },
      "source": [
        "# Funcion para utilizar luego en la reconstrucción\r\n",
        "def tokenize_and_filter(inputs):\r\n",
        "  tokenized_inputs = []\r\n",
        "  \r\n",
        "  for sentence1 in inputs:\r\n",
        "    # tokenizamos + tokens especiales\r\n",
        "    sentence1 = tokenizer.encode(sentence1)\r\n",
        "    # filtramos\r\n",
        "    if len(sentence1) <= MAX_LENGTH:\r\n",
        "      tokenized_inputs.append(sentence1)\r\n",
        "  \r\n",
        "  # paddeamos\r\n",
        "  tokenized_inputs = tf.keras.preprocessing.sequence.pad_sequences(\r\n",
        "      tokenized_inputs, maxlen=MAX_LENGTH, padding='post')\r\n",
        "  \r\n",
        "  return tokenized_inputs"
      ],
      "execution_count": 23,
      "outputs": []
    },
    {
      "cell_type": "code",
      "metadata": {
        "id": "R0FUBYbOjvfC"
      },
      "source": [
        "# Tokenizamos, filtramos las secuencias menores al largo maximo\n",
        "# y las paddeamos \n",
        "def tokenize_and_filter_df(inputs):\n",
        "  tokenized_inputs = {}\n",
        "  count_dict = 0\n",
        "  for index, line in inputs.iterrows():\n",
        "    sentence = line['line']\n",
        "    # tokenizamos + tokens especiales\n",
        "    sentence = tokenizer.encode(sentence)\n",
        "    # filtramos\n",
        "    if len(sentence) <= MAX_LENGTH:\n",
        "      # tokenized_inputs.append(sentence)\n",
        "      tokenized_inputs[count_dict] = {\"line\": sentence, \"len\": len(sentence), \"genre\": line['genre']}\n",
        "      count_dict += 1\n",
        "\n",
        "  data_filtered = pd.DataFrame.from_dict(tokenized_inputs, \"index\")\n",
        "  \n",
        "  return data_filtered\n",
        "\n",
        "data_tokens = tokenize_and_filter_df(data_train)"
      ],
      "execution_count": 24,
      "outputs": []
    },
    {
      "cell_type": "code",
      "metadata": {
        "colab": {
          "base_uri": "https://localhost:8080/",
          "height": 391
        },
        "id": "Xupv9FUhuRzl",
        "outputId": "e3679fc6-0da1-4acc-bb40-6310aea81b04"
      },
      "source": [
        "data_tokens"
      ],
      "execution_count": 25,
      "outputs": [
        {
          "output_type": "execute_result",
          "data": {
            "text/html": [
              "<div>\n",
              "<style scoped>\n",
              "    .dataframe tbody tr th:only-of-type {\n",
              "        vertical-align: middle;\n",
              "    }\n",
              "\n",
              "    .dataframe tbody tr th {\n",
              "        vertical-align: top;\n",
              "    }\n",
              "\n",
              "    .dataframe thead th {\n",
              "        text-align: right;\n",
              "    }\n",
              "</style>\n",
              "<table border=\"1\" class=\"dataframe\">\n",
              "  <thead>\n",
              "    <tr style=\"text-align: right;\">\n",
              "      <th></th>\n",
              "      <th>line</th>\n",
              "      <th>len</th>\n",
              "      <th>genre</th>\n",
              "    </tr>\n",
              "  </thead>\n",
              "  <tbody>\n",
              "    <tr>\n",
              "      <th>0</th>\n",
              "      <td>[64, 7234, 8030, 1522, 6949, 7965, 29, 81, 3434, 2, 5241, 66]</td>\n",
              "      <td>12</td>\n",
              "      <td>Novelas</td>\n",
              "    </tr>\n",
              "    <tr>\n",
              "      <th>1</th>\n",
              "      <td>[614, 3, 282, 7038, 664, 28, 2, 192, 2858, 20, 5856, 20, 6, 4792, 2944, 14, 13, 1079, 2725, 8044]</td>\n",
              "      <td>20</td>\n",
              "      <td>Novelas</td>\n",
              "    </tr>\n",
              "    <tr>\n",
              "      <th>2</th>\n",
              "      <td>[22, 456, 385, 2034, 53, 73, 18, 1267]</td>\n",
              "      <td>8</td>\n",
              "      <td>Novelas</td>\n",
              "    </tr>\n",
              "    <tr>\n",
              "      <th>3</th>\n",
              "      <td>[280, 4, 5900, 7965, 2, 7126, 106, 6, 975, 479]</td>\n",
              "      <td>10</td>\n",
              "      <td>cortazar</td>\n",
              "    </tr>\n",
              "    <tr>\n",
              "      <th>4</th>\n",
              "      <td>[10, 7740, 104, 5, 175, 4138, 100, 2, 255, 241]</td>\n",
              "      <td>10</td>\n",
              "      <td>Novelas</td>\n",
              "    </tr>\n",
              "    <tr>\n",
              "      <th>...</th>\n",
              "      <td>...</td>\n",
              "      <td>...</td>\n",
              "      <td>...</td>\n",
              "    </tr>\n",
              "    <tr>\n",
              "      <th>249844</th>\n",
              "      <td>[7997, 9, 14, 429, 173, 13, 7326, 6, 218, 10, 4189, 2, 1516]</td>\n",
              "      <td>13</td>\n",
              "      <td>Novelas</td>\n",
              "    </tr>\n",
              "    <tr>\n",
              "      <th>249845</th>\n",
              "      <td>[65, 1113, 62, 5110, 2, 157, 8030, 12, 9, 38, 11, 540, 2499, 7, 175, 4, 1105]</td>\n",
              "      <td>17</td>\n",
              "      <td>Novelas</td>\n",
              "    </tr>\n",
              "    <tr>\n",
              "      <th>249846</th>\n",
              "      <td>[7997, 9, 446, 29, 43, 5299, 20, 26, 123, 4, 285, 3, 1858, 18, 317]</td>\n",
              "      <td>15</td>\n",
              "      <td>Novelas</td>\n",
              "    </tr>\n",
              "    <tr>\n",
              "      <th>249847</th>\n",
              "      <td>[5168, 3869, 10, 4, 1387, 1732, 450, 2, 21, 4857, 2002, 23, 6350, 2000, 5862, 16, 8, 436, 5, 13,...</td>\n",
              "      <td>22</td>\n",
              "      <td>filosofia</td>\n",
              "    </tr>\n",
              "    <tr>\n",
              "      <th>249848</th>\n",
              "      <td>[7997, 27, 1, 222, 341, 21, 988, 5345, 5, 6, 195, 11, 36, 222, 390, 825]</td>\n",
              "      <td>16</td>\n",
              "      <td>Novelas</td>\n",
              "    </tr>\n",
              "  </tbody>\n",
              "</table>\n",
              "<p>249849 rows × 3 columns</p>\n",
              "</div>"
            ],
            "text/plain": [
              "                                                                                                       line  ...      genre\n",
              "0                                             [64, 7234, 8030, 1522, 6949, 7965, 29, 81, 3434, 2, 5241, 66]  ...    Novelas\n",
              "1         [614, 3, 282, 7038, 664, 28, 2, 192, 2858, 20, 5856, 20, 6, 4792, 2944, 14, 13, 1079, 2725, 8044]  ...    Novelas\n",
              "2                                                                    [22, 456, 385, 2034, 53, 73, 18, 1267]  ...    Novelas\n",
              "3                                                           [280, 4, 5900, 7965, 2, 7126, 106, 6, 975, 479]  ...   cortazar\n",
              "4                                                           [10, 7740, 104, 5, 175, 4138, 100, 2, 255, 241]  ...    Novelas\n",
              "...                                                                                                     ...  ...        ...\n",
              "249844                                         [7997, 9, 14, 429, 173, 13, 7326, 6, 218, 10, 4189, 2, 1516]  ...    Novelas\n",
              "249845                        [65, 1113, 62, 5110, 2, 157, 8030, 12, 9, 38, 11, 540, 2499, 7, 175, 4, 1105]  ...    Novelas\n",
              "249846                                  [7997, 9, 446, 29, 43, 5299, 20, 26, 123, 4, 285, 3, 1858, 18, 317]  ...    Novelas\n",
              "249847  [5168, 3869, 10, 4, 1387, 1732, 450, 2, 21, 4857, 2002, 23, 6350, 2000, 5862, 16, 8, 436, 5, 13,...  ...  filosofia\n",
              "249848                             [7997, 27, 1, 222, 341, 21, 988, 5345, 5, 6, 195, 11, 36, 222, 390, 825]  ...    Novelas\n",
              "\n",
              "[249849 rows x 3 columns]"
            ]
          },
          "metadata": {
            "tags": []
          },
          "execution_count": 25
        }
      ]
    },
    {
      "cell_type": "code",
      "metadata": {
        "colab": {
          "base_uri": "https://localhost:8080/"
        },
        "id": "EtJjtBH3uSA1",
        "outputId": "3136ec54-18ec-4652-e546-0fea04b23de4"
      },
      "source": [
        "# paddeamos\r\n",
        "data_lines = tf.keras.preprocessing.sequence.pad_sequences(\r\n",
        "    data_tokens.line.tolist(), maxlen=MAX_LENGTH, padding='post')\r\n",
        "  \r\n",
        "data_lines[0]"
      ],
      "execution_count": 26,
      "outputs": [
        {
          "output_type": "execute_result",
          "data": {
            "text/plain": [
              "array([  64, 7234, 8030, 1522, 6949, 7965,   29,   81, 3434,    2, 5241,\n",
              "         66,    0,    0,    0,    0,    0,    0,    0,    0,    0,    0,\n",
              "          0,    0,    0,    0,    0,    0,    0,    0,    0,    0],\n",
              "      dtype=int32)"
            ]
          },
          "metadata": {
            "tags": []
          },
          "execution_count": 26
        }
      ]
    },
    {
      "cell_type": "code",
      "metadata": {
        "colab": {
          "base_uri": "https://localhost:8080/"
        },
        "id": "GUwCqgi8jtZu",
        "outputId": "9ebc4cb4-0cf2-42b9-a308-ea43509c6b06"
      },
      "source": [
        "print('Tamaño vocabulario: {}'.format(VOCAB_SIZE))\n",
        "print('frases: {}'.format(len(data_lines)))"
      ],
      "execution_count": 27,
      "outputs": [
        {
          "output_type": "stream",
          "text": [
            "Tamaño vocabulario: 8189\n",
            "frases: 249849\n"
          ],
          "name": "stdout"
        }
      ]
    },
    {
      "cell_type": "code",
      "metadata": {
        "colab": {
          "base_uri": "https://localhost:8080/"
        },
        "id": "nuAWyF2oWWR4",
        "outputId": "25c8fde7-fd21-4114-8f92-f7f0f0498db9"
      },
      "source": [
        "# Tomamos la mayor cantidad de frases que sea multiplo de [BATCH_SIZE] para no generar problemas en el entrenamiento\r\n",
        "FINAL_LINES = int(len(data_lines) / BATCH_SIZE) * BATCH_SIZE\r\n",
        "FINAL_LINES"
      ],
      "execution_count": 28,
      "outputs": [
        {
          "output_type": "execute_result",
          "data": {
            "text/plain": [
              "249792"
            ]
          },
          "metadata": {
            "tags": []
          },
          "execution_count": 28
        }
      ]
    },
    {
      "cell_type": "code",
      "metadata": {
        "colab": {
          "base_uri": "https://localhost:8080/"
        },
        "id": "vDDtJj7k4xwv",
        "outputId": "f97fb555-bca1-466b-bc2b-b49707f5ad93"
      },
      "source": [
        "# Adapto para que de un multiplo del batch size (64)\r\n",
        "data_lines = data_lines[0:FINAL_LINES]\r\n",
        "len(data_lines)"
      ],
      "execution_count": 29,
      "outputs": [
        {
          "output_type": "execute_result",
          "data": {
            "text/plain": [
              "249792"
            ]
          },
          "metadata": {
            "tags": []
          },
          "execution_count": 29
        }
      ]
    },
    {
      "cell_type": "code",
      "metadata": {
        "id": "BFatj3GqupJA"
      },
      "source": [
        "# saco el token de start de los outputs\n",
        "dataset = tf.data.Dataset.from_tensor_slices((data_lines,data_lines))\n",
        "\n",
        "dataset = dataset.shuffle(BUFFER_SIZE).padded_batch(BATCH_SIZE)\n",
        "#dataset = dataset.prefetch(tf.data.experimental.AUTOTUNE)"
      ],
      "execution_count": 30,
      "outputs": []
    },
    {
      "cell_type": "markdown",
      "metadata": {
        "id": "nCFUQb58HH9U"
      },
      "source": [
        "### Elementos básicos"
      ]
    },
    {
      "cell_type": "code",
      "metadata": {
        "id": "BWwqmlsovhif"
      },
      "source": [
        "def scaled_dot_product_attention(query, key, value, mask):\n",
        "  \"\"\"Calculamos attention weights \"\"\"\n",
        "\n",
        "  ## hacemos el producto de query por la transpuesta de key\n",
        "  matmul_qk = tf.matmul(query, key, transpose_b=True)\n",
        "\n",
        "  ## escalamos por la raiz cuadrado del # dims\n",
        "  depth = tf.cast(tf.shape(key)[-1], tf.float32)\n",
        "  logits = matmul_qk / tf.math.sqrt(depth)\n",
        "\n",
        "  ## agregamos la mascara\n",
        "  if mask is not None:\n",
        "    logits += (mask * -1e9)\n",
        "\n",
        "  ## aplicamos la softmax\n",
        "  attention_weights = tf.nn.softmax(logits, axis=-1)\n",
        "\n",
        "  ## y multiplicamos por value \n",
        "  output = tf.matmul(attention_weights, value)\n",
        "\n",
        "  return output"
      ],
      "execution_count": 31,
      "outputs": []
    },
    {
      "cell_type": "code",
      "metadata": {
        "id": "tvkNTlcovsvA"
      },
      "source": [
        "class MultiHeadAttention(tf.keras.layers.Layer):\n",
        "\n",
        "  ''' Vamos a armar la capa para multihead attention '''\n",
        "\n",
        "  def __init__(self, d_model, num_heads, name=\"multi_head_attention\"):\n",
        "    super(MultiHeadAttention, self).__init__(name=name)\n",
        "\n",
        "    ## que es este super?\n",
        "    ## super() te permite acceeder a los metodos de la super clase de la cual\n",
        "    ## la subclase está heredando. En este caso, estas herendando de Layers.\n",
        "        \n",
        "    ## definimos algunos parametros: cuantas cabezas va a tener self attention \n",
        "    ## y la dimensionalidad del embedding\n",
        "    self.num_heads = num_heads\n",
        "    self.d_model = d_model\n",
        "\n",
        "    assert d_model % self.num_heads == 0\n",
        "\n",
        "    ## cuantas dimensiones va a tener cada cabeza:\n",
        "    self.depth = d_model // self.num_heads\n",
        "\n",
        "    self.query_dense = tf.keras.layers.Dense(units=d_model)\n",
        "    self.key_dense = tf.keras.layers.Dense(units=d_model)\n",
        "    self.value_dense = tf.keras.layers.Dense(units=d_model)\n",
        "\n",
        "    self.dense = tf.keras.layers.Dense(units=d_model)\n",
        "\n",
        "  def split_heads(self, inputs, batch_size):\n",
        "    ## vamos a armar la division en cabezas. \n",
        "    ## se va a entender mejor en el siguiente bloque de codigo\n",
        "    ## por ahora es solamente la forma en la que \n",
        "    ## reacomodamos los datos para armar las cabezas\n",
        "    inputs = tf.reshape(\n",
        "        inputs, shape=(batch_size, -1, self.num_heads, self.depth))\n",
        "    return tf.transpose(inputs, perm=[0, 2, 1, 3])\n",
        "\n",
        "\n",
        "  def get_config(self):\n",
        "          config = super().get_config().copy()\n",
        "          config.update({\n",
        "              'num_heads': self.num_heads,\n",
        "              'd_model': self.d_model,\n",
        "              'depth': self.depth,\n",
        "              'query_dense': self.query_dense,\n",
        "              'key_dense': self.key_dense,\n",
        "              'value_dense': self.value_dense,\n",
        "              'dense': self.dense             \n",
        "          })\n",
        "          return config\n",
        "\n",
        "  def call(self, inputs):\n",
        "    ''' Este call es el metodo que  va a llamar keras para usar la capa'''\n",
        "\n",
        "    query, key, value, mask = inputs['query'], inputs['key'], inputs[\n",
        "        'value'], inputs['mask']\n",
        "    batch_size = tf.shape(query)[0]\n",
        "\n",
        "    # linear layers\n",
        "    query = self.query_dense(query)\n",
        "    key = self.key_dense(key)\n",
        "    value = self.value_dense(value)\n",
        "\n",
        "    # print(self.name, mask)\n",
        "\n",
        "    # split heads\n",
        "    query = self.split_heads(query, batch_size)\n",
        "    key = self.split_heads(key, batch_size)\n",
        "    value = self.split_heads(value, batch_size)\n",
        "\n",
        "    # scaled dot-product attention\n",
        "    scaled_attention = scaled_dot_product_attention(query, key, value, mask)\n",
        "\n",
        "    # acomodamos las dimensiones\n",
        "    scaled_attention = tf.transpose(scaled_attention, perm=[0, 2, 1, 3])\n",
        "\n",
        "    # concatenamos las cabezas\n",
        "    concat_attention = tf.reshape(scaled_attention,\n",
        "                                  (batch_size, -1, self.d_model))\n",
        "\n",
        "    # final linear layer\n",
        "    outputs = self.dense(concat_attention)\n",
        "\n",
        "    return outputs"
      ],
      "execution_count": 32,
      "outputs": []
    },
    {
      "cell_type": "code",
      "metadata": {
        "id": "rxWsmzF8vy0O"
      },
      "source": [
        "## creamos una mascara para el padding (asi nos nos molesta)\n",
        "## con esto lo que hacemos es despues pasarselo a la capa \n",
        "## anterior y eliminamos los paddings\n",
        "\n",
        "def create_padding_mask(x):\n",
        "  mask = tf.cast(tf.math.equal(x, 0), tf.float32)\n",
        "  # (batch_size, 1, 1, sequence length)\n",
        "\n",
        "  return mask[:, tf.newaxis, tf.newaxis, :]"
      ],
      "execution_count": 33,
      "outputs": []
    },
    {
      "cell_type": "code",
      "metadata": {
        "id": "r7lli_1fv2Gg"
      },
      "source": [
        "## vamos a crear la otra mascara:\n",
        "## ahora queremos la mascara para no ver el futuro\n",
        "## vamos a incorporarle tambien la mascara para el padding\n",
        "\n",
        "def create_look_ahead_mask(x):\n",
        "  seq_len = tf.shape(x)[1]\n",
        "  look_ahead_mask = 1 - tf.linalg.band_part(tf.ones((seq_len, seq_len)), -1, 0)\n",
        "\n",
        "  ## aca la mascara para el padding\n",
        "  padding_mask = create_padding_mask(x)\n",
        "\n",
        "  return tf.maximum(look_ahead_mask, padding_mask)"
      ],
      "execution_count": 34,
      "outputs": []
    },
    {
      "cell_type": "code",
      "metadata": {
        "id": "xXvoowMLwNZR"
      },
      "source": [
        "class PositionalEncoding(tf.keras.layers.Layer):\n",
        "  ''' Armamos los encodings de posición '''\n",
        "\n",
        "  def __init__(self, position, d_model):\n",
        "    super(PositionalEncoding, self).__init__()\n",
        "    self.pos_encoding = self.positional_encoding(position, d_model)\n",
        "\n",
        "  ## comparar con formula de la teorica\n",
        "  def get_angles(self, position, i, d_model):\n",
        "    angles = 1 / tf.pow(10000, (2 * (i // 2)) / tf.cast(d_model, tf.float32))\n",
        "    return position * angles\n",
        "\n",
        "   \n",
        "  def positional_encoding(self, position, d_model):\n",
        "    angle_rads = self.get_angles(\n",
        "        position=tf.range(position, dtype=tf.float32)[:, tf.newaxis],\n",
        "        i=tf.range(d_model, dtype=tf.float32)[tf.newaxis, :],\n",
        "        d_model=d_model)\n",
        "    # seno a los indices pares\n",
        "    sines = tf.math.sin(angle_rads[:, 0::2])\n",
        "    # coseno a los impares\n",
        "    cosines = tf.math.cos(angle_rads[:, 1::2])\n",
        "\n",
        "    pos_encoding = tf.concat([sines, cosines], axis=-1)\n",
        "    pos_encoding = pos_encoding[tf.newaxis, :]\n",
        "    return tf.cast(pos_encoding, tf.float32)\n",
        "\n",
        "  def get_config(self):\n",
        "\n",
        "          config = super().get_config().copy()\n",
        "          config.update({\n",
        "              'pos_encoding': self.pos_encoding\n",
        "          })\n",
        "          return config\n",
        "\n",
        "  def call(self, inputs):\n",
        "    return inputs + self.pos_encoding[:, :tf.shape(inputs)[1], :]"
      ],
      "execution_count": 172,
      "outputs": []
    },
    {
      "cell_type": "markdown",
      "metadata": {
        "id": "dYT57O5kJeKT"
      },
      "source": [
        "### Encoder"
      ]
    },
    {
      "cell_type": "code",
      "metadata": {
        "id": "NkgvcAH2USPf"
      },
      "source": [
        "\"\"\"The Hyperspherical Uniform distribution class.\"\"\"\n",
        "\n",
        "from __future__ import absolute_import\n",
        "from __future__ import division\n",
        "from __future__ import print_function\n",
        "\n",
        "import math\n",
        "\n",
        "from tensorflow.python.framework import constant_op\n",
        "from tensorflow.python.framework import dtypes\n",
        "from tensorflow.python.framework import ops\n",
        "from tensorflow.python.framework import tensor_shape\n",
        "from tensorflow.python.ops import array_ops\n",
        "from tensorflow.python.ops import check_ops\n",
        "from tensorflow.python.ops import math_ops\n",
        "from tensorflow.python.ops import random_ops\n",
        "import tensorflow_probability as tfp\n",
        "from tensorflow.python.ops.distributions import distribution\n",
        "\n",
        "from tensorflow.python.ops import nn_impl\n",
        "from tensorflow.python.framework.tensor_shape import TensorShape\n",
        "from tensorflow.python.ops import gen_math_ops\n",
        "\n",
        "\n",
        "class HypersphericalUniform(distribution.Distribution):\n",
        "    \"\"\"Hyperspherical Uniform distribution with `dim` parameter.\n",
        "    #### Mathematical Details\n",
        "    \"\"\"\n",
        "\n",
        "    def __init__(self, dim, dtype=dtypes.float32, validate_args=False, allow_nan_stats=True,\n",
        "                 name=\"HypersphericalUniform\"):\n",
        "        \"\"\"Initialize a batch of Hyperspherical Uniform distributions.\n",
        "        Args:\n",
        "          dim: Integer tensor, dimensionality of the distribution(s). Must\n",
        "            be `dim > 0`.\n",
        "          validate_args: Python `bool`, default `False`. When `True` distribution\n",
        "            parameters are checked for validity despite possibly degrading runtime\n",
        "            performance. When `False` invalid inputs may silently render incorrect\n",
        "            outputs.\n",
        "          allow_nan_stats: Python `bool`, default `True`. When `True`, statistics\n",
        "            (e.g., mean, mode, variance) use the value \"`NaN`\" to indicate the\n",
        "            result is undefined. When `False`, an exception is raised if one or\n",
        "            more of the statistic's batch members are undefined.\n",
        "          name: Python `str` name prefixed to Ops created by this class.\n",
        "        Raises:\n",
        "          InvalidArgumentError: if `dim > 0` and `validate_args=False`.\n",
        "        \"\"\"\n",
        "        parameters = locals()\n",
        "        with ops.name_scope(name, values=[dim]):\n",
        "            with ops.control_dependencies([check_ops.assert_positive(dim),\n",
        "                                           check_ops.assert_integer(dim),\n",
        "                                           check_ops.assert_scalar(dim)] if validate_args else []):\n",
        "                self._dim = dim\n",
        "\n",
        "            super(HypersphericalUniform, self).__init__(\n",
        "                dtype=dtype,\n",
        "                reparameterization_type=tfp.distributions.FULLY_REPARAMETERIZED,\n",
        "                validate_args=validate_args,\n",
        "                allow_nan_stats=allow_nan_stats,\n",
        "                parameters=parameters,\n",
        "                graph_parents=[],\n",
        "                name=name)\n",
        "\n",
        "    @staticmethod\n",
        "    def _param_shapes(sample_shape):\n",
        "        return {}\n",
        "\n",
        "    @property\n",
        "    def dim(self):\n",
        "        \"\"\"Dimensionality of the distribution(s).\"\"\"\n",
        "        return self._dim\n",
        "\n",
        "    def _batch_shape_tensor(self):\n",
        "        return constant_op.constant([self._dim + 1], dtype=dtypes.int32)\n",
        "\n",
        "    def _batch_shape(self):\n",
        "        return TensorShape(self._dim + 1)\n",
        "\n",
        "    def _event_shape_tensor(self):\n",
        "        return constant_op.constant([], dtype=dtypes.int32)\n",
        "\n",
        "    def _event_shape(self):\n",
        "        return tensor_shape.TensorShape([])\n",
        "\n",
        "    def _sample_n(self, n, seed=None):\n",
        "        return nn_impl.l2_normalize(random_ops.random_normal(shape=array_ops.concat(([n], [self._dim + 1]), 0),\n",
        "                                                             dtype=self.dtype, seed=seed), axis=-1)\n",
        "\n",
        "    def _log_prob(self, x):\n",
        "        return - array_ops.ones(shape=array_ops.shape(x)[:-1], dtype=self.dtype) * self.__log_surface_area()\n",
        "\n",
        "    def _prob(self, x):\n",
        "        return math_ops.exp(self._log_prob(x))\n",
        "\n",
        "    def _entropy(self):\n",
        "        return self.__log_surface_area()\n",
        "\n",
        "    def __log_surface_area(self):\n",
        "        return math.log(2) + ((self._dim + 1) / 2) * math.log(math.pi) - gen_math_ops.lgamma(\n",
        "            math_ops.cast((self._dim + 1) / 2, dtype=self.dtype))"
      ],
      "execution_count": 299,
      "outputs": []
    },
    {
      "cell_type": "code",
      "metadata": {
        "id": "4BZFnCheUSGE"
      },
      "source": [
        "# Copyright 2016 The TensorFlow Authors. All Rights Reserved.\n",
        "#\n",
        "# Licensed under the Apache License, Version 2.0 (the \"License\");\n",
        "# you may not use this file except in compliance with the License.\n",
        "# You may obtain a copy of the License at\n",
        "#\n",
        "#     http://www.apache.org/licenses/LICENSE-2.0\n",
        "#\n",
        "# Unless required by applicable law or agreed to in writing, software\n",
        "# distributed under the License is distributed on an \"AS IS\" BASIS,\n",
        "# WITHOUT WARRANTIES OR CONDITIONS OF ANY KIND, either express or implied.\n",
        "# See the License for the specific language governing permissions and\n",
        "# limitations under the License.\n",
        "# ==============================================================================\n",
        "\"\"\"The exponentially scaled modified Bessel function of the first kind.\"\"\"\n",
        "\n",
        "import numpy as np\n",
        "import scipy.special\n",
        "\n",
        "from tensorflow.python.ops import script_ops\n",
        "from tensorflow.python.ops import array_ops\n",
        "from tensorflow.python.framework import dtypes\n",
        "from tensorflow.python.framework import ops\n",
        "from tensorflow.python.ops.custom_gradient import custom_gradient\n",
        "\n",
        "\n",
        "@custom_gradient\n",
        "def ive(v, z):\n",
        "    \"\"\"Exponentially scaled modified Bessel function of the first kind.\"\"\"\n",
        "    output = array_ops.reshape(script_ops.py_func(\n",
        "        lambda v, z: np.select(condlist=[v == 0, v == 1],\n",
        "                               choicelist=[scipy.special.i0e(z, dtype=z.dtype),\n",
        "                                           scipy.special.i1e(z, dtype=z.dtype)],\n",
        "                               default=scipy.special.ive(v, z, dtype=z.dtype)), [v, z], z.dtype),\n",
        "        ops.convert_to_tensor(array_ops.shape(z), dtype=dtypes.int32))\n",
        "\n",
        "    def grad(dy):\n",
        "        return None, dy * (ive(v - 1, z) - ive(v, z) * (v + z) / z)\n",
        "\n",
        "    return output, grad"
      ],
      "execution_count": 300,
      "outputs": []
    },
    {
      "cell_type": "code",
      "metadata": {
        "id": "Hwo0_poWUR2q"
      },
      "source": [
        "# Copyright 2016 The TensorFlow Authors. All Rights Reserved.\n",
        "#\n",
        "# Licensed under the Apache License, Version 2.0 (the \"License\");\n",
        "# you may not use this file except in compliance with the License.\n",
        "# You may obtain a copy of the License at\n",
        "#\n",
        "#     http://www.apache.org/licenses/LICENSE-2.0\n",
        "#\n",
        "# Unless required by applicable law or agreed to in writing, software\n",
        "# distributed under the License is distributed on an \"AS IS\" BASIS,\n",
        "# WITHOUT WARRANTIES OR CONDITIONS OF ANY KIND, either express or implied.\n",
        "# See the License for the specific language governing permissions and\n",
        "# limitations under the License.\n",
        "# ==============================================================================\n",
        "\"\"\"The von-Mises-Fisher distribution class.\"\"\"\n",
        "\n",
        "from __future__ import absolute_import\n",
        "from __future__ import division\n",
        "from __future__ import print_function\n",
        "\n",
        "import math\n",
        "\n",
        "from tensorflow.python.framework import constant_op\n",
        "from tensorflow.python.framework import dtypes\n",
        "from tensorflow.python.framework import ops\n",
        "from tensorflow.python.framework import tensor_shape\n",
        "from tensorflow.python.ops import array_ops\n",
        "from tensorflow.python.ops import check_ops\n",
        "from tensorflow.python.ops import math_ops\n",
        "from tensorflow.python.ops import random_ops\n",
        "\n",
        "import tensorflow_probability as tfp\n",
        "\n",
        "#from tensorflow.python.ops.distributions import distribution\n",
        "from tensorflow.python.ops.distributions import kullback_leibler\n",
        "\n",
        "from tensorflow.python.ops import control_flow_ops\n",
        "from tensorflow.python.ops import gen_math_ops\n",
        "from tensorflow.python.ops import gen_array_ops\n",
        "from tensorflow.python.ops import linalg_ops\n",
        "from tensorflow.python.ops import nn_impl\n",
        "from tensorflow.python.ops.distributions.beta import Beta\n",
        "\n",
        "\n",
        "\n",
        "__all__ = [\n",
        "    \"VonMisesFisher\",\n",
        "]\n",
        "\n",
        "\n",
        "class VonMisesFisher(distribution.Distribution):\n",
        "    \"\"\"The von-Mises-Fisher distribution with location `loc` and `scale` parameters.\n",
        "    #### Mathematical details\n",
        "    \n",
        "    The probability density function (pdf) is,\n",
        "    \n",
        "    ```none\n",
        "    pdf(x; mu, k) = exp(k mu^T x) / Z\n",
        "    Z = (k ** (m / 2 - 1)) / ((2pi ** m / 2) * besseli(m / 2 - 1, k))\n",
        "    ```\n",
        "    where `loc = mu` is the mean, `scale = k` is the concentration, `m` is the dimensionality, and, `Z`\n",
        "    is the normalization constant.\n",
        "    \n",
        "    See https://en.wikipedia.org/wiki/Von_Mises-Fisher distribution for more details on the \n",
        "    Von Mises-Fiser distribution.\n",
        "    \n",
        "    \"\"\"\n",
        "\n",
        "    def __init__(self, loc, scale, validate_args=False, allow_nan_stats=True, name=\"von-Mises-Fisher\"):\n",
        "        \"\"\"Construct von-Mises-Fisher distributions with mean and concentration `loc` and `scale`.\n",
        "        Args:\n",
        "          loc: Floating point tensor; the mean of the distribution(s).\n",
        "          scale: Floating point tensor; the concentration of the distribution(s).\n",
        "            Must contain only non-negative values.\n",
        "          validate_args: Python `bool`, default `False`. When `True` distribution\n",
        "            parameters are checked for validity despite possibly degrading runtime\n",
        "            performance. When `False` invalid inputs may silently render incorrect\n",
        "            outputs.\n",
        "          allow_nan_stats: Python `bool`, default `True`. When `True`,\n",
        "            statistics (e.g., mean, mode, variance) use the value \"`NaN`\" to\n",
        "            indicate the result is undefined. When `False`, an exception is raised\n",
        "            if one or more of the statistic's batch members are undefined.\n",
        "          name: Python `str` name prefixed to Ops created by this class.\n",
        "        Raises:\n",
        "          TypeError: if `loc` and `scale` have different `dtype`.\n",
        "        \"\"\"\n",
        "        parameters = locals()\n",
        "        with ops.name_scope(name, values=[loc, scale]):\n",
        "            with ops.control_dependencies([check_ops.assert_positive(scale),\n",
        "                                           check_ops.assert_near(linalg_ops.norm(loc, axis=-1), 1, atol=1e-7)]\n",
        "                                          if validate_args else []):\n",
        "                self._loc = array_ops.identity(loc, name=\"loc\")\n",
        "                self._scale = array_ops.identity(scale, name=\"scale\")\n",
        "                check_ops.assert_same_float_dtype([self._loc, self._scale])\n",
        "\n",
        "        super(VonMisesFisher, self).__init__(\n",
        "            dtype=self._scale.dtype,\n",
        "            reparameterization_type=distribution.FULLY_REPARAMETERIZED,\n",
        "            validate_args=validate_args,\n",
        "            allow_nan_stats=allow_nan_stats,\n",
        "            parameters=parameters,\n",
        "            graph_parents=[self._loc, self._scale],\n",
        "            name=name)\n",
        "\n",
        "        self.__m = math_ops.cast(self._loc.shape[-1], dtypes.int32)\n",
        "        self.__mf = math_ops.cast(self.__m, dtype=self.dtype)\n",
        "        self.__e1 = array_ops.one_hot([0], self.__m, dtype=self.dtype)\n",
        "\n",
        "    @staticmethod\n",
        "    def _param_shapes(sample_shape):\n",
        "        return dict(zip((\"loc\", \"scale\"), ([ops.convert_to_tensor(sample_shape, dtype=dtypes.int32),\n",
        "                                            ops.convert_to_tensor(sample_shape[:-1].concatenate([1]),\n",
        "                                                                  dtype=dtypes.int32)])))\n",
        "\n",
        "    @property\n",
        "    def loc(self):\n",
        "        \"\"\"Distribution parameter for the mean.\"\"\"\n",
        "        return self._loc\n",
        "\n",
        "    @property\n",
        "    def scale(self):\n",
        "        \"\"\"Distribution parameter for concentration.\"\"\"\n",
        "        return self._scale\n",
        "\n",
        "    def _batch_shape_tensor(self):\n",
        "        return array_ops.broadcast_dynamic_shape(\n",
        "            array_ops.shape(self._loc),\n",
        "            array_ops.shape(self._scale))\n",
        "\n",
        "    def _batch_shape(self):\n",
        "        return array_ops.broadcast_static_shape(\n",
        "            self._loc.get_shape(),\n",
        "            self._scale.get_shape())\n",
        "\n",
        "    def _event_shape_tensor(self):\n",
        "        return constant_op.constant([], dtype=dtypes.int32)\n",
        "\n",
        "    def _event_shape(self):\n",
        "        return tensor_shape.TensorShape([])\n",
        "\n",
        "    def _sample_n(self, n, seed=None):\n",
        "        shape = array_ops.concat([[n], self.batch_shape_tensor()], 0)\n",
        "        w = control_flow_ops.cond(gen_math_ops.equal(self.__m, 3),\n",
        "                                  lambda: self.__sample_w3(n, seed),\n",
        "                                  lambda: self.__sample_w_rej(n, seed))\n",
        "\n",
        "        v = nn_impl.l2_normalize(array_ops.transpose(\n",
        "            array_ops.transpose(random_ops.random_normal(shape, dtype=self.dtype, seed=seed))[1:]), axis=-1)\n",
        "\n",
        "        x = array_ops.concat((w, math_ops.sqrt(1 - w ** 2) * v), axis=-1)\n",
        "        z = self.__householder_rotation(x)\n",
        "\n",
        "        return z\n",
        "\n",
        "    def __sample_w3(self, n, seed):\n",
        "        shape = array_ops.concat(([n], self.batch_shape_tensor()[:-1], [1]), 0)\n",
        "        u = random_ops.random_uniform(shape, dtype=self.dtype, seed=seed)\n",
        "        self.__w = 1 + math_ops.reduce_logsumexp([math_ops.log(u), math_ops.log(1 - u) - 2 * self.scale], axis=0) / self.scale\n",
        "        return self.__w\n",
        "\n",
        "    def __sample_w_rej(self, n, seed):\n",
        "        c = math_ops.sqrt((4 * (self.scale ** 2)) + (self.__mf - 1) ** 2)\n",
        "        b_true = (-2 * self.scale + c) / (self.__mf - 1)\n",
        "        \n",
        "        # using Taylor approximation with a smooth swift from 10 < scale < 11\n",
        "        # to avoid numerical errors for large scale\n",
        "        b_app = (self.__mf - 1) / (4 * self.scale)\n",
        "        s = gen_math_ops.minimum(gen_math_ops.maximum(0., self.scale - 10), 1.)\n",
        "        b = b_app * s + b_true * (1 - s)\n",
        "        \n",
        "        a = (self.__mf - 1 + 2 * self.scale + c) / 4\n",
        "        d = (4 * a * b) / (1 + b) - (self.__mf - 1) * math_ops.log(self.__mf - 1)\n",
        "\n",
        "        self.__b, (self.__e, self.__w) = b, self.__while_loop(b, a, d, n, seed)\n",
        "        return self.__w\n",
        "\n",
        "    def __while_loop(self, b, a, d, n, seed):\n",
        "        def __cond(w, e, bool_mask, b, a, d):\n",
        "            return math_ops.reduce_any(bool_mask)\n",
        "\n",
        "        def __body(w_, e_, bool_mask, b, a, d):\n",
        "            e = math_ops.cast(Beta((self.__mf - 1) / 2, (self.__mf - 1) / 2).sample(\n",
        "                shape, seed=seed), dtype=self.dtype)\n",
        "\n",
        "            u = random_ops.random_uniform(shape, dtype=self.dtype, seed=seed)\n",
        "\n",
        "            w = (1 - (1 + b) * e) / (1 - (1 - b) * e)\n",
        "            t = (2 * a * b) / (1 - (1 - b) * e)\n",
        "\n",
        "            accept = gen_math_ops.greater(((self.__mf - 1) * math_ops.log(t) - t + d), math_ops.log(u))\n",
        "            reject = gen_math_ops.logical_not(accept)\n",
        "\n",
        "            w_ = array_ops.where(gen_math_ops.logical_and(bool_mask, accept), w, w_)\n",
        "            e_ = array_ops.where(gen_math_ops.logical_and(bool_mask, accept), e, e_)\n",
        "            bool_mask = array_ops.where(gen_math_ops.logical_and(bool_mask, accept), reject, bool_mask)\n",
        "\n",
        "            return w_, e_, bool_mask, b, a, d\n",
        "\n",
        "        shape = array_ops.concat([[n], self.batch_shape_tensor()[:-1], [1]], 0)\n",
        "        b, a, d = [gen_array_ops.tile(array_ops.expand_dims(e, axis=0), [n] + [1] * len(e.shape)) for e in (b, a, d)]\n",
        "\n",
        "        w, e, bool_mask, b, a, d = control_flow_ops.while_loop(__cond, __body,\n",
        "                                                               [array_ops.zeros_like(b, dtype=self.dtype),\n",
        "                                                                array_ops.zeros_like(b, dtype=self.dtype),\n",
        "                                                                array_ops.ones_like(b, dtypes.bool),\n",
        "                                                                b, a, d])\n",
        "\n",
        "        return e, w\n",
        "\n",
        "    def __householder_rotation(self, x):\n",
        "        u = nn_impl.l2_normalize(self.__e1 - self._loc, axis=-1)\n",
        "        z = x - 2 * math_ops.reduce_sum(x * u, axis=-1, keepdims=True) * u\n",
        "        return z\n",
        "\n",
        "    def _log_prob(self, x):\n",
        "        return self._log_unnormalized_prob(x) - self._log_normalization()\n",
        "\n",
        "    def _prob(self, x):\n",
        "        return math_ops.exp(self._log_prob(x))\n",
        "\n",
        "    def _log_unnormalized_prob(self, x):\n",
        "        with ops.control_dependencies(\n",
        "                [check_ops.assert_near(linalg_ops.norm(x, axis=-1), 1, atol=1e-3)] if self.validate_args else []):\n",
        "            output = self.scale * math_ops.reduce_sum(self._loc * x, axis=-1, keepdims=True)\n",
        "\n",
        "        return array_ops.reshape(output, ops.convert_to_tensor(array_ops.shape(output)[:-1]))\n",
        "\n",
        "    def _log_normalization(self):\n",
        "        output = -((self.__mf / 2 - 1) * math_ops.log(self.scale) - (self.__mf / 2) * math.log(2 * math.pi) - (\n",
        "                    self.scale + math_ops.log(ive(self.__mf / 2 - 1, self.scale))))\n",
        "\n",
        "        return array_ops.reshape(output, ops.convert_to_tensor(array_ops.shape(output)[:-1]))\n",
        "\n",
        "    def _entropy(self):\n",
        "        return - array_ops.reshape(self.scale * ive(self.__mf / 2, self.scale) / ive((self.__mf / 2) - 1, self.scale),\n",
        "                                   ops.convert_to_tensor(array_ops.shape(self.scale)[:-1])) + self._log_normalization()\n",
        "\n",
        "    def _mean(self):\n",
        "        return self._loc * (ive(self.__mf / 2, self.scale) / ive(self.__mf / 2 - 1, self.scale))\n",
        "\n",
        "    def _mode(self):\n",
        "        return self._mean()\n",
        "\n",
        "\n",
        "@kullback_leibler.RegisterKL(VonMisesFisher, HypersphericalUniform)\n",
        "def _kl_vmf_uniform(vmf, hyu, name=None):\n",
        "    with ops.control_dependencies([check_ops.assert_equal(vmf.loc.shape[-1] - 1, hyu.dim)]):\n",
        "        with ops.name_scope(name, \"_kl_vmf_uniform\", [vmf.scale]):\n",
        "            return - vmf.entropy() + hyu.entropy()"
      ],
      "execution_count": 301,
      "outputs": []
    },
    {
      "cell_type": "code",
      "metadata": {
        "id": "YlUJTbRow4K0"
      },
      "source": [
        "class Sampling(Layer):\r\n",
        "    def call(self, inputs):\r\n",
        "      mu, log_var = inputs\r\n",
        "      #  epsilon = K.random_normal(shape=K.shape(mu), mean=0., stddev=1.)\r\n",
        "      #  return mu + K.exp(log_var / 2) * epsilon\r\n",
        "      q_z = VonMisesFisher(mu, log_var)\r\n",
        "\r\n",
        "      return  q_z.sample()"
      ],
      "execution_count": 302,
      "outputs": []
    },
    {
      "cell_type": "code",
      "metadata": {
        "id": "Is6EC55bwwAG"
      },
      "source": [
        "## ya tenemos todos los ingredientes para armar una capa de encoder\n",
        "## todavía no es el encoder entero!\n",
        "\n",
        "def encoder_layer(units, d_model, num_heads, dropout, name=\"encoder_layer\"):\n",
        "  inputs = tf.keras.Input(shape=(None, d_model), name=\"inputs\")\n",
        "  padding_mask = tf.keras.Input(shape=(1, 1, None), name=\"padding_mask\")\n",
        "\n",
        "  attention = MultiHeadAttention(\n",
        "      d_model, num_heads, name=\"attention\")({\n",
        "          'query': inputs,\n",
        "          'key': inputs,\n",
        "          'value': inputs,\n",
        "          'mask': padding_mask\n",
        "      })\n",
        "  attention = tf.keras.layers.Dropout(rate=dropout)(attention)\n",
        "  attention = tf.keras.layers.LayerNormalization(\n",
        "      epsilon=1e-6)(inputs + attention)\n",
        "\n",
        "  outputs = tf.keras.layers.Dense(units=units, activation='relu')(attention)\n",
        "  outputs = tf.keras.layers.Dense(units=d_model)(outputs)\n",
        "  outputs = tf.keras.layers.Dropout(rate=dropout)(outputs)\n",
        "  outputs = tf.keras.layers.LayerNormalization(\n",
        "      epsilon=1e-6)(attention + outputs)\n",
        "\n",
        "  return tf.keras.Model(\n",
        "      inputs=[inputs, padding_mask], outputs=outputs, name=name)"
      ],
      "execution_count": 303,
      "outputs": []
    },
    {
      "cell_type": "code",
      "metadata": {
        "id": "zX5a3YBl5XsG"
      },
      "source": [
        "## ahora si: el encoder\n",
        "## vamos a definir una funcion que nos devuelva un modelo que tenga\n",
        "## num_layers bloques de encoder:\n",
        "\n",
        "def encoder(vocab_size, num_layers, units, d_model, num_heads,\n",
        "            dropout, latent_space, name=\"encoder\"):\n",
        "  \n",
        "  inputs = tf.keras.Input(shape=(None,), name=\"inputs\")\n",
        "\n",
        "  print('enc_inputs',inputs)\n",
        "\n",
        "  padding_mask = tf.keras.layers.Lambda(\n",
        "      create_padding_mask, output_shape=(1, 1, None),\n",
        "      name='enc_padding_mask')(inputs)\n",
        "\n",
        "  ## partimos de los embeddings\n",
        "  embeddings = tf.keras.layers.Embedding(vocab_size, d_model)(inputs)\n",
        "  embeddings *= tf.math.sqrt(tf.cast(d_model, tf.float32))\n",
        "\n",
        "  ## y les sumamos el positional encoding\n",
        "  embeddings = PositionalEncoding(vocab_size, d_model)(embeddings)\n",
        "\n",
        "  outputs = tf.keras.layers.Dropout(rate=dropout)(embeddings)\n",
        "\n",
        "  ## y usamos tantos bloques como querramos\n",
        "  for i in range(num_layers):\n",
        "    outputs = encoder_layer(\n",
        "                            units=units,\n",
        "                            d_model=d_model,\n",
        "                            num_heads=num_heads,\n",
        "                            dropout=dropout,\n",
        "                            name=\"encoder_layer_{}\".format(i),\n",
        "                        )([outputs, padding_mask])\n",
        "\n",
        "  outputs  = tf.keras.layers.Reshape([MAX_LENGTH * d_model])(outputs)\n",
        "  # Generamos la media\n",
        "  \n",
        "  outputs = tf.keras.layers.Dense(MAX_LENGTH * 10)(outputs)\n",
        "\n",
        "  outputs = tf.keras.layers.Dense(latent_space)(outputs)\n",
        "  \n",
        "\n",
        "  mu = Dense(latent_space, name='mu',activation=lambda x: tf.nn.l2_normalize(x, axis=-1))(outputs) #TODO: revisar la dimensionalidad del espacio latente\n",
        "            # the `+ 1` prevent collapsing behaviors\n",
        "\n",
        "  # Generamos el logaritmo de la varianza\n",
        "  logvar = Dense(1, name='logvar',activation=tf.nn.softplus)(outputs)+1\n",
        "  # Usamos esos parámetros para samplear el espacio latente\n",
        "  z = Sampling(name='encoder_output')([mu, logvar])\n",
        "\n",
        "  #output = Dense(d_model, name='latent space')(outputs)\n",
        "\n",
        "  return tf.keras.Model(\n",
        "      inputs=inputs, outputs=[mu, logvar, z], name=name)"
      ],
      "execution_count": 304,
      "outputs": []
    },
    {
      "cell_type": "markdown",
      "metadata": {
        "id": "rq48-SRsG8UA"
      },
      "source": [
        "### Decoder"
      ]
    },
    {
      "cell_type": "code",
      "metadata": {
        "id": "avimnpJTRvFn"
      },
      "source": [
        "## vamos a usar las mismas partes que ya tenemos para armar el decoder\n",
        "## primero la decoder layer\n",
        "\n",
        "def decoder_layer(units, d_model, num_heads, dropout, name=\"decoder_layer\"):\n",
        "  \n",
        "  decoder_input = tf.keras.Input(shape=(None, d_model), name=\"decoder_input_layer\")\n",
        "  \n",
        "  # look_ahead_mask = tf.keras.Input(\n",
        "  #     shape=(1, None, None), name=\"look_ahead_mask\")\n",
        "\n",
        "  attention1 = MultiHeadAttention(\n",
        "      d_model, num_heads, name=\"attention_1\")(inputs={\n",
        "          'query': decoder_input,\n",
        "          'key': decoder_input,\n",
        "          'value': decoder_input,\n",
        "          'mask': None #padding_mask\n",
        "      })\n",
        "\n",
        "  #Normalization1\n",
        "  attention1 = tf.keras.layers.LayerNormalization(\n",
        "      epsilon=1e-6)(attention1 + decoder_input)\n",
        "\n",
        "  #FeedFoward\n",
        "  outputs = tf.keras.layers.Dense(units=units, activation='relu')(attention1)\n",
        "  outputs = tf.keras.layers.Dense(units=d_model)(outputs)\n",
        "  outputs = tf.keras.layers.Dropout(rate=dropout)(outputs)\n",
        "\n",
        "  #Normalization2\n",
        "  outputs = tf.keras.layers.LayerNormalization(\n",
        "      epsilon=1e-6)(outputs + attention1)\n",
        "\n",
        "  return tf.keras.Model(\n",
        "      inputs=[decoder_input],\n",
        "      outputs=outputs,\n",
        "      name=name)"
      ],
      "execution_count": 305,
      "outputs": []
    },
    {
      "cell_type": "code",
      "metadata": {
        "id": "pUUvWeK6HWqP"
      },
      "source": [
        "## y ahora usamos la decoder layer para el decoder\n",
        "\n",
        "def decoder(vocab_size, num_layers, units, d_model, num_heads,\n",
        "            dropout ,latent_space, name='decoder'):\n",
        "\n",
        "  decoder_input = tf.keras.Input(shape=(latent_space), name='decoder_input')\n",
        "\n",
        "  output = tf.keras.layers.Dense(MAX_LENGTH * 10)(decoder_input)\n",
        "\n",
        "  \n",
        "  output = Dense(MAX_LENGTH * d_model, name='linear_proyection')(output)\n",
        "\n",
        "  output = tf.keras.layers.Reshape([MAX_LENGTH, d_model])(output)\n",
        " # print('linear_proyection', output.shape)\n",
        "\n",
        "  ## la mascara para no ver el futuro y para el padding\n",
        "  ## ojo que la toma de afuera (es un input, no la creamos aca)\n",
        "\n",
        "  # look_ahead_mask = tf.keras.Input(\n",
        "  #     shape=(1, None, None), name='look_ahead_mask')\n",
        "  \n",
        "\n",
        "  outputs = tf.keras.layers.Dropout(rate=dropout)(output)\n",
        "\n",
        "  ## vamos a tener num_layers bloques de decoders\n",
        "  for i in range(num_layers):\n",
        "    outputs = decoder_layer(\n",
        "        units=units,\n",
        "        d_model=d_model,\n",
        "        num_heads=num_heads,\n",
        "        dropout=dropout,\n",
        "        name='decoder_layer_{}'.format(i),\n",
        "    )(inputs=[outputs])\n",
        "\n",
        "  outputs = tf.keras.layers.TimeDistributed(Dense(d_model))(outputs)\n",
        "  outputs = tf.keras.layers.LSTM(units=d_model, return_sequences=True, name='LSTM')(outputs)\n",
        "\n",
        "\n",
        "  outputs = tf.keras.layers.Dense(units=vocab_size, name=\"outputs\")(outputs)\n",
        "\n",
        "#  print('final', output.shape)\n",
        "\n",
        "  return tf.keras.Model(\n",
        "      inputs=[decoder_input],\n",
        "      outputs=outputs,\n",
        "      name=name)"
      ],
      "execution_count": 306,
      "outputs": []
    },
    {
      "cell_type": "markdown",
      "metadata": {
        "id": "BFj1enIjIDs8"
      },
      "source": [
        "### Modelo VAE"
      ]
    },
    {
      "cell_type": "code",
      "metadata": {
        "id": "90WFLW2pJ41n"
      },
      "source": [
        "from tensorflow.keras.models import Model\r\n",
        "from contextlib import suppress\r\n",
        "\r\n",
        "\r\n",
        "beta = K.variable(value=0.0)\r\n",
        "beta._trainable = False\r\n",
        "\r\n",
        "class VAEModel(Model):\r\n",
        "    def __init__(self, encoder, decoder, a, b, vocab_size, num_layers, units, d_model, num_heads, dropout, latent_space, mask=None, function=None, **kwargs):\r\n",
        "        super(VAEModel, self).__init__(**kwargs)\r\n",
        "        self.encoder = encoder(\r\n",
        "          vocab_size=vocab_size,\r\n",
        "          num_layers=num_layers,\r\n",
        "          units=units,\r\n",
        "          d_model=d_model,\r\n",
        "          num_heads=num_heads,\r\n",
        "          dropout=dropout,\r\n",
        "          latent_space=latent_space)\r\n",
        "        \r\n",
        "        self.decoder = decoder(\r\n",
        "          vocab_size=vocab_size,\r\n",
        "          num_layers=num_layers,\r\n",
        "          units=units,\r\n",
        "          d_model=d_model,\r\n",
        "          num_heads=num_heads,\r\n",
        "          dropout=dropout,\r\n",
        "          latent_space=latent_space)\r\n",
        "        \r\n",
        "        self.a = a\r\n",
        "        self.b = b\r\n",
        "        self.function = function\r\n",
        "\r\n",
        "    def loss_function(self, y_true, y_pred):\r\n",
        "      print(\"ytrue:\",y_true,\"ypred:\",y_pred)\r\n",
        "      y_true = tf.reshape(y_true, shape=(-1, MAX_LENGTH)) #(-1, MAX_LENGTH - 1))\r\n",
        "      \r\n",
        "      ## calculamos la loss sin reducir\r\n",
        "      loss = tf.keras.losses.SparseCategoricalCrossentropy(\r\n",
        "          from_logits=True, reduction='none')(y_true, y_pred)\r\n",
        "\r\n",
        "      ## aplicamos una mascara\r\n",
        "      # mask = tf.cast(tf.not_equal(y_true, 0), tf.float32)\r\n",
        "      # loss = tf.multiply(loss, mask)\r\n",
        "\r\n",
        "      ## y reducimos la loss\r\n",
        "      return tf.reduce_mean(loss)\r\n",
        "\r\n",
        "    # Definimos el train step para que utilice la función de costo compuesta por el error de reconstrucción y la divergencia KL\r\n",
        "    def train_step(self, data):\r\n",
        "        data = data[0]\r\n",
        "\r\n",
        "        \r\n",
        "        # Iniciamos el cálculo de la loss dentro del contexto que registra las operaciones para poder derivarlas\r\n",
        "        with tf.GradientTape() as tape:\r\n",
        "            # Usamos el encoder para mapear las oraciones al espacio latente y obtenemos los parámetros de la distribución\r\n",
        "            \r\n",
        "            \r\n",
        "            z_mean, z_log_var, z = self.encoder(data)\r\n",
        "            # Reconstruimos la oración a partir de z\r\n",
        "\r\n",
        "            reconstruction = self.decoder(z)\r\n",
        "\r\n",
        "            reconstruction_loss = self.loss_function(data, reconstruction)\r\n",
        "\r\n",
        "            # Escalamos la pérdida con el r_loss_factor\r\n",
        "           # reconstruction_loss *= self.r_loss_factor\r\n",
        "\r\n",
        "            q_z = VonMisesFisher(z_mean, z_log_var)\r\n",
        "            # Calculamos la divergencia KL usando la media y la varianza\r\n",
        "            p_z = HypersphericalUniform(16 - 1)\r\n",
        "            kl = q_z.kl_divergence(p_z)\r\n",
        "            kl_loss = tf.reduce_mean(kl)\r\n",
        "\r\n",
        "\r\n",
        "\r\n",
        "            \r\n",
        "\r\n",
        "          #  kl_loss = 1 + z_log_var - tf.square(z_mean) - tf.exp(z_log_var)\r\n",
        "          #  kl_loss = tf.reduce_sum(kl_loss, axis = 1)\r\n",
        "          #  kl_loss *= -0.5\r\n",
        "            # Selecciona funcion de annealing\r\n",
        "            if self.function == 'linear':\r\n",
        "              factor = self.a * beta + self.b\r\n",
        "            else:\r\n",
        "              factor =  1/(1+tf.exp(-self.a*beta+self.b))\r\n",
        "\r\n",
        "            total_loss = reconstruction_loss + kl_loss * factor\r\n",
        "\r\n",
        "        # Calculamos los gradientes\r\n",
        "        grads = tape.gradient(total_loss, self.trainable_weights)\r\n",
        "        \r\n",
        "        # Actualizamos los pesos\r\n",
        "        self.optimizer.apply_gradients(zip(grads, self.trainable_weights))\r\n",
        "        # El método train_step debe devolver un diccionario\r\n",
        "        return {\r\n",
        "            \"loss\": total_loss,\r\n",
        "            \"reconstruction_loss\": reconstruction_loss,\r\n",
        "            \"kl_loss\": kl_loss,\r\n",
        "            \"kl_weight\": factor,\r\n",
        "        }\r\n",
        "\r\n",
        "    def reconstruct(self, q_sample, silent_reconstruct=False, silent_orig=True):\r\n",
        "      _,_,result = model.encoder(q_sample.reshape(1,MAX_LENGTH,1))\r\n",
        "      #decoded from sample\r\n",
        "      print('Reconstr: ',self.decode_sample(result, silent_reconstruct))\r\n",
        "\r\n",
        "      # original  \r\n",
        "      print('Original: ',tokenizer.decode([i for i in q_sample if i < tokenizer.vocab_size]))\r\n",
        "      if (silent_orig == False):\r\n",
        "        print(q_sample)\r\n",
        "\r\n",
        "    def decode_sample(self, z_sampled, silent_reconstruct=False):\r\n",
        "      result = self.decoder(z_sampled)\r\n",
        "      with suppress(Exception):\r\n",
        "        prediction = np.argmax(result, axis=2)\r\n",
        "\r\n",
        "        pred = prediction[0]\r\n",
        "        pred_to_decode = [i for i in pred if i < tokenizer.vocab_size]\r\n",
        "        if (silent_reconstruct == False):\r\n",
        "          print(pred_to_decode)\r\n",
        "        return tokenizer.decode(pred_to_decode)\r\n",
        "\r\n",
        "\r\n",
        "    def reconstruct_sentence(self, sentence, silent_reconstruct=False, silent_orig=True):\r\n",
        "      sentence = [sentence]\r\n",
        "      sentence = tokenize_and_filter(sentence)\r\n",
        "      sentence = sentence.reshape(MAX_LENGTH)\r\n",
        "      return self.reconstruct(sentence, silent_reconstruct, silent_orig)\r\n",
        "\r\n",
        "    def call(self,inputs):\r\n",
        "        mu, logvar, z = self.encoder(inputs)\r\n",
        "        print(\"checkpoint_call\")\r\n",
        "\r\n",
        "        return self.decoder(z)\r\n",
        "\r\n",
        " \r\n"
      ],
      "execution_count": 317,
      "outputs": []
    },
    {
      "cell_type": "code",
      "metadata": {
        "colab": {
          "base_uri": "https://localhost:8080/"
        },
        "id": "N7CP0KswNS-m",
        "outputId": "5149cc09-0461-445d-ee4d-74fe2a3d76aa"
      },
      "source": [
        "# Hyper-parameters\n",
        "NUM_LAYERS = 6\n",
        "D_MODEL = 256\n",
        "NUM_HEADS = 8\n",
        "UNITS = 512\n",
        "DROPOUT = 0.2\n",
        "LATENT_SPACE = 16\n",
        "A = 0.01\n",
        "B = 10\n",
        "\n",
        "# Instanciamos el modelo\n",
        "model = VAEModel(encoder, decoder, \n",
        "    a=A,\n",
        "    b=B,\n",
        "    vocab_size=VOCAB_SIZE,\n",
        "    num_layers=NUM_LAYERS,\n",
        "    units=UNITS,\n",
        "    d_model=D_MODEL,\n",
        "    num_heads=NUM_HEADS,\n",
        "    dropout=DROPOUT,\n",
        "    latent_space=LATENT_SPACE)"
      ],
      "execution_count": 318,
      "outputs": [
        {
          "output_type": "stream",
          "text": [
            "enc_inputs KerasTensor(type_spec=TensorSpec(shape=(None, None), dtype=tf.float32, name='inputs'), name='inputs', description=\"created by layer 'inputs'\")\n"
          ],
          "name": "stdout"
        }
      ]
    },
    {
      "cell_type": "code",
      "metadata": {
        "id": "naVLYaZvJGWr"
      },
      "source": [
        "# model.load_weights('/content/drive/My Drive/Colab Notebooks/desafio final/weights_corpus_v4.HDF5')"
      ],
      "execution_count": 319,
      "outputs": []
    },
    {
      "cell_type": "code",
      "metadata": {
        "colab": {
          "base_uri": "https://localhost:8080/",
          "height": 1000
        },
        "id": "pr2ogPET6BA5",
        "outputId": "971c988b-8b46-4899-dbeb-87eb35c42f07"
      },
      "source": [
        "eo = encoder(\n",
        "      vocab_size=VOCAB_SIZE,\n",
        "      num_layers=NUM_LAYERS,\n",
        "      units=UNITS,\n",
        "      d_model=D_MODEL,\n",
        "      num_heads=NUM_HEADS,\n",
        "    dropout=DROPOUT,\n",
        "    latent_space=LATENT_SPACE)\n",
        "tf.keras.utils.plot_model(eo, show_shapes=True)"
      ],
      "execution_count": 320,
      "outputs": [
        {
          "output_type": "stream",
          "text": [
            "enc_inputs KerasTensor(type_spec=TensorSpec(shape=(None, None), dtype=tf.float32, name='inputs'), name='inputs', description=\"created by layer 'inputs'\")\n"
          ],
          "name": "stdout"
        },
        {
          "output_type": "execute_result",
          "data": {
            "image/png": "[encoded data removed]",
            "text/plain": [
              "<IPython.core.display.Image object>"
            ]
          },
          "metadata": {
            "tags": []
          },
          "execution_count": 320
        }
      ]
    },
    {
      "cell_type": "code",
      "metadata": {
        "colab": {
          "base_uri": "https://localhost:8080/",
          "height": 1000
        },
        "id": "qg1-eDPA6BA5",
        "outputId": "af517be3-3939-4773-e421-6f86e571caa0"
      },
      "source": [
        "do = decoder(\n",
        "  vocab_size=VOCAB_SIZE,\n",
        "  num_layers=NUM_LAYERS,\n",
        "  units=UNITS,\n",
        "  d_model=D_MODEL,\n",
        "  num_heads=NUM_HEADS,\n",
        "  dropout=DROPOUT,\n",
        "  latent_space=LATENT_SPACE)\n",
        "    \n",
        "tf.keras.utils.plot_model(do, show_shapes=True)\n",
        "    "
      ],
      "execution_count": 321,
      "outputs": [
        {
          "output_type": "execute_result",
          "data": {
            "image/png": "[encoded data removed]",
            "text/plain": [
              "<IPython.core.display.Image object>"
            ]
          },
          "metadata": {
            "tags": []
          },
          "execution_count": 321
        }
      ]
    },
    {
      "cell_type": "code",
      "metadata": {
        "colab": {
          "base_uri": "https://localhost:8080/"
        },
        "id": "EUrCods_wVWe",
        "outputId": "7f189d23-029a-4c14-ac52-aa165f14b3c9"
      },
      "source": [
        "from random import randint\r\n",
        "\r\n",
        "from nltk.translate.chrf_score import sentence_chrf\r\n",
        "\r\n",
        "# Ejemplo de la medida del accuracy del modelo / la loss\r\n",
        "\r\n",
        "def loss_sentence_chrf(y_true, y_pred):\r\n",
        "  chrf_acc_mean = 0\r\n",
        "  with suppress(Exception):\r\n",
        "    # print(y_pred.shape)\r\n",
        "    preds = np.argmax(y_pred, axis=-1)\r\n",
        "    # print(preds.shape)\r\n",
        "    chrf_acc = []\r\n",
        "    for index, pred in enumerate(preds, start=0):\r\n",
        "      sentence_pred = tokenizer.decode(pred)\r\n",
        "      sentence_true = tokenizer.decode(y_true[index])\r\n",
        "      # print(sentence_pred,\"|\", sentence_true)\r\n",
        "      # print('\\n')\r\n",
        "      \" \".join([str(i) for i in pred])\r\n",
        "      sentence_pred = \" \".join([str(i) for i in pred])\r\n",
        "      sentence_true = \" \".join([str(i) for i in y_true[index].numpy()])\r\n",
        "\r\n",
        "      # print('pred:',sentence_pred)\r\n",
        "      # print('true:',sentence_true)\r\n",
        "      # print('\\n')\r\n",
        "      chrf_acc = sentence_chrf(sentence_pred, sentence_true, min_len=2)\r\n",
        "\r\n",
        "      loss = (1 - chrf_acc) * 100\r\n",
        "      # print('loss:', loss)\r\n",
        "      # print('acc:', chrf_acc)\r\n",
        "      # print('\\n')\r\n",
        "      chrf_acc.append(chrf_acc)\r\n",
        "      chrf_acc_mean = tf.reduce_mean(chrf_acc_mean)\r\n",
        "  return chrf_acc_mean\r\n",
        "\r\n",
        "\r\n",
        "y_true = tf.constant([data_lines[randint(0,data_lines.shape[0]) - 1] for _ in range(10)])\r\n",
        "y_pred = model.predict(y_true)\r\n",
        "\r\n",
        "loss_sentence_chrf(y_true, y_pred)"
      ],
      "execution_count": 322,
      "outputs": [
        {
          "output_type": "stream",
          "text": [
            "checkpoint_call\n",
            "WARNING:tensorflow:11 out of the last 11 calls to <function Model.make_predict_function.<locals>.predict_function at 0x7fc21dbc4268> triggered tf.function retracing. Tracing is expensive and the excessive number of tracings could be due to (1) creating @tf.function repeatedly in a loop, (2) passing tensors with different shapes, (3) passing Python objects instead of tensors. For (1), please define your @tf.function outside of the loop. For (2), @tf.function has experimental_relax_shapes=True option that relaxes argument shapes that can avoid unnecessary retracing. For (3), please refer to https://www.tensorflow.org/guide/function#controlling_retracing and https://www.tensorflow.org/api_docs/python/tf/function for  more details.\n"
          ],
          "name": "stdout"
        },
        {
          "output_type": "stream",
          "text": [
            "WARNING:tensorflow:11 out of the last 11 calls to <function Model.make_predict_function.<locals>.predict_function at 0x7fc21dbc4268> triggered tf.function retracing. Tracing is expensive and the excessive number of tracings could be due to (1) creating @tf.function repeatedly in a loop, (2) passing tensors with different shapes, (3) passing Python objects instead of tensors. For (1), please define your @tf.function outside of the loop. For (2), @tf.function has experimental_relax_shapes=True option that relaxes argument shapes that can avoid unnecessary retracing. For (3), please refer to https://www.tensorflow.org/guide/function#controlling_retracing and https://www.tensorflow.org/api_docs/python/tf/function for  more details.\n"
          ],
          "name": "stderr"
        },
        {
          "output_type": "execute_result",
          "data": {
            "text/plain": [
              "0"
            ]
          },
          "metadata": {
            "tags": []
          },
          "execution_count": 322
        }
      ]
    },
    {
      "cell_type": "code",
      "metadata": {
        "id": "GWRMqA1lQ6CG"
      },
      "source": [
        "from tensorflow.keras.callbacks import Callback, LambdaCallback\n",
        "\n",
        "\n",
        "class EpochEndCallback(Callback): # Creamos una clase que herede de Callback\n",
        "\n",
        "    def __init__(self, period=1): # Definimos los atributos que necesita la clase y los inicializamos en el constructor\n",
        "        super(EpochEndCallback, self).__init__()\n",
        "        self.period = period\n",
        "    \n",
        "    # Lo que buscamos es que cada cierta cantidad de epochs se genere un texto.\n",
        "    def on_epoch_end(self, epoch, logs=None):\n",
        "      if epoch % self.period == 0:\n",
        "        print('Callback running', epoch)\n",
        "        q_sample = data_lines[randint(0,data_lines.shape[0]) - 1]\n",
        "        model.reconstruct(q_sample)\n",
        "        if epoch % 20 == 0:\n",
        "          model.save_weights('/content/drive/My Drive/My Drive/Colab Notebooks/desafio final/weights_corpus_v4.HDF5', save_format='tf')          \n",
        "          # y_true = tf.constant([data_lines[randint(0,data_lines.shape[0]) - 1] for _ in range(100)])\n",
        "          # loss_sentence_chrf(y_true, y_pred)\n",
        "\n",
        "# Instanciamos nuestro custom callback\n",
        "eec = EpochEndCallback()"
      ],
      "execution_count": 323,
      "outputs": []
    },
    {
      "cell_type": "markdown",
      "metadata": {
        "id": "RJvle4mJRBf_"
      },
      "source": [
        "### Entrenamiento"
      ]
    },
    {
      "cell_type": "code",
      "metadata": {
        "id": "MFrPsMXDBqCL"
      },
      "source": [
        "#defino un callback para actualizar epoch y generar variable de conteo de epochs\n",
        "def count(epoch):\n",
        "  K.set_value(beta, epoch)\n",
        "\n",
        "counter = LambdaCallback(on_epoch_end=lambda epoch, log: count(epoch))"
      ],
      "execution_count": 324,
      "outputs": []
    },
    {
      "cell_type": "code",
      "metadata": {
        "id": "7gbUOg3sqx84"
      },
      "source": [
        "## nos queda armar el lr que va cambiando con el tiempo\r\n",
        "## hay que hacer un schedule de lr:\r\n",
        "class CustomSchedule(tf.keras.optimizers.schedules.LearningRateSchedule):\r\n",
        "  def __init__(self, d_model, warmup_steps=4000):\r\n",
        "    super(CustomSchedule, self).__init__()\r\n",
        "\r\n",
        "    self.d_model = d_model\r\n",
        "    self.d_model = tf.cast(self.d_model, tf.float32)\r\n",
        "\r\n",
        "    self.warmup_steps = warmup_steps\r\n",
        "\r\n",
        "  def __call__(self, step):\r\n",
        "    arg1 = tf.math.rsqrt(step)\r\n",
        "    arg2 = step * (self.warmup_steps ** -1.5)\r\n",
        "    return tf.math.rsqrt(self.d_model) * tf.math.minimum(arg1, arg2)\r\n",
        "    \r\n",
        "\r\n",
        "\r\n"
      ],
      "execution_count": 325,
      "outputs": []
    },
    {
      "cell_type": "code",
      "metadata": {
        "id": "luvHx3QXfyvm",
        "colab": {
          "base_uri": "https://localhost:8080/"
        },
        "outputId": "a258780b-59ba-402f-8ef4-388712c51e17"
      },
      "source": [
        "EPOCHS = 120\r\n",
        "\r\n",
        "# optimizer = tf.keras.optimizers.Adam(CustomSchedule(D_MODEL), beta_1=0.9, beta_2=0.98, \r\n",
        "#                                      epsilon=1e-9)\r\n",
        "\r\n",
        "optimizer = tf.keras.optimizers.Adam(0.00001, beta_1=0.9, beta_2=0.999, \r\n",
        "                                     epsilon=1e-9) #for fine-tunning\r\n",
        "\r\n",
        "model.compile(optimizer=optimizer)\r\n",
        "\r\n",
        "history = model.fit(dataset, epochs=EPOCHS, callbacks=[eec, counter])"
      ],
      "execution_count": null,
      "outputs": [
        {
          "output_type": "stream",
          "text": [
            "Epoch 1/120\n",
            "ytrue: Tensor(\"IteratorGetNext:0\", shape=(None, 32), dtype=int32) ypred: Tensor(\"decoder/outputs/BiasAdd:0\", shape=(None, 32, 8189), dtype=float32)\n",
            "ytrue: Tensor(\"IteratorGetNext:0\", shape=(None, 32), dtype=int32) ypred: Tensor(\"decoder/outputs/BiasAdd:0\", shape=(None, 32, 8189), dtype=float32)\n",
            "3903/3903 [==============================] - 438s 107ms/step - loss: 4.5017 - reconstruction_loss: 4.5009 - kl_loss: 18.3380 - kl_weight: 4.5398e-05\n",
            "Callback running 0\n",
            "[0, 0, 0, 1, 1, 1, 1, 1, 1, 1, 1, 1, 1, 1, 1, 1, 1, 1, 1, 0, 0, 0, 0, 0, 0, 0, 0, 0, 0, 0, 0, 0]\n",
            "Reconstr:  None\n",
            "Original:  la miró como si le hubiera disparado un tiro  ,  pero la calma no desapareció de los ojos de amadea\n",
            "Epoch 2/120\n",
            "3903/3903 [==============================] - 413s 106ms/step - loss: 3.4842 - reconstruction_loss: 3.4830 - kl_loss: 27.3166 - kl_weight: 4.5398e-05\n",
            "Callback running 1\n",
            "[0, 1, 1, 1, 1, 1, 1, 1, 2, 2, 0, 0, 0, 0, 0, 0, 0, 0, 0, 0, 0, 0, 0, 0, 0, 0, 0, 0, 0, 0, 0, 0]\n",
            "Reconstr:  None\n",
            "Original:  me siento morir en ti  ,  atravesado de espacios\n",
            "Epoch 3/120\n",
            "3903/3903 [==============================] - 409s 105ms/step - loss: 3.3948 - reconstruction_loss: 3.3934 - kl_loss: 30.4881 - kl_weight: 4.5854e-05\n",
            "Callback running 2\n",
            "[11, 3, 3, 3, 3, 3, 3, 3, 3, 3, 3, 3, 3, 3, 3, 3, 3, 2, 27, 0, 0, 0, 0, 0, 0, 0, 0, 0, 0, 0, 0, 0]\n",
            "Reconstr:  no que que que que que que que que que que que que que que que que de name\n",
            "Original:  llevaba dándole vueltas desde la última vez que se vieron  ,  pero temía que ella no estuviera preparada\n",
            "Epoch 4/120\n",
            "3903/3903 [==============================] - 421s 108ms/step - loss: 3.3455 - reconstruction_loss: 3.3440 - kl_loss: 32.7340 - kl_weight: 4.6315e-05\n",
            "Callback running 3\n",
            "[11, 3, 3, 1, 1, 1, 1, 1, 1, 1, 1, 1, 2, 12, 27, 0, 0, 0, 0, 0, 0, 0, 0, 0, 0, 0, 0, 0, 0, 0, 0, 0]\n",
            "Reconstr:  no que que   ,    ,    ,    ,    ,    ,    ,    ,    ,  de  @name\n",
            "Original:  pese a lo decepcionante que había resultado su vuelta  ,  le tenían aprecio\n",
            "Epoch 5/120\n",
            "3903/3903 [==============================] - 420s 108ms/step - loss: 3.3143 - reconstruction_loss: 3.3127 - kl_loss: 34.4287 - kl_weight: 4.6780e-05\n",
            "Callback running 4\n",
            "[40, 11, 3, 3, 3, 1, 7965, 7965, 7965, 7965, 2, 4, 27, 35, 0, 0, 0, 0, 0, 0, 0, 0, 0, 0, 0, 0, 0, 0, 0, 0, 0, 0]\n",
            "Reconstr:  ¿ no que que que   ,      de la name  ?\n",
            "Original:  ¡ si me provocas para que el sheriff se meta conmigo  !\n",
            "Epoch 6/120\n",
            "3903/3903 [==============================] - 420s 108ms/step - loss: 3.2932 - reconstruction_loss: 3.2915 - kl_loss: 35.7651 - kl_weight: 4.7250e-05\n",
            "Callback running 5\n",
            "[11, 3, 1, 1, 1, 1, 1, 1, 1, 1, 1, 2, 4, 27, 0, 0, 0, 0, 0, 0, 0, 0, 0, 0, 0, 0, 0, 0, 0, 0, 0, 0]\n",
            "Reconstr:  no que   ,    ,    ,    ,    ,    ,    ,    ,    ,  de la name\n",
            "Original:  aunque había ido tumbado gran parte del viaje  ,  había sido muy duro\n",
            "Epoch 7/120\n",
            "3903/3903 [==============================] - 419s 107ms/step - loss: 3.2773 - reconstruction_loss: 3.2755 - kl_loss: 36.9111 - kl_weight: 4.7725e-05\n",
            "Callback running 6\n",
            "[11, 3, 1, 1, 1, 1, 1, 1, 1, 1, 1, 1, 1, 7965, 2, 2, 27, 8048, 0, 0, 0, 0, 0, 0, 0, 0, 0, 0, 0, 0, 0, 0]\n",
            "Reconstr:  no que   ,    ,    ,    ,    ,    ,    ,    ,    ,    ,    ,   de de names\n",
            "Original:  se preguntó si se habría envuelto en una toalla o si llevaría una bata\n",
            "Epoch 8/120\n",
            "3903/3903 [==============================] - 420s 107ms/step - loss: 3.2648 - reconstruction_loss: 3.2630 - kl_loss: 38.0219 - kl_weight: 4.8205e-05\n",
            "Callback running 7\n",
            "[11, 3, 3, 1, 1, 1, 1, 1, 1, 1, 1, 1, 3, 3, 2, 12, 8048, 0, 0, 0, 0, 0, 0, 0, 0, 0, 0, 0, 0, 0, 0, 0]\n",
            "Reconstr:  no que que   ,    ,    ,    ,    ,    ,    ,    ,    ,  que que de  @s\n",
            "Original:  desde ayer está cuidando a ese muchacho por lo tanto  ,  necesita que la ayude\n",
            "Epoch 9/120\n",
            "3903/3903 [==============================] - 421s 108ms/step - loss: 3.2538 - reconstruction_loss: 3.2519 - kl_loss: 39.0016 - kl_weight: 4.8689e-05\n",
            "Callback running 8\n",
            "[7997, 9, 11, 3, 3, 3, 3, 1, 1, 1, 1, 1, 1, 1, 1, 1, 1, 1, 1, 1, 3, 3, 3, 3, 12, 27, 0, 0, 0, 0, 0, 0]\n",
            "Reconstr:  @name no que que que que   ,    ,    ,    ,    ,    ,    ,    ,    ,    ,    ,    ,    ,  que que que que  @name\n",
            "Original:  @name que persigue con todo esto todavía no lo entiendo  ,  pero no les forzaré a que me lo digan\n",
            "Epoch 10/120\n",
            "3903/3903 [==============================] - 422s 108ms/step - loss: 3.2436 - reconstruction_loss: 3.2417 - kl_loss: 39.9107 - kl_weight: 4.9179e-05\n",
            "Callback running 9\n",
            "[8, 4, 7965, 7965, 7965, 2, 12, 8048, 0, 0, 0, 0, 0, 0, 0, 0, 0, 0, 0, 0, 0, 0, 0, 0, 0, 0, 0, 0, 0, 0, 0, 0]\n",
            "Reconstr:  el la    de  @s\n",
            "Original:  estaban ya llegando las herramientas\n",
            "Epoch 11/120\n",
            "3903/3903 [==============================] - 422s 108ms/step - loss: 3.2324 - reconstruction_loss: 3.2304 - kl_loss: 40.6733 - kl_weight: 4.9673e-05\n",
            "Callback running 10\n",
            "[40, 51, 51, 3, 3, 3, 3, 3, 3, 7965, 7965, 2, 2, 12, 27, 35, 0, 0, 0, 0, 0, 0, 0, 0, 0, 0, 0, 0, 0, 0, 0, 0]\n",
            "Reconstr:  ¿ qué qué que que que que que que   de de  @name  ?\n",
            "Original:  ¿ por qué no hablamos mejor de tu vida amorosa para variar  ?\n",
            "Epoch 12/120\n",
            "3903/3903 [==============================] - 417s 107ms/step - loss: 3.2115 - reconstruction_loss: 3.2094 - kl_loss: 41.4840 - kl_weight: 5.0172e-05\n",
            "Callback running 11\n",
            "[11, 3, 3, 3, 3, 3, 3, 5, 5, 4, 83, 0, 0, 0, 0, 0, 0, 0, 0, 0, 0, 0, 0, 0, 0, 0, 0, 0, 0, 0, 0, 0]\n",
            "Reconstr:  no que que que que que que a a la ella\n",
            "Original:  no podía imaginarse a sí misma viviendo en otra parte\n",
            "Epoch 13/120\n",
            "3903/3903 [==============================] - 423s 108ms/step - loss: 3.1766 - reconstruction_loss: 3.1744 - kl_loss: 42.1620 - kl_weight: 5.0676e-05\n",
            "Callback running 12\n",
            "[7997, 9, 10, 4, 7965, 7965, 7965, 2, 4, 8048, 0, 0, 0, 0, 0, 0, 0, 0, 0, 0, 0, 0, 0, 0, 0, 0, 0, 0, 0, 0, 0, 0]\n",
            "Reconstr:  @name se la    de la s\n",
            "Original:  @name estaba haciendo el puré de patatas\n",
            "Epoch 14/120\n",
            "3903/3903 [==============================] - 414s 106ms/step - loss: 3.1546 - reconstruction_loss: 3.1525 - kl_loss: 42.7600 - kl_weight: 5.1186e-05\n",
            "Callback running 13\n",
            "[8, 4, 7965, 7965, 7965, 7965, 2, 2, 15, 355, 8048, 0, 0, 0, 0, 0, 0, 0, 0, 0, 0, 0, 0, 0, 0, 0, 0, 0, 0, 0, 0, 0]\n",
            "Reconstr:  el la     de de los zas\n",
            "Original:  y platillos  ,  con cientos de instrumentos\n",
            "Epoch 15/120\n",
            "3903/3903 [==============================] - 403s 103ms/step - loss: 3.1380 - reconstruction_loss: 3.1358 - kl_loss: 43.3778 - kl_weight: 5.1700e-05\n",
            "Callback running 14\n",
            "[11, 3, 1, 1, 1, 1, 1, 1, 1, 1, 1, 1, 3, 3, 14, 12, 8044, 0, 0, 0, 0, 0, 0, 0, 0, 0, 0, 0, 0, 0, 0, 0]\n",
            "Reconstr:  no que   ,    ,    ,    ,    ,    ,    ,    ,    ,    ,  que que lo  @o\n",
            "Original:  no podía hacerla escoger entre el bebé y él  ,  eso era de locos\n",
            "Epoch 16/120\n",
            "3903/3903 [==============================] - 398s 102ms/step - loss: 3.1239 - reconstruction_loss: 3.1216 - kl_loss: 43.9813 - kl_weight: 5.2220e-05\n",
            "Callback running 15\n",
            "[40, 51, 51, 3, 3, 3, 3, 5, 2, 77, 35, 0, 0, 0, 0, 0, 0, 0, 0, 0, 0, 0, 0, 0, 0, 0, 0, 0, 0, 0, 0, 0]\n",
            "Reconstr:  ¿ qué qué que que que que a de él  ?\n",
            "Original:  ¿ cuánto tiempo crees que pasará aquí tu madre  ?\n",
            "Epoch 17/120\n",
            "3903/3903 [==============================] - 397s 102ms/step - loss: 3.1105 - reconstruction_loss: 3.1082 - kl_loss: 44.5533 - kl_weight: 5.2744e-05\n",
            "Callback running 16\n",
            "[11, 3, 63, 12, 9, 10, 4, 83, 0, 0, 0, 0, 0, 0, 0, 0, 0, 0, 0, 0, 0, 0, 0, 0, 0, 0, 0, 0, 0, 0, 0, 0]\n",
            "Reconstr:  no que que @name se la ella\n",
            "Original:  siempre y cuando @name esté de acuerdo\n",
            "Epoch 18/120\n",
            "3903/3903 [==============================] - 393s 101ms/step - loss: 3.0964 - reconstruction_loss: 3.0940 - kl_loss: 45.2336 - kl_weight: 5.3274e-05\n",
            "Callback running 17\n",
            "[11, 11, 3, 3, 7965, 2, 2, 12, 8044, 0, 0, 0, 0, 0, 0, 0, 0, 0, 0, 0, 0, 0, 0, 0, 0, 0, 0, 0, 0, 0, 0, 0]\n",
            "Reconstr:  no no que que  de de  @o\n",
            "Original:  no puedes seguir a este ritmo eternamente\n",
            "Epoch 19/120\n",
            "3903/3903 [==============================] - 391s 100ms/step - loss: 3.0767 - reconstruction_loss: 3.0743 - kl_loss: 45.8091 - kl_weight: 5.3810e-05\n",
            "Callback running 18\n",
            "[11, 3, 1, 63, 12, 9, 10, 2, 83, 0, 0, 0, 0, 0, 0, 0, 0, 0, 0, 0, 0, 0, 0, 0, 0, 0, 0, 0, 0, 0, 0, 0]\n",
            "Reconstr:  no que   ,  que @name se de ella\n",
            "Original:  eso es cierto replicó @name con una sonrisa\n",
            "Epoch 20/120\n",
            "3903/3903 [==============================] - 391s 100ms/step - loss: 3.0615 - reconstruction_loss: 3.0590 - kl_loss: 46.2921 - kl_weight: 5.4351e-05\n",
            "Callback running 19\n",
            "[7997, 9, 11, 3, 1, 1, 1, 1, 185, 335, 0, 0, 0, 0, 0, 0, 0, 0, 0, 0, 0, 0, 0, 0, 0, 0, 0, 0, 0, 0, 0, 0]\n",
            "Reconstr:  @name no que   ,    ,    ,    ,    ,   ¿ verdad\n",
            "Original:  @name pudiera ser como antes  ,   ¿ qué harías  ?\n",
            "Epoch 21/120\n",
            "3903/3903 [==============================] - 390s 100ms/step - loss: 3.0497 - reconstruction_loss: 3.0472 - kl_loss: 46.8300 - kl_weight: 5.4897e-05\n",
            "Callback running 20\n",
            "[8, 4, 7965, 7965, 7965, 7965, 6, 6, 6, 6, 6, 6, 6, 7965, 2, 4, 77, 0, 0, 0, 0, 0, 0, 0, 0, 0, 0, 0, 0, 0, 0, 0]\n",
            "Reconstr:  el la     y y y y y y y  de la él\n",
            "Original:  guss esperó a que se perdieran en la oscuridad del extremo de la calle\n",
            "Epoch 22/120\n",
            "2793/3903 [====================>.........] - ETA: 1:51 - loss: 3.0405 - reconstruction_loss: 3.0379 - kl_loss: 47.0238 - kl_weight: 5.5449e-05"
          ],
          "name": "stdout"
        }
      ]
    },
    {
      "cell_type": "code",
      "metadata": {
        "id": "Q2-mjA-pHRp8"
      },
      "source": [
        "# Grafico funcion de annealing\n",
        "x = np.linspace(0,EPOCHS,10)\n",
        "\n",
        "y = 1/(1+tf.exp(-A*x+10))\n",
        "\n",
        "\n",
        "plt.figure(figsize=(20,8))\n",
        "\n",
        "plt.plot(x,y,label='funcion de annealing')\n",
        "\n",
        "\n",
        "plt.title('Funcion de annealing')\n",
        "\n",
        "plt.xlabel('Epochs')\n",
        "plt.ylabel('y')\n",
        "plt.grid(alpha=.4,linestyle='--')\n",
        "\n",
        "plt.legend()\n",
        "\n",
        "plt.show()"
      ],
      "execution_count": null,
      "outputs": []
    },
    {
      "cell_type": "code",
      "metadata": {
        "id": "r9I5kD3F27sC"
      },
      "source": [
        "reconstruction_loss = history.history['reconstruction_loss']\r\n",
        "loss = [np.mean(x) for x in model.history.history['loss']]\r\n",
        "kl_loss = [np.mean(x) for x in model.history.history['kl_loss']]\r\n",
        "\r\n",
        "epochs = range(1, len(reconstruction_loss) + 1)\r\n",
        "\r\n",
        "plt.figure(figsize=(20,8))\r\n",
        "plt.plot(epochs, reconstruction_loss, label='reconstruction_loss')\r\n",
        "plt.plot(epochs, loss, label='loss')\r\n",
        "plt.plot(epochs, kl_loss, label='kl_loss')\r\n",
        "plt.xticks(ticks=epochs)\r\n",
        "# plt.ylim([20000, 40000])\r\n",
        "# plt.xlim([30, 100])\r\n",
        "plt.title('reconstruction_loss - kl_loss')\r\n",
        "plt.legend()\r\n",
        "\r\n",
        "plt"
      ],
      "execution_count": null,
      "outputs": []
    },
    {
      "cell_type": "code",
      "metadata": {
        "id": "eYhOCyHBO5CJ"
      },
      "source": [
        "#evolucion KL LOSS\r\n",
        "kl_loss = [np.mean(x) for x in model.history.history['kl_loss']]\r\n",
        "\r\n",
        "epochs = range(1, len(reconstruction_loss) + 1)\r\n",
        "\r\n",
        "plt.figure(figsize=(20,8))\r\n",
        "plt.plot(epochs, kl_loss, label='kl_loss')\r\n",
        "plt.xticks(ticks=epochs)\r\n",
        "plt.title('rkl_loss')\r\n",
        "plt.legend()\r\n",
        "\r\n",
        "plt"
      ],
      "execution_count": null,
      "outputs": []
    },
    {
      "cell_type": "code",
      "metadata": {
        "id": "kI_kiRLoesIv"
      },
      "source": [
        "# model.save_weights('/content/drive/My Drive/Colab Notebooks/desafio final/weights_corpus_v4.HDF5', save_format='tf')"
      ],
      "execution_count": null,
      "outputs": []
    },
    {
      "cell_type": "markdown",
      "metadata": {
        "id": "L60Inkf6VUwi"
      },
      "source": [
        "## Testeamos"
      ]
    },
    {
      "cell_type": "code",
      "metadata": {
        "id": "cc-7Rt1btn4k"
      },
      "source": [
        "errores = 0\r\n",
        "for i in range(10):\r\n",
        "  z_sampled = tf.random.normal(shape=(1,LATENT_SPACE))\r\n",
        "  prediction = model.decode_sample(z_sampled,silent_reconstruct=True)\r\n",
        "  if (prediction != None):\r\n",
        "    print(prediction)\r\n",
        "  else:\r\n",
        "    errores += 1\r\n",
        "print('\\n')\r\n",
        "print('\\n','errores',errores)"
      ],
      "execution_count": null,
      "outputs": []
    },
    {
      "cell_type": "code",
      "metadata": {
        "id": "srfOj6QTuR1F"
      },
      "source": [
        "q_sample = data_lines[5]\r\n",
        "model.reconstruct(q_sample)"
      ],
      "execution_count": null,
      "outputs": []
    },
    {
      "cell_type": "code",
      "metadata": {
        "id": "ES_nCCnqcJVV"
      },
      "source": [
        "model.reconstruct_sentence(\"el devenir de los momentos\")\r\n",
        "model.reconstruct_sentence(\"las historias que nos contaron\")\r\n",
        "model.reconstruct_sentence(\"tu mirada milagrosa me salvó de su odio\")\r\n",
        "model.reconstruct_sentence(\"cayó como un rayo de luz que cegó al mundo\") \r\n",
        "model.reconstruct_sentence(\"un hombre observaba desde el monte\") "
      ],
      "execution_count": null,
      "outputs": []
    },
    {
      "cell_type": "code",
      "metadata": {
        "id": "XfKDTejmas-A"
      },
      "source": [
        "# Genera una funcion que se mueve por el espacio latente desde Oracion A hasta Oracion B\r\n",
        "def linear_interpolate(sample1, sample2, cant_sentences = 5 ):\r\n",
        "  print('desde:', tokenizer.decode(sample1),'\\n')\r\n",
        "\r\n",
        "  _,_,result1 = model.encoder(sample1.reshape(1,MAX_LENGTH,1))\r\n",
        "  _,_,result2 = model.encoder(sample2.reshape(1,MAX_LENGTH,1))\r\n",
        "\r\n",
        "  #Resto los valores del espacio latente y los divido por la cantidad de oracione que quiero generar\r\n",
        "  vector = ((result1[0] - result2[0]).numpy()) / cant_sentences \r\n",
        "\r\n",
        "  for i in range(cant_sentences):\r\n",
        "    result_int = result1 - vector * i\r\n",
        "    print('step', str(i + 1) + ':', model.decode_sample(result_int, silent_reconstruct=True))\r\n",
        "\r\n",
        "  print('')\r\n",
        "  print('hasta:', tokenizer.decode(q_sample2))\r\n"
      ],
      "execution_count": null,
      "outputs": []
    },
    {
      "cell_type": "code",
      "metadata": {
        "id": "hT4EykhLfKJW"
      },
      "source": [
        "#Generar oraciones intermedias desde una oración A hasta una B sampleadas del entrenamiento\r\n",
        "q_sample1 = data_lines[randint(0,data_lines.shape[0]) - 1]\r\n",
        "q_sample2 = data_lines[randint(0,data_lines.shape[0]) - 1]\r\n",
        "\r\n",
        "linear_interpolate(q_sample1, q_sample2,6)\r\n"
      ],
      "execution_count": null,
      "outputs": []
    },
    {
      "cell_type": "markdown",
      "metadata": {
        "id": "_yqedjxgnwV7"
      },
      "source": [
        "# Analisis Visual del espacio latente"
      ]
    },
    {
      "cell_type": "code",
      "metadata": {
        "id": "i_OdKG1kN9ji"
      },
      "source": [
        "def encode_sentence(sentence):\r\n",
        "    sentence = [sentence]\r\n",
        "    sentence = tokenize_and_filter(sentence)\r\n",
        "    sentence = sentence.reshape(MAX_LENGTH)\r\n",
        "    return sentence"
      ],
      "execution_count": null,
      "outputs": []
    },
    {
      "cell_type": "code",
      "metadata": {
        "id": "anejxhYTLiJJ"
      },
      "source": [
        "#Generar oraciones intermedias desde una oración A hasta una B recibidas como imput por el Usuario\r\n",
        "q_sample1 = encode_sentence(\"un hombre observaba desde el monte\")\r\n",
        "q_sample2 = encode_sentence(\"deberas dejar cerrada aquella puerta\")\r\n",
        "\r\n",
        "linear_interpolate(q_sample1, q_sample2,5)"
      ],
      "execution_count": null,
      "outputs": []
    },
    {
      "cell_type": "code",
      "metadata": {
        "id": "Mo1IHJ8zul_f"
      },
      "source": [
        "#Generar oraciones intermedias desde una oración A hasta una B recibidas como imput por el Usuario\r\n",
        "q_sample1 = encode_sentence(\"al despertarse una mañana, después de un sueño intranquilo\")\r\n",
        "q_sample2 = encode_sentence(\"se encontró en su cama transformado en un monstruoso insecto\")\r\n",
        "\r\n",
        "linear_interpolate(q_sample1, q_sample2,5)"
      ],
      "execution_count": null,
      "outputs": []
    },
    {
      "cell_type": "code",
      "metadata": {
        "id": "7UTXCa8pPhmz"
      },
      "source": [
        "z_mean, _, _ = model.encoder.predict(dataset)"
      ],
      "execution_count": null,
      "outputs": []
    },
    {
      "cell_type": "code",
      "metadata": {
        "id": "CeARIKaWLAMC"
      },
      "source": [
        "# Analisis Visual del espacio latente\r\n",
        "def plot_label_clusters(vae, z_mean, labels=None, z_fixed=0):\r\n",
        "  # display a 2D plot of the digit classes in the latent space\r\n",
        "  \r\n",
        "  fig, axes = plt.subplots(4, 4, figsize=(16,16))\r\n",
        "  fig.subplots_adjust(hspace=0.2)\r\n",
        "  z = 0\r\n",
        "  colors = ['b', 'c', 'y', 'm']\r\n",
        "  for x in range(4):\r\n",
        "    for y in range(4): \r\n",
        "      axes[x, y].scatter(z_mean[:, z_fixed], z_mean[:, z])\r\n",
        "      axes[x, y].set_xlabel(\"z[\"+ str(z_fixed) +\"] | z[\"+ str(z) +\"]\") \r\n",
        "      # axes[x, y].ylabel(\"z[\"+ str(i) +\"]\")\r\n",
        "      z += 1\r\n",
        "\r\n"
      ],
      "execution_count": null,
      "outputs": []
    },
    {
      "cell_type": "code",
      "metadata": {
        "id": "4w3WN8D7lxT9"
      },
      "source": [
        "plot_label_clusters(model, z_mean, data_tokens['genre'], 0)"
      ],
      "execution_count": null,
      "outputs": []
    },
    {
      "cell_type": "code",
      "metadata": {
        "id": "Cr4b2ZINSw3F"
      },
      "source": [
        "plot_label_clusters(model, z_mean, None, 5)"
      ],
      "execution_count": null,
      "outputs": []
    }
  ]
}