{
  "nbformat": 4,
  "nbformat_minor": 0,
  "metadata": {
    "accelerator": "GPU",
    "colab": {
      "name": "T_VAE_CORPUSv4_prueba_schedule.ipynb",
      "provenance": [],
      "collapsed_sections": [],
      "toc_visible": true,
      "machine_shape": "hm",
      "include_colab_link": true
    },
    "kernelspec": {
      "display_name": "Python 3",
      "language": "python",
      "name": "python3"
    },
    "language_info": {
      "codemirror_mode": {
        "name": "ipython",
        "version": 3
      },
      "file_extension": ".py",
      "mimetype": "text/x-python",
      "name": "python",
      "nbconvert_exporter": "python",
      "pygments_lexer": "ipython3",
      "version": "3.7.9"
    }
  },
  "cells": [
    {
      "cell_type": "markdown",
      "metadata": {
        "id": "view-in-github",
        "colab_type": "text"
      },
      "source": [
        "<a href=\"https://colab.research.google.com/github/Adrok24/Proyecto-Integrador/blob/branch_1/TVAE_corpus_v5.ipynb\" target=\"_parent\"><img src=\"https://colab.research.google.com/assets/colab-badge.svg\" alt=\"Open In Colab\"/></a>"
      ]
    },
    {
      "cell_type": "code",
      "metadata": {
        "colab": {
          "base_uri": "https://localhost:8080/"
        },
        "id": "g7tmTNr6KvKB",
        "outputId": "f44e9e25-8fda-40f3-cded-1784ea6b50d0"
      },
      "source": [
        "!pip install tensorflow-datasets==1.2.0"
      ],
      "execution_count": null,
      "outputs": [
        {
          "output_type": "stream",
          "text": [
            "Collecting tensorflow-datasets==1.2.0\n",
            "\u001b[?25l  Downloading https://files.pythonhosted.org/packages/6c/34/ff424223ed4331006aaa929efc8360b6459d427063dc59fc7b75d7e4bab3/tensorflow_datasets-1.2.0-py3-none-any.whl (2.3MB)\n",
            "\u001b[K     |████████████████████████████████| 2.3MB 8.2MB/s \n",
            "\u001b[?25hRequirement already satisfied: tensorflow-metadata in /usr/local/lib/python3.6/dist-packages (from tensorflow-datasets==1.2.0) (0.27.0)\n",
            "Requirement already satisfied: dill in /usr/local/lib/python3.6/dist-packages (from tensorflow-datasets==1.2.0) (0.3.3)\n",
            "Requirement already satisfied: promise in /usr/local/lib/python3.6/dist-packages (from tensorflow-datasets==1.2.0) (2.3)\n",
            "Requirement already satisfied: protobuf>=3.6.1 in /usr/local/lib/python3.6/dist-packages (from tensorflow-datasets==1.2.0) (3.12.4)\n",
            "Requirement already satisfied: psutil in /usr/local/lib/python3.6/dist-packages (from tensorflow-datasets==1.2.0) (5.4.8)\n",
            "Requirement already satisfied: absl-py in /usr/local/lib/python3.6/dist-packages (from tensorflow-datasets==1.2.0) (0.10.0)\n",
            "Requirement already satisfied: termcolor in /usr/local/lib/python3.6/dist-packages (from tensorflow-datasets==1.2.0) (1.1.0)\n",
            "Requirement already satisfied: tqdm in /usr/local/lib/python3.6/dist-packages (from tensorflow-datasets==1.2.0) (4.41.1)\n",
            "Requirement already satisfied: wrapt in /usr/local/lib/python3.6/dist-packages (from tensorflow-datasets==1.2.0) (1.12.1)\n",
            "Requirement already satisfied: attrs in /usr/local/lib/python3.6/dist-packages (from tensorflow-datasets==1.2.0) (20.3.0)\n",
            "Requirement already satisfied: numpy in /usr/local/lib/python3.6/dist-packages (from tensorflow-datasets==1.2.0) (1.19.5)\n",
            "Requirement already satisfied: requests>=2.19.0 in /usr/local/lib/python3.6/dist-packages (from tensorflow-datasets==1.2.0) (2.23.0)\n",
            "Requirement already satisfied: six in /usr/local/lib/python3.6/dist-packages (from tensorflow-datasets==1.2.0) (1.15.0)\n",
            "Requirement already satisfied: future in /usr/local/lib/python3.6/dist-packages (from tensorflow-datasets==1.2.0) (0.16.0)\n",
            "Requirement already satisfied: googleapis-common-protos<2,>=1.52.0 in /usr/local/lib/python3.6/dist-packages (from tensorflow-metadata->tensorflow-datasets==1.2.0) (1.52.0)\n",
            "Requirement already satisfied: setuptools in /usr/local/lib/python3.6/dist-packages (from protobuf>=3.6.1->tensorflow-datasets==1.2.0) (53.0.0)\n",
            "Requirement already satisfied: urllib3!=1.25.0,!=1.25.1,<1.26,>=1.21.1 in /usr/local/lib/python3.6/dist-packages (from requests>=2.19.0->tensorflow-datasets==1.2.0) (1.24.3)\n",
            "Requirement already satisfied: chardet<4,>=3.0.2 in /usr/local/lib/python3.6/dist-packages (from requests>=2.19.0->tensorflow-datasets==1.2.0) (3.0.4)\n",
            "Requirement already satisfied: certifi>=2017.4.17 in /usr/local/lib/python3.6/dist-packages (from requests>=2.19.0->tensorflow-datasets==1.2.0) (2020.12.5)\n",
            "Requirement already satisfied: idna<3,>=2.5 in /usr/local/lib/python3.6/dist-packages (from requests>=2.19.0->tensorflow-datasets==1.2.0) (2.10)\n",
            "Installing collected packages: tensorflow-datasets\n",
            "  Found existing installation: tensorflow-datasets 4.0.1\n",
            "    Uninstalling tensorflow-datasets-4.0.1:\n",
            "      Successfully uninstalled tensorflow-datasets-4.0.1\n",
            "Successfully installed tensorflow-datasets-1.2.0\n"
          ],
          "name": "stdout"
        }
      ]
    },
    {
      "cell_type": "code",
      "metadata": {
        "colab": {
          "base_uri": "https://localhost:8080/"
        },
        "id": "f9PtZ-JGYnPW",
        "outputId": "972d5be3-d909-4c42-b725-387cfb495d84"
      },
      "source": [
        "from google.colab import files\r\n",
        "from google.colab import drive\r\n",
        "drive.mount('/content/drive')"
      ],
      "execution_count": null,
      "outputs": [
        {
          "output_type": "stream",
          "text": [
            "Mounted at /content/drive\n"
          ],
          "name": "stdout"
        }
      ]
    },
    {
      "cell_type": "code",
      "metadata": {
        "id": "_RBb6cU3gZus"
      },
      "source": [
        "import tensorflow as tf\n",
        "import tensorflow_datasets as tfds\n",
        "import os\n",
        "import re\n",
        "import numpy as np\n",
        "import matplotlib.pyplot as plt\n",
        "from tensorflow.keras.layers import Layer, Dense, LSTM, Bidirectional, TimeDistributed\n",
        "import tensorflow.keras.backend as K\n",
        "import pandas as pd\n",
        "\n",
        "tf.random.set_seed(1234)\n",
        "pd.options.display.max_colwidth = 100"
      ],
      "execution_count": null,
      "outputs": []
    },
    {
      "cell_type": "code",
      "metadata": {
        "id": "EKBo3_HIgev6",
        "colab": {
          "base_uri": "https://localhost:8080/",
          "height": 35
        },
        "outputId": "31a4ba11-e4ff-471c-85e0-684d5f026f81"
      },
      "source": [
        "## Vamos a bajarnos el dataset de dialogos de peliculas de Cornell University\n",
        "# folder = '/content/drive/My Drive/My Drive/Colab Notebooks/desafio final/'\n",
        "folder = '/content/drive/My Drive/My Drive/Colab Notebooks/desafio final/'\n",
        "\n",
        "path_to_corpus = os.path.join(folder, 'train_corpus_v2.csv')\n",
        "path_to_corpus"
      ],
      "execution_count": null,
      "outputs": [
        {
          "output_type": "execute_result",
          "data": {
            "application/vnd.google.colaboratory.intrinsic+json": {
              "type": "string"
            },
            "text/plain": [
              "'/content/drive/My Drive/My Drive/Colab Notebooks/desafio final/train_corpus_v2.csv'"
            ]
          },
          "metadata": {
            "tags": []
          },
          "execution_count": 4
        }
      ]
    },
    {
      "cell_type": "code",
      "metadata": {
        "id": "59HMoEQwb6Te"
      },
      "source": [
        "data = pd.read_csv(path_to_corpus, index_col=0)"
      ],
      "execution_count": null,
      "outputs": []
    },
    {
      "cell_type": "code",
      "metadata": {
        "colab": {
          "base_uri": "https://localhost:8080/",
          "height": 335
        },
        "id": "BWbH_a6Bjt2W",
        "outputId": "7615949e-35c5-4154-a6b6-6b1e541fef06"
      },
      "source": [
        "data.sample(10)"
      ],
      "execution_count": null,
      "outputs": [
        {
          "output_type": "execute_result",
          "data": {
            "text/html": [
              "<div>\n",
              "<style scoped>\n",
              "    .dataframe tbody tr th:only-of-type {\n",
              "        vertical-align: middle;\n",
              "    }\n",
              "\n",
              "    .dataframe tbody tr th {\n",
              "        vertical-align: top;\n",
              "    }\n",
              "\n",
              "    .dataframe thead th {\n",
              "        text-align: right;\n",
              "    }\n",
              "</style>\n",
              "<table border=\"1\" class=\"dataframe\">\n",
              "  <thead>\n",
              "    <tr style=\"text-align: right;\">\n",
              "      <th></th>\n",
              "      <th>line</th>\n",
              "      <th>len</th>\n",
              "      <th>book</th>\n",
              "      <th>genre</th>\n",
              "      <th>category</th>\n",
              "    </tr>\n",
              "  </thead>\n",
              "  <tbody>\n",
              "    <tr>\n",
              "      <th>116344</th>\n",
              "      <td>se llevó a @name consigo porque temía que otras personas no la llevaran a tiempo al refugio anti...</td>\n",
              "      <td>121</td>\n",
              "      <td>Destinos_errantes_-_Danielle_Steel</td>\n",
              "      <td>Novelas</td>\n",
              "      <td>Book</td>\n",
              "    </tr>\n",
              "    <tr>\n",
              "      <th>7006</th>\n",
              "      <td>qué justo todo lo que dices de baudi  ,  ese gran muchacho bueno</td>\n",
              "      <td>66</td>\n",
              "      <td>Cartas_1937-1954_-_Julio_Cortazar</td>\n",
              "      <td>cortazar</td>\n",
              "      <td>Book</td>\n",
              "    </tr>\n",
              "    <tr>\n",
              "      <th>125794</th>\n",
              "      <td>@name se irguió y  ,  maleta en mano  ,  la miró</td>\n",
              "      <td>50</td>\n",
              "      <td>Dulce_y_amargo_-_Danielle_Steel</td>\n",
              "      <td>Novelas</td>\n",
              "      <td>Book</td>\n",
              "    </tr>\n",
              "    <tr>\n",
              "      <th>184321</th>\n",
              "      <td>con gestos  ,  le indicó que lo siguiera</td>\n",
              "      <td>42</td>\n",
              "      <td>El_legado_-_Danielle_Steel</td>\n",
              "      <td>Novelas</td>\n",
              "      <td>Book</td>\n",
              "    </tr>\n",
              "    <tr>\n",
              "      <th>122</th>\n",
              "      <td>¿ es de veras el día siguiente  ,  @name  ?</td>\n",
              "      <td>43</td>\n",
              "      <td>Bestiario_-_Julio_Cortazar</td>\n",
              "      <td>cortazar</td>\n",
              "      <td>Book</td>\n",
              "    </tr>\n",
              "    <tr>\n",
              "      <th>140817</th>\n",
              "      <td>¿ aquél era el teniente @name havoc  ?</td>\n",
              "      <td>38</td>\n",
              "      <td>Orden_de_Invasion_-_A._Rolcest</td>\n",
              "      <td>Novelas</td>\n",
              "      <td>Book</td>\n",
              "    </tr>\n",
              "    <tr>\n",
              "      <th>8679</th>\n",
              "      <td>nunca nos comprendimos  ,  pero hicimos algo mejor  ,  y fue estimarnos por encima de toda compr...</td>\n",
              "      <td>104</td>\n",
              "      <td>Cartas_1937-1954_-_Julio_Cortazar</td>\n",
              "      <td>cortazar</td>\n",
              "      <td>Book</td>\n",
              "    </tr>\n",
              "    <tr>\n",
              "      <th>168171</th>\n",
              "      <td>contra esa barra luminosa se puso a disparar nig roden  ,  mientras retrocedía de espaldas  ,  b...</td>\n",
              "      <td>115</td>\n",
              "      <td>La_ofrenda_del_diablo_-_A._Rolcest</td>\n",
              "      <td>Novelas</td>\n",
              "      <td>Book</td>\n",
              "    </tr>\n",
              "    <tr>\n",
              "      <th>248417</th>\n",
              "      <td>@name madre se levantó para marcharse</td>\n",
              "      <td>39</td>\n",
              "      <td>Ecos_-_Danielle_Steel</td>\n",
              "      <td>Novelas</td>\n",
              "      <td>Book</td>\n",
              "    </tr>\n",
              "    <tr>\n",
              "      <th>203615</th>\n",
              "      <td>ahora  ,  no obstante  ,  las circunstancias se aliaban con ellos</td>\n",
              "      <td>67</td>\n",
              "      <td>Aguila_solitaria_-_Danielle_Steel</td>\n",
              "      <td>Novelas</td>\n",
              "      <td>Book</td>\n",
              "    </tr>\n",
              "  </tbody>\n",
              "</table>\n",
              "</div>"
            ],
            "text/plain": [
              "                                                                                                       line  ...  category\n",
              "116344  se llevó a @name consigo porque temía que otras personas no la llevaran a tiempo al refugio anti...  ...      Book\n",
              "7006                                       qué justo todo lo que dices de baudi  ,  ese gran muchacho bueno  ...      Book\n",
              "125794                                                     @name se irguió y  ,  maleta en mano  ,  la miró  ...      Book\n",
              "184321                                                             con gestos  ,  le indicó que lo siguiera  ...      Book\n",
              "122                                                             ¿ es de veras el día siguiente  ,  @name  ?  ...      Book\n",
              "140817                                                               ¿ aquél era el teniente @name havoc  ?  ...      Book\n",
              "8679    nunca nos comprendimos  ,  pero hicimos algo mejor  ,  y fue estimarnos por encima de toda compr...  ...      Book\n",
              "168171  contra esa barra luminosa se puso a disparar nig roden  ,  mientras retrocedía de espaldas  ,  b...  ...      Book\n",
              "248417                                                                @name madre se levantó para marcharse  ...      Book\n",
              "203615                                    ahora  ,  no obstante  ,  las circunstancias se aliaban con ellos  ...      Book\n",
              "\n",
              "[10 rows x 5 columns]"
            ]
          },
          "metadata": {
            "tags": []
          },
          "execution_count": 6
        }
      ]
    },
    {
      "cell_type": "code",
      "metadata": {
        "colab": {
          "base_uri": "https://localhost:8080/"
        },
        "id": "r_2DJqeKv6BB",
        "outputId": "364d21ba-29a7-41c8-f323-f954126674e8"
      },
      "source": [
        "data.shape"
      ],
      "execution_count": null,
      "outputs": [
        {
          "output_type": "execute_result",
          "data": {
            "text/plain": [
              "(316618, 5)"
            ]
          },
          "metadata": {
            "tags": []
          },
          "execution_count": 7
        }
      ]
    },
    {
      "cell_type": "code",
      "metadata": {
        "colab": {
          "base_uri": "https://localhost:8080/"
        },
        "id": "morpg_ZScW-t",
        "outputId": "64fe556b-b4c3-44f3-834b-1a6349ba2cdf"
      },
      "source": [
        "data.iloc[0:5,0]"
      ],
      "execution_count": null,
      "outputs": [
        {
          "output_type": "execute_result",
          "data": {
            "text/plain": [
              "0             bestiario es el primer libro de relatos que @name cortázar publica con su auténtico nombre\n",
              "2    sorpresa o incomodidad son  ,  en cada texto  ,  un condimento que se agrega al placer indescrip...\n",
              "4                                                                 a @name  ,  que gustaba de mis relatos\n",
              "5    almorzábamos a mediodía  ,  siempre puntuales ya no quedaba nada por hacer fuera de unos pocos p...\n",
              "6    nos resultaba grato almorzar pensando en la casa profunda y silenciosa y cómo nos bastábamos par...\n",
              "Name: line, dtype: object"
            ]
          },
          "metadata": {
            "tags": []
          },
          "execution_count": 8
        }
      ]
    },
    {
      "cell_type": "code",
      "metadata": {
        "id": "wLyVBr1hkdTW"
      },
      "source": [
        "## tokenizador de subwords\r\n",
        "tokenizer = tfds.features.text.SubwordTextEncoder.build_from_corpus(\r\n",
        "    data.iloc[:,0].tolist(), target_vocab_size=2**13)"
      ],
      "execution_count": null,
      "outputs": []
    },
    {
      "cell_type": "markdown",
      "metadata": {
        "id": "MZ4hL2oBHPRL"
      },
      "source": [
        "### Preprocesamiento"
      ]
    },
    {
      "cell_type": "code",
      "metadata": {
        "colab": {
          "base_uri": "https://localhost:8080/"
        },
        "id": "p7Rwes0RWYHk",
        "outputId": "33bd68d1-6fb1-4808-aff2-b28d8cf40e9e"
      },
      "source": [
        "from sklearn.model_selection import train_test_split\r\n",
        "\r\n",
        "X_train, X_test, y_train, y_test = train_test_split(data['line'], data['genre'], test_size=0.20, random_state=42, stratify=data['genre'])\r\n",
        "print('X_train: ',X_train.shape, 'X_test: ',X_test.shape, 'y_train: ',y_train.shape, 'y_test: ',y_test.shape)"
      ],
      "execution_count": null,
      "outputs": [
        {
          "output_type": "stream",
          "text": [
            "X_train:  (253294,) X_test:  (63324,) y_train:  (253294,) y_test:  (63324,)\n"
          ],
          "name": "stdout"
        }
      ]
    },
    {
      "cell_type": "code",
      "metadata": {
        "id": "R6g6IE9-XVCU"
      },
      "source": [
        "data_train = pd.concat([X_train, y_train],axis=1)"
      ],
      "execution_count": null,
      "outputs": []
    },
    {
      "cell_type": "code",
      "metadata": {
        "id": "3oTFeSg4ivYU"
      },
      "source": [
        "VOCAB_SIZE = tokenizer.vocab_size"
      ],
      "execution_count": null,
      "outputs": []
    },
    {
      "cell_type": "code",
      "metadata": {
        "colab": {
          "base_uri": "https://localhost:8080/"
        },
        "id": "s51W5GAHkFyq",
        "outputId": "ac1502c7-3117-477e-e76f-86f98f46a0fe"
      },
      "source": [
        "## el tokenizador tiene dos metodos: encode y decode:\n",
        "print(tokenizer.encode(\"cantar\"))\n",
        "print(tokenizer.decode(tokenizer.encode(\"cantar\")))"
      ],
      "execution_count": null,
      "outputs": [
        {
          "output_type": "stream",
          "text": [
            "[4969]\n",
            "cantar\n"
          ],
          "name": "stdout"
        }
      ]
    },
    {
      "cell_type": "code",
      "metadata": {
        "colab": {
          "base_uri": "https://localhost:8080/"
        },
        "id": "Xm88-VnQX2DU",
        "outputId": "06b9bf2c-fe22-40d5-c6c3-117805fba78d"
      },
      "source": [
        "sample_string = 'todo lo que nos desvela'\r\n",
        "\r\n",
        "tokenized_string = tokenizer.encode(sample_string)\r\n",
        "print ('Tokenizada {}'.format(tokenized_string))\r\n",
        "\r\n",
        "original_string = tokenizer.decode(tokenized_string)\r\n",
        "print ('Original: {}'.format(original_string))\r\n",
        "\r\n",
        "for ts in tokenized_string:\r\n",
        "  print ('{} ----> {}'.format(ts, tokenizer.decode([ts])))\r\n",
        "\r\n",
        "assert original_string == sample_string"
      ],
      "execution_count": null,
      "outputs": [
        {
          "output_type": "stream",
          "text": [
            "Tokenizada [50, 14, 3, 74, 3740, 778]\n",
            "Original: todo lo que nos desvela\n",
            "50 ----> todo \n",
            "14 ----> lo \n",
            "3 ----> que \n",
            "74 ----> nos \n",
            "3740 ----> desv\n",
            "778 ----> ela\n"
          ],
          "name": "stdout"
        }
      ]
    },
    {
      "cell_type": "code",
      "metadata": {
        "id": "t22BxaJ4YEar"
      },
      "source": [
        "BUFFER_SIZE = 20000\r\n",
        "BATCH_SIZE = 64\r\n",
        "MAX_LENGTH = 32"
      ],
      "execution_count": null,
      "outputs": []
    },
    {
      "cell_type": "code",
      "metadata": {
        "id": "XelLoo5G4GeX"
      },
      "source": [
        "# Funcion para utilizar luego en la reconstrucción\r\n",
        "def tokenize_and_filter(inputs):\r\n",
        "  tokenized_inputs = []\r\n",
        "  \r\n",
        "  for sentence1 in inputs:\r\n",
        "    # tokenizamos + tokens especiales\r\n",
        "    sentence1 = tokenizer.encode(sentence1)\r\n",
        "    # filtramos\r\n",
        "    if len(sentence1) <= MAX_LENGTH:\r\n",
        "      tokenized_inputs.append(sentence1)\r\n",
        "  \r\n",
        "  # paddeamos\r\n",
        "  tokenized_inputs = tf.keras.preprocessing.sequence.pad_sequences(\r\n",
        "      tokenized_inputs, maxlen=MAX_LENGTH, padding='post')\r\n",
        "  \r\n",
        "  return tokenized_inputs"
      ],
      "execution_count": null,
      "outputs": []
    },
    {
      "cell_type": "code",
      "metadata": {
        "id": "R0FUBYbOjvfC"
      },
      "source": [
        "# Tokenizamos, filtramos las secuencias menores al largo maximo\n",
        "# y las paddeamos \n",
        "def tokenize_and_filter_df(inputs):\n",
        "  tokenized_inputs = {}\n",
        "  count_dict = 0\n",
        "  for index, line in inputs.iterrows():\n",
        "    sentence = line['line']\n",
        "    # tokenizamos + tokens especiales\n",
        "    sentence = tokenizer.encode(sentence)\n",
        "    # filtramos\n",
        "    if len(sentence) <= MAX_LENGTH:\n",
        "      # tokenized_inputs.append(sentence)\n",
        "      tokenized_inputs[count_dict] = {\"line\": sentence, \"len\": len(sentence), \"genre\": line['genre']}\n",
        "      count_dict += 1\n",
        "\n",
        "  data_filtered = pd.DataFrame.from_dict(tokenized_inputs, \"index\")\n",
        "  \n",
        "  return data_filtered\n",
        "\n",
        "data_tokens = tokenize_and_filter_df(data_train)"
      ],
      "execution_count": null,
      "outputs": []
    },
    {
      "cell_type": "code",
      "metadata": {
        "colab": {
          "base_uri": "https://localhost:8080/",
          "height": 391
        },
        "id": "Xupv9FUhuRzl",
        "outputId": "753ccf59-2d13-4721-e2e5-68c2194cae55"
      },
      "source": [
        "data_tokens"
      ],
      "execution_count": null,
      "outputs": [
        {
          "output_type": "execute_result",
          "data": {
            "text/html": [
              "<div>\n",
              "<style scoped>\n",
              "    .dataframe tbody tr th:only-of-type {\n",
              "        vertical-align: middle;\n",
              "    }\n",
              "\n",
              "    .dataframe tbody tr th {\n",
              "        vertical-align: top;\n",
              "    }\n",
              "\n",
              "    .dataframe thead th {\n",
              "        text-align: right;\n",
              "    }\n",
              "</style>\n",
              "<table border=\"1\" class=\"dataframe\">\n",
              "  <thead>\n",
              "    <tr style=\"text-align: right;\">\n",
              "      <th></th>\n",
              "      <th>line</th>\n",
              "      <th>len</th>\n",
              "      <th>genre</th>\n",
              "    </tr>\n",
              "  </thead>\n",
              "  <tbody>\n",
              "    <tr>\n",
              "      <th>0</th>\n",
              "      <td>[64, 7234, 8030, 1522, 6949, 7965, 29, 81, 3434, 2, 5241, 66]</td>\n",
              "      <td>12</td>\n",
              "      <td>Novelas</td>\n",
              "    </tr>\n",
              "    <tr>\n",
              "      <th>1</th>\n",
              "      <td>[614, 3, 282, 7038, 664, 28, 2, 192, 2858, 20, 5856, 20, 6, 4792, 2944, 14, 13, 1079, 2725, 8044]</td>\n",
              "      <td>20</td>\n",
              "      <td>Novelas</td>\n",
              "    </tr>\n",
              "    <tr>\n",
              "      <th>2</th>\n",
              "      <td>[22, 456, 385, 2034, 53, 73, 18, 1267]</td>\n",
              "      <td>8</td>\n",
              "      <td>Novelas</td>\n",
              "    </tr>\n",
              "    <tr>\n",
              "      <th>3</th>\n",
              "      <td>[280, 4, 5900, 7965, 2, 7126, 106, 6, 975, 479]</td>\n",
              "      <td>10</td>\n",
              "      <td>cortazar</td>\n",
              "    </tr>\n",
              "    <tr>\n",
              "      <th>4</th>\n",
              "      <td>[10, 7740, 104, 5, 175, 4138, 100, 2, 255, 241]</td>\n",
              "      <td>10</td>\n",
              "      <td>Novelas</td>\n",
              "    </tr>\n",
              "    <tr>\n",
              "      <th>...</th>\n",
              "      <td>...</td>\n",
              "      <td>...</td>\n",
              "      <td>...</td>\n",
              "    </tr>\n",
              "    <tr>\n",
              "      <th>249844</th>\n",
              "      <td>[7997, 9, 14, 429, 173, 13, 7326, 6, 218, 10, 4189, 2, 1516]</td>\n",
              "      <td>13</td>\n",
              "      <td>Novelas</td>\n",
              "    </tr>\n",
              "    <tr>\n",
              "      <th>249845</th>\n",
              "      <td>[65, 1113, 62, 5110, 2, 157, 8030, 12, 9, 38, 11, 540, 2499, 7, 175, 4, 1105]</td>\n",
              "      <td>17</td>\n",
              "      <td>Novelas</td>\n",
              "    </tr>\n",
              "    <tr>\n",
              "      <th>249846</th>\n",
              "      <td>[7997, 9, 446, 29, 43, 5299, 20, 26, 123, 4, 285, 3, 1858, 18, 317]</td>\n",
              "      <td>15</td>\n",
              "      <td>Novelas</td>\n",
              "    </tr>\n",
              "    <tr>\n",
              "      <th>249847</th>\n",
              "      <td>[5168, 3869, 10, 4, 1387, 1732, 450, 2, 21, 4857, 2002, 23, 6350, 2000, 5862, 16, 8, 436, 5, 13,...</td>\n",
              "      <td>22</td>\n",
              "      <td>filosofia</td>\n",
              "    </tr>\n",
              "    <tr>\n",
              "      <th>249848</th>\n",
              "      <td>[7997, 27, 1, 222, 341, 21, 988, 5345, 5, 6, 195, 11, 36, 222, 390, 825]</td>\n",
              "      <td>16</td>\n",
              "      <td>Novelas</td>\n",
              "    </tr>\n",
              "  </tbody>\n",
              "</table>\n",
              "<p>249849 rows × 3 columns</p>\n",
              "</div>"
            ],
            "text/plain": [
              "                                                                                                       line  ...      genre\n",
              "0                                             [64, 7234, 8030, 1522, 6949, 7965, 29, 81, 3434, 2, 5241, 66]  ...    Novelas\n",
              "1         [614, 3, 282, 7038, 664, 28, 2, 192, 2858, 20, 5856, 20, 6, 4792, 2944, 14, 13, 1079, 2725, 8044]  ...    Novelas\n",
              "2                                                                    [22, 456, 385, 2034, 53, 73, 18, 1267]  ...    Novelas\n",
              "3                                                           [280, 4, 5900, 7965, 2, 7126, 106, 6, 975, 479]  ...   cortazar\n",
              "4                                                           [10, 7740, 104, 5, 175, 4138, 100, 2, 255, 241]  ...    Novelas\n",
              "...                                                                                                     ...  ...        ...\n",
              "249844                                         [7997, 9, 14, 429, 173, 13, 7326, 6, 218, 10, 4189, 2, 1516]  ...    Novelas\n",
              "249845                        [65, 1113, 62, 5110, 2, 157, 8030, 12, 9, 38, 11, 540, 2499, 7, 175, 4, 1105]  ...    Novelas\n",
              "249846                                  [7997, 9, 446, 29, 43, 5299, 20, 26, 123, 4, 285, 3, 1858, 18, 317]  ...    Novelas\n",
              "249847  [5168, 3869, 10, 4, 1387, 1732, 450, 2, 21, 4857, 2002, 23, 6350, 2000, 5862, 16, 8, 436, 5, 13,...  ...  filosofia\n",
              "249848                             [7997, 27, 1, 222, 341, 21, 988, 5345, 5, 6, 195, 11, 36, 222, 390, 825]  ...    Novelas\n",
              "\n",
              "[249849 rows x 3 columns]"
            ]
          },
          "metadata": {
            "tags": []
          },
          "execution_count": 18
        }
      ]
    },
    {
      "cell_type": "code",
      "metadata": {
        "colab": {
          "base_uri": "https://localhost:8080/"
        },
        "id": "EtJjtBH3uSA1",
        "outputId": "ca236c52-0713-4274-aedd-ef0b9941770e"
      },
      "source": [
        "# paddeamos\r\n",
        "data_lines = tf.keras.preprocessing.sequence.pad_sequences(\r\n",
        "    data_tokens.line.tolist(), maxlen=MAX_LENGTH, padding='post')\r\n",
        "  \r\n",
        "data_lines[0]"
      ],
      "execution_count": null,
      "outputs": [
        {
          "output_type": "execute_result",
          "data": {
            "text/plain": [
              "array([  64, 7234, 8030, 1522, 6949, 7965,   29,   81, 3434,    2, 5241,\n",
              "         66,    0,    0,    0,    0,    0,    0,    0,    0,    0,    0,\n",
              "          0,    0,    0,    0,    0,    0,    0,    0,    0,    0],\n",
              "      dtype=int32)"
            ]
          },
          "metadata": {
            "tags": []
          },
          "execution_count": 19
        }
      ]
    },
    {
      "cell_type": "code",
      "metadata": {
        "colab": {
          "base_uri": "https://localhost:8080/"
        },
        "id": "GUwCqgi8jtZu",
        "outputId": "1c0df3c5-c8ea-44f7-92ca-bec4e1c3940b"
      },
      "source": [
        "print('Tamaño vocabulario: {}'.format(VOCAB_SIZE))\n",
        "print('frases: {}'.format(len(data_lines)))"
      ],
      "execution_count": null,
      "outputs": [
        {
          "output_type": "stream",
          "text": [
            "Tamaño vocabulario: 8189\n",
            "frases: 249849\n"
          ],
          "name": "stdout"
        }
      ]
    },
    {
      "cell_type": "code",
      "metadata": {
        "colab": {
          "base_uri": "https://localhost:8080/"
        },
        "id": "nuAWyF2oWWR4",
        "outputId": "0d7d3f46-b34c-4007-c616-1f2d39d3a853"
      },
      "source": [
        "# Tomamos la mayor cantidad de frases que sea multiplo de [BATCH_SIZE] para no generar problemas en el entrenamiento\r\n",
        "FINAL_LINES = int(len(data_lines) / BATCH_SIZE) * BATCH_SIZE\r\n",
        "FINAL_LINES"
      ],
      "execution_count": null,
      "outputs": [
        {
          "output_type": "execute_result",
          "data": {
            "text/plain": [
              "249792"
            ]
          },
          "metadata": {
            "tags": []
          },
          "execution_count": 21
        }
      ]
    },
    {
      "cell_type": "code",
      "metadata": {
        "colab": {
          "base_uri": "https://localhost:8080/"
        },
        "id": "vDDtJj7k4xwv",
        "outputId": "dae4841c-f8d0-47de-f5e8-477358f54871"
      },
      "source": [
        "# Adapto para que de un multiplo del batch size (64)\r\n",
        "data_lines = data_lines[0:FINAL_LINES]\r\n",
        "len(data_lines)"
      ],
      "execution_count": null,
      "outputs": [
        {
          "output_type": "execute_result",
          "data": {
            "text/plain": [
              "249792"
            ]
          },
          "metadata": {
            "tags": []
          },
          "execution_count": 22
        }
      ]
    },
    {
      "cell_type": "code",
      "metadata": {
        "id": "BFatj3GqupJA"
      },
      "source": [
        "# saco el token de start de los outputs\n",
        "dataset = tf.data.Dataset.from_tensor_slices((data_lines,data_lines))\n",
        "\n",
        "dataset = dataset.shuffle(BUFFER_SIZE).padded_batch(BATCH_SIZE)\n",
        "#dataset = dataset.prefetch(tf.data.experimental.AUTOTUNE)"
      ],
      "execution_count": null,
      "outputs": []
    },
    {
      "cell_type": "markdown",
      "metadata": {
        "id": "nCFUQb58HH9U"
      },
      "source": [
        "### Elementos básicos"
      ]
    },
    {
      "cell_type": "code",
      "metadata": {
        "id": "BWwqmlsovhif"
      },
      "source": [
        "def scaled_dot_product_attention(query, key, value, mask):\n",
        "  \"\"\"Calculamos attention weights \"\"\"\n",
        "\n",
        "  ## hacemos el producto de query por la transpuesta de key\n",
        "  matmul_qk = tf.matmul(query, key, transpose_b=True)\n",
        "\n",
        "  ## escalamos por la raiz cuadrado del # dims\n",
        "  depth = tf.cast(tf.shape(key)[-1], tf.float32)\n",
        "  logits = matmul_qk / tf.math.sqrt(depth)\n",
        "\n",
        "  ## agregamos la mascara\n",
        "  if mask is not None:\n",
        "    logits += (mask * -1e9)\n",
        "\n",
        "  ## aplicamos la softmax\n",
        "  attention_weights = tf.nn.softmax(logits, axis=-1)\n",
        "\n",
        "  ## y multiplicamos por value \n",
        "  output = tf.matmul(attention_weights, value)\n",
        "\n",
        "  return output"
      ],
      "execution_count": null,
      "outputs": []
    },
    {
      "cell_type": "code",
      "metadata": {
        "id": "tvkNTlcovsvA"
      },
      "source": [
        "class MultiHeadAttention(tf.keras.layers.Layer):\n",
        "\n",
        "  ''' Vamos a armar la capa para multihead attention '''\n",
        "\n",
        "  def __init__(self, d_model, num_heads, name=\"multi_head_attention\"):\n",
        "    super(MultiHeadAttention, self).__init__(name=name)\n",
        "\n",
        "    ## que es este super?\n",
        "    ## super() te permite acceeder a los metodos de la super clase de la cual\n",
        "    ## la subclase está heredando. En este caso, estas herendando de Layers.\n",
        "        \n",
        "    ## definimos algunos parametros: cuantas cabezas va a tener self attention \n",
        "    ## y la dimensionalidad del embedding\n",
        "    self.num_heads = num_heads\n",
        "    self.d_model = d_model\n",
        "\n",
        "    assert d_model % self.num_heads == 0\n",
        "\n",
        "    ## cuantas dimensiones va a tener cada cabeza:\n",
        "    self.depth = d_model // self.num_heads\n",
        "\n",
        "    self.query_dense = tf.keras.layers.Dense(units=d_model)\n",
        "    self.key_dense = tf.keras.layers.Dense(units=d_model)\n",
        "    self.value_dense = tf.keras.layers.Dense(units=d_model)\n",
        "\n",
        "    self.dense = tf.keras.layers.Dense(units=d_model)\n",
        "\n",
        "  def split_heads(self, inputs, batch_size):\n",
        "    ## vamos a armar la division en cabezas. \n",
        "    ## se va a entender mejor en el siguiente bloque de codigo\n",
        "    ## por ahora es solamente la forma en la que \n",
        "    ## reacomodamos los datos para armar las cabezas\n",
        "    inputs = tf.reshape(\n",
        "        inputs, shape=(batch_size, -1, self.num_heads, self.depth))\n",
        "    return tf.transpose(inputs, perm=[0, 2, 1, 3])\n",
        "\n",
        "\n",
        "  def get_config(self):\n",
        "          config = super().get_config().copy()\n",
        "          config.update({\n",
        "              'num_heads': self.num_heads,\n",
        "              'd_model': self.d_model,\n",
        "              'depth': self.depth,\n",
        "              'query_dense': self.query_dense,\n",
        "              'key_dense': self.key_dense,\n",
        "              'value_dense': self.value_dense,\n",
        "              'dense': self.dense             \n",
        "          })\n",
        "          return config\n",
        "\n",
        "  def call(self, inputs):\n",
        "    ''' Este call es el metodo que  va a llamar keras para usar la capa'''\n",
        "\n",
        "    query, key, value, mask = inputs['query'], inputs['key'], inputs[\n",
        "        'value'], inputs['mask']\n",
        "    batch_size = tf.shape(query)[0]\n",
        "\n",
        "    # linear layers\n",
        "    query = self.query_dense(query)\n",
        "    key = self.key_dense(key)\n",
        "    value = self.value_dense(value)\n",
        "\n",
        "    # print(self.name, mask)\n",
        "\n",
        "    # split heads\n",
        "    query = self.split_heads(query, batch_size)\n",
        "    key = self.split_heads(key, batch_size)\n",
        "    value = self.split_heads(value, batch_size)\n",
        "\n",
        "    # scaled dot-product attention\n",
        "    scaled_attention = scaled_dot_product_attention(query, key, value, mask)\n",
        "\n",
        "    # acomodamos las dimensiones\n",
        "    scaled_attention = tf.transpose(scaled_attention, perm=[0, 2, 1, 3])\n",
        "\n",
        "    # concatenamos las cabezas\n",
        "    concat_attention = tf.reshape(scaled_attention,\n",
        "                                  (batch_size, -1, self.d_model))\n",
        "\n",
        "    # final linear layer\n",
        "    outputs = self.dense(concat_attention)\n",
        "\n",
        "    return outputs"
      ],
      "execution_count": null,
      "outputs": []
    },
    {
      "cell_type": "code",
      "metadata": {
        "id": "rxWsmzF8vy0O"
      },
      "source": [
        "## creamos una mascara para el padding (asi nos nos molesta)\n",
        "## con esto lo que hacemos es despues pasarselo a la capa \n",
        "## anterior y eliminamos los paddings\n",
        "\n",
        "def create_padding_mask(x):\n",
        "  mask = tf.cast(tf.math.equal(x, 0), tf.float32)\n",
        "  # (batch_size, 1, 1, sequence length)\n",
        "\n",
        "  return mask[:, tf.newaxis, tf.newaxis, :]"
      ],
      "execution_count": null,
      "outputs": []
    },
    {
      "cell_type": "code",
      "metadata": {
        "id": "r7lli_1fv2Gg"
      },
      "source": [
        "## vamos a crear la otra mascara:\n",
        "## ahora queremos la mascara para no ver el futuro\n",
        "## vamos a incorporarle tambien la mascara para el padding\n",
        "\n",
        "def create_look_ahead_mask(x):\n",
        "  seq_len = tf.shape(x)[1]\n",
        "  look_ahead_mask = 1 - tf.linalg.band_part(tf.ones((seq_len, seq_len)), -1, 0)\n",
        "\n",
        "  ## aca la mascara para el padding\n",
        "  padding_mask = create_padding_mask(x)\n",
        "\n",
        "  return tf.maximum(look_ahead_mask, padding_mask)"
      ],
      "execution_count": null,
      "outputs": []
    },
    {
      "cell_type": "code",
      "metadata": {
        "id": "xXvoowMLwNZR"
      },
      "source": [
        "class PositionalEncoding(tf.keras.layers.Layer):\n",
        "  ''' Armamos los encodings de posición '''\n",
        "\n",
        "  def __init__(self, position, d_model):\n",
        "    super(PositionalEncoding, self).__init__()\n",
        "    self.pos_encoding = self.positional_encoding(position, d_model)\n",
        "\n",
        "  ## comparar con formula de la teorica\n",
        "  def get_angles(self, position, i, d_model):\n",
        "    angles = 1 / tf.pow(10000, (2 * (i // 2)) / tf.cast(d_model, tf.float32))\n",
        "    return position * angles\n",
        "\n",
        "   \n",
        "  def positional_encoding(self, position, d_model):\n",
        "    angle_rads = self.get_angles(\n",
        "        position=tf.range(position, dtype=tf.float32)[:, tf.newaxis],\n",
        "        i=tf.range(d_model, dtype=tf.float32)[tf.newaxis, :],\n",
        "        d_model=d_model)\n",
        "    # seno a los indices pares\n",
        "    sines = tf.math.sin(angle_rads[:, 0::2])\n",
        "    # coseno a los impares\n",
        "    cosines = tf.math.cos(angle_rads[:, 1::2])\n",
        "\n",
        "    pos_encoding = tf.concat([sines, cosines], axis=-1)\n",
        "    pos_encoding = pos_encoding[tf.newaxis, :]\n",
        "    return tf.cast(pos_encoding, tf.float32)\n",
        "\n",
        "  def get_config(self):\n",
        "\n",
        "          config = super().get_config().copy()\n",
        "          config.update({\n",
        "              'pos_encoding': self.pos_encoding\n",
        "          })\n",
        "          return config\n",
        "\n",
        "  def call(self, inputs):\n",
        "    return inputs + self.pos_encoding[:, :tf.shape(inputs)[1], :]"
      ],
      "execution_count": null,
      "outputs": []
    },
    {
      "cell_type": "markdown",
      "metadata": {
        "id": "dYT57O5kJeKT"
      },
      "source": [
        "### Encoder"
      ]
    },
    {
      "cell_type": "code",
      "metadata": {
        "id": "YlUJTbRow4K0"
      },
      "source": [
        "class Sampling(Layer):\r\n",
        "    def call(self, inputs):\r\n",
        "        mu, log_var = inputs\r\n",
        "        epsilon = K.random_normal(shape=K.shape(mu), mean=0., stddev=1.)\r\n",
        "        return mu + K.exp(log_var / 2) * epsilon"
      ],
      "execution_count": null,
      "outputs": []
    },
    {
      "cell_type": "code",
      "metadata": {
        "id": "Is6EC55bwwAG"
      },
      "source": [
        "## ya tenemos todos los ingredientes para armar una capa de encoder\n",
        "## todavía no es el encoder entero!\n",
        "\n",
        "def encoder_layer(units, d_model, num_heads, dropout, name=\"encoder_layer\"):\n",
        "  inputs = tf.keras.Input(shape=(None, d_model), name=\"inputs\")\n",
        "  padding_mask = tf.keras.Input(shape=(1, 1, None), name=\"padding_mask\")\n",
        "\n",
        "  attention = MultiHeadAttention(\n",
        "      d_model, num_heads, name=\"attention\")({\n",
        "          'query': inputs,\n",
        "          'key': inputs,\n",
        "          'value': inputs,\n",
        "          'mask': padding_mask\n",
        "      })\n",
        "  attention = tf.keras.layers.Dropout(rate=dropout)(attention)\n",
        "  attention = tf.keras.layers.LayerNormalization(\n",
        "      epsilon=1e-6)(inputs + attention)\n",
        "\n",
        "  outputs = tf.keras.layers.Dense(units=units, activation='relu')(attention)\n",
        "  outputs = tf.keras.layers.Dense(units=d_model)(outputs)\n",
        "  outputs = tf.keras.layers.Dropout(rate=dropout)(outputs)\n",
        "  outputs = tf.keras.layers.LayerNormalization(\n",
        "      epsilon=1e-6)(attention + outputs)\n",
        "\n",
        "  return tf.keras.Model(\n",
        "      inputs=[inputs, padding_mask], outputs=outputs, name=name)"
      ],
      "execution_count": null,
      "outputs": []
    },
    {
      "cell_type": "code",
      "metadata": {
        "id": "zX5a3YBl5XsG"
      },
      "source": [
        "## ahora si: el encoder\n",
        "## vamos a definir una funcion que nos devuelva un modelo que tenga\n",
        "## num_layers bloques de encoder:\n",
        "\n",
        "def encoder(vocab_size, num_layers, units, d_model, num_heads,\n",
        "            dropout, latent_space, name=\"encoder\"):\n",
        "  \n",
        "  inputs = tf.keras.Input(shape=(None,), name=\"inputs\")\n",
        "\n",
        "  print('enc_inputs',inputs)\n",
        "\n",
        "  padding_mask = tf.keras.layers.Lambda(\n",
        "      create_padding_mask, output_shape=(1, 1, None),\n",
        "      name='enc_padding_mask')(inputs)\n",
        "\n",
        "  ## partimos de los embeddings\n",
        "  embeddings = tf.keras.layers.Embedding(vocab_size, d_model)(inputs)\n",
        "  embeddings *= tf.math.sqrt(tf.cast(d_model, tf.float32))\n",
        "\n",
        "  ## y les sumamos el positional encoding\n",
        "  embeddings = PositionalEncoding(vocab_size, d_model)(embeddings)\n",
        "\n",
        "  outputs = tf.keras.layers.Dropout(rate=dropout)(embeddings)\n",
        "\n",
        "  ## y usamos tantos bloques como querramos\n",
        "  for i in range(num_layers):\n",
        "    outputs = encoder_layer(\n",
        "                            units=units,\n",
        "                            d_model=d_model,\n",
        "                            num_heads=num_heads,\n",
        "                            dropout=dropout,\n",
        "                            name=\"encoder_layer_{}\".format(i),\n",
        "                        )([outputs, padding_mask])\n",
        "\n",
        "  outputs  = tf.keras.layers.Reshape([MAX_LENGTH * d_model])(outputs)\n",
        "  # Generamos la media\n",
        "  \n",
        "  outputs = tf.keras.layers.Dense(MAX_LENGTH * 10)(outputs)\n",
        "\n",
        "  outputs = tf.keras.layers.Dense(latent_space)(outputs)\n",
        "  \n",
        "\n",
        "  mu = Dense(latent_space, name='mu')(outputs) #TODO: revisar la dimensionalidad del espacio latente\n",
        "\n",
        "\n",
        "  # Generamos el logaritmo de la varianza\n",
        "  logvar = Dense(latent_space, name='logvar')(outputs)\n",
        "  # Usamos esos parámetros para samplear el espacio latente\n",
        "  z = Sampling(name='encoder_output')([mu, logvar])\n",
        "\n",
        "  #output = Dense(d_model, name='latent space')(outputs)\n",
        "\n",
        "  return tf.keras.Model(\n",
        "      inputs=inputs, outputs=[mu, logvar, z], name=name)"
      ],
      "execution_count": null,
      "outputs": []
    },
    {
      "cell_type": "markdown",
      "metadata": {
        "id": "rq48-SRsG8UA"
      },
      "source": [
        "### Decoder"
      ]
    },
    {
      "cell_type": "code",
      "metadata": {
        "id": "avimnpJTRvFn"
      },
      "source": [
        "## vamos a usar las mismas partes que ya tenemos para armar el decoder\n",
        "## primero la decoder layer\n",
        "\n",
        "def decoder_layer(units, d_model, num_heads, dropout, name=\"decoder_layer\"):\n",
        "  \n",
        "  decoder_input = tf.keras.Input(shape=(None, d_model), name=\"decoder_input_layer\")\n",
        "  \n",
        "  # look_ahead_mask = tf.keras.Input(\n",
        "  #     shape=(1, None, None), name=\"look_ahead_mask\")\n",
        "\n",
        "  attention1 = MultiHeadAttention(\n",
        "      d_model, num_heads, name=\"attention_1\")(inputs={\n",
        "          'query': decoder_input,\n",
        "          'key': decoder_input,\n",
        "          'value': decoder_input,\n",
        "          'mask': None #padding_mask\n",
        "      })\n",
        "\n",
        "  #Normalization1\n",
        "  attention1 = tf.keras.layers.LayerNormalization(\n",
        "      epsilon=1e-6)(attention1 + decoder_input)\n",
        "\n",
        "  #FeedFoward\n",
        "  outputs = tf.keras.layers.Dense(units=units, activation='relu')(attention1)\n",
        "  outputs = tf.keras.layers.Dense(units=d_model)(outputs)\n",
        "  outputs = tf.keras.layers.Dropout(rate=dropout)(outputs)\n",
        "\n",
        "  #Normalization2\n",
        "  outputs = tf.keras.layers.LayerNormalization(\n",
        "      epsilon=1e-6)(outputs + attention1)\n",
        "\n",
        "  return tf.keras.Model(\n",
        "      inputs=[decoder_input],\n",
        "      outputs=outputs,\n",
        "      name=name)"
      ],
      "execution_count": null,
      "outputs": []
    },
    {
      "cell_type": "code",
      "metadata": {
        "id": "pUUvWeK6HWqP"
      },
      "source": [
        "## y ahora usamos la decoder layer para el decoder\n",
        "\n",
        "def decoder(vocab_size, num_layers, units, d_model, num_heads,\n",
        "            dropout ,latent_space, name='decoder'):\n",
        "\n",
        "  decoder_input = tf.keras.Input(shape=(latent_space), name='decoder_input')\n",
        "\n",
        "  output = tf.keras.layers.Dense(MAX_LENGTH * 10)(decoder_input)\n",
        "\n",
        "  \n",
        "  output = Dense(MAX_LENGTH * d_model, name='linear_proyection')(output)\n",
        "\n",
        "  output = tf.keras.layers.Reshape([MAX_LENGTH, d_model])(output)\n",
        " # print('linear_proyection', output.shape)\n",
        "\n",
        "  ## la mascara para no ver el futuro y para el padding\n",
        "  ## ojo que la toma de afuera (es un input, no la creamos aca)\n",
        "\n",
        "  # look_ahead_mask = tf.keras.Input(\n",
        "  #     shape=(1, None, None), name='look_ahead_mask')\n",
        "  \n",
        "\n",
        "  outputs = tf.keras.layers.Dropout(rate=dropout)(output)\n",
        "\n",
        "  ## vamos a tener num_layers bloques de decoders\n",
        "  for i in range(num_layers):\n",
        "    outputs = decoder_layer(\n",
        "        units=units,\n",
        "        d_model=d_model,\n",
        "        num_heads=num_heads,\n",
        "        dropout=dropout,\n",
        "        name='decoder_layer_{}'.format(i),\n",
        "    )(inputs=[outputs])\n",
        "\n",
        "  outputs = tf.keras.layers.TimeDistributed(Dense(d_model))(outputs)\n",
        "  outputs = tf.keras.layers.LSTM(units=d_model, return_sequences=True, name='LSTM')(outputs)\n",
        "\n",
        "\n",
        "  outputs = tf.keras.layers.Dense(units=vocab_size, name=\"outputs\")(outputs)\n",
        "\n",
        "#  print('final', output.shape)\n",
        "\n",
        "  return tf.keras.Model(\n",
        "      inputs=[decoder_input],\n",
        "      outputs=outputs,\n",
        "      name=name)"
      ],
      "execution_count": null,
      "outputs": []
    },
    {
      "cell_type": "markdown",
      "metadata": {
        "id": "BFj1enIjIDs8"
      },
      "source": [
        "### Modelo VAE"
      ]
    },
    {
      "cell_type": "code",
      "metadata": {
        "id": "90WFLW2pJ41n"
      },
      "source": [
        "from tensorflow.keras.models import Model\r\n",
        "from contextlib import suppress\r\n",
        "\r\n",
        "\r\n",
        "beta = K.variable(value=0.0)\r\n",
        "beta._trainable = False\r\n",
        "\r\n",
        "class VAEModel(Model):\r\n",
        "    def __init__(self, encoder, decoder, a, b, vocab_size, num_layers, units, d_model, num_heads, dropout, latent_space, mask=None, function=None, **kwargs):\r\n",
        "        super(VAEModel, self).__init__(**kwargs)\r\n",
        "        self.encoder = encoder(\r\n",
        "          vocab_size=vocab_size,\r\n",
        "          num_layers=num_layers,\r\n",
        "          units=units,\r\n",
        "          d_model=d_model,\r\n",
        "          num_heads=num_heads,\r\n",
        "          dropout=dropout,\r\n",
        "          latent_space=latent_space)\r\n",
        "        \r\n",
        "        self.decoder = decoder(\r\n",
        "          vocab_size=vocab_size,\r\n",
        "          num_layers=num_layers,\r\n",
        "          units=units,\r\n",
        "          d_model=d_model,\r\n",
        "          num_heads=num_heads,\r\n",
        "          dropout=dropout,\r\n",
        "          latent_space=latent_space)\r\n",
        "        \r\n",
        "        self.a = a\r\n",
        "        self.b = b\r\n",
        "        self.function = function\r\n",
        "\r\n",
        "    def loss_function(self, y_true, y_pred):\r\n",
        "      print(\"ytrue:\",y_true,\"ypred:\",y_pred)\r\n",
        "      y_true = tf.reshape(y_true, shape=(-1, MAX_LENGTH)) #(-1, MAX_LENGTH - 1))\r\n",
        "      \r\n",
        "      ## calculamos la loss sin reducir\r\n",
        "      loss = tf.keras.losses.SparseCategoricalCrossentropy(\r\n",
        "          from_logits=True, reduction='none')(y_true, y_pred)\r\n",
        "\r\n",
        "      ## aplicamos una mascara\r\n",
        "      # mask = tf.cast(tf.not_equal(y_true, 0), tf.float32)\r\n",
        "      # loss = tf.multiply(loss, mask)\r\n",
        "\r\n",
        "      ## y reducimos la loss\r\n",
        "      return tf.reduce_mean(loss)\r\n",
        "\r\n",
        "    # Definimos el train step para que utilice la función de costo compuesta por el error de reconstrucción y la divergencia KL\r\n",
        "    def train_step(self, data):\r\n",
        "        data = data[0]\r\n",
        "\r\n",
        "        \r\n",
        "        # Iniciamos el cálculo de la loss dentro del contexto que registra las operaciones para poder derivarlas\r\n",
        "        with tf.GradientTape() as tape:\r\n",
        "            # Usamos el encoder para mapear las oraciones al espacio latente y obtenemos los parámetros de la distribución\r\n",
        "            \r\n",
        "            \r\n",
        "            z_mean, z_log_var, z = self.encoder(data)\r\n",
        "            # Reconstruimos la oración a partir de z\r\n",
        "\r\n",
        "            reconstruction = self.decoder(z)\r\n",
        "\r\n",
        "            reconstruction_loss = self.loss_function(data, reconstruction)\r\n",
        "\r\n",
        "            # Escalamos la pérdida con el r_loss_factor\r\n",
        "           # reconstruction_loss *= self.r_loss_factor\r\n",
        "            # Calculamos la divergencia KL usando la media y la varianza\r\n",
        "            kl_loss = 1 + z_log_var - tf.square(z_mean) - tf.exp(z_log_var)\r\n",
        "            kl_loss = tf.reduce_sum(kl_loss, axis = 1)\r\n",
        "            kl_loss *= -0.5\r\n",
        "            # Selecciona funcion de annealing\r\n",
        "            if self.function == 'linear':\r\n",
        "              factor = self.a * beta + self.b\r\n",
        "            else:\r\n",
        "              factor =  1/(1+tf.exp(-self.a*beta+self.b))\r\n",
        "\r\n",
        "            total_loss = reconstruction_loss + kl_loss * factor\r\n",
        "\r\n",
        "        # Calculamos los gradientes\r\n",
        "        grads = tape.gradient(total_loss, self.trainable_weights)\r\n",
        "        \r\n",
        "        # Actualizamos los pesos\r\n",
        "        self.optimizer.apply_gradients(zip(grads, self.trainable_weights))\r\n",
        "        # El método train_step debe devolver un diccionario\r\n",
        "        return {\r\n",
        "            \"loss\": total_loss,\r\n",
        "            \"reconstruction_loss\": reconstruction_loss,\r\n",
        "            \"kl_loss\": kl_loss,\r\n",
        "            \"kl_weight\": factor,\r\n",
        "        }\r\n",
        "\r\n",
        "    def reconstruct(self, q_sample, silent_reconstruct=False, silent_orig=True):\r\n",
        "      _,_,result = model.encoder(q_sample.reshape(1,MAX_LENGTH,1))\r\n",
        "      #decoded from sample\r\n",
        "      print('Reconstr: ',self.decode_sample(result, silent_reconstruct))\r\n",
        "\r\n",
        "      # original  \r\n",
        "      print('Original: ',tokenizer.decode([i for i in q_sample if i < tokenizer.vocab_size]))\r\n",
        "      if (silent_orig == False):\r\n",
        "        print(q_sample)\r\n",
        "\r\n",
        "    def decode_sample(self, z_sampled, silent_reconstruct=False):\r\n",
        "      result = self.decoder(z_sampled)\r\n",
        "      with suppress(Exception):\r\n",
        "        prediction = np.argmax(result, axis=2)\r\n",
        "\r\n",
        "        pred = prediction[0]\r\n",
        "        pred_to_decode = [i for i in pred if i < tokenizer.vocab_size]\r\n",
        "        if (silent_reconstruct == False):\r\n",
        "          print(pred_to_decode)\r\n",
        "        return tokenizer.decode(pred_to_decode)\r\n",
        "\r\n",
        "\r\n",
        "    def reconstruct_sentence(self, sentence, silent_reconstruct=False, silent_orig=True):\r\n",
        "      sentence = [sentence]\r\n",
        "      sentence = tokenize_and_filter(sentence)\r\n",
        "      sentence = sentence.reshape(MAX_LENGTH)\r\n",
        "      return self.reconstruct(sentence, silent_reconstruct, silent_orig)\r\n",
        "\r\n",
        "    def call(self,inputs):\r\n",
        "        mu, logvar, z = self.encoder(inputs)\r\n",
        "        print(\"checkpoint_call\")\r\n",
        "\r\n",
        "        return self.decoder(z)\r\n",
        "\r\n",
        " \r\n"
      ],
      "execution_count": null,
      "outputs": []
    },
    {
      "cell_type": "code",
      "metadata": {
        "colab": {
          "base_uri": "https://localhost:8080/"
        },
        "id": "N7CP0KswNS-m",
        "outputId": "72f8d45e-1dfe-485d-8e3e-212b32def8a5"
      },
      "source": [
        "# Hyper-parameters\n",
        "NUM_LAYERS = 6\n",
        "D_MODEL = 256\n",
        "NUM_HEADS = 8\n",
        "UNITS = 512\n",
        "DROPOUT = 0.2\n",
        "LATENT_SPACE = 16\n",
        "A = 0.0001\n",
        "B = 10\n",
        "\n",
        "# Instanciamos el modelo\n",
        "model = VAEModel(encoder, decoder, \n",
        "    a=A,\n",
        "    b=B,\n",
        "    vocab_size=VOCAB_SIZE,\n",
        "    num_layers=NUM_LAYERS,\n",
        "    units=UNITS,\n",
        "    d_model=D_MODEL,\n",
        "    num_heads=NUM_HEADS,\n",
        "    dropout=DROPOUT,\n",
        "    latent_space=LATENT_SPACE)"
      ],
      "execution_count": null,
      "outputs": [
        {
          "output_type": "stream",
          "text": [
            "enc_inputs KerasTensor(type_spec=TensorSpec(shape=(None, None), dtype=tf.float32, name='inputs'), name='inputs', description=\"created by layer 'inputs'\")\n"
          ],
          "name": "stdout"
        }
      ]
    },
    {
      "cell_type": "code",
      "metadata": {
        "id": "naVLYaZvJGWr"
      },
      "source": [
        "# model.load_weights('/content/drive/My Drive/Colab Notebooks/desafio final/weights_corpus_v4.HDF5')"
      ],
      "execution_count": null,
      "outputs": []
    },
    {
      "cell_type": "code",
      "metadata": {
        "colab": {
          "base_uri": "https://localhost:8080/",
          "height": 1000
        },
        "id": "pr2ogPET6BA5",
        "outputId": "0c1370bc-1267-4e1a-e865-485a86a989c2"
      },
      "source": [
        "eo = encoder(\n",
        "      vocab_size=VOCAB_SIZE,\n",
        "      num_layers=NUM_LAYERS,\n",
        "      units=UNITS,\n",
        "      d_model=D_MODEL,\n",
        "      num_heads=NUM_HEADS,\n",
        "    dropout=DROPOUT,\n",
        "    latent_space=LATENT_SPACE)\n",
        "tf.keras.utils.plot_model(eo, show_shapes=True)"
      ],
      "execution_count": null,
      "outputs": [
        {
          "output_type": "stream",
          "text": [
            "enc_inputs KerasTensor(type_spec=TensorSpec(shape=(None, None), dtype=tf.float32, name='inputs'), name='inputs', description=\"created by layer 'inputs'\")\n"
          ],
          "name": "stdout"
        },
        {
          "output_type": "execute_result",
          "data": {
            "image/png": "[encoded data removed]",
            "text/plain": [
              "<IPython.core.display.Image object>"
            ]
          },
          "metadata": {
            "tags": []
          },
          "execution_count": 46
        }
      ]
    },
    {
      "cell_type": "code",
      "metadata": {
        "colab": {
          "base_uri": "https://localhost:8080/",
          "height": 1000
        },
        "id": "qg1-eDPA6BA5",
        "outputId": "79914df8-7140-4870-d53c-9ca45cbb7d13"
      },
      "source": [
        "do = decoder(\n",
        "  vocab_size=VOCAB_SIZE,\n",
        "  num_layers=NUM_LAYERS,\n",
        "  units=UNITS,\n",
        "  d_model=D_MODEL,\n",
        "  num_heads=NUM_HEADS,\n",
        "  dropout=DROPOUT,\n",
        "  latent_space=LATENT_SPACE)\n",
        "    \n",
        "tf.keras.utils.plot_model(do, show_shapes=True)\n",
        "    "
      ],
      "execution_count": null,
      "outputs": [
        {
          "output_type": "execute_result",
          "data": {
            "image/png": "[encoded data removed]",
            "text/plain": [
              "<IPython.core.display.Image object>"
            ]
          },
          "metadata": {
            "tags": []
          },
          "execution_count": 47
        }
      ]
    },
    {
      "cell_type": "code",
      "metadata": {
        "colab": {
          "base_uri": "https://localhost:8080/"
        },
        "id": "EUrCods_wVWe",
        "outputId": "054c338a-cbee-4c02-fefa-3fb57f9496fb"
      },
      "source": [
        "from random import randint\r\n",
        "\r\n",
        "from nltk.translate.chrf_score import sentence_chrf\r\n",
        "\r\n",
        "# Ejemplo de la medida del accuracy del modelo / la loss\r\n",
        "\r\n",
        "def loss_sentence_chrf(y_true, y_pred):\r\n",
        "  chrf_acc_mean = 0\r\n",
        "  with suppress(Exception):\r\n",
        "    # print(y_pred.shape)\r\n",
        "    preds = np.argmax(y_pred, axis=-1)\r\n",
        "    # print(preds.shape)\r\n",
        "    chrf_acc = []\r\n",
        "    for index, pred in enumerate(preds, start=0):\r\n",
        "      sentence_pred = tokenizer.decode(pred)\r\n",
        "      sentence_true = tokenizer.decode(y_true[index])\r\n",
        "      # print(sentence_pred,\"|\", sentence_true)\r\n",
        "      # print('\\n')\r\n",
        "      \" \".join([str(i) for i in pred])\r\n",
        "      sentence_pred = \" \".join([str(i) for i in pred])\r\n",
        "      sentence_true = \" \".join([str(i) for i in y_true[index].numpy()])\r\n",
        "\r\n",
        "      # print('pred:',sentence_pred)\r\n",
        "      # print('true:',sentence_true)\r\n",
        "      # print('\\n')\r\n",
        "      chrf_acc = sentence_chrf(sentence_pred, sentence_true, min_len=2)\r\n",
        "\r\n",
        "      loss = (1 - chrf_acc) * 100\r\n",
        "      # print('loss:', loss)\r\n",
        "      # print('acc:', chrf_acc)\r\n",
        "      # print('\\n')\r\n",
        "      chrf_acc.append(chrf_acc)\r\n",
        "      chrf_acc_mean = tf.reduce_mean(chrf_acc_mean)\r\n",
        "  return chrf_acc_mean\r\n",
        "\r\n",
        "\r\n",
        "y_true = tf.constant([data_lines[randint(0,data_lines.shape[0]) - 1] for _ in range(10)])\r\n",
        "y_pred = model.predict(y_true)\r\n",
        "\r\n",
        "loss_sentence_chrf(y_true, y_pred)"
      ],
      "execution_count": null,
      "outputs": [
        {
          "output_type": "stream",
          "text": [
            "checkpoint_call\n"
          ],
          "name": "stdout"
        },
        {
          "output_type": "execute_result",
          "data": {
            "text/plain": [
              "0"
            ]
          },
          "metadata": {
            "tags": []
          },
          "execution_count": 48
        }
      ]
    },
    {
      "cell_type": "code",
      "metadata": {
        "id": "GWRMqA1lQ6CG"
      },
      "source": [
        "from tensorflow.keras.callbacks import Callback, LambdaCallback\n",
        "\n",
        "\n",
        "class EpochEndCallback(Callback): # Creamos una clase que herede de Callback\n",
        "\n",
        "    def __init__(self, period=1): # Definimos los atributos que necesita la clase y los inicializamos en el constructor\n",
        "        super(EpochEndCallback, self).__init__()\n",
        "        self.period = period\n",
        "    \n",
        "    # Lo que buscamos es que cada cierta cantidad de epochs se genere un texto.\n",
        "    def on_epoch_end(self, epoch, logs=None):\n",
        "        if epoch % self.period == 0:\n",
        "            print('Callback running', epoch)\n",
        "            q_sample = data_lines[randint(0,data_lines.shape[0]) - 1]\n",
        "            model.reconstruct(q_sample)\n",
        "        else if epoch % self.period == 20:\n",
        "          model.save_weights('/content/drive/My Drive/Colab Notebooks/desafio final/weights_corpus_v4.HDF5', save_format='tf')          \n",
        "          # y_true = tf.constant([data_lines[randint(0,data_lines.shape[0]) - 1] for _ in range(100)])\n",
        "          # loss_sentence_chrf(y_true, y_pred)\n",
        "\n",
        "# Instanciamos nuestro custom callback\n",
        "eec = EpochEndCallback()"
      ],
      "execution_count": null,
      "outputs": []
    },
    {
      "cell_type": "markdown",
      "metadata": {
        "id": "RJvle4mJRBf_"
      },
      "source": [
        "### Entrenamiento"
      ]
    },
    {
      "cell_type": "code",
      "metadata": {
        "id": "MFrPsMXDBqCL"
      },
      "source": [
        "#defino un callback para actualizar epoch y generar variable de conteo de epochs\n",
        "def count(epoch):\n",
        "  K.set_value(beta, epoch)\n",
        "\n",
        "counter = LambdaCallback(on_epoch_end=lambda epoch, log: count(epoch))"
      ],
      "execution_count": null,
      "outputs": []
    },
    {
      "cell_type": "code",
      "metadata": {
        "id": "7gbUOg3sqx84"
      },
      "source": [
        "## nos queda armar el lr que va cambiando con el tiempo\r\n",
        "## hay que hacer un schedule de lr:\r\n",
        "class CustomSchedule(tf.keras.optimizers.schedules.LearningRateSchedule):\r\n",
        "  def __init__(self, d_model, warmup_steps=4000):\r\n",
        "    super(CustomSchedule, self).__init__()\r\n",
        "\r\n",
        "    self.d_model = d_model\r\n",
        "    self.d_model = tf.cast(self.d_model, tf.float32)\r\n",
        "\r\n",
        "    self.warmup_steps = warmup_steps\r\n",
        "\r\n",
        "  def __call__(self, step):\r\n",
        "    arg1 = tf.math.rsqrt(step)\r\n",
        "    arg2 = step * (self.warmup_steps ** -1.5)\r\n",
        "    return tf.math.rsqrt(self.d_model) * tf.math.minimum(arg1, arg2)\r\n",
        "    \r\n",
        "\r\n",
        "\r\n"
      ],
      "execution_count": null,
      "outputs": []
    },
    {
      "cell_type": "code",
      "metadata": {
        "id": "luvHx3QXfyvm",
        "colab": {
          "base_uri": "https://localhost:8080/"
        },
        "outputId": "751f2daf-d52b-4916-cc58-bcfb5860c68a"
      },
      "source": [
        "EPOCHS = 120\r\n",
        "\r\n",
        "# optimizer = tf.keras.optimizers.Adam(CustomSchedule(D_MODEL), beta_1=0.9, beta_2=0.98, \r\n",
        "#                                      epsilon=1e-9)\r\n",
        "\r\n",
        "optimizer = tf.keras.optimizers.Adam(0.00001, beta_1=0.9, beta_2=0.999, \r\n",
        "                                     epsilon=1e-9) #for fine-tunning\r\n",
        "\r\n",
        "model.compile(optimizer=optimizer)\r\n",
        "\r\n",
        "history = model.fit(dataset, epochs=EPOCHS, callbacks=[eec, counter])"
      ],
      "execution_count": null,
      "outputs": [
        {
          "output_type": "stream",
          "text": [
            "Epoch 1/120\n",
            "ytrue: Tensor(\"IteratorGetNext:0\", shape=(None, 32), dtype=int32) ypred: Tensor(\"decoder/outputs/BiasAdd:0\", shape=(None, 32, 8189), dtype=float32)\n",
            "ytrue: Tensor(\"IteratorGetNext:0\", shape=(None, 32), dtype=int32) ypred: Tensor(\"decoder/outputs/BiasAdd:0\", shape=(None, 32, 8189), dtype=float32)\n",
            "3903/3903 [==============================] - 275s 67ms/step - loss: 4.4654 - reconstruction_loss: 4.4637 - kl_loss: 37.4411 - kl_weight: 4.5398e-05\n",
            "Callback running 0\n",
            "[0, 0, 0, 0, 0, 0, 0, 0, 0, 0, 0, 0, 0, 0, 0, 0, 0, 0, 0, 0, 0, 0, 0, 0, 0, 0, 0, 0, 0, 0, 0, 0]\n",
            "Reconstr:  \n",
            "Original:  @name viento del norte soy yo para higos maduros\n",
            "Epoch 2/120\n",
            "3903/3903 [==============================] - 259s 66ms/step - loss: 3.4884 - reconstruction_loss: 3.4856 - kl_loss: 63.5454 - kl_weight: 4.5398e-05\n",
            "Callback running 1\n",
            "[0, 1, 1, 1, 1, 2, 2, 27, 0, 0, 0, 0, 0, 0, 0, 0, 0, 0, 0, 0, 0, 0, 0, 0, 0, 0, 0, 0, 0, 0, 0, 0]\n",
            "Reconstr:  None\n",
            "Original:  tus grandes ojos negros y me miras\n",
            "Epoch 3/120\n",
            "3903/3903 [==============================] - 259s 66ms/step - loss: 3.3682 - reconstruction_loss: 3.3646 - kl_loss: 78.8359 - kl_weight: 4.5402e-05\n",
            "Callback running 2\n",
            "[4, 2, 1, 1, 1, 1, 1, 1, 1, 1, 1, 1, 1, 1, 1, 2, 2, 27, 0, 0, 0, 0, 0, 0, 0, 0, 0, 0, 0, 0, 0, 0]\n",
            "Reconstr:  la de   ,    ,    ,    ,    ,    ,    ,    ,    ,    ,    ,    ,    ,  de de name\n",
            "Original:  habían llegado en autobús a primera hora de la tarde y no habían parado desde entonces\n",
            "Epoch 4/120\n",
            "3903/3903 [==============================] - 260s 67ms/step - loss: 3.2674 - reconstruction_loss: 3.2631 - kl_loss: 95.3169 - kl_weight: 4.5407e-05\n",
            "Callback running 3\n",
            "[4, 2, 2, 2, 2, 2, 2, 8048, 8048, 0, 0, 0, 0, 0, 0, 0, 0, 0, 0, 0, 0, 0, 0, 0, 0, 0, 0, 0, 0, 0, 0, 0]\n",
            "Reconstr:  la de de de de de de ss\n",
            "Original:  tantas noches de gloria en los teatros\n",
            "Epoch 5/120\n",
            "3903/3903 [==============================] - 258s 66ms/step - loss: 3.1387 - reconstruction_loss: 3.1333 - kl_loss: 117.4670 - kl_weight: 4.5412e-05\n",
            "Callback running 4\n",
            "[8, 7965, 7965, 3, 3, 3, 7965, 7965, 7965, 7965, 7965, 7965, 7965, 2, 2, 83, 0, 0, 0, 0, 0, 0, 0, 0, 0, 0, 0, 0, 0, 0, 0, 0]\n",
            "Reconstr:  el   que que que        de de ella\n",
            "Original:  la otra identidad que tiene tu pecho tan lleno de ti tan lleno de mí\n",
            "Epoch 6/120\n",
            "3903/3903 [==============================] - 257s 66ms/step - loss: 3.0251 - reconstruction_loss: 3.0192 - kl_loss: 130.1710 - kl_weight: 4.5416e-05\n",
            "Callback running 5\n",
            "[4, 2, 7965, 3, 3, 7965, 7965, 7965, 7965, 7965, 6, 10, 4, 2, 2, 7965, 7965, 7965, 7965, 2, 2, 2, 2, 2, 2, 83, 0, 0, 0, 0, 0, 0]\n",
            "Reconstr:  la de  que que      y se la de de     de de de de de de ella\n",
            "Original:  estupendo lucy contestó con una sonrisa a la vez que miraba hacia el camino en busca de una camioneta de color azul oscuro\n",
            "Epoch 7/120\n",
            "3903/3903 [==============================] - 258s 66ms/step - loss: 2.9463 - reconstruction_loss: 2.9403 - kl_loss: 131.6732 - kl_weight: 4.5421e-05\n",
            "Callback running 6\n",
            "[7997, 9, 3, 3, 3, 3, 3, 3, 3, 5, 5, 7965, 2, 2, 31, 8048, 0, 0, 0, 0, 0, 0, 0, 0, 0, 0, 0, 0, 0, 0, 0, 0]\n",
            "Reconstr:  @name que que que que que que que a a  de de del s\n",
            "Original:  @name en cambio no pienso permitirle que siga fastidiando al nene\n",
            "Epoch 8/120\n",
            "3903/3903 [==============================] - 260s 67ms/step - loss: 2.8802 - reconstruction_loss: 2.8741 - kl_loss: 134.0512 - kl_weight: 4.5425e-05\n",
            "Callback running 7\n",
            "[11, 14, 8030, 1, 8, 5, 5, 83, 0, 0, 0, 0, 0, 0, 0, 0, 0, 0, 0, 0, 0, 0, 0, 0, 0, 0, 0, 0, 0, 0, 0, 0]\n",
            "Reconstr:  no lo a  ,  el a a ella\n",
            "Original:  eso está hecho  ,  nena dijo sonriendo\n",
            "Epoch 9/120\n",
            "3903/3903 [==============================] - 259s 66ms/step - loss: 2.8195 - reconstruction_loss: 2.8133 - kl_loss: 135.4405 - kl_weight: 4.5430e-05\n",
            "Callback running 8\n",
            "[28, 13, 5, 3, 11, 47, 67, 0, 0, 0, 0, 0, 0, 0, 0, 0, 0, 0, 0, 0, 0, 0, 0, 0, 0, 0, 0, 0, 0, 0, 0, 0]\n",
            "Reconstr:  me un a que no muy do\n",
            "Original:  hacía demasiado tiempo que no charlaban\n",
            "Epoch 10/120\n",
            "3903/3903 [==============================] - 259s 66ms/step - loss: 2.7606 - reconstruction_loss: 2.7543 - kl_loss: 137.6967 - kl_weight: 4.5434e-05\n",
            "Callback running 9\n",
            "[64, 51, 36, 13, 7965, 5, 13, 7965, 5, 13, 77, 35, 0, 0, 0, 0, 0, 0, 0, 0, 0, 0, 0, 0, 0, 0, 0, 0, 0, 0, 0, 0]\n",
            "Reconstr:  ¡ qué te un  a un  a un él  ?\n",
            "Original:  ¡ me he prestado a tu juego como una tonta  !\n",
            "Epoch 11/120\n",
            "3903/3903 [==============================] - 259s 66ms/step - loss: 2.7050 - reconstruction_loss: 2.6986 - kl_loss: 140.7432 - kl_weight: 4.5439e-05\n",
            "Callback running 10\n",
            "[40, 51, 185, 7965, 3, 3, 5, 83, 35, 0, 0, 0, 0, 0, 0, 0, 0, 0, 0, 0, 0, 0, 0, 0, 0, 0, 0, 0, 0, 0, 0, 0]\n",
            "Reconstr:  ¿ qué   ,   ¿  que que a ella  ?\n",
            "Original:  ¿ dónde diantres estaba el problema  ?\n",
            "Epoch 12/120\n",
            "3903/3903 [==============================] - 259s 66ms/step - loss: 2.6598 - reconstruction_loss: 2.6532 - kl_loss: 143.9458 - kl_weight: 4.5443e-05\n",
            "Callback running 11\n",
            "[28, 13, 7965, 7965, 3, 3, 11, 13, 7965, 7965, 2, 77, 0, 0, 0, 0, 0, 0, 0, 0, 0, 0, 0, 0, 0, 0, 0, 0, 0, 0, 0, 0]\n",
            "Reconstr:  me un   que que no un   de él\n",
            "Original:  te prometo continuó él que no intentaré forzar nada\n",
            "Epoch 13/120\n",
            "3903/3903 [==============================] - 260s 67ms/step - loss: 2.6204 - reconstruction_loss: 2.6137 - kl_loss: 146.0942 - kl_weight: 4.5448e-05\n",
            "Callback running 12\n",
            "[22, 10, 4, 31, 7965, 31, 8044, 1, 6, 1, 1, 1, 11, 11, 10, 22, 5, 13, 7965, 7965, 8044, 0, 0, 0, 0, 0, 0, 0, 0, 0, 0, 0]\n",
            "Reconstr:  había se la del  del o  ,  y   ,    ,    ,  no no se había a un   o\n",
            "Original:  walmar se quedó inmóvil un instante  ,  esperando  ,  como si no se atreviera a proseguir\n",
            "Epoch 14/120\n",
            "3903/3903 [==============================] - 261s 67ms/step - loss: 2.5845 - reconstruction_loss: 2.5778 - kl_loss: 147.0852 - kl_weight: 4.5452e-05\n",
            "Callback running 13\n",
            "[28, 14, 14, 63, 12, 9, 13, 8030, 1, 30, 3, 3, 5, 7965, 7965, 7, 77, 0, 0, 0, 0, 0, 0, 0, 0, 0, 0, 0, 0, 0, 0, 0]\n",
            "Reconstr:  me lo lo que @name un a  ,  pero que que a   en él\n",
            "Original:  ignoraba qué haría cuando @name volviera  ,  pero faltaban al menos dos meses para eso\n",
            "Epoch 15/120\n",
            "3903/3903 [==============================] - 258s 66ms/step - loss: 2.5523 - reconstruction_loss: 2.5454 - kl_loss: 150.1665 - kl_weight: 4.5457e-05\n",
            "Callback running 14\n",
            "[10, 4, 15, 7965, 7965, 7965, 6, 15, 7965, 7965, 7965, 7, 4, 146, 0, 0, 0, 0, 0, 0, 0, 0, 0, 0, 0, 0, 0, 0, 0, 0, 0, 0]\n",
            "Reconstr:  se la los    y los    en la casa\n",
            "Original:  le gustaba modificarlos y simplificarlos según su gusto\n",
            "Epoch 16/120\n",
            "3903/3903 [==============================] - 259s 66ms/step - loss: 2.5210 - reconstruction_loss: 2.5139 - kl_loss: 155.3111 - kl_weight: 4.5461e-05\n",
            "Callback running 15\n",
            "[7997, 9, 4, 4, 281, 1, 7, 4, 200, 6, 10, 4, 4, 4, 4, 2, 4, 18, 153, 0, 0, 0, 0, 0, 0, 0, 0, 0, 0, 0, 0, 0]\n",
            "Reconstr:  @name la la cabeza  ,  en la mano y se la la la la de la su ón\n",
            "Original:  @name sacó las llaves  ,  abrió la puerta y él la siguió al interior de la vivienda\n",
            "Epoch 17/120\n",
            "3903/3903 [==============================] - 258s 66ms/step - loss: 2.4868 - reconstruction_loss: 2.4794 - kl_loss: 162.8989 - kl_weight: 4.5466e-05\n",
            "Callback running 16\n",
            "[4, 15, 39, 2, 15, 2, 6, 4, 7965, 7965, 7965, 7965, 7965, 52, 12, 9, 16, 5, 13, 7965, 7965, 8044, 0, 0, 0, 0, 0, 0, 0, 0, 0, 0]\n",
            "Reconstr:  la los ó de los de y la      de @name con a un   o\n",
            "Original:  la última semana de marya y charles edouard en nueva @name fue un auténtico caos\n",
            "Epoch 18/120\n",
            "3903/3903 [==============================] - 258s 66ms/step - loss: 2.4515 - reconstruction_loss: 2.4439 - kl_loss: 165.1542 - kl_weight: 4.5471e-05\n",
            "Callback running 17\n",
            "[28, 23, 480, 8030, 9, 15, 7965, 15, 7965, 23, 8, 7965, 23, 5, 81, 7965, 244, 0, 0, 0, 0, 0, 0, 0, 0, 0, 0, 0, 0, 0, 0, 0]\n",
            "Reconstr:  me es seraname los  los  es el  es a tu  dos\n",
            "Original:  eso es cierto  .   .   .  @name luchado desesperadamente para trepar desde el mismo arroyo\n",
            "Epoch 19/120\n",
            "3903/3903 [==============================] - 259s 66ms/step - loss: 2.4199 - reconstruction_loss: 2.4124 - kl_loss: 165.6023 - kl_weight: 4.5475e-05\n",
            "Callback running 18\n",
            "[8, 113, 6, 4, 52, 12, 9, 42, 83, 0, 0, 0, 0, 0, 0, 0, 0, 0, 0, 0, 0, 0, 0, 0, 0, 0, 0, 0, 0, 0, 0, 0]\n",
            "Reconstr:  el ojos y la de @name estaba ella\n",
            "Original:  el profesor y la madre @name tenían razón\n",
            "Epoch 20/120\n",
            "3903/3903 [==============================] - 259s 66ms/step - loss: 2.3908 - reconstruction_loss: 2.3833 - kl_loss: 165.9129 - kl_weight: 4.5480e-05\n",
            "Callback running 19\n",
            "[7, 22, 110, 10, 13, 37, 2, 2, 2, 18, 8048, 1, 3, 3, 5, 7965, 7965, 2, 2, 2, 7965, 2, 268, 8048, 0, 0, 0, 0, 0, 0, 0, 0]\n",
            "Reconstr:  en había tiempo se un do de de de su s  ,  que que a   de de de  de tis\n",
            "Original:  primero quería tomarse un poco de tiempo para conocerlo  ,  y por la tarde harían la sesión de fotos\n",
            "Epoch 21/120\n",
            "3903/3903 [==============================] - 257s 66ms/step - loss: 2.3630 - reconstruction_loss: 2.3554 - kl_loss: 166.4868 - kl_weight: 4.5484e-05\n",
            "Callback running 20\n",
            "[8030, 12, 27, 1, 24, 7965, 2, 6, 15, 7965, 7965, 7965, 5, 5, 5, 4, 4, 7965, 2, 146, 0, 0, 0, 0, 0, 0, 0, 0, 0, 0, 0, 0]\n",
            "Reconstr:  a @name  ,  las  de y los    a a a la la  de casa\n",
            "Original:  dijo @name  ,  abrazándola y echando una ojeada a la máquina de escribir\n",
            "Epoch 22/120\n",
            "3903/3903 [==============================] - 258s 66ms/step - loss: 2.3362 - reconstruction_loss: 2.3286 - kl_loss: 166.9280 - kl_weight: 4.5489e-05\n",
            "Callback running 21\n",
            "[40, 19, 51, 11, 4, 22, 503, 7965, 2, 4, 2, 4, 287, 1, 2, 3, 3, 18, 126, 35, 0, 0, 0, 0, 0, 0, 0, 0, 0, 0, 0, 0]\n",
            "Reconstr:  ¿ por qué no la había per de la de la ojos  ,  de que que su ba  ?\n",
            "Original:  ¿ por qué no la había retenido en casa la víspera  ,  antes de que saliera  ?\n",
            "Epoch 23/120\n",
            "3903/3903 [==============================] - 255s 65ms/step - loss: 2.3108 - reconstruction_loss: 2.3031 - kl_loss: 167.1805 - kl_weight: 4.5493e-05\n",
            "Callback running 22\n",
            "[11, 42, 21, 31, 53, 2, 3, 15, 7965, 7965, 8044, 1, 8, 8, 6, 4, 13, 7965, 7965, 8044, 0, 0, 0, 0, 0, 0, 0, 0, 0, 0, 0, 0]\n",
            "Reconstr:  no estaba una del dos de que los   o  ,  el el y la un   o\n",
            "Original:  no tenía sentido quedarse abajo viendo cómo los demás reían  ,  gritaban y se emborrachaban\n",
            "Epoch 24/120\n",
            "3903/3903 [==============================] - 256s 66ms/step - loss: 2.2862 - reconstruction_loss: 2.2786 - kl_loss: 168.2039 - kl_weight: 4.5498e-05\n",
            "Callback running 23\n",
            "[15, 378, 378, 8033, 7965, 36, 480, 7965, 5, 8, 7965, 7965, 8044, 0, 0, 0, 0, 0, 0, 0, 0, 0, 0, 0, 0, 0, 0, 0, 0, 0, 0, 0]\n",
            "Reconstr:  los   .    .  d te ser a el   o\n",
            "Original:  cualquier imbécil puede informar sobre un asedio\n",
            "Epoch 25/120\n",
            "3903/3903 [==============================] - 259s 66ms/step - loss: 2.2635 - reconstruction_loss: 2.2558 - kl_loss: 168.8905 - kl_weight: 4.5502e-05\n",
            "Callback running 24\n",
            "[7997, 9, 11, 28, 1427, 37, 2, 15, 7965, 2, 7965, 3, 4, 7965, 7965, 7965, 23, 23, 8, 219, 0, 0, 0, 0, 0, 0, 0, 0, 0, 0, 0, 0]\n",
            "Reconstr:  @name no me queddo de los  de  que la    es es el vida\n",
            "Original:  @name no me acordaba de vosotras e ignoraba que el señor patterson era mi padre\n",
            "Epoch 26/120\n",
            "3903/3903 [==============================] - 260s 67ms/step - loss: 2.2400 - reconstruction_loss: 2.2323 - kl_loss: 169.1688 - kl_weight: 4.5507e-05\n",
            "Callback running 25\n",
            "[15, 53, 7, 4, 113, 3, 1029, 0, 0, 0, 0, 0, 0, 0, 0, 0, 0, 0, 0, 0, 0, 0, 0, 0, 0, 0, 0, 0, 0, 0, 0, 0]\n",
            "Reconstr:  los dos en la ojos que nunca\n",
            "Original:  alguna estancia en su interior que sea\n",
            "Epoch 27/120\n",
            "3903/3903 [==============================] - 260s 67ms/step - loss: 2.2191 - reconstruction_loss: 2.2114 - kl_loss: 169.4151 - kl_weight: 4.5511e-05\n",
            "Callback running 26\n",
            "[28, 1427, 90, 5, 1050, 25, 418, 8044, 12, 9, 47, 305, 0, 0, 0, 0, 0, 0, 0, 0, 0, 0, 0, 0, 0, 0, 0, 0, 0, 0, 0, 0]\n",
            "Reconstr:  me quedmos a preguntaro vero @name muy aquí\n",
            "Original:  me limitaré a presenciar cómo @name las vende\n",
            "Epoch 28/120\n",
            "3903/3903 [==============================] - 261s 67ms/step - loss: 2.1974 - reconstruction_loss: 2.1897 - kl_loss: 169.8140 - kl_weight: 4.5516e-05\n",
            "Callback running 27\n",
            "[3, 364, 23, 268, 20, 910, 324, 117, 0, 0, 0, 0, 0, 0, 0, 0, 0, 0, 0, 0, 0, 0, 0, 0, 0, 0, 0, 0, 0, 0, 0, 0]\n",
            "Reconstr:  que yoes tis venéos\n",
            "Original:  que iguales octubres enfloran  .   .\n",
            "Epoch 29/120\n",
            "3903/3903 [==============================] - 262s 67ms/step - loss: 2.1778 - reconstruction_loss: 2.1700 - kl_loss: 170.6380 - kl_weight: 4.5521e-05\n",
            "Callback running 28\n",
            "[4, 437, 7965, 2, 287, 7965, 454, 8033, 7965, 7, 8, 7965, 7, 15, 287, 0, 0, 0, 0, 0, 0, 0, 0, 0, 0, 0, 0, 0, 0, 0, 0, 0]\n",
            "Reconstr:  la mar de ojos pad en el  en los ojos\n",
            "Original:  la plantilla de noxon redujo en unos minutos a los pistoleros\n",
            "Epoch 30/120\n",
            "3903/3903 [==============================] - 264s 68ms/step - loss: 2.1584 - reconstruction_loss: 2.1506 - kl_loss: 170.7386 - kl_weight: 4.5525e-05\n",
            "Callback running 29\n",
            "[32, 162, 32, 3, 33, 13, 53, 1371, 7965, 6, 3, 11, 17, 47, 4232, 67, 0, 0, 0, 0, 0, 0, 0, 0, 0, 0, 0, 0, 0, 0, 0, 0]\n",
            "Reconstr:  era hecho era que más un dos informa y que no le muy casaddo\n",
            "Original:  esperaba tan solo que fuera una persona honrada y que no le hiciera sufrir\n",
            "Epoch 31/120\n",
            "3903/3903 [==============================] - 265s 68ms/step - loss: 2.1395 - reconstruction_loss: 2.1317 - kl_loss: 171.2722 - kl_weight: 4.5530e-05\n",
            "Callback running 30\n",
            "[19, 4, 739, 7965, 701, 117, 1, 111, 200, 8030, 12, 9, 4, 5, 5, 4, 2971, 153, 0, 0, 0, 0, 0, 0, 0, 0, 0, 0, 0, 0, 0, 0]\n",
            "Reconstr:  por la señora  uaos  ,  después mano a @name la a a la derechón\n",
            "Original:  para su perplejidad  ,  los compañeros de @name habían ocupado toda la cinta\n",
            "Epoch 32/120\n",
            "3903/3903 [==============================] - 263s 67ms/step - loss: 2.1214 - reconstruction_loss: 2.1136 - kl_loss: 172.1744 - kl_weight: 4.5534e-05\n",
            "Callback running 31\n",
            "[2, 3, 2096, 53, 202, 1, 74, 202, 0, 0, 0, 0, 0, 0, 0, 0, 0, 0, 0, 0, 0, 0, 0, 0, 0, 0, 0, 0, 0, 0, 0, 0]\n",
            "Reconstr:  de que alegro dos bien  ,  nos bien\n",
            "Original:  el que quiera venir conmigo  ,  puede hacerlo\n",
            "Epoch 33/120\n",
            "3903/3903 [==============================] - 263s 67ms/step - loss: 2.1039 - reconstruction_loss: 2.0961 - kl_loss: 172.2150 - kl_weight: 4.5539e-05\n",
            "Callback running 32\n",
            "[6, 8, 410, 25, 416, 899, 25, 2, 4, 4, 7965, 7965, 7, 15, 7965, 244, 0, 0, 0, 0, 0, 0, 0, 0, 0, 0, 0, 0, 0, 0, 0, 0]\n",
            "Reconstr:  y el señor o mantio de la la   en los  dos\n",
            "Original:  y el silbido ineducado de la flauta en vuestros labios\n",
            "Epoch 34/120\n",
            "3903/3903 [==============================] - 262s 67ms/step - loss: 2.0874 - reconstruction_loss: 2.0795 - kl_loss: 173.1360 - kl_weight: 4.5543e-05\n",
            "Callback running 33\n",
            "[4919, 7965, 86, 3665, 39, 84, 53, 329, 7965, 10, 22, 5, 3, 3, 3, 22, 5, 5, 4, 5, 2, 18, 146, 0, 0, 0, 0, 0, 0, 0, 0, 0]\n",
            "Reconstr:  inquirió fue sorprendidaó mientras dos er se había a que que que había a a la a de su casa\n",
            "Original:  pare aquí ordenó amelia esforzándose por dejar de pensar cuando el taxi llegó a casa de su hermana\n",
            "Epoch 35/120\n",
            "3903/3903 [==============================] - 264s 68ms/step - loss: 2.0714 - reconstruction_loss: 2.0636 - kl_loss: 173.1166 - kl_weight: 4.5548e-05\n",
            "Callback running 34\n",
            "[7997, 9, 737, 7965, 7, 13, 140, 23, 4, 7965, 7965, 2, 2, 7965, 6, 11, 36, 23, 33, 737, 223, 0, 0, 0, 0, 0, 0, 0, 0, 0, 0, 0]\n",
            "Reconstr:  @name dar en un cosas es la   de de  y no te es más darte\n",
            "Original:  @name leí en un cuento donde había muchos palindromas pero solamente me acuerdo de ése\n",
            "Epoch 36/120\n",
            "3903/3903 [==============================] - 264s 68ms/step - loss: 2.0576 - reconstruction_loss: 2.0496 - kl_loss: 174.1820 - kl_weight: 4.5552e-05\n",
            "Callback running 35\n",
            "[10, 172, 34, 38, 17, 22, 312, 19, 121, 13, 3879, 153, 0, 0, 0, 0, 0, 0, 0, 0, 0, 0, 0, 0, 0, 0, 0, 0, 0, 0, 0, 0]\n",
            "Reconstr:  se preguntó como si le había visto por casa un pistolerón\n",
            "Original:  se sentía como si le hubiera pasado por encima un camión\n",
            "Epoch 37/120\n",
            "3903/3903 [==============================] - 264s 68ms/step - loss: 2.0447 - reconstruction_loss: 2.0368 - kl_loss: 173.6955 - kl_weight: 4.5557e-05\n",
            "Callback running 36\n",
            "[538, 1, 84, 10, 641, 16, 33, 307, 2, 4, 83, 1, 6, 3, 3, 3, 22, 5, 4, 7965, 2, 43, 238, 0, 0, 0, 0, 0, 0, 0, 0, 0]\n",
            "Reconstr:  después  ,  mientras se encontraba con más tarde de la ella  ,  y que que que había a la  de sus años\n",
            "Original:  ahora  ,  mientras se ponía con todo cuidado el vestido negro  ,  le parecía increíble que existiera el mundo de dolff\n",
            "Epoch 38/120\n",
            "3903/3903 [==============================] - 264s 68ms/step - loss: 2.0319 - reconstruction_loss: 2.0240 - kl_loss: 174.1470 - kl_weight: 4.5562e-05\n",
            "Callback running 37\n",
            "[5, 454, 246, 14, 17, 2027, 57, 33, 3, 7965, 7965, 3, 3, 3, 3, 3, 17, 288, 12, 27, 0, 0, 0, 0, 0, 0, 0, 0, 0, 0, 0, 0]\n",
            "Reconstr:  a pal lo le explicaba más que   que que que que que le era @name\n",
            "Original:  a christophe le importaban más sus uvas que el dinero que se quedaba @name\n",
            "Epoch 39/120\n",
            "3903/3903 [==============================] - 263s 67ms/step - loss: 2.0205 - reconstruction_loss: 2.0125 - kl_loss: 174.5502 - kl_weight: 4.5566e-05\n",
            "Callback running 38\n",
            "[2, 1405, 1, 11, 42, 2212, 7965, 19, 4, 7965, 6, 2, 2, 2, 4, 8054, 1, 6, 4, 4, 4, 2, 4, 8048, 1, 16, 5, 2212, 126, 0, 0, 0]\n",
            "Reconstr:  de repente  ,  no estaba mirándol por la  y de de de la y  ,  y la la la de la s  ,  con a mirándolba\n",
            "Original:  de repente  ,  no pudo resistir por más tiempo la mirada de aquellos ojos y  ,  cubriéndose el rostro con las manos  ,  empezó a sollozar\n",
            "Epoch 40/120\n",
            "3903/3903 [==============================] - 263s 67ms/step - loss: 2.0070 - reconstruction_loss: 1.9990 - kl_loss: 174.6159 - kl_weight: 4.5571e-05\n",
            "Callback running 39\n",
            "[5220, 20, 737, 106, 3, 11, 2098, 90, 2, 24, 7965, 5, 192, 7965, 244, 0, 0, 0, 0, 0, 0, 0, 0, 0, 0, 0, 0, 0, 0, 0, 0, 0]\n",
            "Reconstr:  déjs daras que no sabrmos de las  a mis  dos\n",
            "Original:  complemento informativo que no dejará de interesar al pálido lector\n",
            "Epoch 41/120\n",
            "3903/3903 [==============================] - 264s 68ms/step - loss: 1.9960 - reconstruction_loss: 1.9880 - kl_loss: 174.5448 - kl_weight: 4.5575e-05\n",
            "Callback running 40\n",
            "[13, 454, 8033, 378, 1230, 7965, 16, 3, 17, 32, 609, 1396, 460, 0, 0, 0, 0, 0, 0, 0, 0, 0, 0, 0, 0, 0, 0, 0, 0, 0, 0, 0]\n",
            "Reconstr:  un pad  .  ip con que le era segura matarido\n",
            "Original:  un psiquiatra al que le habría gustado encerrarme\n",
            "Epoch 42/120\n",
            "3903/3903 [==============================] - 264s 68ms/step - loss: 1.9853 - reconstruction_loss: 1.9773 - kl_loss: 175.0016 - kl_weight: 4.5580e-05\n",
            "Callback running 41\n",
            "[7997, 9, 13, 1992, 25, 6, 44, 17, 912, 5, 19, 77, 0, 0, 0, 0, 0, 0, 0, 0, 0, 0, 0, 0, 0, 0, 0, 0, 0, 0, 0, 0]\n",
            "Reconstr:  @name un encantadoo y él le trataba a por él\n",
            "Original:  @name muy honrado y ella le admiraba por ello\n",
            "Epoch 43/120\n",
            "3903/3903 [==============================] - 264s 68ms/step - loss: 1.9745 - reconstruction_loss: 1.9665 - kl_loss: 175.3143 - kl_weight: 4.5584e-05\n",
            "Callback running 42\n",
            "[452, 2, 259, 1371, 124, 1, 30, 28, 32, 13, 2, 50, 33, 4232, 67, 0, 0, 0, 0, 0, 0, 0, 0, 0, 0, 0, 0, 0, 0, 0, 0, 0]\n",
            "Reconstr:  gracias de gran informada  ,  pero me era un de todo más casaddo\n",
            "Original:  trató de parecer indiferente  ,  pero sólo consiguió parecer un poco menos disgustada\n",
            "Epoch 44/120\n",
            "3903/3903 [==============================] - 264s 68ms/step - loss: 1.9655 - reconstruction_loss: 1.9575 - kl_loss: 174.9790 - kl_weight: 4.5589e-05\n",
            "Callback running 43\n",
            "[7997, 9, 23, 47, 140, 2, 3, 32, 33, 83, 1, 78, 4, 2, 8, 259, 408, 0, 0, 0, 0, 0, 0, 0, 0, 0, 0, 0, 0, 0, 0, 0]\n",
            "Reconstr:  @name es muy cosas de que era más ella  ,  ni la de el gran cosas\n",
            "Original:  @name cabía alguna esperanza de que pudiera recuperarse  ,  pasaba por conseguir el dinero suficiente\n",
            "Epoch 45/120\n",
            "3903/3903 [==============================] - 264s 68ms/step - loss: 1.9574 - reconstruction_loss: 1.9494 - kl_loss: 174.8479 - kl_weight: 4.5594e-05\n",
            "Callback running 44\n",
            "[13, 410, 899, 20, 23, 23, 8, 464, 553, 0, 0, 0, 0, 0, 0, 0, 0, 0, 0, 0, 0, 0, 0, 0, 0, 0, 0, 0, 0, 0, 0, 0]\n",
            "Reconstr:  un señor ntis es es el viejo días\n",
            "Original:  ser malvados ésa sería su verdadera bondad\n",
            "Epoch 46/120\n",
            "3903/3903 [==============================] - 264s 68ms/step - loss: 1.9472 - reconstruction_loss: 1.9392 - kl_loss: 175.1454 - kl_weight: 4.5598e-05\n",
            "Callback running 45\n",
            "[172, 3665, 20, 16, 21, 200, 31, 113, 8054, 12, 9, 10, 2687, 80, 0, 0, 0, 0, 0, 0, 0, 0, 0, 0, 0, 0, 0, 0, 0, 0, 0, 0]\n",
            "Reconstr:  preguntó sorprendidas con una mano del ojos y @name se sorprendió\n",
            "Original:  preguntó abiertamente con una mirada tan dulce que @name se estremeció\n",
            "Epoch 47/120\n",
            "3903/3903 [==============================] - 263s 67ms/step - loss: 1.9364 - reconstruction_loss: 1.9284 - kl_loss: 175.2510 - kl_weight: 4.5603e-05\n",
            "Callback running 46\n",
            "[3672, 46, 3417, 20, 3, 4475, 7965, 2, 15, 857, 7965, 23, 617, 244, 0, 0, 0, 0, 0, 0, 0, 0, 0, 0, 0, 0, 0, 0, 0, 0, 0, 0]\n",
            "Reconstr:  perdónn versos que habrá de los mina es predos\n",
            "Original:  parecemos fantasmas que hablan de otros fantasmas es malsano\n",
            "Epoch 48/120\n",
            "3903/3903 [==============================] - 264s 68ms/step - loss: 1.9280 - reconstruction_loss: 1.9200 - kl_loss: 174.7636 - kl_weight: 4.5607e-05\n",
            "Callback running 47\n",
            "[30, 140, 107, 33, 140, 2, 33, 503, 7965, 7965, 2, 7965, 7965, 2, 7965, 6, 6, 1, 8048, 12, 131, 0, 0, 0, 0, 0, 0, 0, 0, 0, 0, 0]\n",
            "Reconstr:  pero cosas está más cosas de más per  de   de  y y   ,  s @number\n",
            "Original:  pero ocasión habrá más adelante de hacer precisiones ulteriores en torno a estas cuestiones @number\n",
            "Epoch 49/120\n",
            "3903/3903 [==============================] - 265s 68ms/step - loss: 1.9171 - reconstruction_loss: 1.9091 - kl_loss: 174.9712 - kl_weight: 4.5612e-05\n",
            "Callback running 48\n",
            "[4061, 8048, 1, 5220, 358, 31, 140, 5, 447, 2, 15, 287, 0, 0, 0, 0, 0, 0, 0, 0, 0, 0, 0, 0, 0, 0, 0, 0, 0, 0, 0, 0]\n",
            "Reconstr:  tendrías  ,  déjis del cosas a ti de los ojos\n",
            "Original:  apareces  ,  oigo tu nombre a través de las paredes\n",
            "Epoch 50/120\n",
            "3903/3903 [==============================] - 265s 68ms/step - loss: 1.9092 - reconstruction_loss: 1.9012 - kl_loss: 175.3469 - kl_weight: 4.5616e-05\n",
            "Callback running 49\n",
            "[105, 11, 115, 2, 110, 16, 77, 1, 30, 11, 11, 3, 3, 10, 2463, 126, 0, 0, 0, 0, 0, 0, 0, 0, 0, 0, 0, 0, 0, 0, 0, 0]\n",
            "Reconstr:  sabía no podía de tiempo con él  ,  pero no no que que se importarba\n",
            "Original:  peter no estaba de acuerdo con él  ,  pero no dijo nada para no preocuparla\n",
            "Epoch 51/120\n",
            "3903/3903 [==============================] - 265s 68ms/step - loss: 1.9015 - reconstruction_loss: 1.8935 - kl_loss: 175.3888 - kl_weight: 4.5621e-05\n",
            "Callback running 50\n",
            "[86, 8, 552, 2, 4, 121, 29, 8, 4, 2, 2, 7965, 8054, 12, 9, 8054, 80, 1, 25, 1809, 0, 0, 0, 0, 0, 0, 0, 0, 0, 0, 0, 0]\n",
            "Reconstr:  fue el gesto de la casa para el la de de  y @name yó  ,  o ándose\n",
            "Original:  tanto el dueño de la casa como el asustado vaquero miraron a @name leach  ,  intrigados\n",
            "Epoch 52/120\n",
            "3903/3903 [==============================] - 264s 68ms/step - loss: 1.8943 - reconstruction_loss: 1.8863 - kl_loss: 175.8629 - kl_weight: 4.5625e-05\n",
            "Callback running 51\n",
            "[7, 1497, 187, 2, 1853, 49, 18, 121, 2, 7965, 7965, 7965, 7965, 7965, 2, 4, 8, 7965, 3, 3, 3, 3, 10, 5, 5, 339, 0, 0, 0, 0, 0, 0]\n",
            "Reconstr:  en partir eran de curar su casa de      de la el  que que que que se a a ellos\n",
            "Original:  en sueños acababa de presenciar su propia defunción justamente en la ciudad a la que pocos años después se iría a vivir\n",
            "Epoch 53/120\n",
            "3903/3903 [==============================] - 264s 68ms/step - loss: 1.8913 - reconstruction_loss: 1.8833 - kl_loss: 175.3800 - kl_weight: 4.5630e-05\n",
            "Callback running 52\n",
            "[3272, 1, 30, 50, 3, 44, 11, 149, 5, 15, 2, 7965, 3, 17, 2, 7965, 31, 591, 0, 0, 0, 0, 0, 0, 0, 0, 0, 0, 0, 0, 0, 0]\n",
            "Reconstr:  hola  ,  pero todo que él no iba a los de  que le de  del mundo\n",
            "Original:  ya  ,  pero es que él no iba a mil por hora replicó ella dejando escapar una sonrisa\n",
            "Epoch 54/120\n",
            "3903/3903 [==============================] - 264s 68ms/step - loss: 1.8798 - reconstruction_loss: 1.8718 - kl_loss: 174.9860 - kl_weight: 4.5635e-05\n",
            "Callback running 53\n",
            "[105, 48, 32, 42, 1992, 49, 33, 171, 3, 4, 3, 3, 42, 7, 43, 7729, 124, 0, 0, 0, 0, 0, 0, 0, 0, 0, 0, 0, 0, 0, 0, 0]\n",
            "Reconstr:  sabía ella era estaba encantador más años que la que que estaba en sus comentarida\n",
            "Original:  nadie les preguntó cuándo pensaban tener hijos porque era evidente que ambos estaban muy ocupados\n",
            "Epoch 55/120\n",
            "3903/3903 [==============================] - 264s 68ms/step - loss: 1.8696 - reconstruction_loss: 1.8616 - kl_loss: 175.3907 - kl_weight: 4.5639e-05\n",
            "Callback running 54\n",
            "[64, 23, 51, 23, 8, 410, 268, 7, 16, 8, 563, 66, 0, 0, 0, 0, 0, 0, 0, 0, 0, 0, 0, 0, 0, 0, 0, 0, 0, 0, 0, 0]\n",
            "Reconstr:  ¡ es qué es el señor tien con el rancho  !\n",
            "Original:  ¡ veremos qué hace el señor daven con su cuerda  !\n",
            "Epoch 56/120\n",
            "3903/3903 [==============================] - 265s 68ms/step - loss: 1.8634 - reconstruction_loss: 1.8554 - kl_loss: 175.0854 - kl_weight: 4.5644e-05\n",
            "Callback running 55\n",
            "[2426, 1, 713, 866, 8050, 324, 1, 557, 7965, 7965, 7, 15, 2971, 8048, 1, 6, 3, 3, 7965, 3, 3, 2, 18, 146, 0, 0, 0, 0, 0, 0, 0, 0]\n",
            "Reconstr:  ah  ,  cuérué  ,  har  en los derechs  ,  y que que  que que de su casa\n",
            "Original:  agua  ,  electricidad  ,  piezas muy buenas y limpias  ,  posibilidad de mejorar todo eso por poca plata\n",
            "Epoch 57/120\n",
            "3903/3903 [==============================] - 265s 68ms/step - loss: 1.8560 - reconstruction_loss: 1.8480 - kl_loss: 175.5318 - kl_weight: 4.5648e-05\n",
            "Callback running 56\n",
            "[11, 32, 412, 5, 271, 29, 467, 12, 27, 1, 11, 14, 32, 241, 0, 0, 0, 0, 0, 0, 0, 0, 0, 0, 0, 0, 0, 0, 0, 0, 0, 0]\n",
            "Reconstr:  no era seguro a mí para si @name  ,  no lo era nada\n",
            "Original:  no podía quedarse a vivir allí sin @name  ,  eso lo tenía claro\n",
            "Epoch 58/120\n",
            "3903/3903 [==============================] - 266s 68ms/step - loss: 1.8498 - reconstruction_loss: 1.8417 - kl_loss: 175.6169 - kl_weight: 4.5653e-05\n",
            "Callback running 57\n",
            "[42, 593, 1, 34, 7, 44, 3486, 2856, 6, 11, 2, 21, 259, 3941, 124, 0, 0, 0, 0, 0, 0, 0, 0, 0, 0, 0, 0, 0, 0, 0, 0, 0]\n",
            "Reconstr:  estaba hecho  ,  como en él conmovrselo y no de una gran pcida\n",
            "Original:  page asintió  ,  pensando en cómo explicárselo para no parecer una chiflada\n",
            "Epoch 59/120\n",
            "3903/3903 [==============================] - 265s 68ms/step - loss: 1.8419 - reconstruction_loss: 1.8339 - kl_loss: 175.7258 - kl_weight: 4.5657e-05\n",
            "Callback running 58\n",
            "[23, 2, 14, 3, 92, 726, 5, 328, 0, 0, 0, 0, 0, 0, 0, 0, 0, 0, 0, 0, 0, 0, 0, 0, 0, 0, 0, 0, 0, 0, 0, 0]\n",
            "Reconstr:  es de lo que he vuelto a mí\n",
            "Original:  mejor de lo que estoy dispuesto a admitir\n",
            "Epoch 60/120\n",
            "3903/3903 [==============================] - 264s 68ms/step - loss: 1.8350 - reconstruction_loss: 1.8270 - kl_loss: 175.6005 - kl_weight: 4.5662e-05\n",
            "Callback running 59\n",
            "[172, 83, 1, 2212, 5, 6, 2625, 1, 17, 2003, 39, 5, 4, 5, 2, 4, 951, 0, 0, 0, 0, 0, 0, 0, 0, 0, 0, 0, 0, 0, 0, 0]\n",
            "Reconstr:  preguntó ella  ,  mirándola y riendo  ,  le levantaó a la a de la suelo\n",
            "Original:  preguntó ella  ,  curiosa y divertida  ,  cuando entraban en el camino de la granja\n",
            "Epoch 61/120\n",
            "3903/3903 [==============================] - 265s 68ms/step - loss: 1.8272 - reconstruction_loss: 1.8192 - kl_loss: 176.5386 - kl_weight: 4.5667e-05\n",
            "Callback running 60\n",
            "[40, 519, 255, 14, 3, 239, 222, 162, 16, 339, 35, 0, 0, 0, 0, 0, 0, 0, 0, 0, 0, 0, 0, 0, 0, 0, 0, 0, 0, 0, 0, 0]\n",
            "Reconstr:  ¿ quieres decir lo que parece has hecho con ellos  ?\n",
            "Original:  ¿ quieres saber lo que hoy hemos hecho contra ellos  ?\n",
            "Epoch 62/120\n",
            "3903/3903 [==============================] - 265s 68ms/step - loss: 1.8193 - reconstruction_loss: 1.8112 - kl_loss: 177.0567 - kl_weight: 4.5671e-05\n",
            "Callback running 61\n",
            "[14, 3, 103, 32, 32, 3, 4285, 7965, 2, 3, 10, 3, 3, 3, 5, 5, 52, 12, 27, 0, 0, 0, 0, 0, 0, 0, 0, 0, 0, 0, 0, 0]\n",
            "Reconstr:  lo que quería era era que suspiró de que se que que que a a de @name\n",
            "Original:  lo que kate ignoraba era que andy había sospechado al instante que se trataba de @name\n",
            "Epoch 63/120\n",
            "3903/3903 [==============================] - 265s 68ms/step - loss: 1.8103 - reconstruction_loss: 1.8021 - kl_loss: 179.0298 - kl_weight: 4.5676e-05\n",
            "Callback running 62\n",
            "[159, 1, 52, 12, 9, 17, 180, 4, 221, 253, 16, 4, 3973, 153, 0, 0, 0, 0, 0, 0, 0, 0, 0, 0, 0, 0, 0, 0, 0, 0, 0, 0]\n",
            "Reconstr:  no  ,  de @name le hizo la voz lado con la pantalón\n",
            "Original:  gracias  ,  señorita @name le dijo la niña corriendo hacia el camión\n",
            "Epoch 64/120\n",
            "3903/3903 [==============================] - 265s 68ms/step - loss: 1.8015 - reconstruction_loss: 1.7932 - kl_loss: 180.7149 - kl_weight: 4.5680e-05\n",
            "Callback running 63\n",
            "[379, 12, 9, 16, 1832, 57, 13, 693, 0, 0, 0, 0, 0, 0, 0, 0, 0, 0, 0, 0, 0, 0, 0, 0, 0, 0, 0, 0, 0, 0, 0, 0]\n",
            "Reconstr:  preguntó @name con acariciaba un poco\n",
            "Original:  preguntó @name tras dudar un instante\n",
            "Epoch 65/120\n",
            "3903/3903 [==============================] - 265s 68ms/step - loss: 1.7879 - reconstruction_loss: 1.7796 - kl_loss: 181.9640 - kl_weight: 4.5685e-05\n",
            "Callback running 64\n",
            "[13, 3288, 25, 268, 427, 325, 23, 21, 705, 0, 0, 0, 0, 0, 0, 0, 0, 0, 0, 0, 0, 0, 0, 0, 0, 0, 0, 0, 0, 0, 0, 0]\n",
            "Reconstr:  un sobrino tiones das es una pueblo\n",
            "Original:  ese violento fleco rojo es una estrella\n",
            "Epoch 66/120\n",
            "3903/3903 [==============================] - 265s 68ms/step - loss: 1.7795 - reconstruction_loss: 1.7711 - kl_loss: 183.2267 - kl_weight: 4.5689e-05\n",
            "Callback running 65\n",
            "[172, 48, 16, 406, 2, 656, 0, 0, 0, 0, 0, 0, 0, 0, 0, 0, 0, 0, 0, 0, 0, 0, 0, 0, 0, 0, 0, 0, 0, 0, 0, 0]\n",
            "Reconstr:  preguntó ella con expresión de nuevo\n",
            "Original:  preguntó ella con tono de sorpresa\n",
            "Epoch 67/120\n",
            "3903/3903 [==============================] - 264s 68ms/step - loss: 1.7702 - reconstruction_loss: 1.7618 - kl_loss: 184.4808 - kl_weight: 4.5694e-05\n",
            "Callback running 66\n",
            "[7997, 9, 24, 113, 318, 2, 858, 355, 8044, 0, 0, 0, 0, 0, 0, 0, 0, 0, 0, 0, 0, 0, 0, 0, 0, 0, 0, 0, 0, 0, 0, 0]\n",
            "Reconstr:  @name las ojos manos de relzao\n",
            "Original:  @name unos ojos azules de infarto\n",
            "Epoch 68/120\n",
            "3903/3903 [==============================] - 265s 68ms/step - loss: 1.7586 - reconstruction_loss: 1.7501 - kl_loss: 186.3930 - kl_weight: 4.5698e-05\n",
            "Callback running 67\n",
            "[34, 33, 26, 345, 1, 11, 32, 13, 404, 584, 0, 0, 0, 0, 0, 0, 0, 0, 0, 0, 0, 0, 0, 0, 0, 0, 0, 0, 0, 0, 0, 0]\n",
            "Reconstr:  como más al eso  ,  no era un buena hijos\n",
            "Original:  para ellos al menos  ,  no sería un día feliz\n",
            "Epoch 69/120\n",
            "3903/3903 [==============================] - 264s 68ms/step - loss: 1.7509 - reconstruction_loss: 1.7423 - kl_loss: 188.0361 - kl_weight: 4.5703e-05\n",
            "Callback running 68\n",
            "[7997, 9, 326, 10, 4500, 1911, 62, 7, 4, 4, 7965, 7965, 7965, 2, 2, 2, 2, 7965, 6, 7, 77, 1, 6, 4, 5, 7965, 7965, 2, 43, 3941, 153, 0]\n",
            "Reconstr:  @name pronto se sonrundía en la la    de de de de  y en él  ,  y la a   de sus pción\n",
            "Original:  @name bien se afligía por la discordancia entre su doctrina y su vida  ,  no por ello tenía fuerzas para remediarla\n",
            "Epoch 70/120\n",
            "3903/3903 [==============================] - 265s 68ms/step - loss: 1.7422 - reconstruction_loss: 1.7336 - kl_loss: 189.3924 - kl_weight: 4.5708e-05\n",
            "Callback running 69\n",
            "[11, 319, 2185, 268, 7965, 4, 595, 5, 81, 219, 1, 3, 3, 7965, 7965, 3, 2, 7965, 2, 2, 2, 2, 8, 7965, 7, 24, 7965, 238, 0, 0, 0, 0]\n",
            "Reconstr:  no puedo veintiti la rancho a tu vida  ,  que que   que de  de de de de el  en las  años\n",
            "Original:  no puedo agradecerle la libertad a ese señor  ,  porque su acción es tan interesada como la del juez wix replicó secamente dav\n",
            "Epoch 71/120\n",
            "3903/3903 [==============================] - 265s 68ms/step - loss: 1.7349 - reconstruction_loss: 1.7262 - kl_loss: 190.3291 - kl_weight: 4.5712e-05\n",
            "Callback running 70\n",
            "[448, 1, 24, 2046, 57, 5, 18, 4776, 5, 4, 4, 2, 2, 10, 22, 5, 2, 2, 2, 83, 0, 0, 0, 0, 0, 0, 0, 0, 0, 0, 0, 0]\n",
            "Reconstr:  además  ,  las procuraba a su tormenta la la de de se había a de de de ella\n",
            "Original:  además  ,  miraba avanzar a su prometida por el pasillo como si estuviera locamente enamorado de ella\n",
            "Epoch 72/120\n",
            "3903/3903 [==============================] - 265s 68ms/step - loss: 1.7246 - reconstruction_loss: 1.7159 - kl_loss: 190.9963 - kl_weight: 4.5717e-05\n",
            "Callback running 71\n",
            "[38, 11, 4824, 20, 33, 7, 339, 60, 27, 0, 0, 0, 0, 0, 0, 0, 0, 0, 0, 0, 0, 0, 0, 0, 0, 0, 0, 0, 0, 0, 0, 0]\n",
            "Reconstr:  si no olvides más en ellos  ,  @name\n",
            "Original:  ya no pienses más en ello  ,  @name\n",
            "Epoch 73/120\n",
            "3903/3903 [==============================] - 265s 68ms/step - loss: 1.7169 - reconstruction_loss: 1.7081 - kl_loss: 191.8108 - kl_weight: 4.5721e-05\n",
            "Callback running 72\n",
            "[89, 1143, 412, 16, 83, 1, 30, 23, 112, 2, 4, 7965, 6, 24, 7965, 16, 43, 1541, 652, 0, 0, 0, 0, 0, 0, 0, 0, 0, 0, 0, 0, 0]\n",
            "Reconstr:  habían hablado seguro con ella  ,  pero es unos de la  y las  con sus aviones\n",
            "Original:  habría preferido quedarse con ella  ,  pero debía regresar a inglaterra y continuar con sus misiones\n",
            "Epoch 74/120\n",
            "3903/3903 [==============================] - 264s 68ms/step - loss: 1.7118 - reconstruction_loss: 1.7030 - kl_loss: 191.8894 - kl_weight: 4.5726e-05\n",
            "Callback running 73\n",
            "[7997, 9, 2, 61, 169, 2481, 7965, 418, 256, 7, 4, 8, 7965, 7965, 2, 24, 408, 0, 0, 0, 0, 0, 0, 0, 0, 0, 0, 0, 0, 0, 0, 0]\n",
            "Reconstr:  @name de ha puede acostumbra verto en la el   de las cosas\n",
            "Original:  @name de esto puede hallar correspondencia en la vida real de las personas\n",
            "Epoch 75/120\n",
            "3903/3903 [==============================] - 266s 68ms/step - loss: 1.7051 - reconstruction_loss: 1.6963 - kl_loss: 192.5523 - kl_weight: 4.5730e-05\n",
            "Callback running 74\n",
            "[337, 1, 505, 1109, 45, 918, 505, 1911, 7965, 8054, 7965, 7965, 7965, 80, 12, 27, 0, 0, 0, 0, 0, 0, 0, 0, 0, 0, 0, 0, 0, 0, 0, 0]\n",
            "Reconstr:  el  ,  i guie dui und y   ó @name\n",
            "Original:  so  ,  i have pleasure to authorize @name\n",
            "Epoch 76/120\n",
            "3903/3903 [==============================] - 266s 68ms/step - loss: 1.6990 - reconstruction_loss: 1.6902 - kl_loss: 193.7034 - kl_weight: 4.5735e-05\n",
            "Callback running 75\n",
            "[22, 1480, 37, 13, 1181, 5023, 7965, 7, 8, 454, 3535, 675, 0, 0, 0, 0, 0, 0, 0, 0, 0, 0, 0, 0, 0, 0, 0, 0, 0, 0, 0, 0]\n",
            "Reconstr:  había sacado un doctor lante en el paiculura\n",
            "Original:  había alquilado un ch teau en el périgord\n",
            "Epoch 77/120\n",
            "3903/3903 [==============================] - 266s 68ms/step - loss: 1.6921 - reconstruction_loss: 1.6832 - kl_loss: 193.7927 - kl_weight: 4.5740e-05\n",
            "Callback running 76\n",
            "[50, 63, 12, 9, 11, 1183, 1, 3, 122, 22, 135, 535, 0, 0, 0, 0, 0, 0, 0, 0, 0, 0, 0, 0, 0, 0, 0, 0, 0, 0, 0, 0]\n",
            "Reconstr:  todo que @name no quería  ,  que nunca había sido hacerlo\n",
            "Original:  algo que @name no quería  ,  que nunca había querido tener\n",
            "Epoch 78/120\n",
            "3903/3903 [==============================] - 266s 68ms/step - loss: 1.6854 - reconstruction_loss: 1.6766 - kl_loss: 193.7094 - kl_weight: 4.5744e-05\n",
            "Callback running 77\n",
            "[26, 636, 2, 4, 142, 496, 26, 889, 52, 12, 27, 0, 0, 0, 0, 0, 0, 0, 0, 0, 0, 0, 0, 0, 0, 0, 0, 0, 0, 0, 0, 0]\n",
            "Reconstr:  al final de la vida frente al boca de @name\n",
            "Original:  al final de la tarde volvieron al hotel de @name\n",
            "Epoch 79/120\n",
            "3903/3903 [==============================] - 266s 68ms/step - loss: 1.6821 - reconstruction_loss: 1.6732 - kl_loss: 194.0238 - kl_weight: 4.5749e-05\n",
            "Callback running 78\n",
            "[361, 1, 5, 150, 262, 119, 12, 27, 0, 0, 0, 0, 0, 0, 0, 0, 0, 0, 0, 0, 0, 0, 0, 0, 0, 0, 0, 0, 0, 0, 0, 0]\n",
            "Reconstr:  ahora  ,  a otro veces dijo @name\n",
            "Original:  ahora  ,  a esperar arriba dijo @name\n",
            "Epoch 80/120\n",
            " 813/3903 [=====>........................] - ETA: 3:33 - loss: 1.6778 - reconstruction_loss: 1.6690 - kl_loss: 193.7187 - kl_weight: 4.5753e-05"
          ],
          "name": "stdout"
        }
      ]
    },
    {
      "cell_type": "code",
      "metadata": {
        "id": "Q2-mjA-pHRp8"
      },
      "source": [
        "# Grafico funcion de annealing\n",
        "x = np.linspace(0,EPOCHS,10)\n",
        "\n",
        "y = 1/(1+tf.exp(-A*x+10))\n",
        "\n",
        "\n",
        "plt.figure(figsize=(20,8))\n",
        "\n",
        "plt.plot(x,y,label='funcion de annealing')\n",
        "\n",
        "\n",
        "plt.title('Funcion de annealing')\n",
        "\n",
        "plt.xlabel('Epochs')\n",
        "plt.ylabel('y')\n",
        "plt.grid(alpha=.4,linestyle='--')\n",
        "\n",
        "plt.legend()\n",
        "\n",
        "plt.show()"
      ],
      "execution_count": null,
      "outputs": []
    },
    {
      "cell_type": "code",
      "metadata": {
        "id": "r9I5kD3F27sC"
      },
      "source": [
        "reconstruction_loss = history.history['reconstruction_loss']\r\n",
        "loss = [np.mean(x) for x in model.history.history['loss']]\r\n",
        "kl_loss = [np.mean(x) for x in model.history.history['kl_loss']]\r\n",
        "\r\n",
        "epochs = range(1, len(reconstruction_loss) + 1)\r\n",
        "\r\n",
        "plt.figure(figsize=(20,8))\r\n",
        "plt.plot(epochs, reconstruction_loss, label='reconstruction_loss')\r\n",
        "plt.plot(epochs, loss, label='loss')\r\n",
        "plt.plot(epochs, kl_loss, label='kl_loss')\r\n",
        "plt.xticks(ticks=epochs)\r\n",
        "# plt.ylim([20000, 40000])\r\n",
        "# plt.xlim([30, 100])\r\n",
        "plt.title('reconstruction_loss - kl_loss')\r\n",
        "plt.legend()\r\n",
        "\r\n",
        "plt"
      ],
      "execution_count": null,
      "outputs": []
    },
    {
      "cell_type": "code",
      "metadata": {
        "id": "eYhOCyHBO5CJ"
      },
      "source": [
        "#evolucion KL LOSS\r\n",
        "kl_loss = [np.mean(x) for x in model.history.history['kl_loss']]\r\n",
        "\r\n",
        "epochs = range(1, len(reconstruction_loss) + 1)\r\n",
        "\r\n",
        "plt.figure(figsize=(20,8))\r\n",
        "plt.plot(epochs, kl_loss, label='kl_loss')\r\n",
        "plt.xticks(ticks=epochs)\r\n",
        "plt.title('rkl_loss')\r\n",
        "plt.legend()\r\n",
        "\r\n",
        "plt"
      ],
      "execution_count": null,
      "outputs": []
    },
    {
      "cell_type": "code",
      "metadata": {
        "id": "kI_kiRLoesIv"
      },
      "source": [
        "# model.save_weights('/content/drive/My Drive/Colab Notebooks/desafio final/weights_corpus_v4.HDF5', save_format='tf')"
      ],
      "execution_count": null,
      "outputs": []
    },
    {
      "cell_type": "markdown",
      "metadata": {
        "id": "L60Inkf6VUwi"
      },
      "source": [
        "## Testeamos"
      ]
    },
    {
      "cell_type": "code",
      "metadata": {
        "id": "cc-7Rt1btn4k"
      },
      "source": [
        "errores = 0\r\n",
        "for i in range(10):\r\n",
        "  z_sampled = tf.random.normal(shape=(1,LATENT_SPACE))\r\n",
        "  prediction = model.decode_sample(z_sampled,silent_reconstruct=True)\r\n",
        "  if (prediction != None):\r\n",
        "    print(prediction)\r\n",
        "  else:\r\n",
        "    errores += 1\r\n",
        "print('\\n')\r\n",
        "print('\\n','errores',errores)"
      ],
      "execution_count": null,
      "outputs": []
    },
    {
      "cell_type": "code",
      "metadata": {
        "id": "srfOj6QTuR1F"
      },
      "source": [
        "q_sample = data_lines[5]\r\n",
        "model.reconstruct(q_sample)"
      ],
      "execution_count": null,
      "outputs": []
    },
    {
      "cell_type": "code",
      "metadata": {
        "id": "ES_nCCnqcJVV"
      },
      "source": [
        "model.reconstruct_sentence(\"el devenir de los momentos\")\r\n",
        "model.reconstruct_sentence(\"las historias que nos contaron\")\r\n",
        "model.reconstruct_sentence(\"tu mirada milagrosa me salvó de su odio\")\r\n",
        "model.reconstruct_sentence(\"cayó como un rayo de luz que cegó al mundo\") \r\n",
        "model.reconstruct_sentence(\"un hombre observaba desde el monte\") "
      ],
      "execution_count": null,
      "outputs": []
    },
    {
      "cell_type": "code",
      "metadata": {
        "id": "XfKDTejmas-A"
      },
      "source": [
        "# Genera una funcion que se mueve por el espacio latente desde Oracion A hasta Oracion B\r\n",
        "def linear_interpolate(sample1, sample2, cant_sentences = 5 ):\r\n",
        "  print('desde:', tokenizer.decode(sample1),'\\n')\r\n",
        "\r\n",
        "  _,_,result1 = model.encoder(sample1.reshape(1,MAX_LENGTH,1))\r\n",
        "  _,_,result2 = model.encoder(sample2.reshape(1,MAX_LENGTH,1))\r\n",
        "\r\n",
        "  #Resto los valores del espacio latente y los divido por la cantidad de oracione que quiero generar\r\n",
        "  vector = ((result1[0] - result2[0]).numpy()) / cant_sentences \r\n",
        "\r\n",
        "  for i in range(cant_sentences):\r\n",
        "    result_int = result1 - vector * i\r\n",
        "    print('step', str(i + 1) + ':', model.decode_sample(result_int, silent_reconstruct=True))\r\n",
        "\r\n",
        "  print('')\r\n",
        "  print('hasta:', tokenizer.decode(q_sample2))\r\n"
      ],
      "execution_count": null,
      "outputs": []
    },
    {
      "cell_type": "code",
      "metadata": {
        "id": "hT4EykhLfKJW"
      },
      "source": [
        "#Generar oraciones intermedias desde una oración A hasta una B sampleadas del entrenamiento\r\n",
        "q_sample1 = data_lines[randint(0,data_lines.shape[0]) - 1]\r\n",
        "q_sample2 = data_lines[randint(0,data_lines.shape[0]) - 1]\r\n",
        "\r\n",
        "linear_interpolate(q_sample1, q_sample2,6)\r\n"
      ],
      "execution_count": null,
      "outputs": []
    },
    {
      "cell_type": "markdown",
      "metadata": {
        "id": "_yqedjxgnwV7"
      },
      "source": [
        "# Analisis Visual del espacio latente"
      ]
    },
    {
      "cell_type": "code",
      "metadata": {
        "id": "i_OdKG1kN9ji"
      },
      "source": [
        "def encode_sentence(sentence):\r\n",
        "    sentence = [sentence]\r\n",
        "    sentence = tokenize_and_filter(sentence)\r\n",
        "    sentence = sentence.reshape(MAX_LENGTH)\r\n",
        "    return sentence"
      ],
      "execution_count": null,
      "outputs": []
    },
    {
      "cell_type": "code",
      "metadata": {
        "id": "anejxhYTLiJJ"
      },
      "source": [
        "#Generar oraciones intermedias desde una oración A hasta una B recibidas como imput por el Usuario\r\n",
        "q_sample1 = encode_sentence(\"un hombre observaba desde el monte\")\r\n",
        "q_sample2 = encode_sentence(\"deberas dejar cerrada aquella puerta\")\r\n",
        "\r\n",
        "linear_interpolate(q_sample1, q_sample2,5)"
      ],
      "execution_count": null,
      "outputs": []
    },
    {
      "cell_type": "code",
      "metadata": {
        "id": "Mo1IHJ8zul_f"
      },
      "source": [
        "#Generar oraciones intermedias desde una oración A hasta una B recibidas como imput por el Usuario\r\n",
        "q_sample1 = encode_sentence(\"al despertarse una mañana, después de un sueño intranquilo\")\r\n",
        "q_sample2 = encode_sentence(\"se encontró en su cama transformado en un monstruoso insecto\")\r\n",
        "\r\n",
        "linear_interpolate(q_sample1, q_sample2,5)"
      ],
      "execution_count": null,
      "outputs": []
    },
    {
      "cell_type": "code",
      "metadata": {
        "id": "7UTXCa8pPhmz"
      },
      "source": [
        "z_mean, _, _ = model.encoder.predict(dataset)"
      ],
      "execution_count": null,
      "outputs": []
    },
    {
      "cell_type": "code",
      "metadata": {
        "id": "CeARIKaWLAMC"
      },
      "source": [
        "# Analisis Visual del espacio latente\r\n",
        "def plot_label_clusters(vae, z_mean, labels=None, z_fixed=0):\r\n",
        "  # display a 2D plot of the digit classes in the latent space\r\n",
        "  \r\n",
        "  fig, axes = plt.subplots(4, 4, figsize=(16,16))\r\n",
        "  fig.subplots_adjust(hspace=0.2)\r\n",
        "  z = 0\r\n",
        "  colors = ['b', 'c', 'y', 'm']\r\n",
        "  for x in range(4):\r\n",
        "    for y in range(4): \r\n",
        "      axes[x, y].scatter(z_mean[:, z_fixed], z_mean[:, z])\r\n",
        "      axes[x, y].set_xlabel(\"z[\"+ str(z_fixed) +\"] | z[\"+ str(z) +\"]\") \r\n",
        "      # axes[x, y].ylabel(\"z[\"+ str(i) +\"]\")\r\n",
        "      z += 1\r\n",
        "\r\n"
      ],
      "execution_count": null,
      "outputs": []
    },
    {
      "cell_type": "code",
      "metadata": {
        "id": "4w3WN8D7lxT9"
      },
      "source": [
        "plot_label_clusters(model, z_mean, data_tokens['genre'], 0)"
      ],
      "execution_count": null,
      "outputs": []
    },
    {
      "cell_type": "code",
      "metadata": {
        "id": "Cr4b2ZINSw3F"
      },
      "source": [
        "plot_label_clusters(model, z_mean, None, 5)"
      ],
      "execution_count": null,
      "outputs": []
    },
    {
      "cell_type": "markdown",
      "metadata": {
        "id": "KoPMf_UG9-OK"
      },
      "source": [
        "Visualización de como cambia el factor de loss en kl para los parametros y cantidad de epochs"
      ]
    },
    {
      "cell_type": "code",
      "metadata": {
        "id": "IRlxAPUnUmFd"
      },
      "source": [
        "import matplotlib.pyplot as plt\n",
        "import numpy as np\n",
        "\n",
        "#TODO ver si deberian haber epochs suficientes para completar \"forma\" de la funcion\n",
        "x = np.linspace(0,EPOCHS,10)\n",
        "\n",
        "y = 1/(1+tf.exp(-A*x+10))\n",
        "\n",
        "# setting the axes at the centre\n",
        "fig = plt.figure()\n",
        "ax.spines['bottom'].set_position('zero')\n",
        "ax.spines['right'].set_color('none')\n",
        "ax.spines['top'].set_color('none')\n",
        "ax.xaxis.set_ticks_position('bottom')\n",
        "ax.yaxis.set_ticks_position('left')\n",
        "ax.xaxis.set_label(\"EPOCHS\")\n",
        "\n",
        "# plot the function\n",
        "plt.plot(x,y, 'r')\n",
        "\n",
        "# show the plot\n",
        "plt.show()\n"
      ],
      "execution_count": null,
      "outputs": []
    },
    {
      "cell_type": "code",
      "metadata": {
        "id": "ubRJznFY44iJ"
      },
      "source": [
        ""
      ],
      "execution_count": null,
      "outputs": []
    }
  ]
}